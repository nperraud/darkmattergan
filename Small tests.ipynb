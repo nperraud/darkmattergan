{
 "cells": [
  {
   "cell_type": "code",
   "execution_count": 7,
   "metadata": {
    "collapsed": true
   },
   "outputs": [],
   "source": [
    "import numpy as np\n",
    "import tensorflow as tf\n",
    "import os"
   ]
  },
  {
   "cell_type": "code",
   "execution_count": 2,
   "metadata": {},
   "outputs": [
    {
     "name": "stdout",
     "output_type": "stream",
     "text": [
      "Populating the interactive namespace from numpy and matplotlib\n"
     ]
    }
   ],
   "source": [
    "%load_ext autoreload\n",
    "%autoreload 2\n",
    "%pylab inline"
   ]
  },
  {
   "cell_type": "code",
   "execution_count": 3,
   "metadata": {
    "collapsed": true
   },
   "outputs": [],
   "source": [
    "def forward_map(x, k):\n",
    "    return 2 * (x/(x+k)) - 1\n",
    "\n",
    "def backward_map(y,k):\n",
    "    return k*(y+1)/(1-y)"
   ]
  },
  {
   "cell_type": "code",
   "execution_count": 4,
   "metadata": {},
   "outputs": [
    {
     "data": {
      "text/plain": [
       "1.0658141036401503e-13"
      ]
     },
     "execution_count": 4,
     "metadata": {},
     "output_type": "execute_result"
    }
   ],
   "source": [
    "x = np.random.rand(10)*100\n",
    "k = 10\n",
    "y = forward_map(x,k)\n",
    "xp = backward_map(y,k)\n",
    "\n",
    "np.linalg.norm(x-xp)"
   ]
  },
  {
   "cell_type": "code",
   "execution_count": 21,
   "metadata": {},
   "outputs": [],
   "source": [
    "class tf_model(object):\n",
    "    def __init__(self, sx, savedir, name='simple'):\n",
    "        self.sx = sx\n",
    "        self.savedir = savedir\n",
    "        self.sess = None\n",
    "        self.model_name = name\n",
    "        self._build_model()\n",
    "        self._optimizer()\n",
    "        self.saver = tf.train.Saver(tf.global_variables(), max_to_keep=10)\n",
    "        \n",
    "    def _build_model(self):\n",
    "        tf.reset_default_graph()\n",
    "        self.X = tf.placeholder(tf.float32,shape=[None, self.sx], name='X')\n",
    "        W = tf.get_variable('Weight',shape=[self.sx, 1],initializer=tf.contrib.layers.xavier_initializer())\n",
    "        self.out = tf.matmul(self.X,W, name='out')\n",
    "        self.loss = tf.reduce_mean(tf.abs(self.out-1))\n",
    "        \n",
    "    def _optimizer(self):\n",
    "        self.optimizer = tf.train.AdamOptimizer()\n",
    "        self.solver = self.optimizer.minimize(self.loss)\n",
    "    def train(self, x, it=100):\n",
    "        \n",
    "        with tf.Session() as self.sess:\n",
    "            self.sess.run(tf.global_variables_initializer())\n",
    "            for i in range(it):\n",
    "                self.sess.run(self.solver, feed_dict={self.X: x})\n",
    "                if mod(i,20)==0:\n",
    "                    pass\n",
    "                    print('Iteration {}'.format(i))\n",
    "                    self._save(self.savedir, i)\n",
    "        \n",
    "    def _save(self, checkpoint_dir, step):\n",
    "        if not os.path.exists(checkpoint_dir):\n",
    "            os.makedirs(checkpoint_dir)\n",
    "            \n",
    "        self.saver.save(self.sess, os.path.join(checkpoint_dir, self.model_name), global_step=step)\n",
    "\n",
    "    def _load(self, checkpoint_dir):\n",
    "        print(\" [*] Reading checkpoints...\")\n",
    "        \n",
    "        ckpt = tf.train.get_checkpoint_state(checkpoint_dir)\n",
    "        if ckpt and ckpt.model_checkpoint_path:\n",
    "            self.saver.restore(self.sess, ckpt.model_checkpoint_path)\n",
    "            return True\n",
    "        else:\n",
    "            return False\n",
    "    def predict(self, x):\n",
    "        with tf.Session() as self.sess:\n",
    "            self._load(self.savedir)\n",
    "            y = self.sess.run(self.out, feed_dict={self.X: x})\n",
    "            return y\n",
    "    \n"
   ]
  },
  {
   "cell_type": "code",
   "execution_count": 25,
   "metadata": {},
   "outputs": [
    {
     "name": "stdout",
     "output_type": "stream",
     "text": [
      "Iteration 0\n",
      "Iteration 20\n",
      "Iteration 40\n",
      "Iteration 60\n",
      "Iteration 80\n",
      " [*] Reading checkpoints...\n",
      "INFO:tensorflow:Restoring parameters from save_test/simple-80\n"
     ]
    }
   ],
   "source": [
    "model = tf_model(1000,'save_test')\n",
    "x = np.random.rand(100,1000)\n",
    "model.train(x)\n",
    "y = model.predict(x)"
   ]
  },
  {
   "cell_type": "code",
   "execution_count": 26,
   "metadata": {},
   "outputs": [
    {
     "data": {
      "text/plain": [
       "array([[ 0.97520471],\n",
       "       [ 0.98367429],\n",
       "       [ 0.99819106],\n",
       "       [ 0.99858099],\n",
       "       [ 1.01180041],\n",
       "       [ 1.0860492 ],\n",
       "       [ 0.86008382],\n",
       "       [ 1.00099897],\n",
       "       [ 0.98686486],\n",
       "       [ 1.0063026 ],\n",
       "       [ 1.01846719],\n",
       "       [ 1.05965805],\n",
       "       [ 0.97307038],\n",
       "       [ 0.98482633],\n",
       "       [ 1.00086975],\n",
       "       [ 1.02232194],\n",
       "       [ 0.98644769],\n",
       "       [ 1.00161183],\n",
       "       [ 1.10621107],\n",
       "       [ 0.98768365],\n",
       "       [ 0.98446429],\n",
       "       [ 1.39124382],\n",
       "       [ 0.98803884],\n",
       "       [ 1.40059578],\n",
       "       [ 1.01094532],\n",
       "       [ 0.66203821],\n",
       "       [ 1.00524628],\n",
       "       [ 0.49638259],\n",
       "       [ 1.18613505],\n",
       "       [ 1.01136923],\n",
       "       [ 0.99599862],\n",
       "       [ 1.00140524],\n",
       "       [ 1.00753188],\n",
       "       [ 0.99862748],\n",
       "       [ 0.9780159 ],\n",
       "       [ 1.00747609],\n",
       "       [ 0.42880151],\n",
       "       [ 1.00844502],\n",
       "       [ 0.95877767],\n",
       "       [ 0.99434495],\n",
       "       [ 1.25420058],\n",
       "       [ 1.00147152],\n",
       "       [ 1.02466953],\n",
       "       [ 1.14669752],\n",
       "       [ 0.98869783],\n",
       "       [ 0.99701482],\n",
       "       [ 1.01482964],\n",
       "       [ 0.99259305],\n",
       "       [ 0.75335366],\n",
       "       [ 1.00795925],\n",
       "       [ 1.01542222],\n",
       "       [ 1.00710142],\n",
       "       [ 1.00889134],\n",
       "       [ 0.63415557],\n",
       "       [ 0.96832627],\n",
       "       [ 1.26313043],\n",
       "       [ 1.01028001],\n",
       "       [ 0.96346033],\n",
       "       [ 1.00265598],\n",
       "       [ 0.98720998],\n",
       "       [ 1.07109571],\n",
       "       [ 0.97945362],\n",
       "       [ 1.25431323],\n",
       "       [ 0.99946249],\n",
       "       [ 0.96495128],\n",
       "       [ 1.15131843],\n",
       "       [ 1.01524353],\n",
       "       [ 1.23410952],\n",
       "       [ 1.00192797],\n",
       "       [ 0.70704377],\n",
       "       [ 1.02200723],\n",
       "       [ 0.95062184],\n",
       "       [ 0.97661287],\n",
       "       [ 0.97855818],\n",
       "       [ 0.90416706],\n",
       "       [ 1.15572524],\n",
       "       [ 1.01084876],\n",
       "       [ 1.5509367 ],\n",
       "       [ 0.99159944],\n",
       "       [ 1.00047386],\n",
       "       [ 0.9682942 ],\n",
       "       [ 1.01512575],\n",
       "       [ 0.9698891 ],\n",
       "       [ 0.99761844],\n",
       "       [ 0.78956074],\n",
       "       [ 0.99985737],\n",
       "       [ 1.00077319],\n",
       "       [ 0.95792592],\n",
       "       [ 0.99671024],\n",
       "       [ 0.98220694],\n",
       "       [ 0.98694122],\n",
       "       [ 1.01812828],\n",
       "       [ 1.01104784],\n",
       "       [ 1.00324082],\n",
       "       [ 1.00183821],\n",
       "       [ 0.9258098 ],\n",
       "       [ 0.98124945],\n",
       "       [ 0.90965641],\n",
       "       [ 1.000808  ],\n",
       "       [ 0.98813683]], dtype=float32)"
      ]
     },
     "execution_count": 26,
     "metadata": {},
     "output_type": "execute_result"
    }
   ],
   "source": [
    "y"
   ]
  },
  {
   "cell_type": "code",
   "execution_count": null,
   "metadata": {
    "collapsed": true
   },
   "outputs": [],
   "source": []
  }
 ],
 "metadata": {
  "kernelspec": {
   "display_name": "Python 3",
   "language": "python",
   "name": "python3"
  },
  "language_info": {
   "codemirror_mode": {
    "name": "ipython",
    "version": 3
   },
   "file_extension": ".py",
   "mimetype": "text/x-python",
   "name": "python",
   "nbconvert_exporter": "python",
   "pygments_lexer": "ipython3",
   "version": "3.6.2"
  }
 },
 "nbformat": 4,
 "nbformat_minor": 2
}
