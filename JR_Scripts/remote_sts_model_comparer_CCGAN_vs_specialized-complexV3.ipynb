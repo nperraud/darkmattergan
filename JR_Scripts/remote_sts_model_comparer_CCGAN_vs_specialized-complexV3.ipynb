{
 "cells": [
  {
   "cell_type": "code",
   "execution_count": null,
   "metadata": {},
   "outputs": [],
   "source": [
    "import sys\n",
    "sys.path.insert(0, '../')\n",
    "\n",
    "import utils, evaluation\n",
    "#from evaluation import load_gan\n",
    "from data import fmap, Dataset\n",
    "from JR_Scripts import dict_reader, time_toy_generator\n",
    "from JR_Scripts import notebook_helper as nh\n",
    "from model import WGanModel, WNGanModel, TemporalGanModelv3\n",
    "from gan import TimeCosmoGAN\n",
    "import metrics\n",
    "import tensorflow as tf\n",
    "import numpy as np\n",
    "from PIL import Image\n",
    "import imageio\n",
    "from matplotlib.pyplot import imshow\n",
    "import matplotlib.pyplot as plt\n",
    "import matplotlib.cm as cm\n",
    "import importlib as imp"
   ]
  },
  {
   "cell_type": "code",
   "execution_count": null,
   "metadata": {},
   "outputs": [],
   "source": [
    "redshift = ['z = 0.000', 'z = 0.111', 'z = 0.250', 'z = 0.428', 'z = 0.666', 'z = 1.000', 'z = 1.500', 'z = 2.333', 'z = 4.000', 'z = 9.000']"
   ]
  },
  {
   "cell_type": "code",
   "execution_count": null,
   "metadata": {},
   "outputs": [],
   "source": [
    "def load_gan_and_gen_data_in_old_format(model_folder, specific_model, params):\n",
    "    gan = evaluation.load_gan(model_folder, GANtype=TimeCosmoGAN)\n",
    "    t = params['time']['classes']\n",
    "    images = nh.gen_fake_images(gan, 5000, t, checkpoint=specific_model)\n",
    "    return params['cosmology']['backward_map'](images)"
   ]
  },
  {
   "cell_type": "code",
   "execution_count": null,
   "metadata": {},
   "outputs": [],
   "source": [
    "data_lst = []\n",
    "labels_lst = ['Specialized', 'CCGAN', 'Real']\n",
    "colors_lst = ['b', 'g', 'r']"
   ]
  },
  {
   "cell_type": "code",
   "execution_count": null,
   "metadata": {},
   "outputs": [],
   "source": [
    "params, model_folder = nh.load_params(\"models_64x64_C4/TWGANce:62d3_selu_sn10-10_0246r_Hlr3e5_bs4_v2ad_c+sf62_checkpoints/\", cscs=True)\n",
    "specific_model = 164800"
   ]
  },
  {
   "cell_type": "code",
   "execution_count": null,
   "metadata": {
    "scrolled": true
   },
   "outputs": [],
   "source": [
    "nh.print_param_dict(params)"
   ]
  },
  {
   "cell_type": "code",
   "execution_count": null,
   "metadata": {
    "scrolled": true
   },
   "outputs": [],
   "source": [
    "ccgan_images = load_gan_and_gen_data_in_old_format(model_folder, specific_model, params)"
   ]
  },
  {
   "cell_type": "code",
   "execution_count": null,
   "metadata": {},
   "outputs": [],
   "source": [
    "dset = nh.get_dataset(500, 512, params, shuffle=True, cscs=True)"
   ]
  },
  {
   "cell_type": "code",
   "execution_count": null,
   "metadata": {},
   "outputs": [],
   "source": [
    "#nh.get_scaling(gan.params['time']['classes'], gan.params['time']['class_weights'])"
   ]
  },
  {
   "cell_type": "code",
   "execution_count": null,
   "metadata": {},
   "outputs": [],
   "source": [
    "data = dset.get_samples(5000)\n",
    "data = nh.reshape_data_to_old_format(data, params)\n",
    "data = params['cosmology']['backward_map'](data)\n",
    "data.shape"
   ]
  },
  {
   "cell_type": "code",
   "execution_count": null,
   "metadata": {},
   "outputs": [],
   "source": [
    "#data_lst.append(data)"
   ]
  },
  {
   "cell_type": "code",
   "execution_count": null,
   "metadata": {},
   "outputs": [],
   "source": [
    "def create_curves(data, ccgan_images, labels_lst, colors_lst, t, nc, special_model_folder, specific_model):\n",
    "    params, model_folder = nh.load_params(special_model_folder, cscs=True)\n",
    "    data_lst = []\n",
    "    data_lst.append(load_gan_and_gen_data_in_old_format(model_folder, specific_model, params))\n",
    "    data_lst.append(ccgan_images[t::nc])\n",
    "    data_lst.append(data[t::nc])\n",
    "    \n",
    "    lim_mass = nh.get_lim_mass(data_lst[2])\n",
    "    nh.plot_mass_hists(data_lst, labels_lst, colors_lst, lim_mass, params)\n",
    "    \n",
    "    _, _, lim = metrics.peak_count_hist(data_lst[1])\n",
    "    lim = (lim[0], lim[1] + 0.5)\n",
    "    nh.plot_peak_hists(data_lst, labels_lst, colors_lst, lim, params)\n",
    "    \n",
    "    nh.plot_power_spectral_densities(data_lst, labels_lst, colors_lst, params)"
   ]
  },
  {
   "cell_type": "code",
   "execution_count": null,
   "metadata": {
    "scrolled": false
   },
   "outputs": [],
   "source": [
    "for ts in [0, 2, 4, 6]:\n",
    "    special_model_folder = \"models_64x64/TWGANv2:62d3_lap_selu-sn6-5_4Mom_{}r_CDF62_checkpoints/\".format(ts)\n",
    "    specific_model = 150000\n",
    "    create_curves(data, ccgan_images, labels_lst, colors_lst, ts // 2, 4, special_model_folder, specific_model)"
   ]
  },
  {
   "cell_type": "code",
   "execution_count": null,
   "metadata": {},
   "outputs": [],
   "source": []
  }
 ],
 "metadata": {
  "kernelspec": {
   "display_name": "Python 3",
   "language": "python",
   "name": "python3"
  },
  "language_info": {
   "codemirror_mode": {
    "name": "ipython",
    "version": 3
   },
   "file_extension": ".py",
   "mimetype": "text/x-python",
   "name": "python",
   "nbconvert_exporter": "python",
   "pygments_lexer": "ipython3",
   "version": "3.6.5"
  }
 },
 "nbformat": 4,
 "nbformat_minor": 2
}
