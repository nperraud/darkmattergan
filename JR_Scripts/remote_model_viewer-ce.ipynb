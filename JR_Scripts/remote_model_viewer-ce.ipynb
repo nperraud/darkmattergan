{
 "cells": [
  {
   "cell_type": "code",
   "execution_count": null,
   "metadata": {},
   "outputs": [],
   "source": [
    "import sys\n",
    "sys.path.insert(0, '../')\n",
    "\n",
    "import utils, evaluation\n",
    "#from evaluation import load_gan\n",
    "from data import fmap, Dataset\n",
    "from JR_Scripts import dict_reader, time_toy_generator\n",
    "from JR_Scripts import notebook_helper as nh\n",
    "from model import WGanModel, WNGanModel, TemporalGanModelv3\n",
    "from gan import TimeCosmoGAN\n",
    "import metrics\n",
    "import tensorflow as tf\n",
    "import numpy as np\n",
    "from PIL import Image\n",
    "import imageio\n",
    "from matplotlib.pyplot import imshow\n",
    "import matplotlib.pyplot as plt\n",
    "import matplotlib.cm as cm\n",
    "import importlib as imp"
   ]
  },
  {
   "cell_type": "code",
   "execution_count": null,
   "metadata": {},
   "outputs": [],
   "source": [
    "redshift = ['z = 0.000', 'z = 0.111', 'z = 0.250', 'z = 0.428', 'z = 0.666', 'z = 1.000', 'z = 1.500', 'z = 2.333', 'z = 4.000', 'z = 9.000']"
   ]
  },
  {
   "cell_type": "code",
   "execution_count": null,
   "metadata": {},
   "outputs": [],
   "source": [
    "params, model_folder = nh.load_params(\"models_64x64_C4/TWGANce:62d3_selu_sn10-10_0246r_Hlr3e5_bs4_v2ad_c+sf62_checkpoints/\", cscs=True)\n",
    "specific_model = 164800"
   ]
  },
  {
   "cell_type": "code",
   "execution_count": null,
   "metadata": {},
   "outputs": [],
   "source": [
    "nh.print_param_dict(params)"
   ]
  },
  {
   "cell_type": "code",
   "execution_count": null,
   "metadata": {},
   "outputs": [],
   "source": [
    "dset = nh.get_dataset(500, 512, params, shuffle=True, cscs=True)"
   ]
  },
  {
   "cell_type": "code",
   "execution_count": null,
   "metadata": {},
   "outputs": [],
   "source": [
    "gan = evaluation.load_gan(model_folder, GANtype=TimeCosmoGAN)"
   ]
  },
  {
   "cell_type": "code",
   "execution_count": null,
   "metadata": {},
   "outputs": [],
   "source": [
    "main_classes, contained_classes = nh.get_main_and_contained_classes(params)"
   ]
  },
  {
   "cell_type": "code",
   "execution_count": null,
   "metadata": {},
   "outputs": [],
   "source": [
    "def visual_comparison_fake_real_compact(dset, gan, chpt):\n",
    "    series = dset.get_samples(100)[np.random.randint(100)]\n",
    "    series = np.transpose(series, [2, 0, 1])\n",
    "    img_series = np.array(nh.gen_images_10_time_steps(gan, chpt))\n",
    "    main_classes, contained_classes = nh.get_main_and_contained_classes(gan.params)\n",
    "    marker = nh.gen_contained_marker(img_series, series, contained_classes)\n",
    "    img_series = np.flip(img_series[main_classes], 0)\n",
    "    series = np.flip(series[main_classes], 0)\n",
    "    marker = np.flip(marker[main_classes], 0)\n",
    "    fig, ax = plt.subplots(figsize=(128, 16))\n",
    "    ax.imshow(np.vstack([np.hstack(img_series), np.hstack(marker), np.hstack(series)]), interpolation=None)\n",
    "    # ax.imshow(np.hstack(series), interpolation=None)\n",
    "    plt.tight_layout()\n",
    "    return img_series, series"
   ]
  },
  {
   "cell_type": "code",
   "execution_count": null,
   "metadata": {},
   "outputs": [],
   "source": [
    "fake_img, real_img = visual_comparison_fake_real_compact(dset, gan, specific_model)"
   ]
  },
  {
   "cell_type": "code",
   "execution_count": null,
   "metadata": {
    "scrolled": false
   },
   "outputs": [],
   "source": [
    "fake_img, real_img = visual_comparison_fake_real_compact(dset, gan, specific_model)"
   ]
  },
  {
   "cell_type": "code",
   "execution_count": null,
   "metadata": {},
   "outputs": [],
   "source": [
    "fake_img, real_img = visual_comparison_fake_real_compact(dset, gan, specific_model)"
   ]
  },
  {
   "cell_type": "code",
   "execution_count": null,
   "metadata": {
    "scrolled": true
   },
   "outputs": [],
   "source": [
    "for i in range(10):\n",
    "    fake_img, real_img = visual_comparison_fake_real_compact(dset, gan, specific_model)"
   ]
  },
  {
   "cell_type": "code",
   "execution_count": null,
   "metadata": {},
   "outputs": [],
   "source": [
    "t = params['time']['classes']\n",
    "images = nh.gen_fake_images(gan, 5000, t, checkpoint=specific_model)\n",
    "images = params['cosmology']['backward_map'](images)"
   ]
  },
  {
   "cell_type": "code",
   "execution_count": null,
   "metadata": {},
   "outputs": [],
   "source": [
    "plt.figure(figsize = (20,2))\n",
    "plt.imshow(np.hstack(params['cosmology']['forward_map'](images[12:30])), interpolation=None)\n",
    "#images.shape"
   ]
  },
  {
   "cell_type": "code",
   "execution_count": null,
   "metadata": {},
   "outputs": [],
   "source": [
    "nh.get_scaling(gan.params['time']['classes'], gan.params['time']['class_weights'])"
   ]
  },
  {
   "cell_type": "code",
   "execution_count": null,
   "metadata": {},
   "outputs": [],
   "source": [
    "data = dset.get_samples(5000)\n",
    "data = nh.reshape_data_to_old_format(data, params)\n",
    "data = params['cosmology']['backward_map'](data)\n",
    "data.shape"
   ]
  },
  {
   "cell_type": "markdown",
   "metadata": {},
   "source": [
    "# Single Timestep Data Analysis"
   ]
  },
  {
   "cell_type": "markdown",
   "metadata": {},
   "source": [
    "## Mass Histograms"
   ]
  },
  {
   "cell_type": "markdown",
   "metadata": {},
   "source": [
    "### Progression over time"
   ]
  },
  {
   "cell_type": "code",
   "execution_count": null,
   "metadata": {},
   "outputs": [],
   "source": [
    "#imp.reload(nh)"
   ]
  },
  {
   "cell_type": "code",
   "execution_count": null,
   "metadata": {},
   "outputs": [],
   "source": [
    "cmap = nh.get_cmap('viridis', params['time']['num_classes'])\n",
    "# cmap = cmap[1:-1]\n",
    "\n",
    "lim_mass = nh.get_lim_mass(images)\n",
    "nh.plot_mass_hist(images, \"Fake\", lim_mass, params, cmap)\n",
    "nh.plot_mass_hist(data, \"Real\", lim_mass, params, cmap)"
   ]
  },
  {
   "cell_type": "markdown",
   "metadata": {},
   "source": [
    "### Real-Fake timewise comparisons"
   ]
  },
  {
   "cell_type": "code",
   "execution_count": null,
   "metadata": {},
   "outputs": [],
   "source": [
    "lim_mass = nh.get_lim_mass(data)\n",
    "nh.plot_real_vs_fake_mass_hists(data, images, lim_mass, params)"
   ]
  },
  {
   "cell_type": "markdown",
   "metadata": {},
   "source": [
    "## Peak Histograms"
   ]
  },
  {
   "cell_type": "markdown",
   "metadata": {},
   "source": [
    "### Progression over time"
   ]
  },
  {
   "cell_type": "code",
   "execution_count": null,
   "metadata": {},
   "outputs": [],
   "source": [
    "_, _, lim = metrics.peak_count_hist(data)\n",
    "lim = (lim[0], lim[1] + 1)\n",
    "nh.peak_hist_over_time(data, images, params, lim=lim, title_a=\"Real Data\", title_b=\"Fake Data\")"
   ]
  },
  {
   "cell_type": "markdown",
   "metadata": {},
   "source": [
    "### Real-Fake timewise comparison"
   ]
  },
  {
   "cell_type": "code",
   "execution_count": null,
   "metadata": {},
   "outputs": [],
   "source": [
    "nh.peak_hist_a_vs_b(data, images, params, lim=lim, label_a=\"Real\", label_b=\"Fake\")"
   ]
  },
  {
   "cell_type": "markdown",
   "metadata": {},
   "source": [
    "## Power Spectral Densities"
   ]
  },
  {
   "cell_type": "markdown",
   "metadata": {},
   "source": [
    "### Progression over time"
   ]
  },
  {
   "cell_type": "code",
   "execution_count": null,
   "metadata": {},
   "outputs": [],
   "source": [
    "nh.power_spectral_densities(data, params, data_name=\"Real Data\")\n",
    "nh.power_spectral_densities(images, params, data_name=\"Fake Data\")"
   ]
  },
  {
   "cell_type": "code",
   "execution_count": null,
   "metadata": {},
   "outputs": [],
   "source": [
    "#imp.reload(nh)"
   ]
  },
  {
   "cell_type": "markdown",
   "metadata": {},
   "source": [
    "### Real-Fake timewise comparison"
   ]
  },
  {
   "cell_type": "code",
   "execution_count": null,
   "metadata": {},
   "outputs": [],
   "source": [
    "nh.power_spectral_density_a_vs_b(data, images, params)"
   ]
  }
 ],
 "metadata": {
  "kernelspec": {
   "display_name": "Python 3",
   "language": "python",
   "name": "python3"
  },
  "language_info": {
   "codemirror_mode": {
    "name": "ipython",
    "version": 3
   },
   "file_extension": ".py",
   "mimetype": "text/x-python",
   "name": "python",
   "nbconvert_exporter": "python",
   "pygments_lexer": "ipython3",
   "version": "3.6.5"
  }
 },
 "nbformat": 4,
 "nbformat_minor": 2
}
