{
 "cells": [
  {
   "cell_type": "code",
   "execution_count": null,
   "metadata": {},
   "outputs": [],
   "source": [
    "import sys\n",
    "sys.path.insert(0, '../')\n",
    "\n",
    "import utils, evaluation\n",
    "#from evaluation import load_gan\n",
    "from data import fmap, Dataset\n",
    "from JR_Scripts import dict_reader, time_toy_generator\n",
    "from JR_Scripts import notebook_helper as nh\n",
    "from model import WGanModel, WNGanModel, TemporalGanModelv3\n",
    "from gan import TimeCosmoGAN\n",
    "import metrics\n",
    "import tensorflow as tf\n",
    "import numpy as np\n",
    "from PIL import Image\n",
    "import imageio\n",
    "from matplotlib.pyplot import imshow\n",
    "import matplotlib.pyplot as plt\n",
    "import matplotlib.cm as cm\n",
    "import importlib as imp"
   ]
  },
  {
   "cell_type": "code",
   "execution_count": null,
   "metadata": {},
   "outputs": [],
   "source": [
    "redshift = ['z = 0.000', 'z = 0.111', 'z = 0.250', 'z = 0.428', 'z = 0.666', 'z = 1.000', 'z = 1.500', 'z = 2.333', 'z = 4.000', 'z = 9.000']"
   ]
  },
  {
   "cell_type": "code",
   "execution_count": null,
   "metadata": {},
   "outputs": [],
   "source": [
    "def load_gan_and_gen_data_in_old_format(model_folder, specific_model, params):\n",
    "    gan = evaluation.load_gan(model_folder, GANtype=TimeCosmoGAN)\n",
    "    t = params['time']['classes']\n",
    "    images = nh.gen_fake_images(gan, 5000, t, checkpoint=specific_model)\n",
    "    return params['cosmology']['backward_map'](images)"
   ]
  },
  {
   "cell_type": "code",
   "execution_count": null,
   "metadata": {},
   "outputs": [],
   "source": [
    "def modify_param_classes(params):\n",
    "    lst_classes = []\n",
    "    for cl in params['time']['classes']:\n",
    "        lst_classes.append(cl + 1)\n",
    "    params['time']['classes'] = lst_classes\n",
    "    lst_cl_weights = []\n",
    "    for cl in params['time']['class_weights']:\n",
    "        lst_cl_weights.append(cl - 0.08)\n",
    "    params['time']['class_weights'] = lst_cl_weights"
   ]
  },
  {
   "cell_type": "code",
   "execution_count": null,
   "metadata": {},
   "outputs": [],
   "source": [
    "data_lst = []\n",
    "labels_lst = ['Encode Channel', 'Scale Half', 'Scale Full', 'Real']\n",
    "colors_lst = ['b', 'g', 'y', 'r']"
   ]
  },
  {
   "cell_type": "code",
   "execution_count": null,
   "metadata": {},
   "outputs": [],
   "source": [
    "params, model_folder = nh.load_params(\"models_64x64_C4/TWGANce:62d3_selu_sn10-10_0246r_Hlr3e5_bs4_v2ad_c+sf62_checkpoints/\", cscs=True)\n",
    "specific_model = 164800"
   ]
  },
  {
   "cell_type": "code",
   "execution_count": null,
   "metadata": {
    "scrolled": true
   },
   "outputs": [],
   "source": [
    "modify_param_classes(params)\n",
    "nh.print_param_dict(params)"
   ]
  },
  {
   "cell_type": "code",
   "execution_count": null,
   "metadata": {
    "scrolled": true
   },
   "outputs": [],
   "source": [
    "data_lst.append(load_gan_and_gen_data_in_old_format(model_folder, specific_model, params))"
   ]
  },
  {
   "cell_type": "code",
   "execution_count": null,
   "metadata": {},
   "outputs": [],
   "source": [
    "params, model_folder = nh.load_params(\"models_64x64_C4/TWGANsh:62d3_selu_sn10-10_0246r_Hlr3e5_v2ad_c+sf62_checkpoints/\", cscs=True)\n",
    "specific_model = 142400"
   ]
  },
  {
   "cell_type": "code",
   "execution_count": null,
   "metadata": {
    "scrolled": true
   },
   "outputs": [],
   "source": [
    "modify_param_classes(params)\n",
    "nh.print_param_dict(params)"
   ]
  },
  {
   "cell_type": "code",
   "execution_count": null,
   "metadata": {
    "scrolled": true
   },
   "outputs": [],
   "source": [
    "data_lst.append(load_gan_and_gen_data_in_old_format(model_folder, specific_model, params))"
   ]
  },
  {
   "cell_type": "code",
   "execution_count": null,
   "metadata": {},
   "outputs": [],
   "source": [
    "params, model_folder = nh.load_params(\"models_64x64_C4/TWGANsf:62d3_selu_sn10-10_0246r_Hlr3e5_v2ad_c+sf62_checkpoints/\", cscs=True)\n",
    "specific_model = 132800"
   ]
  },
  {
   "cell_type": "code",
   "execution_count": null,
   "metadata": {
    "scrolled": true
   },
   "outputs": [],
   "source": [
    "modify_param_classes(params)\n",
    "nh.print_param_dict(params)"
   ]
  },
  {
   "cell_type": "code",
   "execution_count": null,
   "metadata": {},
   "outputs": [],
   "source": [
    "data_lst.append(load_gan_and_gen_data_in_old_format(model_folder, specific_model, params))"
   ]
  },
  {
   "cell_type": "code",
   "execution_count": null,
   "metadata": {},
   "outputs": [],
   "source": [
    "dset = nh.get_dataset(500, 512, params, shuffle=True, cscs=True)"
   ]
  },
  {
   "cell_type": "code",
   "execution_count": null,
   "metadata": {},
   "outputs": [],
   "source": [
    "#nh.get_scaling(gan.params['time']['classes'], gan.params['time']['class_weights'])"
   ]
  },
  {
   "cell_type": "code",
   "execution_count": null,
   "metadata": {},
   "outputs": [],
   "source": [
    "data = dset.get_samples(5000)\n",
    "data = nh.reshape_data_to_old_format(data, params)\n",
    "data = params['cosmology']['backward_map'](data)\n",
    "data.shape"
   ]
  },
  {
   "cell_type": "code",
   "execution_count": null,
   "metadata": {},
   "outputs": [],
   "source": [
    "data_lst.append(data)"
   ]
  },
  {
   "cell_type": "markdown",
   "metadata": {},
   "source": [
    "# Single Timestep Data Analysis"
   ]
  },
  {
   "cell_type": "markdown",
   "metadata": {},
   "source": [
    "## Mass Histograms"
   ]
  },
  {
   "cell_type": "markdown",
   "metadata": {},
   "source": [
    "### Progression over time"
   ]
  },
  {
   "cell_type": "code",
   "execution_count": null,
   "metadata": {},
   "outputs": [],
   "source": [
    "#imp.reload(nh)"
   ]
  },
  {
   "cell_type": "markdown",
   "metadata": {},
   "source": [
    "### Real-Fake timewise comparisons"
   ]
  },
  {
   "cell_type": "code",
   "execution_count": null,
   "metadata": {},
   "outputs": [],
   "source": [
    "lim_mass = nh.get_lim_mass(data)\n",
    "nh.plot_mass_hists(data_lst, labels_lst, colors_lst, lim_mass, params)"
   ]
  },
  {
   "cell_type": "markdown",
   "metadata": {},
   "source": [
    "## Peak Histograms"
   ]
  },
  {
   "cell_type": "markdown",
   "metadata": {},
   "source": [
    "### Progression over time"
   ]
  },
  {
   "cell_type": "code",
   "execution_count": null,
   "metadata": {},
   "outputs": [],
   "source": [
    "_, _, lim = metrics.peak_count_hist(data_lst[1])\n",
    "lim = (lim[0], lim[1] + 0.5)\n",
    "#nh.peak_hist_over_time(data, images, params, lim=lim, title_a=\"Real Data\", title_b=\"Fake Data\")"
   ]
  },
  {
   "cell_type": "markdown",
   "metadata": {},
   "source": [
    "### Real-Fake timewise comparison"
   ]
  },
  {
   "cell_type": "code",
   "execution_count": null,
   "metadata": {},
   "outputs": [],
   "source": [
    "nh.plot_peak_hists(data_lst, labels_lst, colors_lst, lim, params)"
   ]
  },
  {
   "cell_type": "markdown",
   "metadata": {},
   "source": [
    "## Power Spectral Densities"
   ]
  },
  {
   "cell_type": "markdown",
   "metadata": {},
   "source": [
    "### Progression over time"
   ]
  },
  {
   "cell_type": "code",
   "execution_count": null,
   "metadata": {},
   "outputs": [],
   "source": [
    "#nh.power_spectral_densities(data, params, data_name=\"Real Data\")\n",
    "#nh.power_spectral_densities(images, params, data_name=\"Fake Data\")"
   ]
  },
  {
   "cell_type": "code",
   "execution_count": null,
   "metadata": {},
   "outputs": [],
   "source": [
    "imp.reload(nh)"
   ]
  },
  {
   "cell_type": "markdown",
   "metadata": {},
   "source": [
    "### Real-Fake timewise comparison"
   ]
  },
  {
   "cell_type": "code",
   "execution_count": null,
   "metadata": {},
   "outputs": [],
   "source": [
    "nh.plot_power_spectral_densities(data_lst, labels_lst, colors_lst, params)"
   ]
  },
  {
   "cell_type": "markdown",
   "metadata": {},
   "source": [
    "### Mass Diff Histograms"
   ]
  },
  {
   "cell_type": "code",
   "execution_count": null,
   "metadata": {},
   "outputs": [],
   "source": [
    "imp.reload(nh)"
   ]
  },
  {
   "cell_type": "code",
   "execution_count": null,
   "metadata": {
    "scrolled": true
   },
   "outputs": [],
   "source": [
    "nc = 4\n",
    "max_lim_pos = 0\n",
    "max_lim_neg = 0\n",
    "for i in range(nc-1):\n",
    "    lim_mass = nh.get_lim_mass(np.clip(data[(i+1)::nc]-data[i::nc], a_min=0, a_max=None))\n",
    "    if lim_mass[1] > max_lim_pos:\n",
    "        max_lim_pos = lim_mass[1]\n",
    "    lim_mass = nh.get_lim_mass(np.clip(data[i::nc]-data[(i+1)::nc], a_min=0, a_max=None))\n",
    "    if lim_mass[1] > max_lim_neg:\n",
    "        max_lim_neg = lim_mass[1]\n",
    "lim_mass = (max_lim_pos, max_lim_neg)\n",
    "print(lim_mass)\n",
    "nh.plot_mass_hist_diffs(data_lst, labels_lst, colors_lst, lim_mass, params)"
   ]
  },
  {
   "cell_type": "code",
   "execution_count": null,
   "metadata": {},
   "outputs": [],
   "source": [
    "nh.get_scaling(params['time']['classes'], params['time']['class_weights'])"
   ]
  },
  {
   "cell_type": "code",
   "execution_count": null,
   "metadata": {},
   "outputs": [],
   "source": []
  }
 ],
 "metadata": {
  "kernelspec": {
   "display_name": "Python 3",
   "language": "python",
   "name": "python3"
  },
  "language_info": {
   "codemirror_mode": {
    "name": "ipython",
    "version": 3
   },
   "file_extension": ".py",
   "mimetype": "text/x-python",
   "name": "python",
   "nbconvert_exporter": "python",
   "pygments_lexer": "ipython3",
   "version": "3.6.5"
  }
 },
 "nbformat": 4,
 "nbformat_minor": 2
}
