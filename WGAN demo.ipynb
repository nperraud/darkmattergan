{
 "cells": [
  {
   "cell_type": "code",
   "execution_count": 1,
   "metadata": {},
   "outputs": [
    {
     "name": "stdout",
     "output_type": "stream",
     "text": [
      "Populating the interactive namespace from numpy and matplotlib\n"
     ]
    }
   ],
   "source": [
    "%load_ext autoreload\n",
    "%autoreload 2\n",
    "%pylab inline"
   ]
  },
  {
   "cell_type": "code",
   "execution_count": 2,
   "metadata": {},
   "outputs": [
    {
     "name": "stderr",
     "output_type": "stream",
     "text": [
      "/users/nperraud/default/lib/python3.6/site-packages/h5py/__init__.py:36: FutureWarning: Conversion of the second argument of issubdtype from `float` to `np.floating` is deprecated. In future, it will be treated as `np.float64 == np.dtype(float).type`.\n",
      "  from ._conv import register_converters as _register_converters\n",
      "/users/nperraud/nati-gpu/upscale_gan_testing/plot_summary.py:7: UserWarning: \n",
      "This call to matplotlib.use() has no effect because the backend has already\n",
      "been chosen; matplotlib.use() must be called *before* pylab, matplotlib.pyplot,\n",
      "or matplotlib.backends is imported for the first time.\n",
      "\n",
      "The backend was *originally* set to 'module://ipykernel.pylab.backend_inline' by the following code:\n",
      "  File \"/opt/python/3.6.1.1/lib/python3.6/runpy.py\", line 193, in _run_module_as_main\n",
      "    \"__main__\", mod_spec)\n",
      "  File \"/opt/python/3.6.1.1/lib/python3.6/runpy.py\", line 85, in _run_code\n",
      "    exec(code, run_globals)\n",
      "  File \"/users/nperraud/default/lib/python3.6/site-packages/ipykernel_launcher.py\", line 16, in <module>\n",
      "    app.launch_new_instance()\n",
      "  File \"/users/nperraud/default/lib/python3.6/site-packages/traitlets/config/application.py\", line 658, in launch_instance\n",
      "    app.start()\n",
      "  File \"/users/nperraud/default/lib/python3.6/site-packages/ipykernel/kernelapp.py\", line 486, in start\n",
      "    self.io_loop.start()\n",
      "  File \"/users/nperraud/default/lib/python3.6/site-packages/tornado/platform/asyncio.py\", line 127, in start\n",
      "    self.asyncio_loop.run_forever()\n",
      "  File \"/opt/python/3.6.1.1/lib/python3.6/asyncio/base_events.py\", line 421, in run_forever\n",
      "    self._run_once()\n",
      "  File \"/opt/python/3.6.1.1/lib/python3.6/asyncio/base_events.py\", line 1425, in _run_once\n",
      "    handle._run()\n",
      "  File \"/opt/python/3.6.1.1/lib/python3.6/asyncio/events.py\", line 127, in _run\n",
      "    self._callback(*self._args)\n",
      "  File \"/users/nperraud/default/lib/python3.6/site-packages/tornado/platform/asyncio.py\", line 117, in _handle_events\n",
      "    handler_func(fileobj, events)\n",
      "  File \"/users/nperraud/default/lib/python3.6/site-packages/tornado/stack_context.py\", line 276, in null_wrapper\n",
      "    return fn(*args, **kwargs)\n",
      "  File \"/users/nperraud/default/lib/python3.6/site-packages/zmq/eventloop/zmqstream.py\", line 450, in _handle_events\n",
      "    self._handle_recv()\n",
      "  File \"/users/nperraud/default/lib/python3.6/site-packages/zmq/eventloop/zmqstream.py\", line 480, in _handle_recv\n",
      "    self._run_callback(callback, msg)\n",
      "  File \"/users/nperraud/default/lib/python3.6/site-packages/zmq/eventloop/zmqstream.py\", line 432, in _run_callback\n",
      "    callback(*args, **kwargs)\n",
      "  File \"/users/nperraud/default/lib/python3.6/site-packages/tornado/stack_context.py\", line 276, in null_wrapper\n",
      "    return fn(*args, **kwargs)\n",
      "  File \"/users/nperraud/default/lib/python3.6/site-packages/ipykernel/kernelbase.py\", line 283, in dispatcher\n",
      "    return self.dispatch_shell(stream, msg)\n",
      "  File \"/users/nperraud/default/lib/python3.6/site-packages/ipykernel/kernelbase.py\", line 233, in dispatch_shell\n",
      "    handler(stream, idents, msg)\n",
      "  File \"/users/nperraud/default/lib/python3.6/site-packages/ipykernel/kernelbase.py\", line 399, in execute_request\n",
      "    user_expressions, allow_stdin)\n",
      "  File \"/users/nperraud/default/lib/python3.6/site-packages/ipykernel/ipkernel.py\", line 208, in do_execute\n",
      "    res = shell.run_cell(code, store_history=store_history, silent=silent)\n",
      "  File \"/users/nperraud/default/lib/python3.6/site-packages/ipykernel/zmqshell.py\", line 537, in run_cell\n",
      "    return super(ZMQInteractiveShell, self).run_cell(*args, **kwargs)\n",
      "  File \"/users/nperraud/default/lib/python3.6/site-packages/IPython/core/interactiveshell.py\", line 2666, in run_cell\n",
      "    self.events.trigger('post_run_cell', result)\n",
      "  File \"/users/nperraud/default/lib/python3.6/site-packages/IPython/core/events.py\", line 88, in trigger\n",
      "    func(*args, **kwargs)\n",
      "  File \"/users/nperraud/default/lib/python3.6/site-packages/ipykernel/pylab/backend_inline.py\", line 160, in configure_once\n",
      "    activate_matplotlib(backend)\n",
      "  File \"/users/nperraud/default/lib/python3.6/site-packages/IPython/core/pylabtools.py\", line 311, in activate_matplotlib\n",
      "    matplotlib.pyplot.switch_backend(backend)\n",
      "  File \"/users/nperraud/default/lib/python3.6/site-packages/matplotlib/pyplot.py\", line 231, in switch_backend\n",
      "    matplotlib.use(newbackend, warn=False, force=True)\n",
      "  File \"/users/nperraud/default/lib/python3.6/site-packages/matplotlib/__init__.py\", line 1410, in use\n",
      "    reload(sys.modules['matplotlib.backends'])\n",
      "  File \"/users/nperraud/default/lib/python3.6/importlib/__init__.py\", line 166, in reload\n",
      "    _bootstrap._exec(spec, module)\n",
      "  File \"/users/nperraud/default/lib/python3.6/site-packages/matplotlib/backends/__init__.py\", line 16, in <module>\n",
      "    line for line in traceback.format_stack()\n",
      "\n",
      "\n",
      "  matplotlib.use('Agg')\n"
     ]
    }
   ],
   "source": [
    "# import sys\n",
    "# sys.path.insert(0, '../')\n",
    "\n",
    "import numpy as np\n",
    "import tensorflow as tf\n",
    "import data\n",
    "import utils\n",
    "import plot as plots\n",
    "import evaluation\n",
    "from model import WGanModel\n",
    "from gan import CosmoGAN\n",
    "from data import fmap\n",
    "import functools\n",
    "import os\n",
    "# os.environ[\"CUDA_VISIBLE_DEVICES\"]=\"0\"\n"
   ]
  },
  {
   "cell_type": "markdown",
   "metadata": {},
   "source": [
    "# Parameters"
   ]
  },
  {
   "cell_type": "code",
   "execution_count": 3,
   "metadata": {},
   "outputs": [],
   "source": [
    "ns = 32\n",
    "try_resume = True\n",
    "Mpch=70\n",
    "c = 10000\n",
    "shift = 3\n",
    "forward = functools.partial(fmap.stat_forward, c=c, shift=shift)\n",
    "backward = functools.partial(fmap.stat_backward, c=c, shift=shift)"
   ]
  },
  {
   "cell_type": "markdown",
   "metadata": {},
   "source": [
    "# Data handling"
   ]
  },
  {
   "cell_type": "markdown",
   "metadata": {},
   "source": [
    "Load the data"
   ]
  },
  {
   "cell_type": "code",
   "execution_count": 4,
   "metadata": {},
   "outputs": [],
   "source": [
    "dataset = data.load.load_dataset(spix=ns, resolution=256,Mpch=Mpch, forward_map=forward)"
   ]
  },
  {
   "cell_type": "code",
   "execution_count": 5,
   "metadata": {},
   "outputs": [
    {
     "data": {
      "text/plain": [
       "array([852800.])"
      ]
     },
     "execution_count": 5,
     "metadata": {},
     "output_type": "execute_result"
    }
   ],
   "source": [
    "backward(10)"
   ]
  },
  {
   "cell_type": "code",
   "execution_count": 6,
   "metadata": {},
   "outputs": [
    {
     "name": "stdout",
     "output_type": "stream",
     "text": [
      "min: 4.135859155152133e-10\n",
      "max: 2.5526626921326794\n"
     ]
    },
    {
     "data": {
      "image/png": "[encoded data removed]",
      "text/plain": [
       "<Figure size 432x288 with 1 Axes>"
      ]
     },
     "metadata": {},
     "output_type": "display_data"
    }
   ],
   "source": [
    "X = dataset.get_all_data().flatten()\n",
    "plt.hist(X, 100)\n",
    "print('min: {}'.format(np.min(X)))\n",
    "print('max: {}'.format(np.max(X)))\n",
    "plt.yscale('log')"
   ]
  },
  {
   "cell_type": "markdown",
   "metadata": {},
   "source": [
    "Let us plot 16 images"
   ]
  },
  {
   "cell_type": "code",
   "execution_count": 7,
   "metadata": {},
   "outputs": [
    {
     "data": {
      "text/plain": [
       "<matplotlib.axes._subplots.AxesSubplot at 0x2aabfd0a40b8>"
      ]
     },
     "execution_count": 7,
     "metadata": {},
     "output_type": "execute_result"
    },
    {
     "data": {
      "image/png": "[encoded data removed]",
      "text/plain": [
       "<Figure size 1080x1080 with 1 Axes>"
      ]
     },
     "metadata": {},
     "output_type": "display_data"
    }
   ],
   "source": [
    "plt.figure(figsize=(15,15))\n",
    "plots.draw_images(dataset.get_samples(N=16),nx=4,ny=4)"
   ]
  },
  {
   "cell_type": "markdown",
   "metadata": {},
   "source": [
    "# A) The WGAN"
   ]
  },
  {
   "cell_type": "code",
   "execution_count": 8,
   "metadata": {},
   "outputs": [],
   "source": [
    "time_str = 'stat_c_{}_shift_{}_non_lin{}'.format(c, Mpch, shift)\n",
    "global_path = '/scratch/snx3000/nperraud/saved_result/'\n",
    "\n",
    "name = 'WGAN{}'.format(ns)"
   ]
  },
  {
   "cell_type": "markdown",
   "metadata": {},
   "source": [
    "## Parameters"
   ]
  },
  {
   "cell_type": "code",
   "execution_count": 9,
   "metadata": {},
   "outputs": [],
   "source": [
    "bn = False\n",
    "\n",
    "params_discriminator = dict()\n",
    "params_discriminator['stride'] = [2, 2, 2]\n",
    "params_discriminator['nfilter'] = [16, 32, 32]\n",
    "params_discriminator['shape'] = [[5, 5],[5, 5], [5, 5]]\n",
    "params_discriminator['batch_norm'] = [bn, bn, bn]\n",
    "params_discriminator['full'] = [32]\n",
    "params_discriminator['minibatch_reg'] = True\n",
    "params_discriminator['summary'] = True\n",
    "\n",
    "params_generator = dict()\n",
    "params_generator['stride'] = [2, 1, 1]\n",
    "params_generator['latent_dim'] = 100\n",
    "params_generator['nfilter'] = [32, 64, 1]\n",
    "params_generator['shape'] = [[5, 5], [5, 5], [5, 5]]\n",
    "params_generator['batch_norm'] = [bn, bn]\n",
    "params_generator['full'] = [16*16*32]\n",
    "params_generator['summary'] = True\n",
    "params_generator['non_lin'] = tf.nn.relu\n",
    "\n",
    "params_optimization = dict()\n",
    "params_optimization['gamma_gp'] = 10\n",
    "params_optimization['batch_size'] = 16\n",
    "params_optimization['gen_optimizer'] = 'rmsprop' # rmsprop / adam / sgd\n",
    "params_optimization['disc_optimizer'] = 'rmsprop' # rmsprop / adam /sgd\n",
    "params_optimization['disc_learning_rate'] = 3e-5\n",
    "params_optimization['gen_learning_rate'] = 3e-5\n",
    "params_optimization['beta1'] = 0.9\n",
    "params_optimization['beta2'] = 0.999\n",
    "params_optimization['epsilon'] = 1e-8\n",
    "params_optimization['epoch'] = 5\n",
    "\n",
    "\n",
    "params_cosmology = dict()\n",
    "params_cosmology['forward_map'] = forward\n",
    "params_cosmology['backward_map'] = backward\n",
    "params_cosmology['Nstats'] = 5000\n",
    "\n",
    "\n",
    "params = dict()\n",
    "params['generator'] = params_generator\n",
    "params['discriminator'] = params_discriminator\n",
    "params['optimization'] = params_optimization\n",
    "params['cosmology'] = params_cosmology\n",
    "\n",
    "params['normalize'] = False\n",
    "params['image_size'] = [ns, ns]\n",
    "params['prior_distribution'] = 'gaussian'\n",
    "params['sum_every'] = 500\n",
    "params['viz_every'] = 500\n",
    "params['print_every'] = 100\n",
    "params['save_every'] = 2000\n",
    "params['name'] = name\n",
    "params['summary_dir'] = os.path.join(global_path, params['name'] + '_' + time_str +'_summary/')\n",
    "params['save_dir'] = os.path.join(global_path,params['name'] + '_' + time_str + '_checkpoints/')\n",
    "\n"
   ]
  },
  {
   "cell_type": "code",
   "execution_count": 10,
   "metadata": {},
   "outputs": [
    {
     "name": "stdout",
     "output_type": "stream",
     "text": [
      "Resume, the training will start from the last iteration!\n"
     ]
    }
   ],
   "source": [
    "resume, params = utils.test_resume(try_resume, params)"
   ]
  },
  {
   "cell_type": "markdown",
   "metadata": {},
   "source": [
    "## Build the model"
   ]
  },
  {
   "cell_type": "code",
   "execution_count": 11,
   "metadata": {},
   "outputs": [
    {
     "name": "stdout",
     "output_type": "stream",
     "text": [
      "Generator \n",
      "--------------------------------------------------\n",
      "     The input is of size (?, 100)\n",
      "     0 Full layer with 8192 outputs\n",
      "         Size of the variables: (?, 8192)\n",
      "     Reshape to (?, 16, 16, 32)\n",
      "     1 Deconv layer with 32 channels\n",
      "         Size of the variables: (?, 32, 32, 32)\n",
      "     2 Deconv layer with 64 channels\n",
      "         Size of the variables: (?, 32, 32, 64)\n",
      "     3 Deconv layer with 1 channels\n",
      "         Size of the variables: (?, 32, 32, 1)\n",
      "    Costum non linearity: <function relu at 0x2aab317c0d90>\n",
      "     The output is of size (?, 32, 32, 1)\n",
      "--------------------------------------------------\n",
      "\n",
      "Discriminator \n",
      "--------------------------------------------------\n",
      "     The input is of size (?, 32, 32, 1)\n",
      "     0 Conv layer with 16 channels\n",
      "         Size of the variables: (?, 16, 16, 16)\n",
      "     1 Conv layer with 32 channels\n",
      "         Size of the variables: (?, 8, 8, 32)\n",
      "     2 Conv layer with 32 channels\n",
      "         Size of the variables: (?, 4, 4, 32)\n",
      "     Reshape to (?, 512)\n",
      "     3 Full layer with 32 outputs\n",
      "         Size of the variables: (?, 32)\n",
      "     4 Full layer with 1 outputs\n",
      "     The output is of size (?, 1)\n",
      "--------------------------------------------------\n",
      "\n",
      "---------\n",
      "Variables: name (type shape) [size]\n",
      "---------\n",
      "generator/0_full/Matrix:0 (float32_ref 100x8192) [819200, bytes: 3276800]\n",
      "generator/0_full/bias:0 (float32_ref 8192) [8192, bytes: 32768]\n",
      "generator/0_deconv/w:0 (float32_ref 5x5x32x32) [25600, bytes: 102400]\n",
      "generator/0_deconv/biases:0 (float32_ref 32) [32, bytes: 128]\n",
      "generator/1_deconv/w:0 (float32_ref 5x5x64x32) [51200, bytes: 204800]\n",
      "generator/1_deconv/biases:0 (float32_ref 64) [64, bytes: 256]\n",
      "generator/2_deconv/w:0 (float32_ref 5x5x1x64) [1600, bytes: 6400]\n",
      "generator/2_deconv/biases:0 (float32_ref 1) [1, bytes: 4]\n",
      "discriminator/0_conv/w:0 (float32_ref 5x5x1x16) [400, bytes: 1600]\n",
      "discriminator/0_conv/biases:0 (float32_ref 16) [16, bytes: 64]\n",
      "discriminator/1_conv/w:0 (float32_ref 5x5x16x32) [12800, bytes: 51200]\n",
      "discriminator/1_conv/biases:0 (float32_ref 32) [32, bytes: 128]\n",
      "discriminator/2_conv/w:0 (float32_ref 5x5x32x32) [25600, bytes: 102400]\n",
      "discriminator/2_conv/biases:0 (float32_ref 32) [32, bytes: 128]\n",
      "discriminator/3_full/Matrix:0 (float32_ref 512x32) [16384, bytes: 65536]\n",
      "discriminator/3_full/bias:0 (float32_ref 32) [32, bytes: 128]\n",
      "discriminator/minibatch_reg/Matrix:0 (float32_ref 32x4500) [144000, bytes: 576000]\n",
      "discriminator/minibatch_reg/bias:0 (float32_ref 4500) [4500, bytes: 18000]\n",
      "discriminator/out/Matrix:0 (float32_ref 182x1) [182, bytes: 728]\n",
      "discriminator/out/bias:0 (float32_ref 1) [1, bytes: 4]\n",
      "Total size of variables: 1109868\n",
      "Total bytes of variables: 4439472\n"
     ]
    }
   ],
   "source": [
    "wgan = CosmoGAN(params, WGanModel)"
   ]
  },
  {
   "cell_type": "markdown",
   "metadata": {},
   "source": [
    "## Train the model\n",
    "Note that the input is the processed data... Maybe, we should change that"
   ]
  },
  {
   "cell_type": "code",
   "execution_count": null,
   "metadata": {},
   "outputs": [
    {
     "name": "stdout",
     "output_type": "stream",
     "text": [
      "Load weights in the nework\n",
      " [*] Reading checkpoints...\n",
      "INFO:tensorflow:Restoring parameters from /scratch/snx3000/nperraud/saved_result/WGAN32_stat_c_10000_shift_70_non_lin3_checkpoints/WGAN32-51201\n",
      "Epoch: [ 0] [   0/10240] Counter:51200\t( 0.2 min\t168.804 examples/sec\t0.09 sec/batch)\tL_Disc:-0.36215535\tL_Gen:4.05935669\n",
      "Epoch: [ 0] [ 100/10240] Counter:51300\t( 0.2 min\t360.562 examples/sec\t0.04 sec/batch)\tL_Disc:-0.17033145\tL_Gen:5.50442410\n",
      "Epoch: [ 0] [ 200/10240] Counter:51400\t( 0.3 min\t358.646 examples/sec\t0.04 sec/batch)\tL_Disc:-0.09450340\tL_Gen:6.18901730\n",
      "Epoch: [ 0] [ 300/10240] Counter:51500\t( 0.4 min\t359.227 examples/sec\t0.04 sec/batch)\tL_Disc:-0.04775448\tL_Gen:6.18845606\n",
      " [*] [Fake, Real] Min [0.000, 0.000],\tMedian [0.073,1.213],\tMean [8.836E+00,8.255E+00],\tMax [1.969E+03,1.332E+03],\tVar [2.844E+04,3.456E+04]\n",
      " [*] [Comp, Fake, Real] PeakDistance:[5.470, 0.605, 2.717]\tCrossPS:[6.227, 10.311, -1.405]\n",
      " 51500 current PSD L2 425178.0288375119, logL2 14.04267896854481\n",
      " 51500 current PSD L2 425178.0288375119, logL2 14.04267896854481, total\n",
      "Epoch: [ 0] [ 400/10240] Counter:51600\t( 0.8 min\t58.864 examples/sec\t0.27 sec/batch)\tL_Disc:-0.10590807\tL_Gen:4.83522606\n",
      "Epoch: [ 0] [ 500/10240] Counter:51700\t( 0.9 min\t360.297 examples/sec\t0.04 sec/batch)\tL_Disc:-0.08640262\tL_Gen:4.68328094\n",
      "Epoch: [ 0] [ 600/10240] Counter:51800\t( 1.0 min\t358.972 examples/sec\t0.04 sec/batch)\tL_Disc:-0.18144275\tL_Gen:4.43618250\n",
      "Epoch: [ 0] [ 700/10240] Counter:51900\t( 1.1 min\t359.967 examples/sec\t0.04 sec/batch)\tL_Disc:-0.09856746\tL_Gen:4.29953957\n",
      "Epoch: [ 0] [ 800/10240] Counter:52000\t( 1.1 min\t358.791 examples/sec\t0.04 sec/batch)\tL_Disc:-0.06071261\tL_Gen:5.29371977\n",
      " [*] [Fake, Real] Min [0.000, 0.000],\tMedian [0.020,1.232],\tMean [2.667E+01,8.132E+00],\tMax [5.817E+03,1.273E+03],\tVar [6.525E+05,2.045E+04]\n",
      " [*] [Comp, Fake, Real] PeakDistance:[4.042, 0.924, 3.002]\tCrossPS:[-1.108, 4.730, -4.080]\n",
      " 52000 current PSD L2 694981.3817708876, logL2 17.093999443280303\n",
      " 52000 current PSD L2 694981.3817708876, logL2 17.093999443280303, total\n",
      "Model saved!\n",
      "Epoch: [ 0] [ 900/10240] Counter:52100\t( 1.5 min\t69.776 examples/sec\t0.23 sec/batch)\tL_Disc:-0.09095753\tL_Gen:4.53412819\n",
      "Epoch: [ 0] [1000/10240] Counter:52200\t( 1.6 min\t362.052 examples/sec\t0.04 sec/batch)\tL_Disc:-0.09119958\tL_Gen:4.18802643\n",
      "Epoch: [ 0] [1100/10240] Counter:52300\t( 1.7 min\t362.736 examples/sec\t0.04 sec/batch)\tL_Disc:-0.07372236\tL_Gen:4.53143930\n",
      "Epoch: [ 0] [1200/10240] Counter:52400\t( 1.7 min\t360.265 examples/sec\t0.04 sec/batch)\tL_Disc:-0.06126490\tL_Gen:4.38294268\n",
      "Epoch: [ 0] [1300/10240] Counter:52500\t( 1.8 min\t360.844 examples/sec\t0.04 sec/batch)\tL_Disc:-0.15498407\tL_Gen:4.10924625\n",
      " [*] [Fake, Real] Min [0.000, 0.000],\tMedian [0.210,1.248],\tMean [1.746E+01,7.948E+00],\tMax [2.490E+03,1.239E+03],\tVar [3.230E+05,2.280E+04]\n",
      " [*] [Comp, Fake, Real] PeakDistance:[3.675, 0.460, 2.406]\tCrossPS:[-1.258, -10.822, -0.073]\n",
      " 52500 current PSD L2 51327.175843899444, logL2 2.853598809270679\n",
      " 52500 current PSD L2 51327.175843899444, logL2 2.853598809270679, total\n",
      "Epoch: [ 0] [1400/10240] Counter:52600\t( 2.2 min\t77.838 examples/sec\t0.21 sec/batch)\tL_Disc:-0.05601513\tL_Gen:3.83084202\n",
      "Epoch: [ 0] [1500/10240] Counter:52700\t( 2.2 min\t360.082 examples/sec\t0.04 sec/batch)\tL_Disc:-0.04738376\tL_Gen:3.82448006\n",
      "Epoch: [ 0] [1600/10240] Counter:52800\t( 2.3 min\t359.186 examples/sec\t0.04 sec/batch)\tL_Disc:-0.08838198\tL_Gen:3.48048210\n",
      "Epoch: [ 0] [1700/10240] Counter:52900\t( 2.4 min\t360.530 examples/sec\t0.04 sec/batch)\tL_Disc:-0.03418376\tL_Gen:3.55596089\n",
      "Epoch: [ 0] [1800/10240] Counter:53000\t( 2.4 min\t359.664 examples/sec\t0.04 sec/batch)\tL_Disc:-0.05741341\tL_Gen:3.36287308\n",
      " [*] [Fake, Real] Min [0.000, 0.000],\tMedian [1.117,1.217],\tMean [1.496E+01,8.223E+00],\tMax [1.989E+03,1.295E+03],\tVar [1.399E+05,2.209E+04]\n",
      " [*] [Comp, Fake, Real] PeakDistance:[5.388, 0.605, 3.697]\tCrossPS:[-2.384, 0.101, 0.259]\n",
      " 53000 current PSD L2 211827.22434289625, logL2 5.111577749686432\n",
      " 53000 current PSD L2 211827.22434289625, logL2 5.111577749686432, total\n",
      "Epoch: [ 0] [1900/10240] Counter:53100\t( 2.8 min\t77.180 examples/sec\t0.21 sec/batch)\tL_Disc:-0.05449684\tL_Gen:3.36133313\n",
      "Epoch: [ 0] [2000/10240] Counter:53200\t( 2.9 min\t363.843 examples/sec\t0.04 sec/batch)\tL_Disc:-0.03509365\tL_Gen:3.03938794\n",
      "Epoch: [ 0] [2100/10240] Counter:53300\t( 2.9 min\t361.525 examples/sec\t0.04 sec/batch)\tL_Disc:-0.08293191\tL_Gen:3.41702938\n",
      "Epoch: [ 0] [2200/10240] Counter:53400\t( 3.0 min\t360.601 examples/sec\t0.04 sec/batch)\tL_Disc:-0.08263175\tL_Gen:3.51435351\n",
      "Epoch: [ 0] [2300/10240] Counter:53500\t( 3.1 min\t360.405 examples/sec\t0.04 sec/batch)\tL_Disc:-0.07474447\tL_Gen:3.12883353\n",
      " [*] [Fake, Real] Min [0.000, 0.000],\tMedian [0.629,1.235],\tMean [7.810E+00,8.015E+00],\tMax [9.423E+02,1.259E+03],\tVar [3.477E+04,2.494E+04]\n",
      " [*] [Comp, Fake, Real] PeakDistance:[4.678, 0.456, 3.761]\tCrossPS:[-1.032, -2.548, -2.133]\n",
      " 53500 current PSD L2 205906.32400399796, logL2 6.31070827059722\n",
      " 53500 current PSD L2 205906.32400399796, logL2 6.31070827059722, total\n",
      "Epoch: [ 0] [2400/10240] Counter:53600\t( 3.4 min\t77.017 examples/sec\t0.21 sec/batch)\tL_Disc:-0.06816864\tL_Gen:3.35012412\n",
      "Epoch: [ 0] [2500/10240] Counter:53700\t( 3.5 min\t361.623 examples/sec\t0.04 sec/batch)\tL_Disc:-0.10117944\tL_Gen:3.22762680\n",
      "Epoch: [ 0] [2600/10240] Counter:53800\t( 3.6 min\t359.868 examples/sec\t0.04 sec/batch)\tL_Disc:-0.08132030\tL_Gen:3.19172120\n",
      "Epoch: [ 0] [2700/10240] Counter:53900\t( 3.7 min\t357.154 examples/sec\t0.04 sec/batch)\tL_Disc:-0.08390830\tL_Gen:3.24212885\n",
      "Epoch: [ 0] [2800/10240] Counter:54000\t( 3.7 min\t358.023 examples/sec\t0.04 sec/batch)\tL_Disc:-0.04947421\tL_Gen:3.30335426\n",
      " [*] [Fake, Real] Min [0.000, 0.000],\tMedian [1.331,1.251],\tMean [9.761E+00,8.789E+00],\tMax [1.106E+03,1.421E+03],\tVar [3.924E+04,3.501E+04]\n",
      " [*] [Comp, Fake, Real] PeakDistance:[6.002, 0.516, 2.490]\tCrossPS:[-1.539, 2.282, 5.029]\n",
      " 54000 current PSD L2 202423.37567762058, logL2 9.087037450839839\n",
      " 54000 current PSD L2 202423.37567762058, logL2 9.087037450839839, total\n",
      "Model saved!\n",
      "Epoch: [ 0] [2900/10240] Counter:54100\t( 4.1 min\t69.065 examples/sec\t0.23 sec/batch)\tL_Disc:-0.05428483\tL_Gen:3.30558920\n",
      "Epoch: [ 0] [3000/10240] Counter:54200\t( 4.2 min\t360.158 examples/sec\t0.04 sec/batch)\tL_Disc:-0.04319838\tL_Gen:3.10647440\n",
      "Epoch: [ 0] [3100/10240] Counter:54300\t( 4.3 min\t360.579 examples/sec\t0.04 sec/batch)\tL_Disc:-0.09502680\tL_Gen:3.03205919\n",
      "Epoch: [ 0] [3200/10240] Counter:54400\t( 4.3 min\t361.752 examples/sec\t0.04 sec/batch)\tL_Disc:-0.06227626\tL_Gen:2.75635052\n",
      "Epoch: [ 0] [3300/10240] Counter:54500\t( 4.4 min\t361.614 examples/sec\t0.04 sec/batch)\tL_Disc:-0.03649256\tL_Gen:2.85706258\n",
      " [*] [Fake, Real] Min [0.000, 0.000],\tMedian [0.744,1.218],\tMean [5.803E+00,7.338E+00],\tMax [6.986E+02,1.124E+03],\tVar [1.918E+04,1.269E+04]\n",
      " [*] [Comp, Fake, Real] PeakDistance:[3.553, 0.433, 2.371]\tCrossPS:[-3.557, -1.561, 3.361]\n",
      " 54500 current PSD L2 221407.19687208568, logL2 8.198077260463101\n",
      " 54500 current PSD L2 221407.19687208568, logL2 8.198077260463101, total\n",
      "Epoch: [ 0] [3400/10240] Counter:54600\t( 4.8 min\t75.673 examples/sec\t0.21 sec/batch)\tL_Disc:-0.06112593\tL_Gen:2.80766773\n",
      "Epoch: [ 0] [3500/10240] Counter:54700\t( 4.8 min\t360.340 examples/sec\t0.04 sec/batch)\tL_Disc:-0.06436724\tL_Gen:2.47480106\n",
      "Epoch: [ 0] [3600/10240] Counter:54800\t( 4.9 min\t360.357 examples/sec\t0.04 sec/batch)\tL_Disc:-0.04932663\tL_Gen:2.79842758\n",
      "Epoch: [ 0] [3700/10240] Counter:54900\t( 5.0 min\t360.596 examples/sec\t0.04 sec/batch)\tL_Disc:-0.06221462\tL_Gen:2.74778366\n",
      "Epoch: [ 0] [3800/10240] Counter:55000\t( 5.1 min\t358.955 examples/sec\t0.04 sec/batch)\tL_Disc:-0.03248358\tL_Gen:2.29930401\n",
      " [*] [Fake, Real] Min [0.000, 0.000],\tMedian [1.915,1.235],\tMean [1.109E+01,8.048E+00],\tMax [1.223E+03,1.267E+03],\tVar [6.844E+04,2.065E+04]\n",
      " [*] [Comp, Fake, Real] PeakDistance:[3.966, 0.615, 3.721]\tCrossPS:[0.369, -1.657, 5.995]\n",
      " 55000 current PSD L2 180780.56587024484, logL2 9.64247623414564\n",
      " 55000 current PSD L2 180780.56587024484, logL2 9.64247623414564, total\n",
      "Epoch: [ 0] [3900/10240] Counter:55100\t( 5.4 min\t76.496 examples/sec\t0.21 sec/batch)\tL_Disc:-0.03626188\tL_Gen:2.49272966\n",
      "Epoch: [ 0] [4000/10240] Counter:55200\t( 5.5 min\t360.819 examples/sec\t0.04 sec/batch)\tL_Disc:-0.08793778\tL_Gen:2.37604380\n",
      "Epoch: [ 0] [4100/10240] Counter:55300\t( 5.6 min\t359.214 examples/sec\t0.04 sec/batch)\tL_Disc:-0.05149363\tL_Gen:2.23754835\n"
     ]
    },
    {
     "name": "stdout",
     "output_type": "stream",
     "text": [
      "Epoch: [ 0] [4200/10240] Counter:55400\t( 5.6 min\t361.168 examples/sec\t0.04 sec/batch)\tL_Disc:-0.04913816\tL_Gen:2.08940744\n",
      "Epoch: [ 0] [4300/10240] Counter:55500\t( 5.7 min\t361.127 examples/sec\t0.04 sec/batch)\tL_Disc:-0.07134505\tL_Gen:2.41758204\n",
      " [*] [Fake, Real] Min [0.000, 0.000],\tMedian [0.626,1.200],\tMean [9.025E+00,7.575E+00],\tMax [1.307E+03,1.216E+03],\tVar [5.713E+04,2.183E+04]\n",
      " [*] [Comp, Fake, Real] PeakDistance:[4.592, 0.789, 4.001]\tCrossPS:[2.648, 3.053, 7.628]\n",
      " 55500 current PSD L2 32952.51032252606, logL2 1.8001000157792004\n",
      " 55500 current PSD L2 32952.51032252606, logL2 1.8001000157792004, total\n",
      "Epoch: [ 0] [4400/10240] Counter:55600\t( 6.1 min\t75.742 examples/sec\t0.21 sec/batch)\tL_Disc:-0.06177889\tL_Gen:2.44393015\n",
      "Epoch: [ 0] [4500/10240] Counter:55700\t( 6.1 min\t360.833 examples/sec\t0.04 sec/batch)\tL_Disc:-0.05257994\tL_Gen:2.43409681\n",
      "Epoch: [ 0] [4600/10240] Counter:55800\t( 6.2 min\t361.643 examples/sec\t0.04 sec/batch)\tL_Disc:-0.06503815\tL_Gen:2.18675852\n",
      "Epoch: [ 0] [4700/10240] Counter:55900\t( 6.3 min\t359.781 examples/sec\t0.04 sec/batch)\tL_Disc:-0.06267202\tL_Gen:2.47939730\n",
      "Epoch: [ 0] [4800/10240] Counter:56000\t( 6.4 min\t359.017 examples/sec\t0.04 sec/batch)\tL_Disc:-0.08646216\tL_Gen:2.50051856\n",
      " [*] [Fake, Real] Min [0.000, 0.000],\tMedian [1.768,1.199],\tMean [1.379E+01,7.030E+00],\tMax [2.267E+03,1.087E+03],\tVar [2.201E+05,1.116E+04]\n",
      " [*] [Comp, Fake, Real] PeakDistance:[3.753, 0.649, 2.580]\tCrossPS:[-1.413, 1.171, -1.686]\n",
      " 56000 current PSD L2 15767.488641438636, logL2 0.5475298418727208\n",
      " 56000 current PSD L2 15767.488641438636, logL2 0.5475298418727208, total\n",
      "Model saved!\n",
      "Epoch: [ 0] [4900/10240] Counter:56100\t( 6.7 min\t67.890 examples/sec\t0.24 sec/batch)\tL_Disc:-0.05299312\tL_Gen:2.43747139\n",
      "Epoch: [ 0] [5000/10240] Counter:56200\t( 6.8 min\t360.591 examples/sec\t0.04 sec/batch)\tL_Disc:-0.02307725\tL_Gen:2.91756964\n",
      "Epoch: [ 0] [5100/10240] Counter:56300\t( 6.9 min\t360.439 examples/sec\t0.04 sec/batch)\tL_Disc:-0.00241095\tL_Gen:2.92160702\n",
      "Epoch: [ 0] [5200/10240] Counter:56400\t( 7.0 min\t360.171 examples/sec\t0.04 sec/batch)\tL_Disc:-0.05615884\tL_Gen:2.62701797\n",
      "Epoch: [ 0] [5300/10240] Counter:56500\t( 7.0 min\t361.872 examples/sec\t0.04 sec/batch)\tL_Disc:-0.04693781\tL_Gen:3.29232883\n",
      " [*] [Fake, Real] Min [0.000, 0.000],\tMedian [0.817,1.202],\tMean [7.910E+00,7.920E+00],\tMax [1.445E+03,1.205E+03],\tVar [7.932E+04,1.807E+04]\n",
      " [*] [Comp, Fake, Real] PeakDistance:[2.578, 0.853, 2.378]\tCrossPS:[-1.452, 8.631, 0.248]\n",
      " [*] New PSD Low achieved 8136.441920 (was 9190.126887)\n",
      " 56500 current PSD L2 8136.441920048734, logL2 0.21506741176618147\n",
      " 56500 current PSD L2 8136.441920048734, logL2 0.21506741176618147, total\n",
      "Model saved!\n",
      "Epoch: [ 0] [5400/10240] Counter:56600\t( 7.4 min\t68.890 examples/sec\t0.23 sec/batch)\tL_Disc:-0.04350274\tL_Gen:3.44595480\n",
      "Epoch: [ 0] [5500/10240] Counter:56700\t( 7.5 min\t361.311 examples/sec\t0.04 sec/batch)\tL_Disc:-0.04346381\tL_Gen:3.30084610\n",
      "Epoch: [ 0] [5600/10240] Counter:56800\t( 7.6 min\t360.717 examples/sec\t0.04 sec/batch)\tL_Disc:-0.01717757\tL_Gen:3.11710548\n",
      "Epoch: [ 0] [5700/10240] Counter:56900\t( 7.7 min\t358.670 examples/sec\t0.04 sec/batch)\tL_Disc:-0.02189836\tL_Gen:3.49496293\n",
      "Epoch: [ 0] [5800/10240] Counter:57000\t( 7.7 min\t360.230 examples/sec\t0.04 sec/batch)\tL_Disc:-0.01252381\tL_Gen:3.83706307\n",
      " [*] [Fake, Real] Min [0.000, 0.000],\tMedian [0.512,1.228],\tMean [1.250E+01,7.891E+00],\tMax [2.792E+03,1.228E+03],\tVar [1.515E+05,2.131E+04]\n",
      " [*] [Comp, Fake, Real] PeakDistance:[3.514, 1.409, 2.396]\tCrossPS:[-0.388, 15.537, 2.518]\n",
      " 57000 current PSD L2 390492.5737172587, logL2 4.369431641332524\n",
      " 57000 current PSD L2 390492.5737172587, logL2 4.369431641332524, total\n",
      "Epoch: [ 0] [5900/10240] Counter:57100\t( 8.1 min\t74.365 examples/sec\t0.22 sec/batch)\tL_Disc:-0.00558126\tL_Gen:3.57682633\n",
      "Epoch: [ 0] [6000/10240] Counter:57200\t( 8.2 min\t361.685 examples/sec\t0.04 sec/batch)\tL_Disc:-0.06818921\tL_Gen:3.55461502\n",
      "Epoch: [ 0] [6100/10240] Counter:57300\t( 8.2 min\t363.154 examples/sec\t0.04 sec/batch)\tL_Disc:-0.01723483\tL_Gen:3.67471266\n",
      "Epoch: [ 0] [6200/10240] Counter:57400\t( 8.3 min\t360.993 examples/sec\t0.04 sec/batch)\tL_Disc:-0.01455394\tL_Gen:3.29276419\n",
      "Epoch: [ 0] [6300/10240] Counter:57500\t( 8.4 min\t362.054 examples/sec\t0.04 sec/batch)\tL_Disc:-0.01053977\tL_Gen:3.60103106\n",
      " [*] [Fake, Real] Min [0.000, 0.000],\tMedian [0.782,1.221],\tMean [1.595E+01,7.801E+00],\tMax [3.239E+03,1.119E+03],\tVar [2.297E+05,1.925E+04]\n",
      " [*] [Comp, Fake, Real] PeakDistance:[4.759, 1.680, 3.679]\tCrossPS:[2.720, 10.832, -0.024]\n",
      " 57500 current PSD L2 343395.6080522316, logL2 2.674407516765562\n",
      " 57500 current PSD L2 343395.6080522316, logL2 2.674407516765562, total\n",
      "Epoch: [ 0] [6400/10240] Counter:57600\t( 8.7 min\t74.880 examples/sec\t0.21 sec/batch)\tL_Disc:-0.05898241\tL_Gen:3.02784300\n",
      "Epoch: [ 0] [6500/10240] Counter:57700\t( 8.8 min\t359.319 examples/sec\t0.04 sec/batch)\tL_Disc:-0.05730992\tL_Gen:3.62803030\n",
      "Epoch: [ 0] [6600/10240] Counter:57800\t( 8.9 min\t361.270 examples/sec\t0.04 sec/batch)\tL_Disc:-0.00558177\tL_Gen:3.55576921\n",
      "Epoch: [ 0] [6700/10240] Counter:57900\t( 9.0 min\t360.251 examples/sec\t0.04 sec/batch)\tL_Disc:-0.03704114\tL_Gen:3.13680720\n",
      "Epoch: [ 0] [6800/10240] Counter:58000\t( 9.0 min\t357.190 examples/sec\t0.04 sec/batch)\tL_Disc:-0.05365516\tL_Gen:3.76117802\n",
      " [*] [Fake, Real] Min [0.000, 0.000],\tMedian [1.544,1.238],\tMean [1.035E+01,8.194E+00],\tMax [1.526E+03,1.289E+03],\tVar [1.074E+05,2.523E+04]\n",
      " [*] [Comp, Fake, Real] PeakDistance:[4.476, 1.330, 3.826]\tCrossPS:[-4.244, 6.584, -2.148]\n",
      " 58000 current PSD L2 29301.849978332295, logL2 0.3718119967117595\n",
      " 58000 current PSD L2 29301.849978332295, logL2 0.3718119967117595, total\n",
      "Model saved!\n",
      "Epoch: [ 0] [6900/10240] Counter:58100\t( 9.4 min\t66.841 examples/sec\t0.24 sec/batch)\tL_Disc:-0.05247119\tL_Gen:3.81836915\n",
      "Epoch: [ 0] [7000/10240] Counter:58200\t( 9.5 min\t360.791 examples/sec\t0.04 sec/batch)\tL_Disc:-0.06913858\tL_Gen:2.97632027\n",
      "Epoch: [ 0] [7100/10240] Counter:58300\t( 9.6 min\t359.191 examples/sec\t0.04 sec/batch)\tL_Disc:-0.03330603\tL_Gen:3.23293066\n",
      "Epoch: [ 0] [7200/10240] Counter:58400\t( 9.7 min\t359.541 examples/sec\t0.04 sec/batch)\tL_Disc:-0.05107331\tL_Gen:3.19798756\n",
      "Epoch: [ 0] [7300/10240] Counter:58500\t( 9.7 min\t361.324 examples/sec\t0.04 sec/batch)\tL_Disc:-0.02079958\tL_Gen:2.79425097\n",
      " [*] [Fake, Real] Min [0.000, 0.000],\tMedian [1.228,1.246],\tMean [1.036E+01,7.783E+00],\tMax [1.909E+03,1.237E+03],\tVar [7.075E+04,1.963E+04]\n",
      " [*] [Comp, Fake, Real] PeakDistance:[3.278, 0.900, 3.994]\tCrossPS:[0.956, 4.391, 5.456]\n",
      " [*] New Log PSD Low achieved 0.067355 (was 0.195043)\n",
      " 58500 current PSD L2 9491.491044901173, logL2 0.06735549923497718\n",
      " 58500 current PSD L2 9491.491044901173, logL2 0.06735549923497718, total\n",
      "Model saved!\n",
      "Epoch: [ 0] [7400/10240] Counter:58600\t(10.1 min\t68.058 examples/sec\t0.24 sec/batch)\tL_Disc:-0.03355886\tL_Gen:2.50339961\n",
      "Epoch: [ 0] [7500/10240] Counter:58700\t(10.2 min\t361.269 examples/sec\t0.04 sec/batch)\tL_Disc:-0.03595843\tL_Gen:2.71792388\n",
      "Epoch: [ 0] [7600/10240] Counter:58800\t(10.3 min\t361.891 examples/sec\t0.04 sec/batch)\tL_Disc:-0.01109558\tL_Gen:2.87765813\n",
      "Epoch: [ 0] [7700/10240] Counter:58900\t(10.3 min\t360.873 examples/sec\t0.04 sec/batch)\tL_Disc:0.01936250\tL_Gen:2.55511880\n",
      "Epoch: [ 0] [7800/10240] Counter:59000\t(10.4 min\t358.456 examples/sec\t0.04 sec/batch)\tL_Disc:-0.00381814\tL_Gen:2.77315569\n",
      " [*] [Fake, Real] Min [0.000, 0.000],\tMedian [0.941,1.187],\tMean [7.433E+00,7.459E+00],\tMax [1.273E+03,1.157E+03],\tVar [5.246E+04,2.264E+04]\n",
      " [*] [Comp, Fake, Real] PeakDistance:[3.006, 1.360, 3.341]\tCrossPS:[-1.917, -3.414, 0.348]\n",
      " 59000 current PSD L2 10327.371114913272, logL2 0.26337318420630906\n",
      " 59000 current PSD L2 10327.371114913272, logL2 0.26337318420630906, total\n",
      "Epoch: [ 0] [7900/10240] Counter:59100\t(10.8 min\t74.920 examples/sec\t0.21 sec/batch)\tL_Disc:-0.03249975\tL_Gen:2.93234944\n",
      "Epoch: [ 0] [8000/10240] Counter:59200\t(10.8 min\t360.778 examples/sec\t0.04 sec/batch)\tL_Disc:-0.01539523\tL_Gen:2.37818050\n",
      "Epoch: [ 0] [8100/10240] Counter:59300\t(10.9 min\t358.344 examples/sec\t0.04 sec/batch)\tL_Disc:0.00449994\tL_Gen:2.23530436\n",
      "Epoch: [ 0] [8200/10240] Counter:59400\t(11.0 min\t360.705 examples/sec\t0.04 sec/batch)\tL_Disc:-0.01123280\tL_Gen:2.31702948\n",
      "Epoch: [ 0] [8300/10240] Counter:59500\t(11.1 min\t358.935 examples/sec\t0.04 sec/batch)\tL_Disc:-0.05873202\tL_Gen:2.62694454\n"
     ]
    },
    {
     "name": "stdout",
     "output_type": "stream",
     "text": [
      " [*] [Fake, Real] Min [0.000, 0.000],\tMedian [1.014,1.256],\tMean [1.168E+01,8.795E+00],\tMax [1.850E+03,1.350E+03],\tVar [1.686E+05,2.574E+04]\n",
      " [*] [Comp, Fake, Real] PeakDistance:[3.103, 1.424, 3.309]\tCrossPS:[-0.195, 4.308, -4.256]\n",
      " 59500 current PSD L2 30168.26735489421, logL2 0.1611288553874236\n",
      " 59500 current PSD L2 30168.26735489421, logL2 0.1611288553874236, total\n",
      "Epoch: [ 0] [8400/10240] Counter:59600\t(11.4 min\t74.407 examples/sec\t0.22 sec/batch)\tL_Disc:-0.02007331\tL_Gen:2.99168730\n",
      "Epoch: [ 0] [8500/10240] Counter:59700\t(11.5 min\t359.918 examples/sec\t0.04 sec/batch)\tL_Disc:-0.03420877\tL_Gen:3.09845543\n",
      "Epoch: [ 0] [8600/10240] Counter:59800\t(11.6 min\t359.794 examples/sec\t0.04 sec/batch)\tL_Disc:-0.04288846\tL_Gen:3.40575409\n",
      "Epoch: [ 0] [8700/10240] Counter:59900\t(11.6 min\t359.480 examples/sec\t0.04 sec/batch)\tL_Disc:-0.02576373\tL_Gen:3.06735563\n",
      "Epoch: [ 0] [8800/10240] Counter:60000\t(11.7 min\t360.872 examples/sec\t0.04 sec/batch)\tL_Disc:-0.02718562\tL_Gen:2.79003763\n",
      " [*] [Fake, Real] Min [0.000, 0.000],\tMedian [1.185,1.240],\tMean [1.046E+01,7.700E+00],\tMax [1.695E+03,1.168E+03],\tVar [1.271E+05,1.512E+04]\n",
      " [*] [Comp, Fake, Real] PeakDistance:[2.607, 1.338, 2.490]\tCrossPS:[-1.984, -4.155, -0.721]\n",
      " [*] New PSD Low achieved 2975.711804 (was 8136.441920)\n",
      " 60000 current PSD L2 2975.7118042668576, logL2 0.1813549851278236\n",
      " 60000 current PSD L2 2975.7118042668576, logL2 0.1813549851278236, total\n",
      "Model saved!\n",
      "Epoch: [ 0] [8900/10240] Counter:60100\t(12.1 min\t65.616 examples/sec\t0.24 sec/batch)\tL_Disc:-0.01102675\tL_Gen:2.67790556\n",
      "Epoch: [ 0] [9000/10240] Counter:60200\t(12.2 min\t360.829 examples/sec\t0.04 sec/batch)\tL_Disc:-0.03604832\tL_Gen:3.25201869\n",
      "Epoch: [ 0] [9100/10240] Counter:60300\t(12.3 min\t360.973 examples/sec\t0.04 sec/batch)\tL_Disc:-0.01294142\tL_Gen:3.37863493\n",
      "Epoch: [ 0] [9200/10240] Counter:60400\t(12.3 min\t361.150 examples/sec\t0.04 sec/batch)\tL_Disc:-0.01727092\tL_Gen:3.72742462\n",
      "Epoch: [ 0] [9300/10240] Counter:60500\t(12.4 min\t359.678 examples/sec\t0.04 sec/batch)\tL_Disc:-0.00962281\tL_Gen:3.94857597\n",
      " [*] [Fake, Real] Min [0.000, 0.000],\tMedian [1.615,1.235],\tMean [1.259E+01,8.296E+00],\tMax [1.942E+03,1.327E+03],\tVar [1.266E+05,2.290E+04]\n",
      " [*] [Comp, Fake, Real] PeakDistance:[2.315, 0.842, 2.544]\tCrossPS:[1.930, 6.443, 2.095]\n",
      " 60500 current PSD L2 4740.102331796274, logL2 0.13731345607772208\n",
      " 60500 current PSD L2 4740.102331796274, logL2 0.13731345607772208, total\n",
      "Epoch: [ 0] [9400/10240] Counter:60600\t(12.8 min\t74.912 examples/sec\t0.21 sec/batch)\tL_Disc:-0.01521123\tL_Gen:4.43233442\n",
      "Epoch: [ 0] [9500/10240] Counter:60700\t(12.9 min\t360.307 examples/sec\t0.04 sec/batch)\tL_Disc:-0.00814178\tL_Gen:4.26499939\n",
      "Epoch: [ 0] [9600/10240] Counter:60800\t(12.9 min\t360.698 examples/sec\t0.04 sec/batch)\tL_Disc:0.00092532\tL_Gen:4.92275333\n",
      "Epoch: [ 0] [9700/10240] Counter:60900\t(13.0 min\t360.746 examples/sec\t0.04 sec/batch)\tL_Disc:-0.07442453\tL_Gen:4.37078953\n",
      "Epoch: [ 0] [9800/10240] Counter:61000\t(13.1 min\t360.952 examples/sec\t0.04 sec/batch)\tL_Disc:0.01152398\tL_Gen:4.53807878\n",
      " [*] [Fake, Real] Min [0.000, 0.000],\tMedian [1.350,1.223],\tMean [1.085E+01,7.798E+00],\tMax [1.611E+03,1.131E+03],\tVar [1.764E+05,1.620E+04]\n",
      " [*] [Comp, Fake, Real] PeakDistance:[3.507, 1.325, 3.143]\tCrossPS:[-0.098, 1.565, 2.813]\n",
      " 61000 current PSD L2 6393.38864401756, logL2 0.09105564143703407\n",
      " 61000 current PSD L2 6393.38864401756, logL2 0.09105564143703407, total\n",
      "Epoch: [ 0] [9900/10240] Counter:61100\t(13.4 min\t74.267 examples/sec\t0.22 sec/batch)\tL_Disc:-0.03508450\tL_Gen:4.33233166\n",
      "Epoch: [ 0] [10000/10240] Counter:61200\t(13.5 min\t359.494 examples/sec\t0.04 sec/batch)\tL_Disc:-0.00069219\tL_Gen:4.46991825\n",
      "Epoch: [ 0] [10100/10240] Counter:61300\t(13.6 min\t359.827 examples/sec\t0.04 sec/batch)\tL_Disc:-0.00536552\tL_Gen:4.47518253\n",
      "Epoch: [ 0] [10200/10240] Counter:61400\t(13.7 min\t361.617 examples/sec\t0.04 sec/batch)\tL_Disc:-0.01585890\tL_Gen:3.98862338\n",
      "Epoch: [ 1] [  60/10240] Counter:61500\t(13.8 min\t145.347 examples/sec\t0.11 sec/batch)\tL_Disc:0.01570803\tL_Gen:4.32537317\n",
      " [*] [Fake, Real] Min [0.000, 0.000],\tMedian [1.273,1.204],\tMean [7.837E+00,8.257E+00],\tMax [1.120E+03,1.338E+03],\tVar [4.900E+04,2.479E+04]\n",
      " [*] [Comp, Fake, Real] PeakDistance:[2.896, 1.550, 3.587]\tCrossPS:[-0.625, 2.039, 2.208]\n",
      " 61500 current PSD L2 57093.61469884841, logL2 1.0374950031874646\n",
      " 61500 current PSD L2 57093.61469884841, logL2 1.0374950031874646, total\n",
      "Epoch: [ 1] [ 160/10240] Counter:61600\t(14.2 min\t73.686 examples/sec\t0.22 sec/batch)\tL_Disc:-0.02640570\tL_Gen:4.22297192\n",
      "Epoch: [ 1] [ 260/10240] Counter:61700\t(14.3 min\t359.366 examples/sec\t0.04 sec/batch)\tL_Disc:-0.04040723\tL_Gen:4.67932129\n",
      "Epoch: [ 1] [ 360/10240] Counter:61800\t(14.3 min\t360.642 examples/sec\t0.04 sec/batch)\tL_Disc:-0.03242644\tL_Gen:4.48208046\n",
      "Epoch: [ 1] [ 460/10240] Counter:61900\t(14.4 min\t360.640 examples/sec\t0.04 sec/batch)\tL_Disc:-0.01783373\tL_Gen:4.47979641\n",
      "Epoch: [ 1] [ 560/10240] Counter:62000\t(14.5 min\t360.610 examples/sec\t0.04 sec/batch)\tL_Disc:-0.00319688\tL_Gen:5.59193230\n",
      " [*] [Fake, Real] Min [0.000, 0.000],\tMedian [0.469,1.230],\tMean [7.203E+00,8.434E+00],\tMax [1.155E+03,1.322E+03],\tVar [4.189E+04,2.725E+04]\n",
      " [*] [Comp, Fake, Real] PeakDistance:[3.393, 1.090, 4.448]\tCrossPS:[0.512, 4.907, -1.618]\n",
      " 62000 current PSD L2 34993.65751922014, logL2 0.21477759467505528\n",
      " 62000 current PSD L2 34993.65751922014, logL2 0.21477759467505528, total\n",
      "Model saved!\n",
      "Epoch: [ 1] [ 660/10240] Counter:62100\t(14.9 min\t65.128 examples/sec\t0.25 sec/batch)\tL_Disc:-0.01874486\tL_Gen:4.92132568\n",
      "Epoch: [ 1] [ 760/10240] Counter:62200\t(15.0 min\t361.315 examples/sec\t0.04 sec/batch)\tL_Disc:0.00513541\tL_Gen:4.43288565\n",
      "Epoch: [ 1] [ 860/10240] Counter:62300\t(15.1 min\t360.690 examples/sec\t0.04 sec/batch)\tL_Disc:-0.00186144\tL_Gen:4.45915842\n",
      "Epoch: [ 1] [ 960/10240] Counter:62400\t(15.1 min\t358.988 examples/sec\t0.04 sec/batch)\tL_Disc:0.01951487\tL_Gen:4.78913975\n",
      "Epoch: [ 1] [1060/10240] Counter:62500\t(15.2 min\t359.138 examples/sec\t0.04 sec/batch)\tL_Disc:0.00032870\tL_Gen:5.02523136\n",
      " [*] [Fake, Real] Min [0.000, 0.000],\tMedian [1.238,1.205],\tMean [7.428E+00,8.140E+00],\tMax [1.180E+03,1.280E+03],\tVar [3.969E+04,3.545E+04]\n",
      " [*] [Comp, Fake, Real] PeakDistance:[2.606, 0.697, 3.322]\tCrossPS:[0.547, -2.697, 1.897]\n",
      " 62500 current PSD L2 20503.980997571245, logL2 0.44250047893553524\n",
      " 62500 current PSD L2 20503.980997571245, logL2 0.44250047893553524, total\n",
      "Epoch: [ 1] [1160/10240] Counter:62600\t(15.6 min\t73.145 examples/sec\t0.22 sec/batch)\tL_Disc:-0.01421153\tL_Gen:4.21305370\n",
      "Epoch: [ 1] [1260/10240] Counter:62700\t(15.6 min\t358.792 examples/sec\t0.04 sec/batch)\tL_Disc:-0.00805535\tL_Gen:4.54159355\n",
      "Epoch: [ 1] [1360/10240] Counter:62800\t(15.7 min\t360.390 examples/sec\t0.04 sec/batch)\tL_Disc:0.02747811\tL_Gen:4.47232437\n",
      "Epoch: [ 1] [1460/10240] Counter:62900\t(15.8 min\t358.937 examples/sec\t0.04 sec/batch)\tL_Disc:-0.04932559\tL_Gen:4.34496450\n",
      "Epoch: [ 1] [1560/10240] Counter:63000\t(15.9 min\t360.942 examples/sec\t0.04 sec/batch)\tL_Disc:0.01320378\tL_Gen:4.12072611\n",
      " [*] [Fake, Real] Min [0.000, 0.000],\tMedian [1.089,1.235],\tMean [8.279E+00,8.018E+00],\tMax [1.539E+03,1.288E+03],\tVar [4.217E+04,2.202E+04]\n",
      " [*] [Comp, Fake, Real] PeakDistance:[2.721, 1.202, 2.817]\tCrossPS:[-1.586, -0.106, -4.867]\n",
      " 63000 current PSD L2 18284.26849110476, logL2 0.22284371345876686\n",
      " 63000 current PSD L2 18284.26849110476, logL2 0.22284371345876686, total\n",
      "Epoch: [ 1] [1660/10240] Counter:63100\t(16.2 min\t71.377 examples/sec\t0.22 sec/batch)\tL_Disc:-0.01390055\tL_Gen:4.57816124\n",
      "Epoch: [ 1] [1760/10240] Counter:63200\t(16.3 min\t361.234 examples/sec\t0.04 sec/batch)\tL_Disc:0.04861075\tL_Gen:5.09635496\n",
      "Epoch: [ 1] [1860/10240] Counter:63300\t(16.4 min\t360.812 examples/sec\t0.04 sec/batch)\tL_Disc:0.00563896\tL_Gen:5.04600716\n",
      "Epoch: [ 1] [1960/10240] Counter:63400\t(16.5 min\t361.414 examples/sec\t0.04 sec/batch)\tL_Disc:0.00440139\tL_Gen:4.67929745\n",
      "Epoch: [ 1] [2060/10240] Counter:63500\t(16.5 min\t361.872 examples/sec\t0.04 sec/batch)\tL_Disc:-0.01630914\tL_Gen:4.74935532\n",
      " [*] [Fake, Real] Min [0.000, 0.000],\tMedian [0.849,1.228],\tMean [7.474E+00,7.875E+00],\tMax [1.539E+03,1.199E+03],\tVar [4.596E+04,1.796E+04]\n",
      " [*] [Comp, Fake, Real] PeakDistance:[2.479, 2.136, 2.455]\tCrossPS:[0.975, 2.850, 2.848]\n",
      " 63500 current PSD L2 54749.04541934314, logL2 0.6559492277948906\n",
      " 63500 current PSD L2 54749.04541934314, logL2 0.6559492277948906, total\n"
     ]
    },
    {
     "name": "stdout",
     "output_type": "stream",
     "text": [
      "Epoch: [ 1] [2160/10240] Counter:63600\t(16.9 min\t72.318 examples/sec\t0.22 sec/batch)\tL_Disc:0.01493431\tL_Gen:4.74220657\n",
      "Epoch: [ 1] [2260/10240] Counter:63700\t(17.0 min\t357.492 examples/sec\t0.04 sec/batch)\tL_Disc:-0.05407747\tL_Gen:4.93134117\n",
      "Epoch: [ 1] [2360/10240] Counter:63800\t(17.1 min\t358.889 examples/sec\t0.04 sec/batch)\tL_Disc:-0.04853363\tL_Gen:5.15164471\n",
      "Epoch: [ 1] [2460/10240] Counter:63900\t(17.1 min\t359.778 examples/sec\t0.04 sec/batch)\tL_Disc:-0.02414680\tL_Gen:5.19170523\n",
      "Epoch: [ 1] [2560/10240] Counter:64000\t(17.2 min\t361.829 examples/sec\t0.04 sec/batch)\tL_Disc:-0.01716247\tL_Gen:5.39348125\n",
      " [*] [Fake, Real] Min [0.000, 0.000],\tMedian [0.545,1.235],\tMean [6.524E+00,7.614E+00],\tMax [1.246E+03,1.151E+03],\tVar [5.859E+04,2.042E+04]\n",
      " [*] [Comp, Fake, Real] PeakDistance:[2.611, 1.646, 3.543]\tCrossPS:[1.485, 1.471, 3.041]\n",
      " 64000 current PSD L2 11427.503725294277, logL2 0.11056124067001026\n",
      " 64000 current PSD L2 11427.503725294277, logL2 0.11056124067001026, total\n",
      "Model saved!\n",
      "Epoch: [ 1] [2660/10240] Counter:64100\t(17.6 min\t65.163 examples/sec\t0.25 sec/batch)\tL_Disc:-0.00285515\tL_Gen:5.49261904\n",
      "Epoch: [ 1] [2760/10240] Counter:64200\t(17.7 min\t360.064 examples/sec\t0.04 sec/batch)\tL_Disc:0.01503768\tL_Gen:5.10875940\n",
      "Epoch: [ 1] [2860/10240] Counter:64300\t(17.8 min\t360.389 examples/sec\t0.04 sec/batch)\tL_Disc:-0.02205983\tL_Gen:5.43499279\n",
      "Epoch: [ 1] [2960/10240] Counter:64400\t(17.8 min\t359.260 examples/sec\t0.04 sec/batch)\tL_Disc:0.01747733\tL_Gen:5.28408718\n",
      "Epoch: [ 1] [3060/10240] Counter:64500\t(17.9 min\t355.858 examples/sec\t0.04 sec/batch)\tL_Disc:-0.02300642\tL_Gen:5.49462652\n",
      " [*] [Fake, Real] Min [0.000, 0.000],\tMedian [0.607,1.230],\tMean [5.436E+00,8.152E+00],\tMax [1.025E+03,1.172E+03],\tVar [3.264E+04,2.256E+04]\n",
      " [*] [Comp, Fake, Real] PeakDistance:[2.555, 2.249, 2.505]\tCrossPS:[3.674, 1.597, -4.689]\n",
      " [*] New Log PSD Low achieved 0.067062 (was 0.067355)\n",
      " 64500 current PSD L2 7246.733370979475, logL2 0.067061863092435\n",
      " 64500 current PSD L2 7246.733370979475, logL2 0.067061863092435, total\n",
      "Model saved!\n",
      "Epoch: [ 1] [3160/10240] Counter:64600\t(18.3 min\t63.848 examples/sec\t0.25 sec/batch)\tL_Disc:-0.00477506\tL_Gen:5.81521797\n",
      "Epoch: [ 1] [3260/10240] Counter:64700\t(18.4 min\t359.003 examples/sec\t0.04 sec/batch)\tL_Disc:-0.01527634\tL_Gen:5.26137686\n",
      "Epoch: [ 1] [3360/10240] Counter:64800\t(18.5 min\t358.858 examples/sec\t0.04 sec/batch)\tL_Disc:-0.02567602\tL_Gen:5.14522076\n",
      "Epoch: [ 1] [3460/10240] Counter:64900\t(18.5 min\t361.198 examples/sec\t0.04 sec/batch)\tL_Disc:-0.00932810\tL_Gen:5.35114288\n",
      "Epoch: [ 1] [3560/10240] Counter:65000\t(18.6 min\t361.855 examples/sec\t0.04 sec/batch)\tL_Disc:-0.00797861\tL_Gen:5.70438099\n",
      " [*] [Fake, Real] Min [0.000, 0.000],\tMedian [1.353,1.238],\tMean [8.117E+00,8.849E+00],\tMax [1.404E+03,1.518E+03],\tVar [4.370E+04,3.921E+04]\n",
      " [*] [Comp, Fake, Real] PeakDistance:[3.023, 1.525, 3.575]\tCrossPS:[-4.611, 6.290, 2.137]\n",
      " [*] New Log PSD Low achieved 0.052820 (was 0.067062)\n",
      " 65000 current PSD L2 14653.84285963629, logL2 0.05281987815651357\n",
      " 65000 current PSD L2 14653.84285963629, logL2 0.05281987815651357, total\n",
      "Model saved!\n",
      "Epoch: [ 1] [3660/10240] Counter:65100\t(19.0 min\t65.251 examples/sec\t0.25 sec/batch)\tL_Disc:0.00089633\tL_Gen:5.40600729\n",
      "Epoch: [ 1] [3760/10240] Counter:65200\t(19.1 min\t359.682 examples/sec\t0.04 sec/batch)\tL_Disc:0.01458175\tL_Gen:5.19988728\n",
      "Epoch: [ 1] [3860/10240] Counter:65300\t(19.2 min\t358.855 examples/sec\t0.04 sec/batch)\tL_Disc:-0.03859604\tL_Gen:5.18420124\n",
      "Epoch: [ 1] [3960/10240] Counter:65400\t(19.2 min\t360.884 examples/sec\t0.04 sec/batch)\tL_Disc:0.00572503\tL_Gen:5.01834679\n",
      "Epoch: [ 1] [4060/10240] Counter:65500\t(19.3 min\t360.732 examples/sec\t0.04 sec/batch)\tL_Disc:0.00156848\tL_Gen:5.61993361\n",
      " [*] [Fake, Real] Min [0.000, 0.000],\tMedian [0.807,1.222],\tMean [1.124E+01,7.330E+00],\tMax [2.091E+03,1.167E+03],\tVar [1.022E+05,1.729E+04]\n",
      " [*] [Comp, Fake, Real] PeakDistance:[3.415, 1.440, 3.735]\tCrossPS:[-0.597, 9.156, -1.899]\n",
      " 65500 current PSD L2 124497.51487767074, logL2 0.7573943568643324\n",
      " 65500 current PSD L2 124497.51487767074, logL2 0.7573943568643324, total\n",
      "Epoch: [ 1] [4160/10240] Counter:65600\t(19.7 min\t72.356 examples/sec\t0.22 sec/batch)\tL_Disc:-0.00852020\tL_Gen:5.39344931\n",
      "Epoch: [ 1] [4260/10240] Counter:65700\t(19.8 min\t360.346 examples/sec\t0.04 sec/batch)\tL_Disc:0.00626598\tL_Gen:5.29276848\n",
      "Epoch: [ 1] [4360/10240] Counter:65800\t(19.8 min\t360.844 examples/sec\t0.04 sec/batch)\tL_Disc:-0.00497228\tL_Gen:5.36526299\n",
      "Epoch: [ 1] [4460/10240] Counter:65900\t(19.9 min\t361.888 examples/sec\t0.04 sec/batch)\tL_Disc:-0.00539025\tL_Gen:5.72280884\n",
      "Epoch: [ 1] [4560/10240] Counter:66000\t(20.0 min\t361.584 examples/sec\t0.04 sec/batch)\tL_Disc:0.00055194\tL_Gen:5.65382767\n",
      " [*] [Fake, Real] Min [0.000, 0.000],\tMedian [0.936,1.244],\tMean [6.751E+00,8.204E+00],\tMax [1.013E+03,1.177E+03],\tVar [4.413E+04,2.009E+04]\n",
      " [*] [Comp, Fake, Real] PeakDistance:[2.796, 1.622, 3.854]\tCrossPS:[1.747, 2.033, 1.325]\n",
      " 66000 current PSD L2 8327.142630914792, logL2 0.16760656774633084\n",
      " 66000 current PSD L2 8327.142630914792, logL2 0.16760656774633084, total\n",
      "Model saved!\n",
      "Epoch: [ 1] [4660/10240] Counter:66100\t(20.4 min\t63.282 examples/sec\t0.25 sec/batch)\tL_Disc:-0.01482304\tL_Gen:5.61985064\n",
      "Epoch: [ 1] [4760/10240] Counter:66200\t(20.5 min\t358.161 examples/sec\t0.04 sec/batch)\tL_Disc:-0.01766647\tL_Gen:5.58444309\n",
      "Epoch: [ 1] [4860/10240] Counter:66300\t(20.6 min\t358.543 examples/sec\t0.04 sec/batch)\tL_Disc:-0.03023005\tL_Gen:5.46335554\n",
      "Epoch: [ 1] [4960/10240] Counter:66400\t(20.6 min\t359.398 examples/sec\t0.04 sec/batch)\tL_Disc:-0.04521347\tL_Gen:5.18349648\n",
      "Epoch: [ 1] [5060/10240] Counter:66500\t(20.7 min\t360.200 examples/sec\t0.04 sec/batch)\tL_Disc:0.00769786\tL_Gen:5.38354588\n",
      " [*] [Fake, Real] Min [0.000, 0.000],\tMedian [1.269,1.213],\tMean [6.012E+00,7.950E+00],\tMax [8.475E+02,1.275E+03],\tVar [1.564E+04,1.867E+04]\n",
      " [*] [Comp, Fake, Real] PeakDistance:[2.479, 1.387, 3.001]\tCrossPS:[-1.925, -1.568, 2.296]\n",
      " 66500 current PSD L2 123378.47213860857, logL2 2.21658636308748\n",
      " 66500 current PSD L2 123378.47213860857, logL2 2.21658636308748, total\n",
      "Epoch: [ 1] [5160/10240] Counter:66600\t(21.1 min\t70.770 examples/sec\t0.23 sec/batch)\tL_Disc:0.01401314\tL_Gen:5.48600483\n",
      "Epoch: [ 1] [5260/10240] Counter:66700\t(21.2 min\t359.666 examples/sec\t0.04 sec/batch)\tL_Disc:-0.03576563\tL_Gen:5.58497238\n",
      "Epoch: [ 1] [5360/10240] Counter:66800\t(21.2 min\t359.117 examples/sec\t0.04 sec/batch)\tL_Disc:0.01130406\tL_Gen:5.19822502\n",
      "Epoch: [ 1] [5460/10240] Counter:66900\t(21.3 min\t358.244 examples/sec\t0.04 sec/batch)\tL_Disc:-0.00950092\tL_Gen:5.33002043\n",
      "Epoch: [ 1] [5560/10240] Counter:67000\t(21.4 min\t360.688 examples/sec\t0.04 sec/batch)\tL_Disc:-0.00039744\tL_Gen:5.58353519\n",
      " [*] [Fake, Real] Min [0.000, 0.000],\tMedian [0.938,1.203],\tMean [5.519E+00,7.020E+00],\tMax [8.326E+02,1.014E+03],\tVar [1.526E+04,1.046E+04]\n",
      " [*] [Comp, Fake, Real] PeakDistance:[3.656, 1.405, 5.294]\tCrossPS:[-3.387, 3.940, 5.324]\n",
      " 67000 current PSD L2 37374.78772958649, logL2 0.8390375160717168\n",
      " 67000 current PSD L2 37374.78772958649, logL2 0.8390375160717168, total\n",
      "Epoch: [ 1] [5660/10240] Counter:67100\t(21.8 min\t71.812 examples/sec\t0.22 sec/batch)\tL_Disc:0.01644092\tL_Gen:5.52703190\n",
      "Epoch: [ 1] [5760/10240] Counter:67200\t(21.8 min\t358.461 examples/sec\t0.04 sec/batch)\tL_Disc:-0.03078001\tL_Gen:5.81538486\n",
      "Epoch: [ 1] [5860/10240] Counter:67300\t(21.9 min\t362.043 examples/sec\t0.04 sec/batch)\tL_Disc:0.01638763\tL_Gen:5.72702599\n",
      "Epoch: [ 1] [5960/10240] Counter:67400\t(22.0 min\t359.933 examples/sec\t0.04 sec/batch)\tL_Disc:-0.02692692\tL_Gen:6.04097271\n",
      "Epoch: [ 1] [6060/10240] Counter:67500\t(22.0 min\t359.660 examples/sec\t0.04 sec/batch)\tL_Disc:-0.05131424\tL_Gen:5.76845264\n",
      " [*] [Fake, Real] Min [0.000, 0.000],\tMedian [1.123,1.213],\tMean [8.203E+00,7.602E+00],\tMax [1.234E+03,1.202E+03],\tVar [5.764E+04,1.575E+04]\n",
      " [*] [Comp, Fake, Real] PeakDistance:[2.808, 1.332, 2.933]\tCrossPS:[-0.896, -0.656, -1.964]\n",
      " 67500 current PSD L2 14281.062009962887, logL2 0.17726874349653268\n",
      " 67500 current PSD L2 14281.062009962887, logL2 0.17726874349653268, total\n",
      "Epoch: [ 1] [6160/10240] Counter:67600\t(22.4 min\t71.483 examples/sec\t0.22 sec/batch)\tL_Disc:-0.00049797\tL_Gen:5.88048267\n",
      "Epoch: [ 1] [6260/10240] Counter:67700\t(22.5 min\t359.547 examples/sec\t0.04 sec/batch)\tL_Disc:0.00405587\tL_Gen:5.88101101\n"
     ]
    },
    {
     "name": "stdout",
     "output_type": "stream",
     "text": [
      "Epoch: [ 1] [6360/10240] Counter:67800\t(22.6 min\t360.543 examples/sec\t0.04 sec/batch)\tL_Disc:-0.01234646\tL_Gen:5.93049526\n",
      "Epoch: [ 1] [6460/10240] Counter:67900\t(22.6 min\t361.016 examples/sec\t0.04 sec/batch)\tL_Disc:0.05141077\tL_Gen:5.53286791\n",
      "Epoch: [ 1] [6560/10240] Counter:68000\t(22.7 min\t359.465 examples/sec\t0.04 sec/batch)\tL_Disc:0.00618791\tL_Gen:5.88945341\n",
      " [*] [Fake, Real] Min [0.000, 0.000],\tMedian [1.547,1.230],\tMean [7.865E+00,8.534E+00],\tMax [1.156E+03,1.443E+03],\tVar [2.274E+04,3.766E+04]\n",
      " [*] [Comp, Fake, Real] PeakDistance:[2.803, 0.918, 2.379]\tCrossPS:[3.991, -4.251, -1.930]\n",
      " 68000 current PSD L2 34171.69209352292, logL2 0.5570532537646405\n",
      " 68000 current PSD L2 34171.69209352292, logL2 0.5570532537646405, total\n",
      "Model saved!\n",
      "Epoch: [ 1] [6660/10240] Counter:68100\t(23.1 min\t63.782 examples/sec\t0.25 sec/batch)\tL_Disc:-0.00416325\tL_Gen:5.75538254\n",
      "Epoch: [ 1] [6760/10240] Counter:68200\t(23.2 min\t360.873 examples/sec\t0.04 sec/batch)\tL_Disc:-0.03207213\tL_Gen:5.85194159\n",
      "Epoch: [ 1] [6860/10240] Counter:68300\t(23.3 min\t361.727 examples/sec\t0.04 sec/batch)\tL_Disc:-0.00856416\tL_Gen:5.67694521\n",
      "Epoch: [ 1] [6960/10240] Counter:68400\t(23.4 min\t359.975 examples/sec\t0.04 sec/batch)\tL_Disc:-0.00982045\tL_Gen:5.83335161\n",
      "Epoch: [ 1] [7060/10240] Counter:68500\t(23.4 min\t361.077 examples/sec\t0.04 sec/batch)\tL_Disc:0.00501380\tL_Gen:5.50963402\n",
      " [*] [Fake, Real] Min [0.000, 0.000],\tMedian [2.317,1.195],\tMean [1.065E+01,7.532E+00],\tMax [1.594E+03,1.136E+03],\tVar [5.254E+04,1.551E+04]\n",
      " [*] [Comp, Fake, Real] PeakDistance:[3.508, 1.523, 2.371]\tCrossPS:[3.556, 3.427, 1.156]\n",
      " 68500 current PSD L2 54641.28793363553, logL2 0.5433398588397325\n",
      " 68500 current PSD L2 54641.28793363553, logL2 0.5433398588397325, total\n",
      "Epoch: [ 1] [7160/10240] Counter:68600\t(23.8 min\t71.303 examples/sec\t0.22 sec/batch)\tL_Disc:0.00653492\tL_Gen:5.67867279\n",
      "Epoch: [ 1] [7260/10240] Counter:68700\t(23.9 min\t362.137 examples/sec\t0.04 sec/batch)\tL_Disc:-0.00691490\tL_Gen:5.91362095\n",
      "Epoch: [ 1] [7360/10240] Counter:68800\t(24.0 min\t361.932 examples/sec\t0.04 sec/batch)\tL_Disc:-0.01280705\tL_Gen:5.93509817\n",
      "Epoch: [ 1] [7460/10240] Counter:68900\t(24.0 min\t361.188 examples/sec\t0.04 sec/batch)\tL_Disc:-0.04504178\tL_Gen:5.82906818\n",
      "Epoch: [ 1] [7560/10240] Counter:69000\t(24.1 min\t360.129 examples/sec\t0.04 sec/batch)\tL_Disc:0.00728392\tL_Gen:5.99110985\n",
      " [*] [Fake, Real] Min [0.000, 0.000],\tMedian [0.965,1.216],\tMean [7.984E+00,7.911E+00],\tMax [1.284E+03,1.179E+03],\tVar [3.024E+04,2.042E+04]\n",
      " [*] [Comp, Fake, Real] PeakDistance:[2.708, 1.781, 2.615]\tCrossPS:[-1.927, 1.759, -3.157]\n",
      " 69000 current PSD L2 12163.789789962799, logL2 0.07176998682744189\n",
      " 69000 current PSD L2 12163.789789962799, logL2 0.07176998682744189, total\n",
      "Epoch: [ 1] [7660/10240] Counter:69100\t(24.5 min\t70.249 examples/sec\t0.23 sec/batch)\tL_Disc:-0.02768261\tL_Gen:6.09487534\n",
      "Epoch: [ 1] [7760/10240] Counter:69200\t(24.6 min\t360.612 examples/sec\t0.04 sec/batch)\tL_Disc:0.01622888\tL_Gen:5.65814304\n",
      "Epoch: [ 1] [7860/10240] Counter:69300\t(24.6 min\t358.996 examples/sec\t0.04 sec/batch)\tL_Disc:-0.06619274\tL_Gen:5.68719101\n",
      "Epoch: [ 1] [7960/10240] Counter:69400\t(24.7 min\t360.293 examples/sec\t0.04 sec/batch)\tL_Disc:-0.00760950\tL_Gen:5.65043545\n",
      "Epoch: [ 1] [8060/10240] Counter:69500\t(24.8 min\t358.825 examples/sec\t0.04 sec/batch)\tL_Disc:-0.02146718\tL_Gen:5.08222961\n",
      " [*] [Fake, Real] Min [0.000, 0.000],\tMedian [0.828,1.252],\tMean [6.712E+00,8.408E+00],\tMax [1.190E+03,1.315E+03],\tVar [3.412E+04,2.978E+04]\n",
      " [*] [Comp, Fake, Real] PeakDistance:[2.574, 1.279, 3.628]\tCrossPS:[-1.860, 3.887, -5.249]\n",
      " [*] New PSD Low achieved 1100.478184 (was 2975.711804)\n",
      " 69500 current PSD L2 1100.478184435957, logL2 0.06849837748541036\n",
      " 69500 current PSD L2 1100.478184435957, logL2 0.06849837748541036, total\n",
      "Model saved!\n",
      "Epoch: [ 1] [8160/10240] Counter:69600\t(25.2 min\t62.749 examples/sec\t0.25 sec/batch)\tL_Disc:0.00605942\tL_Gen:5.24511814\n",
      "Epoch: [ 1] [8260/10240] Counter:69700\t(25.3 min\t360.462 examples/sec\t0.04 sec/batch)\tL_Disc:-0.03580603\tL_Gen:5.29389191\n",
      "Epoch: [ 1] [8360/10240] Counter:69800\t(25.3 min\t359.643 examples/sec\t0.04 sec/batch)\tL_Disc:-0.02478230\tL_Gen:4.91184425\n",
      "Epoch: [ 1] [8460/10240] Counter:69900\t(25.4 min\t360.477 examples/sec\t0.04 sec/batch)\tL_Disc:-0.01380170\tL_Gen:5.03816891\n",
      "Epoch: [ 1] [8560/10240] Counter:70000\t(25.5 min\t360.011 examples/sec\t0.04 sec/batch)\tL_Disc:-0.02252427\tL_Gen:4.28824806\n",
      " [*] [Fake, Real] Min [0.000, 0.000],\tMedian [0.461,1.226],\tMean [1.083E+01,7.743E+00],\tMax [1.846E+03,1.185E+03],\tVar [7.833E+04,1.425E+04]\n",
      " [*] [Comp, Fake, Real] PeakDistance:[4.361, 1.382, 5.353]\tCrossPS:[4.106, 7.701, 2.096]\n",
      " 70000 current PSD L2 203350.50175078085, logL2 0.7820238963261354\n",
      " 70000 current PSD L2 203350.50175078085, logL2 0.7820238963261354, total\n",
      "Model saved!\n",
      "Epoch: [ 1] [8660/10240] Counter:70100\t(25.9 min\t63.667 examples/sec\t0.25 sec/batch)\tL_Disc:-0.02541896\tL_Gen:4.81226778\n",
      "Epoch: [ 1] [8760/10240] Counter:70200\t(26.0 min\t360.751 examples/sec\t0.04 sec/batch)\tL_Disc:-0.01279108\tL_Gen:4.33142185\n",
      "Epoch: [ 1] [8860/10240] Counter:70300\t(26.1 min\t360.846 examples/sec\t0.04 sec/batch)\tL_Disc:-0.03931653\tL_Gen:3.75985646\n",
      "Epoch: [ 1] [8960/10240] Counter:70400\t(26.1 min\t359.366 examples/sec\t0.04 sec/batch)\tL_Disc:-0.01174969\tL_Gen:3.68267870\n",
      "Epoch: [ 1] [9060/10240] Counter:70500\t(26.2 min\t360.007 examples/sec\t0.04 sec/batch)\tL_Disc:0.01962626\tL_Gen:4.05555344\n",
      " [*] [Fake, Real] Min [0.000, 0.000],\tMedian [1.430,1.217],\tMean [1.173E+01,7.818E+00],\tMax [2.089E+03,1.164E+03],\tVar [9.196E+04,1.941E+04]\n",
      " [*] [Comp, Fake, Real] PeakDistance:[3.949, 1.321, 3.107]\tCrossPS:[2.864, -4.457, 0.221]\n",
      " 70500 current PSD L2 20768.22818179514, logL2 0.27361825721044447\n",
      " 70500 current PSD L2 20768.22818179514, logL2 0.27361825721044447, total\n",
      "Epoch: [ 1] [9160/10240] Counter:70600\t(26.6 min\t69.752 examples/sec\t0.23 sec/batch)\tL_Disc:-0.02419661\tL_Gen:4.50122356\n",
      "Epoch: [ 1] [9260/10240] Counter:70700\t(26.7 min\t361.791 examples/sec\t0.04 sec/batch)\tL_Disc:0.01159936\tL_Gen:4.89059448\n",
      "Epoch: [ 1] [9360/10240] Counter:70800\t(26.7 min\t359.462 examples/sec\t0.04 sec/batch)\tL_Disc:-0.00562519\tL_Gen:4.67823505\n",
      "Epoch: [ 1] [9460/10240] Counter:70900\t(26.8 min\t358.881 examples/sec\t0.04 sec/batch)\tL_Disc:-0.00350922\tL_Gen:4.74484921\n",
      "Epoch: [ 1] [9560/10240] Counter:71000\t(26.9 min\t359.049 examples/sec\t0.04 sec/batch)\tL_Disc:-0.01668104\tL_Gen:4.93208885\n",
      " [*] [Fake, Real] Min [0.000, 0.000],\tMedian [1.165,1.210],\tMean [8.152E+00,7.613E+00],\tMax [1.421E+03,1.156E+03],\tVar [5.434E+04,1.321E+04]\n",
      " [*] [Comp, Fake, Real] PeakDistance:[2.456, 1.799, 2.755]\tCrossPS:[-0.972, -0.772, -2.044]\n",
      " [*] New PSD Low achieved 728.171546 (was 1100.478184)\n",
      " [*] New Log PSD Low achieved 0.010680 (was 0.052820)\n",
      " 71000 current PSD L2 728.1715462273054, logL2 0.010680358904230722\n",
      " 71000 current PSD L2 728.1715462273054, logL2 0.010680358904230722, total\n",
      "Model saved!\n",
      "Epoch: [ 1] [9660/10240] Counter:71100\t(27.3 min\t61.009 examples/sec\t0.26 sec/batch)\tL_Disc:-0.01271006\tL_Gen:5.54135752\n",
      "Epoch: [ 1] [9760/10240] Counter:71200\t(27.4 min\t360.836 examples/sec\t0.04 sec/batch)\tL_Disc:-0.00288913\tL_Gen:5.66994572\n",
      "Epoch: [ 1] [9860/10240] Counter:71300\t(27.5 min\t358.651 examples/sec\t0.04 sec/batch)\tL_Disc:-0.02262881\tL_Gen:5.32024765\n",
      "Epoch: [ 1] [9960/10240] Counter:71400\t(27.5 min\t359.619 examples/sec\t0.04 sec/batch)\tL_Disc:-0.04502926\tL_Gen:5.03284121\n",
      "Epoch: [ 1] [10060/10240] Counter:71500\t(27.6 min\t361.676 examples/sec\t0.04 sec/batch)\tL_Disc:0.01333256\tL_Gen:5.92028666\n",
      " [*] [Fake, Real] Min [0.000, 0.000],\tMedian [0.804,1.193],\tMean [6.662E+00,7.716E+00],\tMax [1.017E+03,1.155E+03],\tVar [5.795E+04,2.572E+04]\n",
      " [*] [Comp, Fake, Real] PeakDistance:[2.044, 1.584, 2.408]\tCrossPS:[-3.317, 2.636, -0.747]\n",
      " 71500 current PSD L2 4998.687317350285, logL2 0.11878333528919602\n",
      " 71500 current PSD L2 4998.687317350285, logL2 0.11878333528919602, total\n",
      "Epoch: [ 1] [10160/10240] Counter:71600\t(28.0 min\t70.162 examples/sec\t0.23 sec/batch)\tL_Disc:-0.00052214\tL_Gen:5.64842844\n",
      "Epoch: [ 2] [  20/10240] Counter:71700\t(28.1 min\t215.536 examples/sec\t0.07 sec/batch)\tL_Disc:0.00921893\tL_Gen:5.26624203\n",
      "Epoch: [ 2] [ 120/10240] Counter:71800\t(28.2 min\t361.665 examples/sec\t0.04 sec/batch)\tL_Disc:-0.03779387\tL_Gen:5.88967991\n",
      "Epoch: [ 2] [ 220/10240] Counter:71900\t(28.3 min\t360.545 examples/sec\t0.04 sec/batch)\tL_Disc:0.00722339\tL_Gen:5.51161718\n"
     ]
    },
    {
     "name": "stdout",
     "output_type": "stream",
     "text": [
      "Epoch: [ 2] [ 320/10240] Counter:72000\t(28.3 min\t360.123 examples/sec\t0.04 sec/batch)\tL_Disc:0.00050826\tL_Gen:5.36977005\n",
      " [*] [Fake, Real] Min [0.000, 0.000],\tMedian [1.700,1.254],\tMean [7.865E+00,7.772E+00],\tMax [1.231E+03,1.179E+03],\tVar [3.438E+04,1.916E+04]\n",
      " [*] [Comp, Fake, Real] PeakDistance:[3.451, 1.309, 3.456]\tCrossPS:[2.392, -0.858, -0.881]\n",
      " 72000 current PSD L2 96167.75270821131, logL2 1.6881802311376455\n",
      " 72000 current PSD L2 96167.75270821131, logL2 1.6881802311376455, total\n",
      "Model saved!\n",
      "Epoch: [ 2] [ 420/10240] Counter:72100\t(28.8 min\t62.592 examples/sec\t0.26 sec/batch)\tL_Disc:0.01476043\tL_Gen:5.55515909\n",
      "Epoch: [ 2] [ 520/10240] Counter:72200\t(28.8 min\t358.294 examples/sec\t0.04 sec/batch)\tL_Disc:-0.04902137\tL_Gen:5.73134708\n"
     ]
    }
   ],
   "source": [
    "wgan.train(dataset, resume=resume)"
   ]
  },
  {
   "cell_type": "code",
   "execution_count": null,
   "metadata": {},
   "outputs": [],
   "source": [
    "gen_sample, gen_sample_raw = wgan.generate(N=2000)\n",
    "gen_sample = np.squeeze(gen_sample)\n",
    "gen_sample_raw = np.squeeze(gen_sample_raw)"
   ]
  },
  {
   "cell_type": "code",
   "execution_count": null,
   "metadata": {},
   "outputs": [],
   "source": [
    "plt.figure(figsize=(15,15))\n",
    "plots.draw_images(gen_sample,nx=4,ny=4)"
   ]
  },
  {
   "cell_type": "code",
   "execution_count": null,
   "metadata": {},
   "outputs": [],
   "source": [
    "raw_images = backward(dataset.get_samples(dataset.N))"
   ]
  },
  {
   "cell_type": "code",
   "execution_count": null,
   "metadata": {},
   "outputs": [],
   "source": [
    "logel2, l2, logel1, l1 = evaluation.compute_and_plot_psd(raw_images, gen_sample_raw)"
   ]
  },
  {
   "cell_type": "code",
   "execution_count": null,
   "metadata": {},
   "outputs": [],
   "source": [
    "logel2, l2, logel1, l1 = evaluation.compute_and_plot_peak_cout(raw_images, gen_sample_raw)"
   ]
  },
  {
   "cell_type": "code",
   "execution_count": null,
   "metadata": {},
   "outputs": [],
   "source": [
    "logel2, l2, logel1, l1 = evaluation.compute_and_plot_mass_hist(raw_images, gen_sample_raw)"
   ]
  },
  {
   "cell_type": "code",
   "execution_count": null,
   "metadata": {},
   "outputs": [],
   "source": []
  }
 ],
 "metadata": {
  "kernelspec": {
   "display_name": "Python 3",
   "language": "python",
   "name": "python3"
  },
  "language_info": {
   "codemirror_mode": {
    "name": "ipython",
    "version": 3
   },
   "file_extension": ".py",
   "mimetype": "text/x-python",
   "name": "python",
   "nbconvert_exporter": "python",
   "pygments_lexer": "ipython3",
   "version": "3.6.1"
  }
 },
 "nbformat": 4,
 "nbformat_minor": 2
}
