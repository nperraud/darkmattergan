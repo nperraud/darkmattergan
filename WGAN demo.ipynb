{
 "cells": [
  {
   "cell_type": "code",
   "execution_count": 1,
   "metadata": {},
   "outputs": [],
   "source": [
    "%load_ext autoreload\n",
    "%autoreload 2\n",
    "%matplotlib inline"
   ]
  },
  {
   "cell_type": "code",
   "execution_count": null,
   "metadata": {},
   "outputs": [],
   "source": [
    "# import sys\n",
    "# sys.path.insert(0, '../')\n",
    "\n",
    "import numpy as np\n",
    "import tensorflow as tf\n",
    "import data\n",
    "import utils\n",
    "import plot as plots\n",
    "import evaluation\n",
    "from model import WGanModel\n",
    "from gan import CosmoGAN\n",
    "from data import fmap\n",
    "import functools\n",
    "import os\n",
    "import matplotlib.pyplot as plt\n",
    "# os.environ[\"CUDA_VISIBLE_DEVICES\"]=\"0\"\n"
   ]
  },
  {
   "cell_type": "markdown",
   "metadata": {},
   "source": [
    "# Parameters"
   ]
  },
  {
   "cell_type": "code",
   "execution_count": 3,
   "metadata": {},
   "outputs": [],
   "source": [
    "ns = 32\n",
    "try_resume = False\n",
    "Mpch = 350\n",
    "shift = 3\n",
    "c = 40000\n",
    "res = 256\n",
    "forward = functools.partial(fmap.stat_forward, shift=shift, c=c)\n",
    "backward = functools.partial(fmap.stat_backward, shift=shift, c=c)\n",
    "def non_lin(x):\n",
    "    return tf.nn.relu(x)"
   ]
  },
  {
   "cell_type": "markdown",
   "metadata": {},
   "source": [
    "# Data handling"
   ]
  },
  {
   "cell_type": "markdown",
   "metadata": {},
   "source": [
    "Load the data"
   ]
  },
  {
   "cell_type": "code",
   "execution_count": 4,
   "metadata": {},
   "outputs": [],
   "source": [
    "dataset = data.load.load_dataset(spix=ns, resolution=res,Mpch=Mpch, forward_map=forward)"
   ]
  },
  {
   "cell_type": "code",
   "execution_count": null,
   "metadata": {},
   "outputs": [],
   "source": [
    "X = dataset.get_all_data().flatten()"
   ]
  },
  {
   "cell_type": "code",
   "execution_count": null,
   "metadata": {},
   "outputs": [],
   "source": [
    "assert(np.sum(np.abs(forward(backward(X))-X))< 5)\n",
    "# # For debugging\n",
    "# np.sum(np.abs(forward(backward(X))-X))\n",
    "# forward(backward(X))-X\n",
    "# x = np.arange(1e4)\n",
    "# plt.plot(x, backward(forward(x))-x)"
   ]
  },
  {
   "cell_type": "code",
   "execution_count": null,
   "metadata": {},
   "outputs": [],
   "source": [
    "plt.hist(X, 100)\n",
    "print('min: {}'.format(np.min(X)))\n",
    "print('max: {}'.format(np.max(X)))\n",
    "plt.yscale('log')"
   ]
  },
  {
   "cell_type": "markdown",
   "metadata": {},
   "source": [
    "Let us plot 16 images"
   ]
  },
  {
   "cell_type": "code",
   "execution_count": null,
   "metadata": {},
   "outputs": [],
   "source": [
    "del X"
   ]
  },
  {
   "cell_type": "code",
   "execution_count": null,
   "metadata": {},
   "outputs": [],
   "source": [
    "plt.figure(figsize=(15,15))\n",
    "plots.draw_images(dataset.get_samples(N=16),nx=4,ny=4)"
   ]
  },
  {
   "cell_type": "markdown",
   "metadata": {},
   "source": [
    "# A) The WGAN"
   ]
  },
  {
   "cell_type": "code",
   "execution_count": null,
   "metadata": {},
   "outputs": [],
   "source": [
    "time_str = 'stat_c_{}_shift_{}_laplacian_Mpch_{}_res_{}'.format(c, shift, Mpch, res)\n",
    "global_path = '/scratch/snx3000/nperraud/saved_result/'\n",
    "\n",
    "name = 'WGAN{}'.format(ns)"
   ]
  },
  {
   "cell_type": "markdown",
   "metadata": {},
   "source": [
    "## Parameters"
   ]
  },
  {
   "cell_type": "code",
   "execution_count": null,
   "metadata": {},
   "outputs": [],
   "source": [
    "bn = False\n",
    "\n",
    "params_discriminator = dict()\n",
    "params_discriminator['stride'] = [2, 2, 2, 1]\n",
    "params_discriminator['nfilter'] = [16, 64, 256, 32]\n",
    "params_discriminator['shape'] = [[5, 5],[5, 5], [5, 5], [3, 3]]\n",
    "params_discriminator['batch_norm'] = [bn, bn, bn, bn]\n",
    "params_discriminator['full'] = [32]\n",
    "params_discriminator['minibatch_reg'] = False\n",
    "params_discriminator['summary'] = True\n",
    "\n",
    "params_generator = dict()\n",
    "params_generator['stride'] = [1, 1, 2, 1, 1]\n",
    "params_generator['latent_dim'] = 16*16*32\n",
    "params_generator['nfilter'] = [32, 64, 256, 32, 1]\n",
    "params_generator['shape'] = [[5, 5], [5, 5],[5, 5], [5, 5], [5, 5]]\n",
    "params_generator['batch_norm'] = [bn, bn, bn, bn]\n",
    "params_generator['full'] = []\n",
    "params_generator['summary'] = True\n",
    "params_generator['non_lin'] = non_lin\n",
    "\n",
    "params_optimization = dict()\n",
    "params_optimization['gamma_gp'] = 10\n",
    "params_optimization['batch_size'] = 16\n",
    "params_optimization['gen_optimizer'] = 'adam' # rmsprop / adam / sgd\n",
    "params_optimization['disc_optimizer'] = 'adam' # rmsprop / adam /sgd\n",
    "params_optimization['disc_learning_rate'] = 1e-5\n",
    "params_optimization['gen_learning_rate'] = 1e-5\n",
    "params_optimization['beta1'] = 0.5\n",
    "params_optimization['beta2'] = 0.99\n",
    "params_optimization['epsilon'] = 1e-8\n",
    "params_optimization['epoch'] = 5\n",
    "\n",
    "\n",
    "params_cosmology = dict()\n",
    "params_cosmology['forward_map'] = forward\n",
    "params_cosmology['backward_map'] = backward\n",
    "params_cosmology['Nstats'] = 5000\n",
    "\n",
    "\n",
    "params = dict()\n",
    "params['generator'] = params_generator\n",
    "params['discriminator'] = params_discriminator\n",
    "params['optimization'] = params_optimization\n",
    "params['cosmology'] = params_cosmology\n",
    "\n",
    "params['normalize'] = False\n",
    "params['image_size'] = [ns, ns]\n",
    "params['prior_distribution'] = 'laplacian'\n",
    "params['sum_every'] = 500\n",
    "params['viz_every'] = 500\n",
    "params['print_every'] = 100\n",
    "params['save_every'] = 2000\n",
    "params['name'] = name\n",
    "params['summary_dir'] = os.path.join(global_path, params['name'] + '_' + time_str +'_summary/')\n",
    "params['save_dir'] = os.path.join(global_path,params['name'] + '_' + time_str + '_checkpoints/')\n",
    "\n"
   ]
  },
  {
   "cell_type": "code",
   "execution_count": null,
   "metadata": {},
   "outputs": [],
   "source": [
    "resume, params = utils.test_resume(try_resume, params)\n",
    "# params['optimization']['disc_learning_rate'] = 3e-6\n",
    "# params['optimization']['gen_learning_rate'] = 3e-6\n",
    "# params['optimization']['epoch'] = 10\n"
   ]
  },
  {
   "cell_type": "markdown",
   "metadata": {},
   "source": [
    "## Build the model"
   ]
  },
  {
   "cell_type": "code",
   "execution_count": null,
   "metadata": {},
   "outputs": [],
   "source": [
    "wgan = CosmoGAN(params, WGanModel)"
   ]
  },
  {
   "cell_type": "markdown",
   "metadata": {},
   "source": [
    "## Train the model\n",
    "Note that the input is the processed data... Maybe, we should change that"
   ]
  },
  {
   "cell_type": "code",
   "execution_count": null,
   "metadata": {},
   "outputs": [],
   "source": [
    "wgan.train(dataset, resume=resume)"
   ]
  },
  {
   "cell_type": "code",
   "execution_count": null,
   "metadata": {},
   "outputs": [],
   "source": [
    "gen_sample, gen_sample_raw = wgan.generate(N=5000, checkpoint=70000)\n",
    "gen_sample = np.squeeze(gen_sample)\n",
    "gen_sample_raw = np.squeeze(gen_sample_raw)"
   ]
  },
  {
   "cell_type": "code",
   "execution_count": null,
   "metadata": {},
   "outputs": [],
   "source": [
    "plt.figure(figsize=(15,15))\n",
    "plots.draw_images(gen_sample,nx=4,ny=4)"
   ]
  },
  {
   "cell_type": "code",
   "execution_count": null,
   "metadata": {},
   "outputs": [],
   "source": [
    "raw_images = backward(dataset.get_samples(dataset.N))"
   ]
  },
  {
   "cell_type": "code",
   "execution_count": null,
   "metadata": {},
   "outputs": [],
   "source": [
    "logel2, l2, logel1, l1 = evaluation.compute_and_plot_psd(raw_images, gen_sample_raw)"
   ]
  },
  {
   "cell_type": "code",
   "execution_count": null,
   "metadata": {},
   "outputs": [],
   "source": [
    "logel2, l2, logel1, l1 = evaluation.compute_and_plot_peak_cout(raw_images, gen_sample_raw)"
   ]
  },
  {
   "cell_type": "code",
   "execution_count": null,
   "metadata": {},
   "outputs": [],
   "source": [
    "logel2, l2, logel1, l1 = evaluation.compute_and_plot_mass_hist(raw_images, gen_sample_raw)"
   ]
  },
  {
   "cell_type": "code",
   "execution_count": null,
   "metadata": {},
   "outputs": [],
   "source": []
  },
  {
   "cell_type": "code",
   "execution_count": null,
   "metadata": {},
   "outputs": [],
   "source": []
  },
  {
   "cell_type": "code",
   "execution_count": null,
   "metadata": {},
   "outputs": [],
   "source": []
  }
 ],
 "metadata": {
  "kernelspec": {
   "display_name": "Python 3",
   "language": "python",
   "name": "python3"
  },
  "language_info": {
   "codemirror_mode": {
    "name": "ipython",
    "version": 3
   },
   "file_extension": ".py",
   "mimetype": "text/x-python",
   "name": "python",
   "nbconvert_exporter": "python",
   "pygments_lexer": "ipython3",
   "version": "3.5.2"
  }
 },
 "nbformat": 4,
 "nbformat_minor": 2
}
