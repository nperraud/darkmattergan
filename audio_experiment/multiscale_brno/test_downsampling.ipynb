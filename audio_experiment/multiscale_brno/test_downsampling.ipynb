{
 "cells": [
  {
   "cell_type": "code",
   "execution_count": null,
   "metadata": {},
   "outputs": [],
   "source": [
    "%load_ext autoreload\n",
    "%autoreload 2\n",
    "%matplotlib inline"
   ]
  },
  {
   "cell_type": "code",
   "execution_count": null,
   "metadata": {},
   "outputs": [],
   "source": [
    "import numpy as np\n",
    "from gantools import plot\n",
    "from gantools.data import load\n",
    "from scipy.signal import firwin\n",
    "import matplotlib.pyplot as plt\n",
    "from gantools.blocks import downsample"
   ]
  },
  {
   "cell_type": "code",
   "execution_count": null,
   "metadata": {},
   "outputs": [],
   "source": [
    "dataset = load.load_nsynth_dataset(shuffle=False)"
   ]
  },
  {
   "cell_type": "code",
   "execution_count": null,
   "metadata": {},
   "outputs": [],
   "source": [
    "samples = dataset.get_samples(N=16)"
   ]
  },
  {
   "cell_type": "code",
   "execution_count": null,
   "metadata": {},
   "outputs": [],
   "source": [
    "sample0 = samples[10][256:512]"
   ]
  },
  {
   "cell_type": "code",
   "execution_count": null,
   "metadata": {},
   "outputs": [],
   "source": [
    "sample0.shape"
   ]
  },
  {
   "cell_type": "code",
   "execution_count": null,
   "metadata": {},
   "outputs": [],
   "source": [
    "Nwin=32\n",
    "win = firwin(numtaps=Nwin, cutoff=1/3,)"
   ]
  },
  {
   "cell_type": "code",
   "execution_count": null,
   "metadata": {},
   "outputs": [],
   "source": [
    "#Creates two subplots and unpacks the output array immediately\n",
    "f, (ax1, ax2) = plt.subplots(1, 2)\n",
    "ax1.plot(win)\n",
    "ax2.plot(np.arange(Nwin//2)/Nwin, np.abs(np.fft.fft(win)[:Nwin//2]))"
   ]
  },
  {
   "cell_type": "code",
   "execution_count": null,
   "metadata": {},
   "outputs": [],
   "source": [
    "def downsample_1d(sig, s=2, Nwin=2):\n",
    "    if len(sig.shape)==2:\n",
    "        return np.apply_along_axis(downsample_1d,1, sig, s=s, Nwin=Nwin)\n",
    "    win = firwin(numtaps=Nwin, cutoff=2/5)\n",
    "    ntimes = np.log2(s)\n",
    "    assert(ntimes-np.int(ntimes)<1e-6)\n",
    "    ntimes = np.int(np.round(ntimes))\n",
    "    new_sig = sig.copy()\n",
    "    for _ in range(ntimes):\n",
    "        new_sig = np.convolve(new_sig,win, 'same')\n",
    "        new_sig = new_sig[1::2]\n",
    "    return new_sig\n",
    "\n",
    "def upsamler_1d(sig, s=2, Nwin=2):\n",
    "    if len(sig.shape)==2:\n",
    "        return np.apply_along_axis(upsamler_1d, 1, sig, s=s, Nwin=Nwin)\n",
    "    win = firwin(numtaps=Nwin, cutoff=1/2)\n",
    "    ntimes = np.log2(s)\n",
    "    assert(ntimes-np.int(ntimes)<1e-6)\n",
    "    ntimes = np.int(np.round(ntimes))\n",
    "    tsig = sig.copy()\n",
    "    for _ in range(ntimes):\n",
    "        new_sig = np.zeros(shape=[len(tsig)*2])\n",
    "        new_sig[1::2] = tsig\n",
    "        new_sig[::2] = tsig\n",
    "        new_sig = np.convolve(new_sig,win, 'same')\n",
    "        tsig = new_sig\n",
    "    return new_sig"
   ]
  },
  {
   "cell_type": "code",
   "execution_count": null,
   "metadata": {},
   "outputs": [],
   "source": [
    "x = np.random.rand(25,256)\n",
    "assert(np.sum(np.abs(downsample_1d(x, s=2) - downsample(x, s=2)))<1e-5)\n",
    "assert(np.sum(np.abs(downsample_1d(x, s=4) - downsample(x, s=4)))<1e-5)\n",
    "assert(np.sum(np.abs(downsample_1d(x, s=8) - downsample(x, s=8)))<1e-5)\n"
   ]
  },
  {
   "cell_type": "code",
   "execution_count": null,
   "metadata": {},
   "outputs": [],
   "source": [
    "assert(np.sum(np.abs(downsample_1d(sample0, s=2)-downsample(np.reshape(sample0, [1, len(sample0)]), s=2)))<1e-5)\n",
    "assert(np.sum(np.abs(downsample_1d(sample0, s=4)-downsample(np.reshape(sample0, [1, len(sample0)]), s=4)))<1e-5)\n",
    "assert(np.sum(np.abs(downsample_1d(sample0, s=8)-downsample(np.reshape(sample0, [1, len(sample0)]), s=8)))<1e-5)"
   ]
  },
  {
   "cell_type": "code",
   "execution_count": null,
   "metadata": {},
   "outputs": [],
   "source": [
    "s = 8\n",
    "\n",
    "ds = downsample_1d(sample0, s=s, Nwin=30)\n",
    "ds2 = downsample_1d(sample0, s=s, Nwin=2)\n",
    "\n",
    "dus = upsamler_1d(ds, s=s, Nwin=30)\n",
    "dus2 = upsamler_1d(ds2, s=s, Nwin=2)\n",
    "ns = len(ds)\n",
    "#Creates two subplots and unpacks the output array immediately\n",
    "f, (ax1, ax2) = plt.subplots(1, 2, figsize=(10,5))\n",
    "ax1.plot(s*(1+np.arange(ns))-1,ds, 'x',label='downsampled')\n",
    "# ax1.plot(s*(1+np.arange(ns))-1,ds2, 'x-', label='downsampled old')\n",
    "ax1.plot(dus, label='Smooth')\n",
    "# ax1.plot(dus2, label='Smooth old')\n",
    "ax1.plot(sample0, label='original')\n",
    "ax1.legend()\n",
    "ax2.plot(np.arange(ns//2)/ns/s, np.abs(np.fft.fft(ds)[:ns//2])*s, label='Downsampled')\n",
    "ax2.plot(np.arange(ns//2)/ns/s, np.abs(np.fft.fft(ds)[:ns//2])*s, label='Downsampled old')\n",
    "ax2.plot(np.arange(ns*s//2)/ns/s, np.abs(np.fft.fft(sample0)[:ns*s//2]), label='Original')\n",
    "ax2.plot(np.arange(ns*s//2)/ns/s, np.abs(np.fft.fft(dus)[:ns*s//2]), label='Smooth')\n",
    "ax2.legend()"
   ]
  },
  {
   "cell_type": "code",
   "execution_count": null,
   "metadata": {},
   "outputs": [],
   "source": []
  }
 ],
 "metadata": {
  "kernelspec": {
   "display_name": "Python 3",
   "language": "python",
   "name": "python3"
  },
  "language_info": {
   "codemirror_mode": {
    "name": "ipython",
    "version": 3
   },
   "file_extension": ".py",
   "mimetype": "text/x-python",
   "name": "python",
   "nbconvert_exporter": "python",
   "pygments_lexer": "ipython3",
   "version": "3.5.2"
  }
 },
 "nbformat": 4,
 "nbformat_minor": 2
}
