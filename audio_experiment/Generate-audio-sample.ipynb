{
 "cells": [
  {
   "cell_type": "code",
   "execution_count": null,
   "metadata": {},
   "outputs": [],
   "source": [
    "%load_ext autoreload\n",
    "%autoreload 2\n",
    "%matplotlib inline"
   ]
  },
  {
   "cell_type": "code",
   "execution_count": null,
   "metadata": {},
   "outputs": [],
   "source": [
    "# import sys\n",
    "# sys.path.insert(0, '../')\n",
    "import os\n",
    "os.environ[\"CUDA_VISIBLE_DEVICES\"]=\"\"\n",
    "\n",
    "\n",
    "import numpy as np\n",
    "import tensorflow as tf\n",
    "\n",
    "from gantools import data\n",
    "from gantools import utils\n",
    "from gantools import plot\n",
    "from gantools.model import WGAN, LapWGAN, UpscalePatchWGAN, UpscalePatchWGANBorders\n",
    "from gantools.gansystem import GANsystem\n",
    "from gantools.data import fmap, transformation\n",
    "from gantools import evaluation\n",
    "import functools\n",
    "import matplotlib.pyplot as plt\n",
    "from copy import deepcopy"
   ]
  },
  {
   "cell_type": "code",
   "execution_count": null,
   "metadata": {},
   "outputs": [],
   "source": [
    "Nsamples = 16\n",
    "global_path = 'saved_results'"
   ]
  },
  {
   "cell_type": "code",
   "execution_count": null,
   "metadata": {},
   "outputs": [],
   "source": [
    "def upscale_1d(system, signal_low, border=None):\n",
    "    Nsignal, dlow = signal_low.shape\n",
    "    ps = system.params['net']['shape'][0]//2\n",
    "    s = system.params['net']['upsampling']\n",
    "    print('The input signal is of size: {}'.format(signal_low.shape))\n",
    "    signal_low = transformation.upsamler_1d(signal_low, s, Nwin=32)\n",
    "    print('Upsampling to size: {}'.format(signal_low.shape))\n",
    "    if border is None:\n",
    "        border = np.zeros([Nsignal, ps, 1])\n",
    "    \n",
    "    signal_up = np.zeros([Nsignal,s*dlow])\n",
    "    with tf.Session() as sess:\n",
    "        system.load(sess)\n",
    "        for i in range(s*dlow//ps):\n",
    "            X_down = np.expand_dims(signal_low[:,i*ps:(i+1)*ps],axis=2)\n",
    "            border = system.generate(X_smooth=X_down, borders=border, sess=sess)\n",
    "            signal_up[:,i*ps:(i+1)*ps] = border[:,:,0]\n",
    "    return signal_up"
   ]
  },
  {
   "cell_type": "markdown",
   "metadata": {},
   "source": [
    "# Low dim part 2048"
   ]
  },
  {
   "cell_type": "code",
   "execution_count": null,
   "metadata": {},
   "outputs": [],
   "source": [
    "low_time_str = 'piano_2028_phase_shuffle'\n",
    "downscale_2k = 16\n",
    "name = 'WGAN' + '_' + low_time_str\n",
    "pathmodel2k = os.path.join(global_path, name+'_checkpoints')"
   ]
  },
  {
   "cell_type": "code",
   "execution_count": null,
   "metadata": {},
   "outputs": [],
   "source": [
    "wgan2k = utils.load_gan(pathmodel2k, model=WGAN)\n",
    "gen_sample_2k = np.squeeze(wgan2k.generate(Nsamples))"
   ]
  },
  {
   "cell_type": "code",
   "execution_count": null,
   "metadata": {},
   "outputs": [],
   "source": [
    "dataset2k = data.load.load_audio_dataset(scaling=downscale_2k, type='piano', spix=2048, augmentation=True)\n",
    "real_sample_2k = dataset2k.get_samples(N=Nsamples)"
   ]
  },
  {
   "cell_type": "code",
   "execution_count": null,
   "metadata": {},
   "outputs": [],
   "source": [
    "for i in range(4):\n",
    "    print('Generated sample {}'.format(i))\n",
    "    plot.audio.play_sound(gen_sample_2k[i,:], fs=16000//downscale_2k)\n",
    "    \n",
    "for i in range(4):\n",
    "    print('Real sample {}'.format(i))\n",
    "    plot.audio.play_sound(real_sample_2k[i,:], fs=16000//downscale_2k)"
   ]
  },
  {
   "cell_type": "markdown",
   "metadata": {},
   "source": [
    "# Up sampling 8k"
   ]
  },
  {
   "cell_type": "code",
   "execution_count": null,
   "metadata": {},
   "outputs": [],
   "source": [
    "downscale_8k = 4\n",
    "name = 'WGAN_piano_8k_patch2'\n",
    "pathmodel8k = os.path.join(global_path, name+'_checkpoints')"
   ]
  },
  {
   "cell_type": "code",
   "execution_count": null,
   "metadata": {},
   "outputs": [],
   "source": [
    "dataset8k = data.load.load_audio_dataset(scaling=downscale_8k, type='piano', spix=4*2048, augmentation=True)\n",
    "real_sample_8k = dataset8k.get_samples(N=Nsamples)"
   ]
  },
  {
   "cell_type": "code",
   "execution_count": null,
   "metadata": {},
   "outputs": [],
   "source": [
    "wgan8k = utils.load_gan(pathmodel8k, model=UpscalePatchWGANBorders)\n",
    "gen_sample_8k = upscale_1d(wgan8k, gen_sample_2k)"
   ]
  },
  {
   "cell_type": "code",
   "execution_count": null,
   "metadata": {
    "scrolled": false
   },
   "outputs": [],
   "source": [
    "for i in range(4):\n",
    "    print('Generated sample {}'.format(i))\n",
    "    plot.audio.play_sound(gen_sample_8k[i,:], fs=16000//downscale_8k)\n",
    "    \n",
    "for i in range(4):\n",
    "    print('Real sample {}'.format(i))\n",
    "    plot.audio.play_sound(real_sample_8k[i,:], fs=16000//downscale_8k)"
   ]
  },
  {
   "cell_type": "markdown",
   "metadata": {},
   "source": [
    "# Up sampling 32k"
   ]
  },
  {
   "cell_type": "code",
   "execution_count": null,
   "metadata": {},
   "outputs": [],
   "source": [
    "downscale_32k = 1\n",
    "name = 'WGAN_piano_32k_patch'\n",
    "pathmodel32k = os.path.join(global_path, name+'_checkpoints')"
   ]
  },
  {
   "cell_type": "code",
   "execution_count": null,
   "metadata": {},
   "outputs": [],
   "source": [
    "dataset32k = data.load.load_audio_dataset(scaling=downscale_32k, type='piano', spix=16*2048, augmentation=True)\n",
    "real_sample_32k = dataset32k.get_samples(N=Nsamples)"
   ]
  },
  {
   "cell_type": "code",
   "execution_count": null,
   "metadata": {
    "scrolled": true
   },
   "outputs": [],
   "source": [
    "wgan32k = utils.load_gan(pathmodel32k, model=UpscalePatchWGANBorders)\n",
    "gen_sample_32k = upscale_1d(wgan32k, gen_sample_8k)"
   ]
  },
  {
   "cell_type": "code",
   "execution_count": null,
   "metadata": {},
   "outputs": [],
   "source": [
    "for i in range(4):\n",
    "    print('Generated sample {}'.format(i))\n",
    "    plot.audio.play_sound(gen_sample_32k[i,:], fs=16000//downscale_32k)\n",
    "    \n",
    "for i in range(4):\n",
    "    print('Real sample {}'.format(i))\n",
    "    plot.audio.play_sound(real_sample_32k[i,:], fs=16000//downscale_32k)"
   ]
  },
  {
   "cell_type": "markdown",
   "metadata": {},
   "source": [
    "# Long signal"
   ]
  },
  {
   "cell_type": "code",
   "execution_count": null,
   "metadata": {},
   "outputs": [],
   "source": [
    "def gen_1d(system, N, length=2048*8, border=None):\n",
    "    ps = system.params['net']['shape'][0]//2\n",
    "    if border is None:\n",
    "        border = np.zeros([N, ps, 1])\n",
    "    \n",
    "    signal_up = np.zeros([N,length])\n",
    "    with tf.Session() as sess:\n",
    "        system.load(sess)\n",
    "        for i in range(length//ps):\n",
    "            border = system.generate(borders=border, sess=sess)\n",
    "            signal_up[:,i*ps:(i+1)*ps] = border[:,:,0]\n",
    "    return signal_up"
   ]
  },
  {
   "cell_type": "code",
   "execution_count": null,
   "metadata": {},
   "outputs": [],
   "source": [
    "downscale_2k = 16\n",
    "pathmodel = os.path.join(global_path, 'WGAN_piano_2028_rnn_checkpoints')\n",
    "length = 2048*8"
   ]
  },
  {
   "cell_type": "code",
   "execution_count": null,
   "metadata": {},
   "outputs": [],
   "source": [
    "wganlong2k = utils.load_gan(pathmodel, model=UpscalePatchWGANBorders)\n",
    "gen_sample_2k_long = gen_1d(wganlong2k, N=Nsamples, length=length)"
   ]
  },
  {
   "cell_type": "code",
   "execution_count": null,
   "metadata": {},
   "outputs": [],
   "source": [
    "dataset2k_long = data.load.load_audio_dataset(scaling=downscale_2k, type='piano', spix=length, augmentation=True)\n",
    "real_sample_2k_long = dataset2k_long.get_samples(N=Nsamples)"
   ]
  },
  {
   "cell_type": "code",
   "execution_count": null,
   "metadata": {},
   "outputs": [],
   "source": [
    "for i in range(4):\n",
    "    print('Generated sample {}'.format(i))\n",
    "    plot.audio.play_sound(gen_sample_2k_long[i,:], fs=16000//downscale_2k)\n",
    "    \n",
    "for i in range(4):\n",
    "    print('Real sample {}'.format(i))\n",
    "    plot.audio.play_sound(real_sample_2k_long[i,:], fs=16000//downscale_2k)"
   ]
  },
  {
   "cell_type": "code",
   "execution_count": null,
   "metadata": {},
   "outputs": [],
   "source": [
    "wgan8k = utils.load_gan(pathmodel8k, model=UpscalePatchWGANBorders)\n",
    "gen_sample_8k_long = upscale_1d(wgan8k, gen_sample_2k_long)\n",
    "\n",
    "wgan8k = utils.load_gan(pathmodel8k, model=UpscalePatchWGANBorders)\n",
    "gen_sample_8k_long_single = upscale_1d(wgan8k, real_sample_2k_long)\n",
    "\n",
    "# wgan32k = utils.load_gan(pathmodel32k, model=UpscalePatchWGANBorders)\n",
    "# gen_sample_32k_long = upscale_1d(wgan32k, gen_sample_8k_long)"
   ]
  },
  {
   "cell_type": "code",
   "execution_count": null,
   "metadata": {},
   "outputs": [],
   "source": [
    "dataset8k_long = data.load.load_audio_dataset(scaling=downscale_8k, type='piano', spix=length*4, augmentation=True)\n",
    "real_sample_8k_long = dataset8k_long.get_samples(N=Nsamples)"
   ]
  },
  {
   "cell_type": "code",
   "execution_count": null,
   "metadata": {},
   "outputs": [],
   "source": [
    "for i in range(4):\n",
    "    print('Generated sample {}'.format(i))\n",
    "    plot.audio.play_sound(gen_sample_8k_long[i,:], fs=16000//downscale_8k)\n",
    "    \n",
    "for i in range(4):\n",
    "    print('Real sample {}'.format(i))\n",
    "    plot.audio.play_sound(real_sample_8k_long[i,:], fs=16000//downscale_8k)\n",
    "    \n",
    "for i in range(4):\n",
    "    print('Single step - sample {}'.format(i))\n",
    "    plot.audio.play_sound(gen_sample_8k_long_single[i,:], fs=16000//downscale_8k)"
   ]
  },
  {
   "cell_type": "code",
   "execution_count": null,
   "metadata": {},
   "outputs": [],
   "source": []
  }
 ],
 "metadata": {
  "kernelspec": {
   "display_name": "Python 3",
   "language": "python",
   "name": "python3"
  },
  "language_info": {
   "codemirror_mode": {
    "name": "ipython",
    "version": 3
   },
   "file_extension": ".py",
   "mimetype": "text/x-python",
   "name": "python",
   "nbconvert_exporter": "python",
   "pygments_lexer": "ipython3",
   "version": "3.5.2"
  }
 },
 "nbformat": 4,
 "nbformat_minor": 2
}
