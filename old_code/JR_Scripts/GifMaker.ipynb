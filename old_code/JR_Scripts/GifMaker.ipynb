{
 "cells": [
  {
   "cell_type": "code",
   "execution_count": null,
   "metadata": {},
   "outputs": [],
   "source": [
    "import sys\n",
    "sys.path.insert(0, '../')\n",
    "\n",
    "import utils, evaluation\n",
    "#from evaluation import load_gan\n",
    "from data import fmap, Dataset\n",
    "from JR_Scripts import dict_reader, time_toy_generator\n",
    "from JR_Scripts import notebook_helper as nh\n",
    "from model import WGanModel, WNGanModel, TemporalGanModelv3\n",
    "from gan import TimeCosmoGAN\n",
    "import metrics\n",
    "import tensorflow as tf\n",
    "import numpy as np\n",
    "from PIL import Image\n",
    "import imageio\n",
    "from matplotlib.pyplot import imshow\n",
    "import matplotlib.pyplot as plt\n",
    "import matplotlib.cm as cm\n",
    "import importlib as imp\n",
    "from moviepy.editor import VideoClip\n",
    "from moviepy.video.io.bindings import mplfig_to_npimage"
   ]
  },
  {
   "cell_type": "code",
   "execution_count": null,
   "metadata": {},
   "outputs": [],
   "source": [
    "def gen_gif_images(model_folder, chpt, num_frames):\n",
    "    gan = evaluation.load_gan(model_folder, GANtype=TimeCosmoGAN)\n",
    "    z = np.repeat(gan._sample_latent(1)[:1], num_frames, axis=0)\n",
    "    print(z.shape)\n",
    "    frames = np.linspace(0.82, 1.3, num_frames)\n",
    "    imgs = gan.generate(z=z, checkpoint=chpt, y=np.reshape(frames, (num_frames, 1)), single_channel=None)[0]\n",
    "    imgs = np.array(imgs)\n",
    "    print(imgs.shape)\n",
    "    return np.reshape(imgs, imgs.shape[0:3])"
   ]
  },
  {
   "cell_type": "code",
   "execution_count": null,
   "metadata": {},
   "outputs": [],
   "source": [
    "# Select Model\n",
    "params, model_folder = nh.load_params(\"models_64x64_C4/TWGANsh:62d3_selu_sn10-10_0246r_Hlr3e5_v2ad_c+sf62_checkpoints/\", cscs=True)\n",
    "chpt = 142400\n",
    "nh.print_param_dict(params)"
   ]
  },
  {
   "cell_type": "code",
   "execution_count": null,
   "metadata": {},
   "outputs": [],
   "source": [
    "def make_frame(t):\n",
    "    ax.clear()\n",
    "    ax.imshow(vid[int(np.round(fps*t))], interpolation=None, vmin=0, vmax=np.max(vid))\n",
    "    return mplfig_to_npimage(fig)"
   ]
  },
  {
   "cell_type": "code",
   "execution_count": null,
   "metadata": {},
   "outputs": [],
   "source": [
    "# Select GIF speed and length\n",
    "fps = 24\n",
    "duration = 6"
   ]
  },
  {
   "cell_type": "code",
   "execution_count": null,
   "metadata": {},
   "outputs": [],
   "source": [
    "vid = gen_gif_images(model_folder, chpt, fps * duration)"
   ]
  },
  {
   "cell_type": "code",
   "execution_count": null,
   "metadata": {},
   "outputs": [],
   "source": [
    "fig, ax = plt.subplots()\n",
    "animation = VideoClip(make_frame, duration=duration)\n",
    "animation.ipython_display(fps=fps, loop=True, autoplay=True)"
   ]
  },
  {
   "cell_type": "code",
   "execution_count": null,
   "metadata": {},
   "outputs": [],
   "source": [
    "# GIFs are made here but only shown in the next few cells.\n",
    "lst = []\n",
    "for i in range(10):\n",
    "    vid = gen_gif_images(model_folder, chpt, fps * duration)\n",
    "    fig, ax = plt.subplots()\n",
    "    animation = VideoClip(make_frame, duration=duration)\n",
    "    lst.append(animation.ipython_display(fps=fps, loop=True, autoplay=True))"
   ]
  },
  {
   "cell_type": "code",
   "execution_count": null,
   "metadata": {},
   "outputs": [],
   "source": [
    "lst[0]"
   ]
  },
  {
   "cell_type": "code",
   "execution_count": null,
   "metadata": {},
   "outputs": [],
   "source": [
    "lst[1]"
   ]
  },
  {
   "cell_type": "code",
   "execution_count": null,
   "metadata": {},
   "outputs": [],
   "source": [
    "lst[2]"
   ]
  },
  {
   "cell_type": "code",
   "execution_count": null,
   "metadata": {},
   "outputs": [],
   "source": [
    "lst[3]"
   ]
  },
  {
   "cell_type": "code",
   "execution_count": null,
   "metadata": {},
   "outputs": [],
   "source": [
    "lst[4]"
   ]
  },
  {
   "cell_type": "code",
   "execution_count": null,
   "metadata": {},
   "outputs": [],
   "source": [
    "lst[5]"
   ]
  },
  {
   "cell_type": "code",
   "execution_count": null,
   "metadata": {},
   "outputs": [],
   "source": [
    "lst[6]"
   ]
  },
  {
   "cell_type": "code",
   "execution_count": null,
   "metadata": {},
   "outputs": [],
   "source": [
    "lst[7]"
   ]
  },
  {
   "cell_type": "code",
   "execution_count": null,
   "metadata": {},
   "outputs": [],
   "source": [
    "lst[8]"
   ]
  },
  {
   "cell_type": "code",
   "execution_count": null,
   "metadata": {},
   "outputs": [],
   "source": [
    "lst[9]"
   ]
  },
  {
   "cell_type": "code",
   "execution_count": null,
   "metadata": {},
   "outputs": [],
   "source": []
  }
 ],
 "metadata": {
  "kernelspec": {
   "display_name": "Python 3",
   "language": "python",
   "name": "python3"
  },
  "language_info": {
   "codemirror_mode": {
    "name": "ipython",
    "version": 3
   },
   "file_extension": ".py",
   "mimetype": "text/x-python",
   "name": "python",
   "nbconvert_exporter": "python",
   "pygments_lexer": "ipython3",
   "version": "3.6.5"
  }
 },
 "nbformat": 4,
 "nbformat_minor": 2
}
