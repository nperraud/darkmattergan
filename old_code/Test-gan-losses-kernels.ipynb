{
 "cells": [
  {
   "cell_type": "markdown",
   "metadata": {},
   "source": [
    "# Gan Losses"
   ]
  },
  {
   "cell_type": "code",
   "execution_count": null,
   "metadata": {},
   "outputs": [],
   "source": [
    "import numpy as np"
   ]
  },
  {
   "cell_type": "code",
   "execution_count": null,
   "metadata": {},
   "outputs": [],
   "source": [
    "a = np.arange(0.1,0.9,0.1)"
   ]
  },
  {
   "cell_type": "code",
   "execution_count": null,
   "metadata": {},
   "outputs": [],
   "source": [
    "def sigmoid(x):\n",
    "    return 1/(1+np.exp(-x))\n",
    "def lossg(x):\n",
    "    return np.log(1-sigmoid(x))\n",
    "def lossgnew(x):\n",
    "    return -x+np.log(sigmoid(x))"
   ]
  },
  {
   "cell_type": "code",
   "execution_count": null,
   "metadata": {},
   "outputs": [],
   "source": [
    "lossg(a)-lossgnew(a)"
   ]
  },
  {
   "cell_type": "markdown",
   "metadata": {},
   "source": [
    "# Split data and attenuation kernel"
   ]
  },
  {
   "cell_type": "code",
   "execution_count": null,
   "metadata": {},
   "outputs": [],
   "source": [
    "import numpy as np\n",
    "from gantools.data.Dataset import slice_2d_patch, slice_3d_patch\n",
    "from gantools.plot import draw_images\n",
    "from gantools import plot\n",
    "%matplotlib inline\n",
    "import tensorflow as tf\n",
    "from matplotlib import pyplot as plt\n",
    "import os\n",
    "os.environ[\"CUDA_VISIBLE_DEVICES\"]=\"\"\n",
    "\n",
    "from gantools import blocks\n",
    "\n",
    "from gantools.data.transformation import slice_3d_patch, slice_2d_patch"
   ]
  },
  {
   "cell_type": "code",
   "execution_count": null,
   "metadata": {},
   "outputs": [],
   "source": [
    "def attenuation_kernel(nx=32):\n",
    "    x = np.arange(nx,0,-1)/nx\n",
    "    x -= 0.5\n",
    "    x[x<0] = 0\n",
    "    return 2*x\n",
    "\n",
    "def attenuation_weight_2d(nx=32):\n",
    "    k = attenuation_kernel(nx)\n",
    "    kk = np.concatenate((np.ones([nx]), k))[::-1]\n",
    "    kk = np.expand_dims(kk, axis=0)\n",
    "    aw = np.ones([nx*2,nx*2])\n",
    "    aw = kk.T*aw*kk\n",
    "    return aw\n",
    "\n",
    "def attenuation_weight_3d(nx=32):\n",
    "    k = attenuation_kernel(nx)\n",
    "    kk = np.concatenate((np.ones([nx]), k))[::-1]\n",
    "    kk = np.expand_dims(np.expand_dims(kk, axis=0), axis=0)\n",
    "    aw = np.ones([nx*2,nx*2,nx*2])\n",
    "    aw = (aw*kk)*kk.transpose((1,2,0))*kk.transpose((2,0,1))\n",
    "    return aw"
   ]
  },
  {
   "cell_type": "code",
   "execution_count": null,
   "metadata": {},
   "outputs": [],
   "source": [
    "nx= 32\n",
    "k = attenuation_kernel(nx)\n",
    "kk = np.concatenate((np.ones([nx]), k))[::-1]\n",
    "plt.plot(kk)"
   ]
  },
  {
   "cell_type": "code",
   "execution_count": null,
   "metadata": {},
   "outputs": [],
   "source": [
    "nx = 32\n",
    "aw = attenuation_weight_2d(nx)\n",
    "plt.imshow(aw)\n",
    "slice_2d_patch(np.expand_dims(aw, axis=0), spix=nx)[-1:,:,:,:3].shape"
   ]
  },
  {
   "cell_type": "code",
   "execution_count": null,
   "metadata": {},
   "outputs": [],
   "source": [
    "aw3 = attenuation_weight_3d(nx)\n",
    "plt.imshow(plot.tile_cube_to_2d(aw3))\n",
    "slice_3d_patch(np.expand_dims(aw3, axis=0))[-1:,:,:,:,:7].shape"
   ]
  },
  {
   "cell_type": "code",
   "execution_count": null,
   "metadata": {},
   "outputs": [],
   "source": [
    "def path2img(patches, is_3d=False):\n",
    "    if is_3d:\n",
    "        imgs_down_left = np.concatenate([patches[:, :, :, :, 3], patches[:, :, :, :,2]], axis=2)\n",
    "        imgs_down_right = np.concatenate([patches[:, :, :, :, 1], patches[:, :, :, :,0]], axis=2)\n",
    "        imgs_down = np.concatenate([imgs_down_left, imgs_down_right], axis=3)\n",
    "        imgs_up_left   = np.concatenate([patches[:, :, :, :, 7], patches[:, :, :, :, 6]], axis=2)\n",
    "        imgs_up_right  = np.concatenate([patches[:, :, :, :, 5], patches[:, :, :, :, 4]], axis=2)\n",
    "        imgs_up = np.concatenate([ imgs_up_left, imgs_up_right], axis=3)\n",
    "        imgs = np.concatenate([imgs_up, imgs_down], axis=1)\n",
    "    else:\n",
    "        imgs_d = np.concatenate(\n",
    "            [patches[:, :, :, 1], patches[:, :, :, 0]], axis=1)\n",
    "        imgs_u = np.concatenate(\n",
    "            [patches[:, :, :, 3], patches[:, :, :, 2]], axis=1)\n",
    "        imgs = np.concatenate([imgs_u, imgs_d], axis=2)\n",
    "    return imgs\n",
    "\n",
    "def tf_patch2img_2d(dr, dl, ur, ul):\n",
    "\n",
    "    imgs_d = tf.concat([dl, dr], axis=1)\n",
    "    imgs_u = tf.concat([ul, ur], axis=1)\n",
    "    imgs = tf.concat([imgs_u,  imgs_d], axis=2)\n",
    "    return imgs\n",
    "\n",
    "def tf_patch2img_3d(*args):\n",
    "    imgs_down_left = tf.concat([args[3], args[2]], axis=2)\n",
    "    imgs_down_right = tf.concat([args[1], args[0]], axis=2)\n",
    "    imgs_down = tf.concat([imgs_down_left, imgs_down_right], axis=3)\n",
    "    imgs_up_left   = tf.concat([args[7], args[6]], axis=2)\n",
    "    imgs_up_right  = tf.concat([args[5], args[4]], axis=2)\n",
    "    imgs_up = tf.concat([ imgs_up_left, imgs_up_right], axis=3)\n",
    "    imgs = tf.concat([imgs_up, imgs_down], axis=1)\n",
    "    return imgs\n",
    "\n",
    "def flip_slices_2d(dl, ur, ul):\n",
    "    flip_dl = np.flip(dl, axis=1)\n",
    "    flip_ur = np.flip(ur, axis=2)    \n",
    "    flip_ul = np.flip(np.flip(ul, axis=1), axis=2)\n",
    "    return flip_dl, flip_ur, flip_ul\n",
    "\n",
    "def tf_flip_slices_2d(dl, ur, ul):\n",
    "    flip_dl = tf.reverse(dl, axis=[1])\n",
    "    flip_ur = tf.reverse(ur, axis=[2])    \n",
    "    flip_ul = tf.reverse(ul, axis=[1,2])\n",
    "    return flip_dl, flip_ur, flip_ul\n",
    "\n",
    "\n",
    "def flip_slices_3d(*args):\n",
    "    flip_d_above = np.flip(args[0], axis=2)\n",
    "    flip_d_left = np.flip(args[1], axis=3)\n",
    "    flip_d_corner = np.flip(np.flip(args[2], axis=2), axis=3)\n",
    "    flip_up = np.flip(args[3], axis=1)\n",
    "    flip_u_above = np.flip(np.flip(args[4], axis=1), axis=2)\n",
    "    flip_u_left = np.flip(np.flip(args[5], axis=1), axis=3)\n",
    "    flip_u_corner = np.flip(np.flip(np.flip(args[6], axis=1), axis=2), axis=3)\n",
    "    return flip_d_above, flip_d_left, flip_d_corner, flip_up, flip_u_above, flip_u_left, flip_u_corner\n",
    "\n",
    "def tf_flip_slices_3d(*args):\n",
    "    flip_d_above = tf.reverse(args[0], axis=[2])\n",
    "    flip_d_left = tf.reverse(args[1], axis=[3])\n",
    "    flip_d_corner = tf.reverse(args[2], axis=[2, 3])\n",
    "    flip_up = tf.reverse(args[3], axis=[1])\n",
    "    flip_u_above = tf.reverse(args[4], axis=[1, 2])\n",
    "    flip_u_left = tf.reverse(args[5], axis=[1, 3])\n",
    "    flip_u_corner = tf.reverse(args[6], axis=[1, 2, 3])\n",
    "    return flip_d_above, flip_d_left, flip_d_corner, flip_up, flip_u_above, flip_u_left, flip_u_corner"
   ]
  },
  {
   "cell_type": "code",
   "execution_count": null,
   "metadata": {},
   "outputs": [],
   "source": [
    "def test_patch2img_2d():\n",
    "    imgs = np.random.rand(25,64,64)\n",
    "    patches = slice_2d_patch(imgs,spix=32)\n",
    "    imgs2 = path2img(patches, is_3d=False)\n",
    "    np.testing.assert_almost_equal(imgs2[-25:],imgs)\n",
    "\n",
    "def test_patch2img_3d():\n",
    "    imgs = np.random.rand(25,64,64,64)\n",
    "    patches = slice_3d_patch(imgs,spix=32)\n",
    "    imgs2 = path2img(patches, is_3d=True)\n",
    "    np.testing.assert_almost_equal(imgs2[-25:],imgs)\n",
    "\n",
    "    \n",
    "def test_tf_patch2img_2d():\n",
    "    imgs = np.random.rand(25,64,64)\n",
    "    patches = slice_2d_patch(imgs,spix=32)\n",
    "    imgs2 = path2img(patches, is_3d=False)\n",
    "    args = (patches[:,:,:,0], patches[:,:,:,1], patches[:,:,:,2], patches[:,:,:,3])\n",
    "    with tf.Session() as sess:\n",
    "        imgs3 = tf_patch2img_2d(*args).eval()\n",
    "    np.testing.assert_almost_equal(imgs3,imgs2)\n",
    "\n",
    "def test_tf_patch2img_3d():\n",
    "    imgs = np.random.rand(25,16,16,16)\n",
    "    patches = slice_3d_patch(imgs,spix=8)\n",
    "    imgs2 = path2img(patches, is_3d=True)\n",
    "    args = (patches[:,:,:,:,0], patches[:,:,:,:,1], patches[:,:,:,:,2], patches[:,:,:,:,3],\n",
    "            patches[:,:,:,:,4], patches[:,:,:,:,5], patches[:,:,:,:,6], patches[:,:,:,:,7])\n",
    "    with tf.Session() as sess:\n",
    "        imgs3 = tf_patch2img_3d(*args).eval()\n",
    "    np.testing.assert_almost_equal(imgs3,imgs2)    \n",
    "\n",
    "def test_flip_slices_2d():\n",
    "    imgs = np.zeros([25,16,16])\n",
    "    imgs[:,4:12,4:12] = 1\n",
    "    patches = slice_2d_patch(imgs,spix=8)[-25:]\n",
    "    dr, dl, ur, ul = patches[:,:,:,0:1], patches[:,:,:,1:2], patches[:,:,:,2:3], patches[:,:,:,3:4]\n",
    "    flip_dl, flip_ur, flip_ul = flip_slices_2d(dl, ur, ul)\n",
    "    np.testing.assert_almost_equal(dr,flip_dl)\n",
    "    np.testing.assert_almost_equal(dr,flip_ur)\n",
    "    np.testing.assert_almost_equal(dr,flip_ul)\n",
    "\n",
    "def test_flip_slices_3d():\n",
    "    imgs = np.zeros([25,16,16,16])\n",
    "    imgs[:,4:12,4:12,4:12] = 1\n",
    "    patches = slice_3d_patch(imgs,spix=8)[-25:]\n",
    "    args = (patches[:,:,:,:,0:1], patches[:,:,:,:,1:2], patches[:,:,:,:,2:3], patches[:,:,:,:,3:4],\n",
    "            patches[:,:,:,:,4:5], patches[:,:,:,:,5:6], patches[:,:,:,:,6:7], patches[:,:,:,:,7:8])\n",
    "    sols = flip_slices_3d(*args[1:])\n",
    "    for sol in sols:\n",
    "        np.testing.assert_almost_equal(args[0], sol)\n",
    "    \n",
    "def test_tf_flip_slice_2d():\n",
    "    imgs = np.random.rand(25,64,64)\n",
    "    patches = slice_2d_patch(imgs,spix=32)\n",
    "    args = (patches[:,:,:,1], patches[:,:,:,2], patches[:,:,:,3])\n",
    "    a,b,c = flip_slices_2d(*args)\n",
    "\n",
    "    with tf.Session() as sess:\n",
    "        a2t,b2t,c2t = tf_flip_slices_2d(*args)\n",
    "        a2, b2, c2 = a2t.eval(), b2t.eval(), c2t.eval()\n",
    "    np.testing.assert_almost_equal(a,a2)\n",
    "    np.testing.assert_almost_equal(b,b2)\n",
    "    np.testing.assert_almost_equal(c,c2)\n",
    "    \n",
    "\n",
    "def test_tf_flip_slice_3d():\n",
    "    imgs = np.random.rand(25,16,16,16)\n",
    "    patches = slice_3d_patch(imgs,spix=8)\n",
    "    args = (patches[:,:,:,:,1], patches[:,:,:,:,2], patches[:,:,:,:,3],\n",
    "            patches[:,:,:,:,4], patches[:,:,:,:,5], patches[:,:,:,:,6], patches[:,:,:,:,7])\n",
    "    s1s = flip_slices_3d(*args)\n",
    "\n",
    "    with tf.Session() as sess:\n",
    "        tfst = tf_flip_slices_3d(*args)\n",
    "        s2s = []\n",
    "        for st in tfst:\n",
    "            s2s.append(st.eval())\n",
    "    for s1,s2 in zip(s1s,s2s): \n",
    "        np.testing.assert_almost_equal(s1,s2)\n",
    "        \n",
    "test_patch2img_2d()\n",
    "test_tf_patch2img_2d()\n",
    "test_flip_slices_2d()\n",
    "test_tf_flip_slice_2d()\n",
    "\n",
    "test_patch2img_3d()\n",
    "test_tf_patch2img_3d()\n",
    "test_flip_slices_3d()\n",
    "test_tf_flip_slice_3d()"
   ]
  },
  {
   "cell_type": "markdown",
   "metadata": {},
   "source": [
    "# Test convolution"
   ]
  },
  {
   "cell_type": "code",
   "execution_count": null,
   "metadata": {},
   "outputs": [],
   "source": [
    "%load_ext autoreload\n",
    "%autoreload 2\n",
    "%matplotlib inline"
   ]
  },
  {
   "cell_type": "code",
   "execution_count": null,
   "metadata": {},
   "outputs": [],
   "source": [
    "import numpy as np\n",
    "from  scipy.signal import convolve2d\n",
    "from gantools import blocks\n",
    "import tensorflow as tf\n",
    "import os\n",
    "os.environ[\"CUDA_VISIBLE_DEVICES\"]=\"0\"\n",
    "from matplotlib import pyplot as plt"
   ]
  },
  {
   "cell_type": "code",
   "execution_count": null,
   "metadata": {},
   "outputs": [],
   "source": [
    "X = np.random.randn(*[6,7,8])\n",
    "K = np.random.randn(6,3,5)"
   ]
  },
  {
   "cell_type": "code",
   "execution_count": null,
   "metadata": {},
   "outputs": [],
   "source": [
    "# Scipy\n",
    "s = np.zeros(X.shape[1:])\n",
    "for x,k in zip(X,K):\n",
    "#     s.append(convolve2d(x, k, mode='same', boundary='symm'))\n",
    "    s+=convolve2d(x, k[::-1,::-1], mode='same', boundary='fill',fillvalue=0)\n",
    "# Tensorflow\n",
    "tfX = tf.constant(np.expand_dims(X.transpose((1,2,0)),0))\n",
    "tfk = tf.constant(np.expand_dims(K.transpose((1,2,0)),3))\n",
    "stride = [1,1]\n",
    "# imgs = tf.pad(imgs,[])\n",
    "conv = tf.nn.conv2d(tfX, tfk, strides=[1, *stride, 1], padding='SAME')\n",
    "with tf.Session() as sess:\n",
    "    convtf = conv.eval().reshape(X.shape[1:])\n",
    "assert(np.sum(np.abs(s-convtf))<1e-12)"
   ]
  },
  {
   "cell_type": "code",
   "execution_count": null,
   "metadata": {},
   "outputs": [],
   "source": [
    "# Scipy\n",
    "s = np.zeros(X.shape[1:])\n",
    "for x,k in zip(X,K):\n",
    "#     s.append(convolve2d(x, k, mode='same', boundary='symm'))\n",
    "    s+=convolve2d(x, k[::-1,::-1], mode='same', boundary='fill')\n",
    "# Tensorflow\n",
    "tfX = tf.constant(np.expand_dims(X.transpose((1,2,0)),0))\n",
    "tfk = tf.constant(np.expand_dims(K.transpose((1,2,0)),3))\n",
    "stride = [1,1]\n",
    "tfX = tf.pad(tfX,[[0,0],[1,1],[2,2],[0,0]], mode='CONSTANT')\n",
    "conv = tf.nn.conv2d(tfX, tfk, strides=[1, *stride, 1], padding='VALID')\n",
    "with tf.Session() as sess:\n",
    "    convtf = conv.eval().reshape(X.shape[1:])\n",
    "assert(np.sum(np.abs(s-convtf))<1e-12)"
   ]
  },
  {
   "cell_type": "code",
   "execution_count": null,
   "metadata": {},
   "outputs": [],
   "source": [
    "# Scipy\n",
    "s = np.zeros(X.shape[1:])\n",
    "for x,k in zip(X,K):\n",
    "#     s.append(convolve2d(x, k, mode='same', boundary='symm'))\n",
    "    s+=convolve2d(x, k[::-1,::-1], mode='same', boundary='symm')\n",
    "# Tensorflow\n",
    "tfX = tf.constant(np.expand_dims(X.transpose((1,2,0)),0))\n",
    "tfk = tf.constant(np.expand_dims(K.transpose((1,2,0)),3))\n",
    "stride = [1,1]\n",
    "tfX = tf.pad(tfX,[[0,0],[1,1],[2,2],[0,0]], mode='SYMMETRIC')\n",
    "conv = tf.nn.conv2d(tfX, tfk, strides=[1, *stride, 1], padding='VALID')\n",
    "with tf.Session() as sess:\n",
    "    convtf = conv.eval().reshape(X.shape[1:])\n",
    "assert(np.sum(np.abs(s-convtf))<1e-12)"
   ]
  },
  {
   "cell_type": "code",
   "execution_count": null,
   "metadata": {},
   "outputs": [],
   "source": [
    "X = np.ones([1,7,8])\n",
    "K = np.ones([1,7,6])\n",
    "tfX = tf.constant(np.expand_dims(X.transpose((1,2,0)),0))\n",
    "tfk = tf.constant(np.expand_dims(K.transpose((1,2,0)),3))\n",
    "stride = [1,1]\n",
    "# tfX = tf.pad(tfX,[[0,0],[1,1],[2,2],[0,0]], mode='CONSTANT')\n",
    "conv = tf.nn.conv2d(tfX, tfk, strides=[1, *stride, 1], padding='SAME')\n",
    "with tf.Session() as sess:\n",
    "    convtf = conv.eval().reshape(X.shape[1:])\n",
    "\n",
    "K11 = (tfk.shape[0]-1)//2\n",
    "K12 = tfk.shape[0]//2\n",
    "K21 = (tfk.shape[1]-1)//2\n",
    "K22 = tfk.shape[1]//2\n",
    "\n",
    "tfX = tf.pad(tfX,[[0,0],[K11,K12],[K21,K22],[0,0]], mode='CONSTANT')\n",
    "conv = tf.nn.conv2d(tfX, tfk, strides=[1, *stride, 1], padding='VALID')\n",
    "with tf.Session() as sess:\n",
    "    convtf2 = conv.eval().reshape(X.shape[1:])\n",
    "    \n",
    "assert(np.sum(np.abs(convtf2-convtf))<1e-12)"
   ]
  },
  {
   "cell_type": "markdown",
   "metadata": {},
   "source": [
    "# FFT/PSD tests\n"
   ]
  },
  {
   "cell_type": "code",
   "execution_count": null,
   "metadata": {},
   "outputs": [],
   "source": [
    "import numpy as np\n",
    "import tensorflow as tf\n",
    "import scipy"
   ]
  },
  {
   "cell_type": "code",
   "execution_count": null,
   "metadata": {},
   "outputs": [],
   "source": [
    "s = np.ones([4,4])\n",
    "ns = 32\n",
    "for ns in range(1,35,2):\n",
    "    d = (np.arange(ns) - ns//2)**2\n",
    "    d = np.expand_dims(d,axis=0)\n",
    "    DD = d.T+d\n",
    "    dd = DD.flatten()\n",
    "    print(len(np.unique(dd)))"
   ]
  },
  {
   "cell_type": "code",
   "execution_count": null,
   "metadata": {},
   "outputs": [],
   "source": [
    "d = (np.arange(ns) - ns//2)**2\n",
    "d = np.expand_dims(d,axis=0)\n",
    "DD = np.fft.ifftshift(d.T+d).flatten()\n",
    "dd = np.unique(DD)\n",
    "mat = np.zeros(shape=(len(dd), len(DD)))\n",
    "for it,v in enumerate(dd):\n",
    "    mat[it] = (DD==v)"
   ]
  },
  {
   "cell_type": "code",
   "execution_count": null,
   "metadata": {},
   "outputs": [],
   "source": [
    "plt.imshow(mat)"
   ]
  },
  {
   "cell_type": "code",
   "execution_count": null,
   "metadata": {},
   "outputs": [],
   "source": [
    "scipy.sparse.coo_matrix(mat)"
   ]
  },
  {
   "cell_type": "code",
   "execution_count": null,
   "metadata": {},
   "outputs": [],
   "source": [
    "for ns in range(1,35,2):\n",
    "    d = (np.arange(ns) - ns//2)**2\n",
    "    d = np.expand_dims(d,axis=0)\n",
    "    d = np.expand_dims(d,axis=0)\n",
    "    DD = d.transpose((0,1,2))+d.transpose((1,2,0))+d.transpose((2,0,1))\n",
    "    dd = DD.flatten()\n",
    "    print(len(np.unique(dd)))"
   ]
  },
  {
   "cell_type": "code",
   "execution_count": null,
   "metadata": {},
   "outputs": [],
   "source": [
    "d = (np.arange(ns) - ns//2)**2\n",
    "d = np.expand_dims(d,axis=0)\n",
    "d = np.expand_dims(d,axis=0)\n",
    "DD = d.transpose((0,1,2))+d.transpose((1,2,0))+d.transpose((2,0,1))\n",
    "DD = np.fft.ifftshift(DD).flatten()\n",
    "dd = np.unique(DD)\n",
    "mat = np.zeros(shape=(len(dd), len(DD)))\n",
    "for it,v in enumerate(dd):\n",
    "    mat[it] = (DD==v)"
   ]
  },
  {
   "cell_type": "code",
   "execution_count": null,
   "metadata": {},
   "outputs": [],
   "source": [
    "plt.imshow(mat)"
   ]
  },
  {
   "cell_type": "code",
   "execution_count": null,
   "metadata": {},
   "outputs": [],
   "source": [
    "scipy.sparse.coo_matrix(mat)"
   ]
  },
  {
   "cell_type": "code",
   "execution_count": null,
   "metadata": {},
   "outputs": [],
   "source": [
    "def get_fourier_sum_matrix(ns, dim):\n",
    "    d = (np.arange(ns) - ns//2)**2\n",
    "    if dim==2:\n",
    "        d = np.expand_dims(d,axis=0)\n",
    "        DD = np.fft.ifftshift(d.T+d).flatten()\n",
    "        dd = np.unique(DD)        \n",
    "    elif dim==3:\n",
    "        d = np.expand_dims(d,axis=0)\n",
    "        d = np.expand_dims(d,axis=0)\n",
    "        DD = d.transpose((0,1,2))+d.transpose((1,2,0))+d.transpose((2,0,1))\n",
    "        DD = np.fft.ifftshift(DD).flatten()\n",
    "        dd = np.unique(DD)\n",
    "    else:\n",
    "        raise ValueError()\n",
    "    mat = np.zeros(shape=(len(dd), len(DD)))\n",
    "    for it,v in enumerate(dd):\n",
    "        mat[it] = (DD==v)\n",
    "    return scipy.sparse.coo_matrix(mat)"
   ]
  },
  {
   "cell_type": "code",
   "execution_count": null,
   "metadata": {},
   "outputs": [],
   "source": [
    "S = get_fourier_sum_matrix(64,2)\n",
    "S = S.transpose().astype(np.float32)\n"
   ]
  },
  {
   "cell_type": "code",
   "execution_count": null,
   "metadata": {},
   "outputs": [],
   "source": [
    "tfS = tf.SparseTensor(indices=np.array([S.row, S.col]).T,\n",
    "            values=S.data,\n",
    "            dense_shape=S.shape)"
   ]
  },
  {
   "cell_type": "code",
   "execution_count": null,
   "metadata": {},
   "outputs": [],
   "source": [
    "with tf.Session() as sess:\n",
    "    print(tf.shape(tfS).eval())"
   ]
  },
  {
   "cell_type": "code",
   "execution_count": null,
   "metadata": {},
   "outputs": [],
   "source": [
    "from gantools.blocks import *\n",
    "ns = 16\n",
    "X = np.random.rand(10,ns,ns)\n",
    "X = np.expand_dims(np.sin(2*np.pi*np.arange(ns)/ns), 0)\n",
    "X = np.expand_dims(np.sin(2*np.pi*np.arange(ns)/ns), 2)\n",
    "X = X*np.ones([1,1,ns])\n",
    "print(X.shape)\n",
    "# X = np.ones((10,ns,ns))\n",
    "\n",
    "fftX = tf.abs(tf.fft2d(X))/tf.constant(ns, dtype=tf.float32)\n",
    "fftX = tf.expand_dims(fftX,axis=2+1)\n",
    "\n",
    "S = get_fourier_sum_matrix(ns,2).astype(np.float32)\n",
    "\n",
    "print(S.shape)\n",
    "tfS = tf.SparseTensor(\n",
    "    indices=np.array([S.row, S.col]).T,\n",
    "    values=S.data,\n",
    "    dense_shape=S.shape)\n",
    "fftx = reshape2d(fftX)\n",
    "print(fftx.shape)\n",
    "with tf.Session() as sess:\n",
    "    print(fftX.eval()[0,:,:,0])\n",
    "    \n",
    "    print(tf.shape(tfS).eval())\n",
    "    \n",
    "# psd_features =  tf.matmul(fftx, tfS)\n",
    "psd_features = tf.transpose(tf.sparse_tensor_dense_matmul(tfS, fftx, adjoint_a=False, adjoint_b=True))\n",
    "psd_features.shape\n"
   ]
  },
  {
   "cell_type": "code",
   "execution_count": null,
   "metadata": {},
   "outputs": [],
   "source": [
    "with tf.Session() as sess:\n",
    "    print(psd_features.eval()[0])"
   ]
  },
  {
   "cell_type": "code",
   "execution_count": null,
   "metadata": {},
   "outputs": [],
   "source": []
  }
 ],
 "metadata": {
  "kernelspec": {
   "display_name": "Python 3",
   "language": "python",
   "name": "python3"
  },
  "language_info": {
   "codemirror_mode": {
    "name": "ipython",
    "version": 3
   },
   "file_extension": ".py",
   "mimetype": "text/x-python",
   "name": "python",
   "nbconvert_exporter": "python",
   "pygments_lexer": "ipython3",
   "version": "3.5.2"
  }
 },
 "nbformat": 4,
 "nbformat_minor": 2
}
