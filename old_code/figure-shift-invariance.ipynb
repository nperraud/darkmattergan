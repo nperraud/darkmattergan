{
 "cells": [
  {
   "cell_type": "code",
   "execution_count": null,
   "metadata": {},
   "outputs": [],
   "source": [
    "import numpy as np\n",
    "from scipy.signal import convolve2d\n",
    "from matplotlib import pylab as plt"
   ]
  },
  {
   "cell_type": "code",
   "execution_count": null,
   "metadata": {},
   "outputs": [],
   "source": [
    "import os\n",
    "pathfig = 'figures/'\n",
    "os.makedirs(pathfig, exist_ok=True)"
   ]
  },
  {
   "cell_type": "code",
   "execution_count": null,
   "metadata": {},
   "outputs": [],
   "source": [
    "from gantools.data import load\n",
    "from gantools.data import fmap\n",
    "forward = fmap.log_forward"
   ]
  },
  {
   "cell_type": "code",
   "execution_count": null,
   "metadata": {},
   "outputs": [],
   "source": [
    "dataset =load.load_dataset(spix=256, resolution=256, Mpch=70, forward_map=forward)\n"
   ]
  },
  {
   "cell_type": "code",
   "execution_count": null,
   "metadata": {},
   "outputs": [],
   "source": [
    "samples = dataset.get_samples(16)"
   ]
  },
  {
   "cell_type": "code",
   "execution_count": null,
   "metadata": {},
   "outputs": [],
   "source": [
    "sample0 = samples[0]\n",
    "sample0_shift = np.roll(sample0, 128) \n",
    "\n",
    "ker = np.ones([10,5])\n",
    "conv_sample0 = convolve2d(sample0, ker, 'same')\n",
    "conv_sample0_shift = convolve2d(sample0_shift, ker, 'same')"
   ]
  },
  {
   "cell_type": "code",
   "execution_count": null,
   "metadata": {},
   "outputs": [],
   "source": [
    "cmap = plt.cm.plasma\n",
    "\n",
    "plt.figure(figsize=(5,5))\n",
    "plt.imshow(sample0, cmap=cmap)\n",
    "plt.axis('off');\n",
    "plt.savefig(pathfig+\"img_ori\", bbox_inches='tight')\n",
    "\n",
    "plt.figure(figsize=(5,5))\n",
    "plt.imshow(sample0_shift, cmap=cmap)\n",
    "plt.axis('off');\n",
    "plt.savefig(pathfig+\"img_shift\", bbox_inches='tight')\n"
   ]
  },
  {
   "cell_type": "code",
   "execution_count": null,
   "metadata": {},
   "outputs": [],
   "source": [
    "plt.figure(figsize=(5,5))\n",
    "plt.imshow(conv_sample0, cmap=cmap)\n",
    "plt.axis('off');\n",
    "plt.savefig(pathfig+\"img_ori_conv\", bbox_inches='tight')\n",
    "\n",
    "\n",
    "plt.figure(figsize=(5,5))\n",
    "plt.imshow(conv_sample0_shift,cmap=cmap)\n",
    "plt.axis('off');\n",
    "plt.savefig(pathfig+\"img_shift_conv\", bbox_inches='tight')\n"
   ]
  },
  {
   "cell_type": "code",
   "execution_count": null,
   "metadata": {},
   "outputs": [],
   "source": []
  },
  {
   "cell_type": "code",
   "execution_count": null,
   "metadata": {},
   "outputs": [],
   "source": []
  }
 ],
 "metadata": {
  "kernelspec": {
   "display_name": "Python 3",
   "language": "python",
   "name": "python3"
  },
  "language_info": {
   "codemirror_mode": {
    "name": "ipython",
    "version": 3
   },
   "file_extension": ".py",
   "mimetype": "text/x-python",
   "name": "python",
   "nbconvert_exporter": "python",
   "pygments_lexer": "ipython3",
   "version": "3.6.4"
  }
 },
 "nbformat": 4,
 "nbformat_minor": 2
}
