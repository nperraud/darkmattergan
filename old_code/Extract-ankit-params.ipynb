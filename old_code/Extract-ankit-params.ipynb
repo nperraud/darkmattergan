{
 "cells": [
  {
   "cell_type": "code",
   "execution_count": 6,
   "metadata": {},
   "outputs": [],
   "source": [
    "import numpy as np\n",
    "from gantools import utils\n",
    "import os"
   ]
  },
  {
   "cell_type": "code",
   "execution_count": 9,
   "metadata": {},
   "outputs": [],
   "source": [
    "pathmodel = '../trained_models/3DCosmo'\n",
    "pathsample = '../samples/3DCosmo'"
   ]
  },
  {
   "cell_type": "code",
   "execution_count": 10,
   "metadata": {},
   "outputs": [],
   "source": [
    "name = '0_to_32'\n",
    "checkpoint = 27000\n",
    "\n",
    "pathmodel32 = os.path.join(pathmodel, name)\n",
    "params_32 = utils.load_params(pathmodel32)"
   ]
  },
  {
   "cell_type": "code",
   "execution_count": 11,
   "metadata": {},
   "outputs": [
    {
     "data": {
      "text/plain": [
       "{'Nstats': 2000,\n",
       " 'net': {'cosmology': {'backward_map': functools.partial(<function log_norm_backward at 0x7f83a09ad158>, scale=6.0, c=8000.0),\n",
       "   'forward_map': functools.partial(<function log_norm_forward at 0x7f83a09ad048>, scale=6.0, c=8000.0)},\n",
       "  'discriminator': {'batch_norm': [False, False, False, False, False, False],\n",
       "   'data_size': 3,\n",
       "   'full': [64, 16],\n",
       "   'inception': True,\n",
       "   'minibatch_reg': False,\n",
       "   'nfilter': [64, 64, 32, 16, 8, 2],\n",
       "   'non_lin': None,\n",
       "   'one_pixel_mapping': [],\n",
       "   'stride': [2, 2, 1, 1, 1, 1],\n",
       "   'summary': True},\n",
       "  'gamma_gp': 5,\n",
       "  'generator': {'batch_norm': [False,\n",
       "    False,\n",
       "    False,\n",
       "    False,\n",
       "    False,\n",
       "    False,\n",
       "    False],\n",
       "   'data_size': 3,\n",
       "   'full': [64],\n",
       "   'inception': True,\n",
       "   'latent_dim': 100,\n",
       "   'nfilter': [8, 32, 64, 64, 64, 32, 32, 1],\n",
       "   'non_lin': <function tensorflow.python.ops.gen_nn_ops.relu(features, name=None)>,\n",
       "   'one_pixel_mapping': [],\n",
       "   'residual': False,\n",
       "   'stride': [2, 2, 2, 2, 1, 1, 1, 1],\n",
       "   'summary': True},\n",
       "  'prior_distribution': 'gaussian',\n",
       "  'shape': [32, 32, 32, 1],\n",
       "  'upsampling': None},\n",
       " 'optimization': {'batch_size': 8,\n",
       "  'discriminator': {'kwargs': {},\n",
       "   'learning_rate': 3e-05,\n",
       "   'optimizer': 'rmsprop'},\n",
       "  'encoder': {'kwargs': {}, 'learning_rate': 3e-05, 'optimizer': 'rmsprop'},\n",
       "  'epoch': 10000,\n",
       "  'generator': {'kwargs': {}, 'learning_rate': 3e-05, 'optimizer': 'rmsprop'},\n",
       "  'n_critic': 5},\n",
       " 'print_every': 100,\n",
       " 'save_dir': '../trained_models/3DCosmo/0_to_32',\n",
       " 'save_every': 1000,\n",
       " 'summary_dir': '../trained_models/3DCosmo/0_to_32summary/',\n",
       " 'summary_every': 200}"
      ]
     },
     "execution_count": 11,
     "metadata": {},
     "output_type": "execute_result"
    }
   ],
   "source": [
    "params_32"
   ]
  },
  {
   "cell_type": "code",
   "execution_count": 12,
   "metadata": {},
   "outputs": [],
   "source": [
    "name = '32_to_64'\n",
    "pathmodel64 = os.path.join(pathmodel, name)\n",
    "params_64 = utils.load_params(pathmodel64)\n",
    "params_64['net']['generator']['use_old_gen'] = True"
   ]
  },
  {
   "cell_type": "code",
   "execution_count": 13,
   "metadata": {},
   "outputs": [
    {
     "data": {
      "text/plain": [
       "{'Nstats': 1000,\n",
       " 'net': {'cosmology': {'backward_map': functools.partial(<function log_norm_backward at 0x7f83a09ad158>, scale=6.0, c=8000.0),\n",
       "   'forward_map': functools.partial(<function log_norm_forward at 0x7f83a09ad048>, scale=6.0, c=8000.0)},\n",
       "  'discriminator': {'batch_norm': [False, False, False, False, False, False],\n",
       "   'data_size': 3,\n",
       "   'full': [64, 16],\n",
       "   'inception': True,\n",
       "   'minibatch_reg': False,\n",
       "   'nfilter': [64, 64, 64, 64, 32, 2],\n",
       "   'non_lin': None,\n",
       "   'one_pixel_mapping': [],\n",
       "   'stride': [2, 2, 2, 1, 1, 1],\n",
       "   'summary': True},\n",
       "  'gamma_gp': 5,\n",
       "  'generator': {'batch_norm': [False,\n",
       "    False,\n",
       "    False,\n",
       "    False,\n",
       "    False,\n",
       "    False,\n",
       "    False],\n",
       "   'data_size': 3,\n",
       "   'full': [],\n",
       "   'inception': True,\n",
       "   'latent_dim': 32768,\n",
       "   'nfilter': [64, 64, 64, 64, 64, 64, 64, 1],\n",
       "   'non_lin': <function tensorflow.python.ops.gen_nn_ops.relu(features, name=None)>,\n",
       "   'one_pixel_mapping': [],\n",
       "   'residual': True,\n",
       "   'stride': [1, 1, 1, 1, 1, 1, 1, 1],\n",
       "   'summary': True,\n",
       "   'use_old_gen': True},\n",
       "  'prior_distribution': 'gaussian',\n",
       "  'shape': [32, 32, 32, 8],\n",
       "  'upsampling': 2},\n",
       " 'optimization': {'batch_size': 8,\n",
       "  'discriminator': {'kwargs': {},\n",
       "   'learning_rate': 3e-05,\n",
       "   'optimizer': 'rmsprop'},\n",
       "  'encoder': {'kwargs': {}, 'learning_rate': 3e-05, 'optimizer': 'rmsprop'},\n",
       "  'epoch': 2000,\n",
       "  'generator': {'kwargs': {}, 'learning_rate': 3e-05, 'optimizer': 'rmsprop'},\n",
       "  'n_critic': 5},\n",
       " 'print_every': 100,\n",
       " 'save_dir': '../trained_models/3DCosmo/32_to_64',\n",
       " 'save_every': 1000,\n",
       " 'summary_dir': '../saved_result/resnet_32_to_64_log_normsummary/',\n",
       " 'summary_every': 200}"
      ]
     },
     "execution_count": 13,
     "metadata": {},
     "output_type": "execute_result"
    }
   ],
   "source": [
    "params_64"
   ]
  },
  {
   "cell_type": "code",
   "execution_count": 14,
   "metadata": {},
   "outputs": [],
   "source": [
    "name = '64_to_256'\n",
    "pathmodel256 = os.path.join(pathmodel, name)\n",
    "\n",
    "params_256 = utils.load_params(pathmodel256)"
   ]
  },
  {
   "cell_type": "code",
   "execution_count": 15,
   "metadata": {},
   "outputs": [
    {
     "data": {
      "text/plain": [
       "{'Nstats': 1000,\n",
       " 'net': {'cosmology': {'backward_map': functools.partial(<function log_norm_backward at 0x7f83a09ad158>, scale=6.0, c=8000.0),\n",
       "   'forward_map': functools.partial(<function log_norm_forward at 0x7f83a09ad048>, scale=6.0, c=8000.0)},\n",
       "  'discriminator': {'batch_norm': [False, False, False, False, False, False],\n",
       "   'data_size': 3,\n",
       "   'full': [64, 16],\n",
       "   'inception': True,\n",
       "   'minibatch_reg': False,\n",
       "   'nfilter': [64, 64, 32, 16, 8, 2],\n",
       "   'non_lin': None,\n",
       "   'one_pixel_mapping': [],\n",
       "   'stride': [2, 2, 2, 1, 1, 1],\n",
       "   'summary': True},\n",
       "  'gamma_gp': 5,\n",
       "  'generator': {'batch_norm': [False,\n",
       "    False,\n",
       "    False,\n",
       "    False,\n",
       "    False,\n",
       "    False,\n",
       "    False],\n",
       "   'data_size': 3,\n",
       "   'full': [],\n",
       "   'inception': True,\n",
       "   'latent_dim': 32768,\n",
       "   'nfilter': [32, 32, 32, 32, 32, 32, 32, 1],\n",
       "   'non_lin': <function tensorflow.python.ops.gen_nn_ops.relu(features, name=None)>,\n",
       "   'one_pixel_mapping': [],\n",
       "   'residual': True,\n",
       "   'stride': [1, 1, 1, 1, 1, 1, 1, 1],\n",
       "   'summary': True,\n",
       "   'use_old_gen': True},\n",
       "  'prior_distribution': 'gaussian',\n",
       "  'shape': [32, 32, 32, 8],\n",
       "  'upsampling': 4},\n",
       " 'optimization': {'batch_size': 8,\n",
       "  'discriminator': {'kwargs': {},\n",
       "   'learning_rate': 3e-05,\n",
       "   'optimizer': 'rmsprop'},\n",
       "  'encoder': {'kwargs': {}, 'learning_rate': 3e-05, 'optimizer': 'rmsprop'},\n",
       "  'epoch': 2000,\n",
       "  'generator': {'kwargs': {}, 'learning_rate': 3e-05, 'optimizer': 'rmsprop'},\n",
       "  'n_critic': 5},\n",
       " 'print_every': 100,\n",
       " 'save_dir': '../trained_models/3DCosmo/64_to_256',\n",
       " 'save_every': 1000,\n",
       " 'summary_dir': '../saved_result/resnet_64_to_256_log_normsummary/',\n",
       " 'summary_every': 200}"
      ]
     },
     "execution_count": 15,
     "metadata": {},
     "output_type": "execute_result"
    }
   ],
   "source": [
    "params_256"
   ]
  },
  {
   "cell_type": "code",
   "execution_count": 16,
   "metadata": {},
   "outputs": [],
   "source": [
    "name = 'uni_scale'\n",
    "pathmodel_uniscale = os.path.join(pathmodel, name)\n",
    "params_uniscale = utils.load_params(pathmodel_uniscale)"
   ]
  },
  {
   "cell_type": "code",
   "execution_count": 17,
   "metadata": {},
   "outputs": [
    {
     "data": {
      "text/plain": [
       "{'Nstats': 2000,\n",
       " 'net': {'cosmology': {'backward_map': <function gantools.data.fmap.stat_backward(x, c=20000.0, shift=3)>,\n",
       "   'forward_map': <function gantools.data.fmap.stat_forward(x, c=20000.0, shift=3)>},\n",
       "  'discriminator': {'batch_norm': [False, False, False, False, False, False],\n",
       "   'data_size': 3,\n",
       "   'full': [64, 16],\n",
       "   'inception': True,\n",
       "   'minibatch_reg': False,\n",
       "   'nfilter': [64, 64, 32, 16, 8, 2],\n",
       "   'non_lin': None,\n",
       "   'one_pixel_mapping': [],\n",
       "   'stride': [2, 2, 2, 1, 1, 1],\n",
       "   'summary': True},\n",
       "  'gamma_gp': 5,\n",
       "  'generator': {'batch_norm': [False,\n",
       "    False,\n",
       "    False,\n",
       "    False,\n",
       "    False,\n",
       "    False,\n",
       "    False],\n",
       "   'data_size': 3,\n",
       "   'full': [],\n",
       "   'inception': True,\n",
       "   'latent_dim': 32768,\n",
       "   'nfilter': [32, 32, 64, 64, 64, 32, 32, 1],\n",
       "   'non_lin': None,\n",
       "   'one_pixel_mapping': [],\n",
       "   'residual': False,\n",
       "   'stride': [1, 1, 1, 1, 1, 1, 1, 1],\n",
       "   'summary': True,\n",
       "   'use_conv_over_deconv': False},\n",
       "  'prior_distribution': 'gaussian',\n",
       "  'shape': [32, 32, 32, 8],\n",
       "  'upsampling': None},\n",
       " 'optimization': {'batch_size': 8,\n",
       "  'discriminator': {'kwargs': {},\n",
       "   'learning_rate': 3e-05,\n",
       "   'optimizer': 'rmsprop'},\n",
       "  'encoder': {'kwargs': {}, 'learning_rate': 3e-05, 'optimizer': 'rmsprop'},\n",
       "  'epoch': 2000,\n",
       "  'generator': {'kwargs': {}, 'learning_rate': 3e-05, 'optimizer': 'rmsprop'},\n",
       "  'n_critic': 5},\n",
       " 'print_every': 100,\n",
       " 'save_dir': '../trained_models/3DCosmo/uni_scale',\n",
       " 'save_every': 1000,\n",
       " 'summary_dir': '../saved_result/inception_upscaling_GAN_3d_32_upscaling_GAN_3d_gen_8_disc_6_32_new_transsummary/',\n",
       " 'summary_every': 200}"
      ]
     },
     "execution_count": 17,
     "metadata": {},
     "output_type": "execute_result"
    }
   ],
   "source": [
    "params_uniscale"
   ]
  },
  {
   "cell_type": "code",
   "execution_count": null,
   "metadata": {},
   "outputs": [],
   "source": []
  }
 ],
 "metadata": {
  "kernelspec": {
   "display_name": "Python 3",
   "language": "python",
   "name": "python3"
  },
  "language_info": {
   "codemirror_mode": {
    "name": "ipython",
    "version": 3
   },
   "file_extension": ".py",
   "mimetype": "text/x-python",
   "name": "python",
   "nbconvert_exporter": "python",
   "pygments_lexer": "ipython3",
   "version": "3.5.2"
  }
 },
 "nbformat": 4,
 "nbformat_minor": 2
}
