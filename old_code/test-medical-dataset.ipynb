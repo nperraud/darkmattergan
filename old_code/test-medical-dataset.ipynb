{
 "cells": [
  {
   "cell_type": "code",
   "execution_count": null,
   "metadata": {},
   "outputs": [],
   "source": []
  },
  {
   "cell_type": "code",
   "execution_count": null,
   "metadata": {},
   "outputs": [],
   "source": [
    "from gantools.blocks import np_downsample_3d, np_downsample_2d\n",
    "import numpy as np\n",
    "import tensorflow as tf\n",
    "\n",
    "from gantools import data\n",
    "import matplotlib.pyplot as plt\n"
   ]
  },
  {
   "cell_type": "code",
   "execution_count": null,
   "metadata": {},
   "outputs": [],
   "source": [
    "forward = data.fmap.medical_forward\n",
    "        \n",
    "dataset1 = data.load.load_medical_dataset(\n",
    "    spix=128, forward_map=forward, patch=False, shuffle=False, augmentation=False, scaling=2)\n",
    "it1 = dataset1.iter(10)\n",
    "s1 = next(it1)\n",
    "# del it1, dataset1\n",
    "\n",
    "dataset2 = data.load.load_medical_dataset(\n",
    "    spix=32, forward_map=forward, patch=False, shuffle=False, augmentation=False, scaling=8)\n",
    "it2 = dataset2.iter(10)\n",
    "s2 = next(it2)\n",
    "# del it2, dataset2\n"
   ]
  },
  {
   "cell_type": "code",
   "execution_count": null,
   "metadata": {},
   "outputs": [],
   "source": [
    "np.testing.assert_allclose(np_downsample_3d(s1,4), s2)"
   ]
  },
  {
   "cell_type": "code",
   "execution_count": null,
   "metadata": {},
   "outputs": [],
   "source": [
    "print(dataset1.N)\n",
    "print(dataset2.N)"
   ]
  },
  {
   "cell_type": "code",
   "execution_count": null,
   "metadata": {},
   "outputs": [],
   "source": [
    "plt.imshow(np_downsample_3d(s1,4)[0,:,:,1])\n",
    "plt.figure()\n",
    "plt.imshow(s2[0,:,:,1])"
   ]
  },
  {
   "cell_type": "code",
   "execution_count": null,
   "metadata": {},
   "outputs": [],
   "source": []
  }
 ],
 "metadata": {
  "kernelspec": {
   "display_name": "Python 3",
   "language": "python",
   "name": "python3"
  },
  "language_info": {
   "codemirror_mode": {
    "name": "ipython",
    "version": 3
   },
   "file_extension": ".py",
   "mimetype": "text/x-python",
   "name": "python",
   "nbconvert_exporter": "python",
   "pygments_lexer": "ipython3",
   "version": "3.5.2"
  }
 },
 "nbformat": 4,
 "nbformat_minor": 2
}
