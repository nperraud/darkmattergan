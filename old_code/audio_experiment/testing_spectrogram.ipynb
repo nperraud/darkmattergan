{
 "cells": [
  {
   "cell_type": "code",
   "execution_count": null,
   "metadata": {},
   "outputs": [],
   "source": [
    "%load_ext autoreload\n",
    "%autoreload 2\n",
    "%matplotlib inline"
   ]
  },
  {
   "cell_type": "code",
   "execution_count": null,
   "metadata": {},
   "outputs": [],
   "source": [
    "import numpy as np\n",
    "import ltfatpy as ltfat\n",
    "from matplotlib import pyplot as plt"
   ]
  },
  {
   "cell_type": "code",
   "execution_count": null,
   "metadata": {},
   "outputs": [],
   "source": [
    "signal = ltfat.signals.gspi.gspi()"
   ]
  },
  {
   "cell_type": "code",
   "execution_count": null,
   "metadata": {},
   "outputs": [],
   "source": [
    "plt.plot(signal[0])"
   ]
  },
  {
   "cell_type": "code",
   "execution_count": null,
   "metadata": {},
   "outputs": [],
   "source": [
    "from ltfatpy import plotdgtreal\n",
    "from ltfatpy import pherm\n",
    "a = 10\n",
    "M = 500\n",
    "L = a * M\n",
    "c = ltfat.gabor.dgtreal.dgtreal(signal[0], 'gauss', a, M)[0]\n",
    "\n",
    "# Better plot: zero-frequency is displayed in the middle,\n",
    "# and the coefficients are show on a logarithmic scale.\n",
    "_ = plotdgtreal(c, a, M, dynrange=50, fs=signal[1])\n"
   ]
  },
  {
   "cell_type": "code",
   "execution_count": null,
   "metadata": {},
   "outputs": [],
   "source": [
    "def plot_sgram(signal, a = 128, M = 512, g='gauss', dynrange=80, **kwargs):\n",
    "    c = ltfat.gabor.dgtreal.dgtreal(signal, g, a, M)[0]\n",
    "    return plotdgtreal(c, a, M, dynrange=dynrange,**kwargs)\n"
   ]
  },
  {
   "cell_type": "code",
   "execution_count": null,
   "metadata": {},
   "outputs": [],
   "source": [
    "plt.figure(figsize=(10, 6))\n",
    "plot_sgram(signal[0], a=256, M=512, fs=signal[1], g='itersine', dynrange=80);"
   ]
  },
  {
   "cell_type": "code",
   "execution_count": null,
   "metadata": {},
   "outputs": [],
   "source": []
  }
 ],
 "metadata": {
  "kernelspec": {
   "display_name": "Python 3",
   "language": "python",
   "name": "python3"
  },
  "language_info": {
   "codemirror_mode": {
    "name": "ipython",
    "version": 3
   },
   "file_extension": ".py",
   "mimetype": "text/x-python",
   "name": "python",
   "nbconvert_exporter": "python",
   "pygments_lexer": "ipython3",
   "version": "3.5.2"
  }
 },
 "nbformat": 4,
 "nbformat_minor": 2
}
