{
 "cells": [
  {
   "cell_type": "code",
   "execution_count": null,
   "metadata": {},
   "outputs": [],
   "source": [
    "%load_ext autoreload\n",
    "%autoreload 2\n",
    "%pylab inline"
   ]
  },
  {
   "cell_type": "code",
   "execution_count": null,
   "metadata": {},
   "outputs": [],
   "source": [
    "import numpy as np\n",
    "import tensorflow as tf\n",
    "import os, sys, time\n",
    "os.environ[\"CUDA_VISIBLE_DEVICES\"]=\"\"\n",
    "import utils, optimization, metrics, plot"
   ]
  },
  {
   "cell_type": "markdown",
   "metadata": {},
   "source": [
    "# Parameters"
   ]
  },
  {
   "cell_type": "code",
   "execution_count": null,
   "metadata": {},
   "outputs": [],
   "source": [
    "spix = 256\n",
    "path = '../data/size{}_splits1000_n500x3/'.format(spix)\n",
    "input_pattern = 'Box_70*snapshot_050'\n",
    "file_ext = '.dat'\n",
    "k = 10"
   ]
  },
  {
   "cell_type": "markdown",
   "metadata": {},
   "source": [
    "# Data handling"
   ]
  },
  {
   "cell_type": "markdown",
   "metadata": {},
   "source": [
    "Load the data"
   ]
  },
  {
   "cell_type": "code",
   "execution_count": null,
   "metadata": {},
   "outputs": [],
   "source": [
    "queue = []\n",
    "for file in os.listdir(path):\n",
    "    if file.endswith(file_ext) and (np.all([x in file for x in input_pattern.split(\"*\")])):\n",
    "        queue.append(os.path.join(path, file))\n",
    "nsamples = len(queue)\n",
    "print('They are {} \"{}\" files.'.format(nsamples, file_ext))      "
   ]
  },
  {
   "cell_type": "code",
   "execution_count": null,
   "metadata": {},
   "outputs": [],
   "source": [
    "nsamples = 1000\n",
    "input_img = np.vstack(map(lambda i:np.fromfile(queue[i], dtype=float32), range(nsamples)))\n",
    "input_img.resize([nsamples,spix,spix])\n"
   ]
  },
  {
   "cell_type": "code",
   "execution_count": null,
   "metadata": {},
   "outputs": [],
   "source": [
    "input_img = utils.forward_map(input_img,k)\n",
    "\n",
    "# input_img = np.log(input_img+0.001)\n",
    "\n",
    "# p = np.random.permutation(nsamples)\n",
    "# input_img = input_img[p,]"
   ]
  },
  {
   "cell_type": "markdown",
   "metadata": {},
   "source": [
    "Let us make small patches of 64 :-)"
   ]
  },
  {
   "cell_type": "code",
   "execution_count": null,
   "metadata": {},
   "outputs": [],
   "source": []
  },
  {
   "cell_type": "markdown",
   "metadata": {},
   "source": [
    "# A) Load the model"
   ]
  },
  {
   "cell_type": "code",
   "execution_count": null,
   "metadata": {},
   "outputs": [],
   "source": [
    "import pickle\n",
    "from model import *\n",
    "from gan import *\n",
    "\n",
    "try:\n",
    "    del(params)\n",
    "    del(obj)\n",
    "except:\n",
    "    pass\n",
    "\n",
    "checkpoints = None\n",
    "\n",
    "\n",
    "# pathgan = '../../saved_result/WGAN64_2018_1_14_19_28checkpoints/'\n",
    "# checkpoints = '12000'\n",
    "# ns = 64\n",
    "\n",
    "\n",
    "# pathgan = '../../saved_result/WGAN128_2018_1_14_21_8checkpoints/'\n",
    "# checkpoints = '12600'\n",
    "# ns = 128\n",
    "\n",
    "pathgan = '../../saved_result/WGAN256_2018_1_13_14_25checkpoints/'\n",
    "checkpoints = '15000'\n",
    "ns = 256\n",
    "\n",
    "\n",
    "cut = spix//ns\n",
    "img_small = np.zeros([nsamples*cut*cut, ns, ns])\n",
    "for i in range(cut):\n",
    "    for j in range(cut):\n",
    "        l = j + i*cut \n",
    "        img_small[l*nsamples:(l+1)*nsamples,:,:] = input_img[:,i*ns:(i+1)*ns,j*ns:(j+1)*ns]\n",
    "\n",
    "\n",
    "with open(pathgan+'params.pkl', 'rb') as f:\n",
    "    params = pickle.load(f)\n",
    "obj = GAN(params)\n"
   ]
  },
  {
   "cell_type": "markdown",
   "metadata": {},
   "source": [
    "# Generate some samples"
   ]
  },
  {
   "cell_type": "code",
   "execution_count": null,
   "metadata": {},
   "outputs": [],
   "source": [
    "N = 500\n",
    "\n",
    "\n",
    "if checkpoints is None:\n",
    "    gen_sample, gen_sample_raw = obj.generate(N=N)\n",
    "else:\n",
    "    file_name = pathgan+obj.model_name+'-'+checkpoints\n",
    "    \n",
    "    gen_sample, gen_sample_raw = obj.generate(N=N, file_name=file_name)\n",
    "\n",
    "gen_sample = np.squeeze(gen_sample)\n",
    "gen_sample_raw = np.squeeze(gen_sample_raw)\n",
    "real_sample_raw = utils.backward_map(img_small[:N],k=k)"
   ]
  },
  {
   "cell_type": "markdown",
   "metadata": {},
   "source": [
    "Print a few samples"
   ]
  },
  {
   "cell_type": "code",
   "execution_count": null,
   "metadata": {},
   "outputs": [],
   "source": [
    "plt.figure(figsize=(15,15))\n",
    "utils.draw_images(gen_sample,nx=10,ny=10,px=ns,py=ns)"
   ]
  },
  {
   "cell_type": "markdown",
   "metadata": {},
   "source": [
    "# Evaluate the model"
   ]
  },
  {
   "cell_type": "code",
   "execution_count": null,
   "metadata": {},
   "outputs": [],
   "source": [
    "psd_gen, x = metrics.power_spectrum_batch_phys(X1=gen_sample_raw)\n",
    "psd_real, x = metrics.power_spectrum_batch_phys(X1=real_sample_raw)\n",
    "\n",
    "\n",
    "def psd_metric(gen_sample_raw, real_sample_raw):\n",
    "    psd_gen, _ = metrics.power_spectrum_batch_phys(X1=gen_sample_raw)\n",
    "    psd_real, _ = metrics.power_spectrum_batch_phys(X1=real_sample_raw)\n",
    "    psd_gen = np.mean(psd_gen, axis=0)    \n",
    "    psd_real = np.mean(psd_real, axis=0)\n",
    "    e = psd_real - psd_gen\n",
    "    l2 = np.mean(e*e)\n",
    "    loge = 10*(log10(psd_real+1e-5) - log10(psd_gen+1e-5))\n",
    "    logel2 = np.mean(loge*loge)\n",
    "    return l2, logel2\n",
    "l2, logel2 = psd_metric(gen_sample_raw, real_sample_raw)\n"
   ]
  },
  {
   "cell_type": "code",
   "execution_count": null,
   "metadata": {},
   "outputs": [],
   "source": [
    "print('Log PSD loss: {}\\n L2 PSD loss: {}'.format(logel2, l2))"
   ]
  },
  {
   "cell_type": "code",
   "execution_count": null,
   "metadata": {},
   "outputs": [],
   "source": [
    "fig = plt.Figure()\n",
    "ax = plt.gca()\n",
    "ax.set_xscale(\"log\")\n",
    "ax.set_yscale(\"log\")\n",
    "linestyle = {\"linewidth\": 1, \"markeredgewidth\": 0, \"markersize\": 3, \"marker\": \"o\", \"linestyle\": \"-\"}\n",
    "\n",
    "plot.plot_with_shade(ax, x, psd_gen, color='r', label=\"Fake $\\mathcal{F}(X))^2$\", **linestyle)\n",
    "plot.plot_with_shade(ax, x, psd_real, color='b', label=\"Real $\\mathcal{F}(X))^2$\", **linestyle)\n",
    "ax.set_ylim(bottom=0.1)\n",
    "ax.title.set_text(\"2D Power Spectrum\\n\")\n",
    "ax.title.set_fontsize(11)\n",
    "ax.tick_params(axis='both', which='major', labelsize=10)\n",
    "_ = ax.legend()\n"
   ]
  },
  {
   "cell_type": "code",
   "execution_count": null,
   "metadata": {},
   "outputs": [],
   "source": []
  },
  {
   "cell_type": "code",
   "execution_count": null,
   "metadata": {},
   "outputs": [],
   "source": [
    "\n",
    "sigma_smooth = [0,0.5,1]\n",
    "plot.plot_images_psd(real_sample_raw,'' , sigma_smooth = sigma_smooth)\n",
    "plot.plot_images_psd(gen_sample_raw,'' , sigma_smooth = sigma_smooth)"
   ]
  },
  {
   "cell_type": "code",
   "execution_count": null,
   "metadata": {},
   "outputs": [],
   "source": []
  },
  {
   "cell_type": "code",
   "execution_count": null,
   "metadata": {},
   "outputs": [],
   "source": []
  },
  {
   "cell_type": "code",
   "execution_count": null,
   "metadata": {},
   "outputs": [],
   "source": []
  }
 ],
 "metadata": {
  "kernelspec": {
   "display_name": "Python 3",
   "language": "python",
   "name": "python3"
  },
  "language_info": {
   "codemirror_mode": {
    "name": "ipython",
    "version": 3
   },
   "file_extension": ".py",
   "mimetype": "text/x-python",
   "name": "python",
   "nbconvert_exporter": "python",
   "pygments_lexer": "ipython3",
   "version": "3.5.4"
  }
 },
 "nbformat": 4,
 "nbformat_minor": 2
}
