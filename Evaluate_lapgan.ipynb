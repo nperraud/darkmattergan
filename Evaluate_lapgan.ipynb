{
 "cells": [
  {
   "cell_type": "code",
   "execution_count": 1,
   "metadata": {},
   "outputs": [
    {
     "name": "stdout",
     "output_type": "stream",
     "text": [
      "Populating the interactive namespace from numpy and matplotlib\n"
     ]
    }
   ],
   "source": [
    "%load_ext autoreload\n",
    "%autoreload 2\n",
    "%pylab inline"
   ]
  },
  {
   "cell_type": "code",
   "execution_count": 2,
   "metadata": {},
   "outputs": [],
   "source": [
    "import numpy as np\n",
    "import tensorflow as tf\n",
    "import os, sys, time\n",
    "os.environ[\"CUDA_VISIBLE_DEVICES\"]=\"\"\n",
    "import utils, optimization, metrics, plot, data"
   ]
  },
  {
   "cell_type": "markdown",
   "metadata": {},
   "source": [
    "# Parameters"
   ]
  },
  {
   "cell_type": "code",
   "execution_count": 3,
   "metadata": {},
   "outputs": [],
   "source": [
    "ns = 64\n",
    "scalings = [2, 2, 2]\n",
    "nsamples = 1000\n",
    "k = 10"
   ]
  },
  {
   "cell_type": "markdown",
   "metadata": {},
   "source": [
    "# Data handling"
   ]
  },
  {
   "cell_type": "markdown",
   "metadata": {},
   "source": [
    "Load the data"
   ]
  },
  {
   "cell_type": "code",
   "execution_count": 4,
   "metadata": {},
   "outputs": [
    {
     "name": "stdout",
     "output_type": "stream",
     "text": [
      "Select 1000 samples out of 15000.\n"
     ]
    }
   ],
   "source": [
    "images, raw_images = data.load_samples(nsamples = nsamples)\n",
    "images = data.make_smaller_samples(images, ns)\n",
    "raw_images = data.make_smaller_samples(raw_images, ns)"
   ]
  },
  {
   "cell_type": "code",
   "execution_count": 5,
   "metadata": {},
   "outputs": [],
   "source": [
    "down_sampled_images = data.down_sample_images(images, scalings)"
   ]
  },
  {
   "cell_type": "markdown",
   "metadata": {},
   "source": [
    "# A) Load the model"
   ]
  },
  {
   "cell_type": "markdown",
   "metadata": {},
   "source": [
    "<span style=\"color:red\">Mistakes in the following code<span style=\"color:blue\">"
   ]
  },
  {
   "cell_type": "code",
   "execution_count": 157,
   "metadata": {},
   "outputs": [
    {
     "name": "stdout",
     "output_type": "stream",
     "text": [
      "Generator \n",
      "------------------------------------------------------------\n",
      "     The input is of size (?, 64)\n",
      "     0 Full layer with 512 outputs\n",
      "         Size of the variables: (?, 512)\n",
      "     Reshape to (?, 2, 2, 128)\n",
      "     1 Deconv layer with 128 channels\n",
      "         Batch norm\n",
      "         Size of the variables: (?, 4, 4, 128)\n",
      "     2 Deconv layer with 64 channels\n",
      "         Batch norm\n",
      "         Size of the variables: (?, 8, 8, 64)\n",
      "     3 Deconv layer with 1 channels\n",
      "         Size of the variables: (?, 8, 8, 1)\n",
      "     The output is of size (?, 8, 8, 1)\n",
      "------------------------------------------------------------\n",
      "\n",
      "Discriminator \n",
      "------------------------------------------------------------\n",
      "     The input is of size (?, 8, 8, 1)\n",
      "     0 Conv layer with 16 channels\n",
      "         Size of the variables: (?, 4, 4, 16)\n",
      "     1 Conv layer with 32 channels\n",
      "         Size of the variables: (?, 2, 2, 32)\n",
      "     2 Conv layer with 64 channels\n",
      "         Size of the variables: (?, 2, 2, 64)\n",
      "     Reshape to (?, 256)\n",
      "     3 Full layer with 128 outputs\n",
      "         Size of the variables: (?, 128)\n",
      "     4 Full layer with 1 outputs\n",
      "     The output is of size (?, 1)\n",
      "------------------------------------------------------------\n",
      "\n",
      "---------\n",
      "Variables: name (type shape) [size]\n",
      "---------\n",
      "generator/0_full/Matrix:0 (float32_ref 64x512) [32768, bytes: 131072]\n",
      "generator/0_full/bias:0 (float32_ref 512) [512, bytes: 2048]\n",
      "generator/0_deconv/w:0 (float32_ref 3x3x128x128) [147456, bytes: 589824]\n",
      "generator/0_deconv/biases:0 (float32_ref 128) [128, bytes: 512]\n",
      "generator/1_deconv/w:0 (float32_ref 3x3x64x128) [73728, bytes: 294912]\n",
      "generator/1_deconv/biases:0 (float32_ref 64) [64, bytes: 256]\n",
      "generator/2_deconv/w:0 (float32_ref 5x5x1x64) [1600, bytes: 6400]\n",
      "generator/2_deconv/biases:0 (float32_ref 1) [1, bytes: 4]\n",
      "discriminator/0_conv/w:0 (float32_ref 5x5x1x16) [400, bytes: 1600]\n",
      "discriminator/0_conv/biases:0 (float32_ref 16) [16, bytes: 64]\n",
      "discriminator/1_conv/w:0 (float32_ref 3x3x16x32) [4608, bytes: 18432]\n",
      "discriminator/1_conv/biases:0 (float32_ref 32) [32, bytes: 128]\n",
      "discriminator/2_conv/w:0 (float32_ref 3x3x32x64) [18432, bytes: 73728]\n",
      "discriminator/2_conv/biases:0 (float32_ref 64) [64, bytes: 256]\n",
      "discriminator/3_full/Matrix:0 (float32_ref 256x128) [32768, bytes: 131072]\n",
      "discriminator/3_full/bias:0 (float32_ref 128) [128, bytes: 512]\n",
      "discriminator/out/Matrix:0 (float32_ref 128x1) [128, bytes: 512]\n",
      "discriminator/out/bias:0 (float32_ref 1) [1, bytes: 4]\n",
      "Total size of variables: 312834\n",
      "Total bytes of variables: 1251336\n",
      "Using checkpoint: ../../saved_result/LAPWGAN64_level3__2018_2_2_15_41checkpoints/LAPWGAN64_level3_-16000\n",
      " [*] Reading checkpoints...\n",
      "Generator \n",
      "------------------------------------------------------------\n",
      "     The input X is of size (?, 8, 8, 1)\n",
      "     The input z is of size (?, 64)\n",
      "     Reshape z to (?, 8, 8, 1)\n",
      "     Concat x and z to (?, 8, 8, 2)\n",
      "     0 Deconv layer with 64 channels\n",
      "         Batch norm\n",
      "         Size of the variables: (?, 8, 8, 64)\n",
      "     1 Deconv layer with 128 channels\n",
      "         Batch norm\n",
      "         Size of the variables: (?, 8, 8, 128)\n",
      "     2 Deconv layer with 64 channels\n",
      "         Batch norm\n",
      "         Size of the variables: (?, 16, 16, 64)\n",
      "     3 Deconv layer with 1 channels\n",
      "         Size of the variables: (?, 16, 16, 1)\n",
      "    Non lienarity: tanh\n",
      "     The output is of size (?, 16, 16, 1)\n",
      "------------------------------------------------------------\n",
      "\n",
      "Discriminator \n",
      "------------------------------------------------------------\n",
      "     The input is of size (?, 16, 16, 3)\n",
      "     0 Conv layer with 16 channels\n",
      "         Size of the variables: (?, 8, 8, 16)\n",
      "     1 Conv layer with 128 channels\n",
      "         Size of the variables: (?, 4, 4, 128)\n",
      "     2 Conv layer with 128 channels\n",
      "         Size of the variables: (?, 2, 2, 128)\n",
      "     3 Conv layer with 64 channels\n",
      "         Size of the variables: (?, 2, 2, 64)\n",
      "     Reshape to (?, 256)\n",
      "     4 Full layer with 128 outputs\n",
      "         Size of the variables: (?, 128)\n",
      "     5 Full layer with 1 outputs\n",
      "     The output is of size (?, 1)\n",
      "------------------------------------------------------------\n",
      "\n",
      "---------\n",
      "Variables: name (type shape) [size]\n",
      "---------\n",
      "generator_up/0_deconv/w:0 (float32_ref 5x5x64x2) [3200, bytes: 12800]\n",
      "generator_up/0_deconv/biases:0 (float32_ref 64) [64, bytes: 256]\n",
      "generator_up/1_deconv/w:0 (float32_ref 5x5x128x64) [204800, bytes: 819200]\n",
      "generator_up/1_deconv/biases:0 (float32_ref 128) [128, bytes: 512]\n",
      "generator_up/2_deconv/w:0 (float32_ref 5x5x64x128) [204800, bytes: 819200]\n",
      "generator_up/2_deconv/biases:0 (float32_ref 64) [64, bytes: 256]\n",
      "generator_up/3_deconv/w:0 (float32_ref 5x5x1x64) [1600, bytes: 6400]\n",
      "generator_up/3_deconv/biases:0 (float32_ref 1) [1, bytes: 4]\n",
      "discriminator/0_conv/w:0 (float32_ref 5x5x3x16) [1200, bytes: 4800]\n",
      "discriminator/0_conv/biases:0 (float32_ref 16) [16, bytes: 64]\n",
      "discriminator/1_conv/w:0 (float32_ref 5x5x16x128) [51200, bytes: 204800]\n",
      "discriminator/1_conv/biases:0 (float32_ref 128) [128, bytes: 512]\n",
      "discriminator/2_conv/w:0 (float32_ref 3x3x128x128) [147456, bytes: 589824]\n",
      "discriminator/2_conv/biases:0 (float32_ref 128) [128, bytes: 512]\n",
      "discriminator/3_conv/w:0 (float32_ref 3x3x128x64) [73728, bytes: 294912]\n",
      "discriminator/3_conv/biases:0 (float32_ref 64) [64, bytes: 256]\n",
      "discriminator/4_full/Matrix:0 (float32_ref 256x128) [32768, bytes: 131072]\n",
      "discriminator/4_full/bias:0 (float32_ref 128) [128, bytes: 512]\n",
      "discriminator/out/Matrix:0 (float32_ref 128x1) [128, bytes: 512]\n",
      "discriminator/out/bias:0 (float32_ref 1) [1, bytes: 4]\n",
      "Total size of variables: 721602\n",
      "Total bytes of variables: 2886408\n",
      "Using checkpoint: ../../saved_result/LAPWGAN64_level2__2018_2_2_12_49checkpoints/LAPWGAN64_level2_-19800\n",
      " [*] Reading checkpoints...\n"
     ]
    }
   ],
   "source": [
    "import pickle\n",
    "from model import *\n",
    "from gan import *\n",
    "\n",
    "\n",
    "\n",
    "\n",
    "\n",
    "ts = [None, None, '2018_2_2_12_49', '2018_2_2_15_41']\n",
    "checkpoints = [None, None, '19800', '16000']\n",
    "# checkpoints = [None, None, None, '32600']\n",
    "\n",
    "\n",
    "ngan = len(scalings)+1\n",
    "N = 1000\n",
    "down_sampled_generated = [None]*ngan\n",
    "down_sampled_generated_raw = [None]*ngan\n",
    "\n",
    "for level in range(len(scalings),1,-1):\n",
    "\n",
    "    try:\n",
    "        del(params)\n",
    "        del(obj)\n",
    "    except:\n",
    "        pass\n",
    "    \n",
    "    pathgan = '../../saved_result/LAPWGAN64_level'+str(level)+'__'+ts[level]+'checkpoints/'\n",
    "\n",
    "    with open(pathgan+'params.pkl', 'rb') as f:\n",
    "        params = pickle.load(f)\n",
    "    obj = GAN(params)\n",
    "\n",
    "    if level == len(scalings):\n",
    "        gen_sample = None\n",
    "#     else:\n",
    "#         gen_sample = np.expand_dims(down_sampled_images[level+1][:N], axis=3)\n",
    "    \n",
    "    if checkpoints[level] is None:\n",
    "        gen_sample, gen_sample_raw = obj.generate(N=N, y=gen_sample)\n",
    "    else:\n",
    "        file_name = pathgan + obj.model_name + '-' + checkpoints[level]\n",
    "        print('Using checkpoint: ' +file_name)\n",
    "        gen_sample, gen_sample_raw = obj.generate(N=N, y=gen_sample, file_name=file_name)\n",
    "    down_sampled_generated[level] = (np.squeeze(gen_sample))\n",
    "    down_sampled_generated_raw[level] = (np.squeeze(gen_sample_raw))\n",
    "\n",
    "\n",
    "\n",
    "\n"
   ]
  },
  {
   "cell_type": "markdown",
   "metadata": {},
   "source": [
    "Print a few samples"
   ]
  },
  {
   "cell_type": "code",
   "execution_count": 154,
   "metadata": {},
   "outputs": [
    {
     "data": {
      "image/png": "[encoded data removed]",
      "text/plain": [
       "<matplotlib.figure.Figure at 0x7fc04456db00>"
      ]
     },
     "metadata": {},
     "output_type": "display_data"
    },
    {
     "data": {
      "image/png": "[encoded data removed]",
      "text/plain": [
       "<matplotlib.figure.Figure at 0x7fc0b5ed3c50>"
      ]
     },
     "metadata": {},
     "output_type": "display_data"
    }
   ],
   "source": [
    "for level in range(len(scalings),1,-1):\n",
    "    f, (ax1, ax2) = plt.subplots(1, 2, sharey=True, figsize=(15,8))\n",
    "    utils.draw_images(np.squeeze(down_sampled_images[level]),nx=4,ny=4,axes = ax1, clim=[-1,1])\n",
    "    utils.draw_images(np.squeeze(down_sampled_generated[level]),nx=4,ny=4,axes = ax2, clim=[-1,1])"
   ]
  },
  {
   "cell_type": "markdown",
   "metadata": {},
   "source": [
    "# Evaluate the model"
   ]
  },
  {
   "cell_type": "markdown",
   "metadata": {},
   "source": [
    "Compute the real PSD over all samples"
   ]
  },
  {
   "cell_type": "code",
   "execution_count": 115,
   "metadata": {},
   "outputs": [],
   "source": [
    "psd_real_mean = [None]*ngan\n",
    "psd_real = [None]*ngan\n",
    "for level in range(len(scalings),1,-1):\n",
    "    real_sample_raw = utils.backward_map(down_sampled_images[level],k=k)\n",
    "    psd_real[level], x = metrics.power_spectrum_batch_phys(X1=real_sample_raw)\n",
    "    psd_real_mean[level] = np.mean(psd_real[level], axis=0)"
   ]
  },
  {
   "cell_type": "code",
   "execution_count": null,
   "metadata": {},
   "outputs": [],
   "source": []
  },
  {
   "cell_type": "code",
   "execution_count": 155,
   "metadata": {},
   "outputs": [
    {
     "name": "stdout",
     "output_type": "stream",
     "text": [
      "Level 3\n",
      "  Log l2 PSD loss: 0.10163927033581818\n",
      "  L2 PSD loss: 2359.737333538831\n",
      "  Log l1 PSD loss: 0.25765169821571937\n",
      "  L1 PSD loss: 30.62757916382626\n",
      "\n",
      "Level 2\n",
      "  Log l2 PSD loss: 0.2980038520981256\n",
      "  L2 PSD loss: 2101.7144766784727\n",
      "  Log l1 PSD loss: 0.38507457530446076\n",
      "  L1 PSD loss: 31.974611204676048\n",
      "\n"
     ]
    }
   ],
   "source": [
    "psd_gen_mean = [None]*ngan\n",
    "psd_gen = [None]*ngan\n",
    "x = [None]*ngan\n",
    "for level in range(len(scalings),1,-1):\n",
    "    psd_gen[level], x[level] = metrics.power_spectrum_batch_phys(X1=down_sampled_generated_raw[level])\n",
    "    psd_gen_mean[level] = np.mean(psd_gen[level], axis=0)    \n",
    "    l2, logel2, l1, logel1 = metrics.diff_psd(psd_real_mean[level], psd_gen_mean[level])\n",
    "    print('Level {}\\n  Log l2 PSD loss: {}\\n  L2 PSD loss: {}\\n  Log l1 PSD loss: {}\\n  L1 PSD loss: {}\\n'.format(level, logel2, l2, logel1, l1))\n"
   ]
  },
  {
   "cell_type": "code",
   "execution_count": 156,
   "metadata": {},
   "outputs": [
    {
     "data": {
      "image/png": "[encoded data removed]",
      "text/plain": [
       "<matplotlib.figure.Figure at 0x7fbff17462b0>"
      ]
     },
     "metadata": {},
     "output_type": "display_data"
    },
    {
     "data": {
      "image/png": "[encoded data removed]",
      "text/plain": [
       "<matplotlib.figure.Figure at 0x7fbff0ca2da0>"
      ]
     },
     "metadata": {},
     "output_type": "display_data"
    }
   ],
   "source": [
    "for level in range(len(scalings),1,-1):\n",
    "    plt.figure()\n",
    "    ax = plt.gca()\n",
    "    ax.set_xscale(\"log\")\n",
    "    ax.set_yscale(\"log\")\n",
    "    linestyle = {\"linewidth\": 1, \"markeredgewidth\": 0, \"markersize\": 3, \"marker\": \"o\", \"linestyle\": \"-\"}\n",
    "\n",
    "    plot.plot_with_shade(ax, x[level], psd_gen[level], color='r', label=\"Fake $\\mathcal{F}(X))^2$\", **linestyle)\n",
    "    plot.plot_with_shade(ax, x[level], psd_real[level], color='b', label=\"Real $\\mathcal{F}(X))^2$\", **linestyle)\n",
    "    ax.set_ylim(bottom=0.1)\n",
    "    ax.title.set_text(\"2D Power Spectrum level{}\\n\".format(level))\n",
    "    ax.title.set_fontsize(11)\n",
    "    ax.tick_params(axis='both', which='major', labelsize=10)\n",
    "    _ = ax.legend()\n"
   ]
  },
  {
   "cell_type": "code",
   "execution_count": null,
   "metadata": {},
   "outputs": [],
   "source": []
  },
  {
   "cell_type": "code",
   "execution_count": 27,
   "metadata": {},
   "outputs": [],
   "source": [
    "\n",
    "# sigma_smooth = [0,0.5,1]\n",
    "# plot.plot_images_psd(real_sample_raw,'' , sigma_smooth = sigma_smooth)\n",
    "# plot.plot_images_psd(gen_sample_raw,'' , sigma_smooth = sigma_smooth)"
   ]
  },
  {
   "cell_type": "code",
   "execution_count": 171,
   "metadata": {},
   "outputs": [
    {
     "data": {
      "text/plain": [
       "{'clip_max_real': False,\n",
       " 'discriminator': {'batch_norm': [False, False, False, False],\n",
       "  'full': [128],\n",
       "  'minibatch_reg': False,\n",
       "  'nfilter': [16, 128, 128, 64],\n",
       "  'shape': [[5, 5], [5, 5], [3, 3], [3, 3]],\n",
       "  'stride': [2, 2, 2, 1],\n",
       "  'summary': True},\n",
       " 'generator': {'batch_norm': [False, False, False],\n",
       "  'latent_dim': 64,\n",
       "  'nfilter': [64, 128, 64, 1],\n",
       "  'non_lin': 'tanh',\n",
       "  'shape': [[5, 5], [5, 5], [5, 5], [5, 5]],\n",
       "  'stride': [1, 1, 2, 1],\n",
       "  'summary': True,\n",
       "  'upsampling': 2},\n",
       " 'image_size': [16, 16],\n",
       " 'k': 10,\n",
       " 'log_clip': 0.1,\n",
       " 'model': model.LapGanModel,\n",
       " 'name': 'LAPWGAN64_level2_',\n",
       " 'normalize': False,\n",
       " 'optimization': {'batch_size': 16,\n",
       "  'beta1': 0.0,\n",
       "  'beta2': 0.9,\n",
       "  'disc_learning_rate': 3e-05,\n",
       "  'disc_optimizer': 'adam',\n",
       "  'epoch': 10,\n",
       "  'epsilon': 1e-08,\n",
       "  'gamma_gp': 10,\n",
       "  'gen_learning_rate': 3e-05,\n",
       "  'gen_optimizer': 'adam',\n",
       "  'optimizer': 'adam',\n",
       "  'weight_l2': 0.1},\n",
       " 'prior_distribution': 'gaussian',\n",
       " 'save_dir': '../../saved_result/LAPWGAN64_level2__2018_2_2_12_49checkpoints/',\n",
       " 'save_every': 2000,\n",
       " 'sigma_smooth': 1,\n",
       " 'sum_every': 200,\n",
       " 'summary_dir': '../../saved_result/LAPWGAN64_level2__2018_2_2_12_49summary/',\n",
       " 'viz_every': 200}"
      ]
     },
     "execution_count": 171,
     "metadata": {},
     "output_type": "execute_result"
    }
   ],
   "source": [
    "params"
   ]
  },
  {
   "cell_type": "code",
   "execution_count": null,
   "metadata": {},
   "outputs": [],
   "source": []
  },
  {
   "cell_type": "code",
   "execution_count": null,
   "metadata": {},
   "outputs": [],
   "source": []
  }
 ],
 "metadata": {
  "kernelspec": {
   "display_name": "Python 3",
   "language": "python",
   "name": "python3"
  },
  "language_info": {
   "codemirror_mode": {
    "name": "ipython",
    "version": 3
   },
   "file_extension": ".py",
   "mimetype": "text/x-python",
   "name": "python",
   "nbconvert_exporter": "python",
   "pygments_lexer": "ipython3",
   "version": "3.5.2"
  }
 },
 "nbformat": 4,
 "nbformat_minor": 2
}
