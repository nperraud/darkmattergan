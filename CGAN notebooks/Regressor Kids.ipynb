{
 "cells": [
  {
   "cell_type": "code",
   "execution_count": null,
   "metadata": {},
   "outputs": [],
   "source": [
    "%load_ext autoreload\n",
    "%autoreload 2\n",
    "%matplotlib inline"
   ]
  },
  {
   "cell_type": "code",
   "execution_count": null,
   "metadata": {},
   "outputs": [],
   "source": [
    "import os\n",
    "import numpy as np\n",
    "import tensorflow as tf\n",
    "import matplotlib.pyplot as plt\n",
    "from sklearn.metrics import mean_squared_error\n",
    "\n",
    "os.environ[\"CUDA_VISIBLE_DEVICES\"]=\"1\"\n",
    "\n",
    "import sys\n",
    "sys.path.insert(0, '../')\n",
    "from gantools.data import transformation\n",
    "from gantools.regressor import Regressor, get_regressor_outputs\n",
    "from gantools.gansystem import NNSystem\n",
    "from gantools import plot\n",
    "from gantools import utils\n",
    "\n",
    "from cosmotools.data import load\n",
    "from cosmotools.utils import histogram_large, find_minmax_large\n"
   ]
  },
  {
   "cell_type": "code",
   "execution_count": null,
   "metadata": {},
   "outputs": [],
   "source": [
    "# Note: some of the parameters don't make sense for the fake dataset\n",
    "ns = 128 # Resolution of the image\n",
    "try_resume = True # Try to resume previous simulation"
   ]
  },
  {
   "cell_type": "markdown",
   "metadata": {},
   "source": [
    "# Data handling"
   ]
  },
  {
   "cell_type": "markdown",
   "metadata": {},
   "source": [
    "Load the data"
   ]
  },
  {
   "cell_type": "code",
   "execution_count": null,
   "metadata": {},
   "outputs": [],
   "source": [
    "dataset = load.load_params_dataset(filename='kids_reg_train.h5', batch=10000, transform=transformation.random_transpose_2d, shape=[ns, ns])"
   ]
  },
  {
   "cell_type": "code",
   "execution_count": null,
   "metadata": {},
   "outputs": [],
   "source": [
    "dataset.N"
   ]
  },
  {
   "cell_type": "code",
   "execution_count": null,
   "metadata": {},
   "outputs": [],
   "source": [
    "vmin, vmax = find_minmax_large(dataset)"
   ]
  },
  {
   "cell_type": "code",
   "execution_count": null,
   "metadata": {},
   "outputs": [],
   "source": [
    "histo, x = histogram_large(dataset, lim=(vmin, vmax))"
   ]
  },
  {
   "cell_type": "code",
   "execution_count": null,
   "metadata": {},
   "outputs": [],
   "source": [
    "plot.plot_histogram(x, histo)\n",
    "print('min: {}'.format(vmin))\n",
    "print('max: {}'.format(vmax))"
   ]
  },
  {
   "cell_type": "markdown",
   "metadata": {},
   "source": [
    "Let us plot 16 images"
   ]
  },
  {
   "cell_type": "code",
   "execution_count": null,
   "metadata": {},
   "outputs": [],
   "source": [
    "vmax = 0.3 # Set arbitrary vmax to have nicer plot"
   ]
  },
  {
   "cell_type": "code",
   "execution_count": null,
   "metadata": {},
   "outputs": [],
   "source": [
    "def title_func(params):\n",
    "    return \"$\\Omega_M$: \" + str(params[0])[0:7] + \", $\\sigma_8$: \" + str(params[1])[0:7]"
   ]
  },
  {
   "cell_type": "code",
   "execution_count": null,
   "metadata": {},
   "outputs": [],
   "source": [
    "fig, ax = plt.subplots(nrows=4, ncols=4, figsize=(15,15))\n",
    "idx = 0\n",
    "imgs = dataset.get_samples(N=16)[0]\n",
    "params = dataset.get_samples(N=16)[1]\n",
    "for row in ax:\n",
    "    for col in row:\n",
    "        col.imshow(imgs[idx, :, :, 0], vmin=vmin, vmax=vmax)\n",
    "        col.axis('off')\n",
    "        col.set_title(title_func(params[idx]))\n",
    "        idx = idx + 1\n",
    "fig.tight_layout()"
   ]
  },
  {
   "cell_type": "markdown",
   "metadata": {},
   "source": [
    "# Define parameters for the WGAN"
   ]
  },
  {
   "cell_type": "code",
   "execution_count": null,
   "metadata": {},
   "outputs": [],
   "source": [
    "time_str = '2D_mac'\n",
    "global_path = '../saved_results/Regressor/'\n",
    "\n",
    "name = 'Kids_Regressor_' + str(ns) + '_smart_' + time_str"
   ]
  },
  {
   "cell_type": "markdown",
   "metadata": {},
   "source": [
    "## Parameters"
   ]
  },
  {
   "cell_type": "code",
   "execution_count": null,
   "metadata": {},
   "outputs": [],
   "source": [
    "bn = False\n",
    "\n",
    "# Parameters for the regressor\n",
    "params_regressor = dict()\n",
    "params_regressor['full'] = [512, 256, 128]\n",
    "params_regressor['nfilter'] = [32, 64, 128, 256, 512]\n",
    "params_regressor['batch_norm'] = [bn, bn, bn, bn, bn]\n",
    "params_regressor['shape'] = [[7, 7], [5, 5], [5, 5], [5,5], [3,3]]\n",
    "params_regressor['stride'] = [1, 2, 2, 2, 2]\n",
    "\n",
    "# Optimization parameters\n",
    "params_optimization = dict()\n",
    "params_optimization['learning_rate'] = 3e-5\n",
    "params_optimization['batch_size'] = 64\n",
    "params_optimization['epoch'] = 100\n",
    "\n",
    "# all parameters\n",
    "params = dict()\n",
    "params['net'] = dict() # All the parameters for the model\n",
    "params['net']['regressor'] = params_regressor\n",
    "params['net']['shape'] = [ns, ns, 1] # Shape of the image\n",
    "params['net']['cond_params'] = 2\n",
    "params['optimization'] = params_optimization\n",
    "params['summary_every'] = 2000 # Tensorboard summaries every ** iterations\n",
    "params['print_every'] = 1000 # Console summaries every ** iterations\n",
    "params['save_every'] = 10000 # Save the model every ** iterations\n",
    "params['summary_dir'] = os.path.join(global_path, name +'_summary/')\n",
    "params['save_dir'] = os.path.join(global_path, name + '_checkpoints/')\n"
   ]
  },
  {
   "cell_type": "code",
   "execution_count": null,
   "metadata": {},
   "outputs": [],
   "source": [
    "resume, params = utils.test_resume(try_resume, params)\n",
    "params['summary_dir'] = os.path.join(global_path, name +'_summary/')\n",
    "params['save_dir'] = os.path.join(global_path, name + '_checkpoints/')"
   ]
  },
  {
   "cell_type": "markdown",
   "metadata": {},
   "source": [
    "# Build the model"
   ]
  },
  {
   "cell_type": "code",
   "execution_count": null,
   "metadata": {},
   "outputs": [],
   "source": [
    "reg = NNSystem(Regressor, params)"
   ]
  },
  {
   "cell_type": "markdown",
   "metadata": {},
   "source": [
    "# Train the model"
   ]
  },
  {
   "cell_type": "code",
   "execution_count": null,
   "metadata": {
    "scrolled": true
   },
   "outputs": [],
   "source": [
    "reg.train(dataset, resume=resume)"
   ]
  },
  {
   "cell_type": "markdown",
   "metadata": {},
   "source": [
    "# Evaluation"
   ]
  },
  {
   "cell_type": "code",
   "execution_count": null,
   "metadata": {},
   "outputs": [],
   "source": [
    "checkpoint = 140000\n",
    "checkpoint = None"
   ]
  },
  {
   "cell_type": "code",
   "execution_count": null,
   "metadata": {},
   "outputs": [],
   "source": [
    "N = 2000\n",
    "batch_size = 250"
   ]
  },
  {
   "cell_type": "code",
   "execution_count": null,
   "metadata": {
    "scrolled": true
   },
   "outputs": [],
   "source": [
    "# Create bacth\n",
    "dat = load.load_params_dataset(filename='kids_reg_test.h5', batch=N, shape=[ns, ns])\n",
    "images, y_real = dat.get_samples(N=N)\n",
    "y_pred, _ = get_regressor_outputs(reg, images, y_real, checkpoint, batch_size)"
   ]
  },
  {
   "cell_type": "code",
   "execution_count": null,
   "metadata": {
    "scrolled": true
   },
   "outputs": [],
   "source": [
    "print(y_real[:5])\n",
    "print(y_pred[:5, :2])\n",
    "print(mean_squared_error(y_real, y_pred[:, :2]))"
   ]
  },
  {
   "cell_type": "markdown",
   "metadata": {},
   "source": [
    "For the whole test set"
   ]
  },
  {
   "cell_type": "code",
   "execution_count": null,
   "metadata": {
    "scrolled": true
   },
   "outputs": [],
   "source": [
    "dat = load.load_params_dataset(filename='kids_reg_test.h5', batch=batch_size, shape=[ns, ns])\n",
    "images = []\n",
    "y_real = []\n",
    "err = []\n",
    "idx = 0\n",
    "for b in dat.iter():\n",
    "    images.append(b[0][0])\n",
    "    y_real.append(b[0][1])\n",
    "    idx = idx + 1\n",
    "    if idx % batch_size == 0:\n",
    "        images = np.array(images)\n",
    "        y_real = np.vstack(y_real)\n",
    "        y_pred, _ = get_regressor_outputs(reg, images, y_real, checkpoint, batch_size)\n",
    "        err.append(mean_squared_error(y_real, y_pred))\n",
    "        images = []\n",
    "        y_real = []\n",
    "err = np.array(err)"
   ]
  },
  {
   "cell_type": "code",
   "execution_count": null,
   "metadata": {},
   "outputs": [],
   "source": [
    "print(err.mean())"
   ]
  },
  {
   "cell_type": "code",
   "execution_count": null,
   "metadata": {},
   "outputs": [],
   "source": []
  }
 ],
 "metadata": {
  "kernelspec": {
   "display_name": "Python 3",
   "language": "python",
   "name": "python3"
  },
  "language_info": {
   "codemirror_mode": {
    "name": "ipython",
    "version": 3
   },
   "file_extension": ".py",
   "mimetype": "text/x-python",
   "name": "python",
   "nbconvert_exporter": "python",
   "pygments_lexer": "ipython3",
   "version": "3.7.3"
  }
 },
 "nbformat": 4,
 "nbformat_minor": 4
}
