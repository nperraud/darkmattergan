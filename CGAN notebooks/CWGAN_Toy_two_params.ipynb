{
 "cells": [
  {
   "cell_type": "code",
   "execution_count": null,
   "metadata": {},
   "outputs": [],
   "source": [
    "%load_ext autoreload\n",
    "%autoreload 2\n",
    "%matplotlib inline"
   ]
  },
  {
   "cell_type": "code",
   "execution_count": null,
   "metadata": {},
   "outputs": [],
   "source": [
    "import os\n",
    "import numpy as np\n",
    "import tensorflow as tf\n",
    "import matplotlib.pyplot as plt\n",
    "from copy import deepcopy\n",
    "from moviepy.editor import VideoClip\n",
    "from moviepy.video.io.bindings import mplfig_to_npimage\n",
    "\n",
    "os.environ[\"CUDA_VISIBLE_DEVICES\"]=\"\"\n",
    "\n",
    "import sys\n",
    "sys.path.insert(0, '../')\n",
    "from gantools import utils\n",
    "from gantools import plot\n",
    "from gantools.gansystem import GANsystem\n",
    "from gantools.data import Dataset, Dataset_parameters\n",
    "\n",
    "from cosmotools.model import CosmoWGAN\n",
    "from cosmotools.metric import evaluation, stats\n",
    "from cosmotools.data import toy_dataset_generator\n",
    "\n",
    "from gantools.model import ConditionalParamWGAN\n",
    "from gantools.gansystem import GANsystem\n"
   ]
  },
  {
   "cell_type": "code",
   "execution_count": null,
   "metadata": {},
   "outputs": [],
   "source": [
    "# Note: some of the parameters don't make sense for the fake dataset\n",
    "ns = 32 # Resolution of the image\n",
    "try_resume = True # Try to resume previous simulation\n",
    "\n",
    "# Function to be applied at the end of the generator\n",
    "def non_lin(x):\n",
    "    return tf.nn.sigmoid(x)"
   ]
  },
  {
   "cell_type": "markdown",
   "metadata": {},
   "source": [
    "# Data handling"
   ]
  },
  {
   "cell_type": "markdown",
   "metadata": {},
   "source": [
    "Load the data"
   ]
  },
  {
   "cell_type": "code",
   "execution_count": null,
   "metadata": {},
   "outputs": [],
   "source": [
    "nsamples = 5000\n",
    "sigma_int = [0.001, 0.01]\n",
    "N_int = [5, 20]\n",
    "image_shape = [ns, ns]\n",
    "normalise = True"
   ]
  },
  {
   "cell_type": "code",
   "execution_count": null,
   "metadata": {},
   "outputs": [],
   "source": [
    "# Generate toy images\n",
    "images, parameters = toy_dataset_generator.generate_fake_dataset(nsamples=nsamples, sigma_int=sigma_int, N_int=N_int, image_shape=image_shape, normalise=normalise)"
   ]
  },
  {
   "cell_type": "code",
   "execution_count": null,
   "metadata": {},
   "outputs": [],
   "source": [
    "print(images.shape, parameters.shape)"
   ]
  },
  {
   "cell_type": "code",
   "execution_count": null,
   "metadata": {},
   "outputs": [],
   "source": [
    "# Convert to gantools dataset\n",
    "dataset = Dataset_parameters(images, parameters)"
   ]
  },
  {
   "cell_type": "code",
   "execution_count": null,
   "metadata": {},
   "outputs": [],
   "source": [
    "# Get all the data\n",
    "X, params = dataset.get_all_data()\n",
    "vmin = np.min(X)\n",
    "vmax = np.max(X)\n",
    "X = X.flatten()"
   ]
  },
  {
   "cell_type": "markdown",
   "metadata": {},
   "source": [
    "Display the histogram of the pixel densities after the forward map"
   ]
  },
  {
   "cell_type": "code",
   "execution_count": null,
   "metadata": {},
   "outputs": [],
   "source": [
    "plt.hist(X, 100)\n",
    "print('min: {}'.format(np.min(X)))\n",
    "print('max: {}'.format(np.max(X)))\n",
    "plt.yscale('log')"
   ]
  },
  {
   "cell_type": "code",
   "execution_count": null,
   "metadata": {},
   "outputs": [],
   "source": [
    "# to free some memory\n",
    "del X"
   ]
  },
  {
   "cell_type": "markdown",
   "metadata": {},
   "source": [
    "Let us plot 16 images"
   ]
  },
  {
   "cell_type": "code",
   "execution_count": null,
   "metadata": {},
   "outputs": [],
   "source": [
    "imgs, params = dataset.get_samples(N=16)"
   ]
  },
  {
   "cell_type": "code",
   "execution_count": null,
   "metadata": {},
   "outputs": [],
   "source": [
    "fig, ax = plt.subplots(nrows=4, ncols=4, figsize=(15,15))\n",
    "idx = 0\n",
    "for row in ax:\n",
    "    for col in row:\n",
    "        col.imshow(imgs[idx], vmin=vmin, vmax=vmax)\n",
    "        col.set_title(\"$\\sigma$: \" + str(params[idx, 0])[0:7] + \", $N$: \" + str(int(params[idx, 1]) + 1), fontsize=14)\n",
    "        col.axis('off')\n",
    "        idx = idx + 1"
   ]
  },
  {
   "cell_type": "markdown",
   "metadata": {},
   "source": [
    "# Define parameters for the WGAN"
   ]
  },
  {
   "cell_type": "code",
   "execution_count": null,
   "metadata": {},
   "outputs": [],
   "source": [
    "time_str = '2D_mac'\n",
    "global_path = '../saved_results/Fake Dataset/'\n",
    "\n",
    "name = 'Simple_WGAN_two_params_sigmoid_' + str(ns) + '_' + time_str"
   ]
  },
  {
   "cell_type": "markdown",
   "metadata": {},
   "source": [
    "## Parameters"
   ]
  },
  {
   "cell_type": "code",
   "execution_count": null,
   "metadata": {},
   "outputs": [],
   "source": [
    "bn = False\n",
    "\n",
    "# Parameters for the generator\n",
    "params_generator = dict()\n",
    "params_generator['latent_dim'] = 128\n",
    "params_generator['stride'] = [2, 2, 1]\n",
    "params_generator['nfilter'] = [16, 32, 1]\n",
    "params_generator['shape'] = [[5, 5], [5, 5], [5, 5]]\n",
    "params_generator['batch_norm'] = [bn, bn]\n",
    "params_generator['full'] = [256, 512, 16 * 16 * 8]\n",
    "params_generator['summary'] = True\n",
    "params_generator['non_lin'] = non_lin\n",
    "params_generator['in_conv_shape'] = [8, 8]\n",
    "\n",
    "# Parameters for the discriminator\n",
    "params_discriminator = dict()\n",
    "params_discriminator['stride'] = [1, 2, 1]\n",
    "params_discriminator['nfilter'] = [32, 16, 8]\n",
    "params_discriminator['shape'] = [[5, 5], [5, 5], [5, 5]]\n",
    "params_discriminator['batch_norm'] = [bn, bn, bn]\n",
    "params_discriminator['full'] = [512, 256, 128]\n",
    "params_discriminator['minibatch_reg'] = False\n",
    "params_discriminator['summary'] = True\n",
    "\n",
    "# Optimization parameters\n",
    "d_opt = dict()\n",
    "d_opt['optimizer'] = \"rmsprop\"\n",
    "d_opt['learning_rate'] = 3e-5\n",
    "params_optimization = dict()\n",
    "params_optimization['discriminator'] = deepcopy(d_opt)\n",
    "params_optimization['generator'] = deepcopy(d_opt)\n",
    "params_optimization['n_critic'] = 5\n",
    "params_optimization['batch_size'] = 32\n",
    "params_optimization['epoch'] = 100\n",
    "\n",
    "# all parameters\n",
    "params = dict()\n",
    "params['net'] = dict() # All the parameters for the model\n",
    "params['net']['generator'] = params_generator\n",
    "params['net']['discriminator'] = params_discriminator\n",
    "params['net']['shape'] = [ns, ns, 1] # Shape of the image\n",
    "params['net']['gamma_gp'] = 10 # Gradient penalty\n",
    "\n",
    "# Conditional params\n",
    "params['net']['prior_normalization'] = False\n",
    "params['net']['cond_params'] = 2\n",
    "params['net']['init_range'] = [sigma_int, N_int]\n",
    "params['net']['prior_distribution'] = \"gaussian_length\"\n",
    "params['net']['final_range'] = [0.1*np.sqrt(params_generator['latent_dim']), 1*np.sqrt(params_generator['latent_dim'])]\n",
    "\n",
    "params['optimization'] = params_optimization\n",
    "params['summary_every'] = 2000 # Tensorboard summaries every ** iterations\n",
    "params['print_every'] = 500 # Console summaries every ** iterations\n",
    "params['save_every'] = 10000 # Save the model every ** iterations\n",
    "params['summary_dir'] = os.path.join(global_path, name +'_summary/')\n",
    "params['save_dir'] = os.path.join(global_path, name + '_checkpoints/')\n",
    "params['Nstats'] = 2000"
   ]
  },
  {
   "cell_type": "code",
   "execution_count": null,
   "metadata": {},
   "outputs": [],
   "source": [
    "resume, params = utils.test_resume(try_resume, params)\n",
    "# If a model is reloaded and some parameters have to be changed, then it should be done here.\n",
    "# For example, setting the number of epoch to 5 would be:\n",
    "params['summary_dir'] = os.path.join(global_path, name +'_summary/')\n",
    "params['save_dir'] = os.path.join(global_path, name + '_checkpoints/')"
   ]
  },
  {
   "cell_type": "markdown",
   "metadata": {},
   "source": [
    "# Build the model"
   ]
  },
  {
   "cell_type": "code",
   "execution_count": null,
   "metadata": {},
   "outputs": [],
   "source": [
    "class CosmoConditionalParamWGAN(ConditionalParamWGAN, CosmoWGAN):\n",
    "    pass"
   ]
  },
  {
   "cell_type": "code",
   "execution_count": null,
   "metadata": {},
   "outputs": [],
   "source": [
    "wgan = GANsystem(ConditionalParamWGAN, params)"
   ]
  },
  {
   "cell_type": "markdown",
   "metadata": {},
   "source": [
    "# Train the model"
   ]
  },
  {
   "cell_type": "code",
   "execution_count": null,
   "metadata": {
    "scrolled": true
   },
   "outputs": [],
   "source": [
    "wgan.train(dataset, resume=resume)"
   ]
  },
  {
   "cell_type": "markdown",
   "metadata": {},
   "source": [
    "# Generate new samples\n"
   ]
  },
  {
   "cell_type": "code",
   "execution_count": null,
   "metadata": {},
   "outputs": [],
   "source": [
    "checkpoint = None"
   ]
  },
  {
   "cell_type": "code",
   "execution_count": null,
   "metadata": {},
   "outputs": [],
   "source": [
    "inter = 4\n",
    "\n",
    "# Generate grid\n",
    "grid = []\n",
    "for c in range(wgan.net.params['cond_params']):\n",
    "    if c == 0:\n",
    "        gen_params = np.linspace(0.002, wgan.net.params['init_range'][c][1], inter)\n",
    "    else:\n",
    "        gen_params = np.linspace(wgan.net.params['init_range'][c][0], wgan.net.params['init_range'][c][1], inter)\n",
    "    grid.append(gen_params)\n",
    "\n",
    "# Note: assume 2D grid of parameters\n",
    "gen_params = []\n",
    "for i in range(inter):\n",
    "    for j in range(inter):\n",
    "        gen_params.append([grid[0][i], grid[1][j]])\n",
    "gen_params = np.array(gen_params)\n",
    "\n",
    "# Produce images\n",
    "latent = wgan.net.sample_latent(bs=inter * inter, params=gen_params)\n",
    "gen_images = wgan.generate(N=inter * inter, **{'z': latent}, checkpoint=checkpoint)"
   ]
  },
  {
   "cell_type": "code",
   "execution_count": null,
   "metadata": {},
   "outputs": [],
   "source": [
    "fig, ax = plt.subplots(nrows=4, ncols=4, figsize=(15,15))\n",
    "idx = 0\n",
    "for row in ax:\n",
    "    for col in row:\n",
    "        col.imshow(gen_images[idx, :, :, 0], vmin=vmin, vmax=vmax)\n",
    "        col.set_title(\"$\\sigma=$\" + str(gen_params[idx][0])[0:7] + \", $N=$\" + str(int(gen_params[idx][1])+1))\n",
    "        col.axis('off')\n",
    "        idx = idx + 1"
   ]
  },
  {
   "cell_type": "markdown",
   "metadata": {},
   "source": [
    "Real and fake comparison"
   ]
  },
  {
   "cell_type": "code",
   "execution_count": null,
   "metadata": {},
   "outputs": [],
   "source": [
    "grid = [[0.005, 10], [0.01, 10], [0.005, 15], [0.01, 15]]"
   ]
  },
  {
   "cell_type": "code",
   "execution_count": null,
   "metadata": {},
   "outputs": [],
   "source": [
    "gen_params = np.array(grid)\n",
    "\n",
    "# Produce images\n",
    "latent = wgan.net.sample_latent(bs=len(gen_params), params=gen_params)\n",
    "gen_images = wgan.generate(N=len(gen_params), **{'z': latent}, checkpoint=checkpoint)"
   ]
  },
  {
   "cell_type": "code",
   "execution_count": null,
   "metadata": {},
   "outputs": [],
   "source": [
    "fig, ax = plt.subplots(nrows=2, ncols=4, figsize=(15, 7.5))\n",
    "idx = 0\n",
    "for row in ax:\n",
    "    for col in row:\n",
    "        if idx < 4:\n",
    "            col.imshow(gen_images[idx, :, :, 0], vmin=0, vmax=1)\n",
    "        else:\n",
    "            img = toy_dataset_generator.generate_fake_images(1, sigma=gen_params[idx%4][0], N=int(gen_params[idx%4][1]), image_shape=image_shape)\n",
    "            col.imshow(img[0], vmin=0, vmax=1)\n",
    "        col.set_title(\"$\\sigma$=\" + str(gen_params[idx%4][0])[0:7] + \", $N$=\" + str(int(gen_params[idx%4][1] + 1)), fontsize=14)\n",
    "        col.axis('off')\n",
    "        idx = idx + 1"
   ]
  },
  {
   "cell_type": "markdown",
   "metadata": {},
   "source": [
    "# Generate a single image"
   ]
  },
  {
   "cell_type": "code",
   "execution_count": null,
   "metadata": {},
   "outputs": [],
   "source": [
    "latent = wgan.net.sample_latent(params=np.array([[0.005, 4]]))\n",
    "gen_sample = wgan.generate(N=1, **{'z': latent}, checkpoint=checkpoint)\n",
    "plt.imshow(gen_sample[0, :, :, 0])\n",
    "plt.axis('off')"
   ]
  },
  {
   "cell_type": "markdown",
   "metadata": {},
   "source": [
    "# \"Category\" Morphing"
   ]
  },
  {
   "cell_type": "code",
   "execution_count": null,
   "metadata": {},
   "outputs": [],
   "source": [
    "inter = 4"
   ]
  },
  {
   "cell_type": "code",
   "execution_count": null,
   "metadata": {
    "scrolled": true
   },
   "outputs": [],
   "source": [
    "# Generate grid\n",
    "grid = []\n",
    "for c in range(wgan.net.params['cond_params']):\n",
    "    if c == 0:\n",
    "        gen_params = np.linspace(0.002, wgan.net.params['init_range'][c][1], inter)\n",
    "    else:\n",
    "        gen_params = np.linspace(wgan.net.params['init_range'][c][0], wgan.net.params['init_range'][c][1], inter)\n",
    "    grid.append(gen_params)\n",
    "\n",
    "# Note: assume 2D grid of parameters\n",
    "gen_params = []\n",
    "for i in range(inter):\n",
    "    for j in range(inter):\n",
    "        gen_params.append([grid[0][i], grid[1][j]])\n",
    "gen_params = np.array(gen_params)\n",
    "\n",
    "imgs = evaluation.generate_samples_same_seed(wgan, gen_params, checkpoint=checkpoint)"
   ]
  },
  {
   "cell_type": "code",
   "execution_count": null,
   "metadata": {},
   "outputs": [],
   "source": [
    "fig, ax = plt.subplots(nrows=inter, ncols=inter, figsize=(15,15))\n",
    "idx = 0\n",
    "for row in ax:\n",
    "    for col in row:\n",
    "        col.imshow(imgs[idx][0, :, :, 0])\n",
    "        sigma = gen_params[idx][0]\n",
    "        N = gen_params[idx][1]\n",
    "        col.set_title(\"$\\sigma=$\" + str(sigma)[0:7] + \", $N=$\" + str(int(N)), fontsize=14)\n",
    "        col.axis('off')\n",
    "        idx = idx + 1"
   ]
  },
  {
   "cell_type": "code",
   "execution_count": null,
   "metadata": {},
   "outputs": [],
   "source": [
    "# Define path of params\n",
    "path = [[0.01, 10],\n",
    "        [0.002, 10],\n",
    "        [0.002, 5],\n",
    "        [0.005, 5],\n",
    "        [0.005, 12],\n",
    "        [0.005, 20]]\n",
    "for p in path:\n",
    "    p.append(False)"
   ]
  },
  {
   "cell_type": "code",
   "execution_count": null,
   "metadata": {},
   "outputs": [],
   "source": [
    "path = evaluation.interpolate_between(path, 5)"
   ]
  },
  {
   "cell_type": "code",
   "execution_count": null,
   "metadata": {
    "scrolled": true
   },
   "outputs": [],
   "source": [
    "# Generate frames\n",
    "frames = evaluation.generate_samples_same_seed(wgan, path)"
   ]
  },
  {
   "cell_type": "code",
   "execution_count": null,
   "metadata": {},
   "outputs": [],
   "source": [
    "fig, ax = plt.subplots()\n",
    "def make_frame(t):\n",
    "    t = int(t)\n",
    "    ax.clear()\n",
    "    ax.imshow(frames[t][0, :, :, 0])\n",
    "    ax.axis('off')\n",
    "    ax.set_title(\"$\\sigma=$\" + str(path[t][0])[0:7] + \", $N=$\" + str(int(path[t][1]) + 1))\n",
    "    return mplfig_to_npimage(fig)\n",
    "\n",
    "animation = VideoClip(make_frame, duration=len(path))\n",
    "plt.close()\n",
    "animation.ipython_display(fps=20, loop=True, autoplay=True)"
   ]
  },
  {
   "cell_type": "markdown",
   "metadata": {},
   "source": [
    "# Evaluation of the sample quality"
   ]
  },
  {
   "cell_type": "code",
   "execution_count": null,
   "metadata": {},
   "outputs": [],
   "source": [
    "inter = 4\n",
    "\n",
    "# Generate grid\n",
    "grid = []\n",
    "for c in range(wgan.net.params['cond_params']):\n",
    "    if c == 0:\n",
    "        gen_params = np.linspace(0.002, 0.008, inter)\n",
    "    if c == 1:\n",
    "        gen_params = np.linspace(5, 15, inter)\n",
    "    grid.append(gen_params)\n",
    "\n",
    "# Note: assume 2D grid of parameters\n",
    "gen_params = []\n",
    "for i in range(inter):\n",
    "    for j in range(inter):\n",
    "        gen_params.append([grid[0][i], grid[1][j]])\n",
    "gen_params = np.array(gen_params)"
   ]
  },
  {
   "cell_type": "code",
   "execution_count": null,
   "metadata": {},
   "outputs": [],
   "source": [
    "def generate_images_with_params(params, n):\n",
    "    gen_params = np.ones((n, wgan.net.params['cond_params'])) * params\n",
    "    latent = wgan.net.sample_latent(bs=n, params=gen_params)\n",
    "    return wgan.generate(N=n, **{'z': latent}, checkpoint=checkpoint)"
   ]
  },
  {
   "cell_type": "code",
   "execution_count": null,
   "metadata": {
    "scrolled": true
   },
   "outputs": [],
   "source": [
    "nsamples = 2000\n",
    "real_images = []\n",
    "fake_images = []\n",
    "for i in range(len(gen_params)):\n",
    "    \n",
    "    # Generate real images\n",
    "    raw_images = toy_dataset_generator.generate_fake_images(nsamples=nsamples, sigma=gen_params[i, 0], N=int(gen_params[i, 1]), image_shape=[ns, ns])\n",
    "    \n",
    "    # Generate fake images\n",
    "    gen_images = generate_images_with_params(gen_params[i], nsamples)\n",
    "    \n",
    "    real_images.append(raw_images)\n",
    "    fake_images.append(gen_images)"
   ]
  },
  {
   "cell_type": "code",
   "execution_count": null,
   "metadata": {},
   "outputs": [],
   "source": [
    "param_titles = (lambda x: \"$\\sigma=$\" + str(x)[:7], lambda x: \"$N=$\" + str(int(x)))"
   ]
  },
  {
   "cell_type": "code",
   "execution_count": null,
   "metadata": {},
   "outputs": [],
   "source": [
    "# Compute the plots for a set of parameter (assumed arranged in 2D fashion) and a given statistic function\n",
    "# Produces n_params * n_params plots, where every cell represents the statistic of a couple of parameters\n",
    "def compute_plot_for_params_2d(params, real, fake, func, **kwargs):\n",
    "    inter = int(np.sqrt(len(params)))\n",
    "    fig, ax = plt.subplots(nrows=inter, ncols=inter, figsize=(20, 20))\n",
    "    idx = 0\n",
    "    row_nr = 0\n",
    "    title = \"\"\n",
    "    scores = []\n",
    "    for row in ax:\n",
    "        for col in row:\n",
    "            s = func(real[idx], fake[idx], ax=col, display=False, **kwargs)\n",
    "            title = col.title.get_text()\n",
    "            col.set_title(\"\")\n",
    "            if idx % inter != 0:\n",
    "                col.set_ylabel(\"\")\n",
    "            if row_nr != inter - 1:\n",
    "                col.set_xlabel(\"\") \n",
    "            idx = idx + 1\n",
    "            scores.append(s)\n",
    "        row_nr = row_nr + 1\n",
    "\n",
    "    for a, param in zip(ax[0], params[:, 1]):\n",
    "        a.set_title(param_titles[1](param), fontsize=16)\n",
    "    for a, param in zip(ax[:, -1], params[range(0, len(params), inter), 0]):\n",
    "        ar = a.twinx()\n",
    "        ar.set_ylabel(param_titles[0](param), labelpad=50 if 'fractional_difference' in kwargs and kwargs['fractional_difference'] else 10, fontsize=16)\n",
    "        ar.set_yticks([])\n",
    "    fig.suptitle(title, fontsize=20)\n",
    "    fig.tight_layout(rect=[0, 0.03, 1, 0.95])\n",
    "    return fig, np.array(scores)"
   ]
  },
  {
   "cell_type": "markdown",
   "metadata": {},
   "source": [
    "PSD"
   ]
  },
  {
   "cell_type": "code",
   "execution_count": null,
   "metadata": {},
   "outputs": [],
   "source": [
    "lenstools = True\n",
    "bin_k = 15\n",
    "box_l = (5*np.pi/180)\n",
    "cut = [50, 1000]\n",
    "ylim= [(5e-5, 5e-1), (0, 0.5)] if lenstools else [(1e-3, 1e2), (0, 0.5)]\n",
    "_, psd_s = compute_plot_for_params_2d(gen_params, real_images, fake_images, evaluation.compute_and_plot_psd, confidence='std', bin_k=bin_k, box_l=box_l, cut=cut, multiply=True, lenstools=lenstools, param_titles=param_titles, fractional_difference=True, loc=1, ylim=ylim)"
   ]
  },
  {
   "cell_type": "code",
   "execution_count": null,
   "metadata": {},
   "outputs": [],
   "source": [
    "print(\"PSD scores:\", psd_s[:, 0])\n",
    "print(\"PSD average frac diff:\", np.mean(psd_s[:, 1]), \" +/- \", np.std(psd_s[:, 1]))"
   ]
  },
  {
   "cell_type": "markdown",
   "metadata": {},
   "source": [
    "Heat map"
   ]
  },
  {
   "cell_type": "code",
   "execution_count": null,
   "metadata": {},
   "outputs": [],
   "source": [
    "# Represent heat-map of accuracy\n",
    "plt.figure()\n",
    "plt.scatter(gen_params[:, 0], gen_params[:, 1] + 1, c=psd_s[:, 1], vmin=0, vmax=1, cmap=plt.cm.RdYlGn_r, edgecolor='k')\n",
    "plt.xlabel('$\\sigma$')\n",
    "plt.ylabel('$N$')\n",
    "plt.xlim([-0.001, 0.021])\n",
    "plt.plot(np.array([0.001, 0.001, 0.01, 0.01, 0.001]), np.array([6, 22, 22, 6, 6]), c='k')\n",
    "plt.colorbar()"
   ]
  },
  {
   "cell_type": "code",
   "execution_count": null,
   "metadata": {},
   "outputs": [],
   "source": [
    "thresholds =[0.05, 0.10, 0.15, 0.20]\n",
    "fig, ax = plt.subplots(nrows=1, ncols=len(thresholds), figsize=(len(thresholds) * 5, 5))\n",
    "for j in range(len(thresholds)):\n",
    "    for i in range(len(gen_params)):\n",
    "        ax[j].scatter(gen_params[i, 0], gen_params[i, 1] + 1, c='g' if psd_s[i, 1] <= thresholds[j] else 'r')\n",
    "    ax[j].set_xlabel('$\\sigma$')\n",
    "    ax[j].set_ylabel('$N$')\n",
    "    ax[j].set_xlim([-0.001, 0.021])\n",
    "    ax[j].plot(np.array([0.001, 0.001, 0.01, 0.01, 0.001]), np.array([6, 22, 22, 6, 6]), c='k')\n",
    "    ax[j].set_title(thresholds[j])"
   ]
  },
  {
   "cell_type": "markdown",
   "metadata": {},
   "source": [
    "Mass density histogram and peak density histogram"
   ]
  },
  {
   "cell_type": "code",
   "execution_count": null,
   "metadata": {},
   "outputs": [],
   "source": [
    "_, mas_s = compute_plot_for_params_2d(gen_params, real_images, fake_images, evaluation.compute_and_plot_mass_hist, log=False, lim=(0,1), confidence='std', param_titles=param_titles, ylim=[(1e-1, 1e3), (0, 0.5)], fractional_difference=True)"
   ]
  },
  {
   "cell_type": "code",
   "execution_count": null,
   "metadata": {},
   "outputs": [],
   "source": [
    "print(\"Mass scores:\", mas_s[:, 0])\n",
    "print(\"Mass mean score:\", np.mean(mas_s[:, 0]), \" +/- \", np.std(mas_s[:, 0]))"
   ]
  },
  {
   "cell_type": "code",
   "execution_count": null,
   "metadata": {},
   "outputs": [],
   "source": [
    "_, pea_s = compute_plot_for_params_2d(gen_params, real_images, fake_images, evaluation.compute_and_plot_peak_count, log=False, neighborhood_size=2, threshold=0.01, confidence='std', param_titles=param_titles, ylim=[(3e-1, 6e1), (0, 0.5)], fractional_difference=True)"
   ]
  },
  {
   "cell_type": "code",
   "execution_count": null,
   "metadata": {},
   "outputs": [],
   "source": [
    "print(\"Peak scores:\", pea_s[:, 0])\n",
    "print(\"Peak mean scores:\", np.mean(pea_s[:, 0]), \" +/- \", np.std(pea_s[:, 0]))"
   ]
  },
  {
   "cell_type": "markdown",
   "metadata": {},
   "source": [
    "Plot correlations"
   ]
  },
  {
   "cell_type": "code",
   "execution_count": null,
   "metadata": {},
   "outputs": [],
   "source": [
    "def plot_correlations(params, X, title, tick_every=3):\n",
    "    inter = int(np.sqrt(len(params)))\n",
    "    fig, ax = plt.subplots(nrows=inter, ncols=inter, figsize=(16, 15))\n",
    "    idx = 0\n",
    "    for row in ax:\n",
    "        for col in row:\n",
    "            \n",
    "            # Compute\n",
    "            if lenstools:\n",
    "                corr, k = stats.psd_correlation_lenstools(X[idx], bin_k=bin_k, box_l=box_l, cut=cut)\n",
    "            else:\n",
    "                corr, k = stats.psd_correlation(X[idx], bin_k=bin_k, cut=cut, box_l=box_l, log_sampling=False)\n",
    "            \n",
    "            # Show\n",
    "            col.imshow(corr, vmin=0, vmax=1, cmap=plt.cm.plasma)\n",
    "            \n",
    "            # Define axes\n",
    "            ticklabels = [0]\n",
    "            for i in range(len(k)):\n",
    "                if i % tick_every == 0:\n",
    "                    ticklabels.append(str(round(k[i], 2)))\n",
    "            ticks = np.linspace(0, len(k) - (len(k) % tick_every), len(ticklabels))\n",
    "            col.set_xticks(ticks)\n",
    "            col.set_xticklabels(ticklabels)\n",
    "            col.set_yticks(ticks)\n",
    "            col.set_yticklabels(ticklabels)\n",
    "            idx = idx + 1\n",
    "    for a, param in zip(ax[0], params[:, 1]):\n",
    "        a.set_title(param_titles[1](param), fontsize=14)\n",
    "    for a, param in zip(ax[:, -1], params[range(0, len(params), inter), 0]):\n",
    "        ar = a.twinx()\n",
    "        ar.set_ylabel(param_titles[0](param), labelpad=10, fontsize=14)\n",
    "        ar.set_yticks([])\n",
    "    fig.tight_layout()"
   ]
  },
  {
   "cell_type": "code",
   "execution_count": null,
   "metadata": {},
   "outputs": [],
   "source": [
    "# Plot real\n",
    "plot_correlations(gen_params, real_images, \"PSD correlation of real images\")"
   ]
  },
  {
   "cell_type": "code",
   "execution_count": null,
   "metadata": {},
   "outputs": [],
   "source": [
    "# Plot fake\n",
    "plot_correlations(gen_params, fake_images, \"PSD correlation of generated images\")"
   ]
  },
  {
   "cell_type": "markdown",
   "metadata": {},
   "source": [
    "MS-SSIM score across subsets"
   ]
  },
  {
   "cell_type": "code",
   "execution_count": null,
   "metadata": {},
   "outputs": [],
   "source": [
    "s_fake, s_real = evaluation.compute_ssim_score(fake_images, real_images)"
   ]
  },
  {
   "cell_type": "code",
   "execution_count": null,
   "metadata": {},
   "outputs": [],
   "source": [
    "print(s_fake)\n",
    "print(s_real)\n",
    "print(np.mean(s_fake), \" +/- \", np.std(s_fake))\n",
    "print(np.mean(s_real), \" +/- \", np.std(s_real))"
   ]
  },
  {
   "cell_type": "markdown",
   "metadata": {},
   "source": [
    "# Generate video"
   ]
  },
  {
   "cell_type": "code",
   "execution_count": null,
   "metadata": {},
   "outputs": [],
   "source": [
    "# Define path of params\n",
    "path = [[0.002, 10],\n",
    "        [0.002, 5],\n",
    "        [0.005, 5],\n",
    "        [0.005, 12],\n",
    "        [0.005, 20]]\n",
    "for p in path:\n",
    "    p.append(True)"
   ]
  },
  {
   "cell_type": "code",
   "execution_count": null,
   "metadata": {},
   "outputs": [],
   "source": [
    "path = evaluation.interpolate_between(path, 5, True)"
   ]
  },
  {
   "cell_type": "code",
   "execution_count": null,
   "metadata": {
    "scrolled": true
   },
   "outputs": [],
   "source": [
    "# Generate fake images\n",
    "fake_imgs = evaluation.generate_samples_same_seed(wgan, path, nsamples=nsamples, checkpoint=checkpoint)"
   ]
  },
  {
   "cell_type": "code",
   "execution_count": null,
   "metadata": {},
   "outputs": [],
   "source": [
    "# Convert to list of dictionaries\n",
    "X = []\n",
    "for i in range(len(path)):\n",
    "    X.append({})\n",
    "    X[i]['params'] = np.array([path[i][0], path[i][1]])\n",
    "    X[i]['real'] = None\n",
    "    X[i]['fake'] = fake_imgs[i][:, :, :, 0]\n",
    "    if path[i][2]:\n",
    "        X[i]['real'] = toy_dataset_generator.generate_fake_images(nsamples=nsamples, sigma=path[i][0], N=int(path[i][1]), image_shape=[ns, ns])"
   ]
  },
  {
   "cell_type": "code",
   "execution_count": null,
   "metadata": {},
   "outputs": [],
   "source": [
    "def title_func(params):\n",
    "    return \"$\\sigma=$\" + str(params[0])[0:7] + \", $N=$\" + str(int(params[1]) + 1)"
   ]
  },
  {
   "cell_type": "code",
   "execution_count": null,
   "metadata": {
    "scrolled": true
   },
   "outputs": [],
   "source": [
    "# Generate frames\n",
    "ylims = [[(5e-5, 1e-2), (0, 0.5)], [(3e-1, 6e1), (0, 0.5)], [(1e-1, 1e3), (0, 0.5)]] if lenstools else [[(1e-3, 2e1), (0, 0.5)], [(3e-1, 6e1), (0, 0.5)], [(1e-1, 1e3), (0, 0.5)]]\n",
    "frames = evaluation.make_frames(X, title_func=title_func, log=False, confidence='std', neighborhood_size=2, threshold=0.01, lim=(0,1), ylims=ylims, multiply=True, bin_k=bin_k, box_l=box_l, cut=cut, fractional_difference=[True, True, True], lenstools=lenstools)"
   ]
  },
  {
   "cell_type": "code",
   "execution_count": null,
   "metadata": {},
   "outputs": [],
   "source": [
    "# Make video\n",
    "d_frame = 0.5\n",
    "duration = len(X) * d_frame\n",
    "animation = VideoClip(evaluation.make_frame_func(X, frames, duration), duration=duration)\n",
    "animation.ipython_display(fps=10, loop=True, autoplay=True, width=900)"
   ]
  },
  {
   "cell_type": "markdown",
   "metadata": {},
   "source": [
    "# Extrapolation"
   ]
  },
  {
   "cell_type": "code",
   "execution_count": null,
   "metadata": {},
   "outputs": [],
   "source": [
    "path = [[0.005, 20], [0.01, 20], [0.02, 20], [0.02, 25]]\n",
    "for p in path:\n",
    "    p.append(True)"
   ]
  },
  {
   "cell_type": "code",
   "execution_count": null,
   "metadata": {},
   "outputs": [],
   "source": [
    "path = evaluation.interpolate_between(path, 5, True)"
   ]
  },
  {
   "cell_type": "code",
   "execution_count": null,
   "metadata": {
    "scrolled": true
   },
   "outputs": [],
   "source": [
    "# Generate fake images\n",
    "fake_imgs = evaluation.generate_samples_same_seed(wgan, path, nsamples=nsamples, checkpoint=checkpoint)"
   ]
  },
  {
   "cell_type": "code",
   "execution_count": null,
   "metadata": {},
   "outputs": [],
   "source": [
    "# Convert to list of dictionaries\n",
    "X = []\n",
    "for i in range(len(path)):\n",
    "    X.append({})\n",
    "    X[i]['params'] = np.array([path[i][0], path[i][1]])\n",
    "    X[i]['real'] = None\n",
    "    X[i]['fake'] = fake_imgs[i][:, :, :, 0]\n",
    "    if path[i][2]:\n",
    "        X[i]['real'] = toy_dataset_generator.generate_fake_images(nsamples=nsamples, sigma=path[i][0], N=int(path[i][1]), image_shape=[ns, ns])"
   ]
  },
  {
   "cell_type": "code",
   "execution_count": null,
   "metadata": {},
   "outputs": [],
   "source": [
    "frames = evaluation.make_frames(X, title_func=title_func, log=False, confidence='std', neighborhood_size=2, threshold=0.01, lim=(0,1), ylims=ylims, multiply=True, bin_k=bin_k, box_l=box_l, cut=cut, fractional_difference=[True, True, True], lenstools=lenstools, locs=[1, 1, 1])"
   ]
  },
  {
   "cell_type": "code",
   "execution_count": null,
   "metadata": {},
   "outputs": [],
   "source": [
    "# Make video\n",
    "d_frame = 0.5\n",
    "duration = len(X) * d_frame\n",
    "animation = VideoClip(evaluation.make_frame_func(X, frames, duration), duration=duration)\n",
    "animation.ipython_display(fps=10, loop=True, autoplay=True, width=900)"
   ]
  },
  {
   "cell_type": "code",
   "execution_count": null,
   "metadata": {},
   "outputs": [],
   "source": []
  }
 ],
 "metadata": {
  "kernelspec": {
   "display_name": "Python 3",
   "language": "python",
   "name": "python3"
  },
  "language_info": {
   "codemirror_mode": {
    "name": "ipython",
    "version": 3
   },
   "file_extension": ".py",
   "mimetype": "text/x-python",
   "name": "python",
   "nbconvert_exporter": "python",
   "pygments_lexer": "ipython3",
   "version": "3.7.3"
  }
 },
 "nbformat": 4,
 "nbformat_minor": 4
}
