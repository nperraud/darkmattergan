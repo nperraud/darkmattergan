{
 "cells": [
  {
   "cell_type": "code",
   "execution_count": null,
   "metadata": {},
   "outputs": [],
   "source": [
    "%load_ext autoreload\n",
    "%autoreload 2\n",
    "%matplotlib inline"
   ]
  },
  {
   "cell_type": "code",
   "execution_count": null,
   "metadata": {},
   "outputs": [],
   "source": [
    "import os\n",
    "import numpy as np\n",
    "import tensorflow as tf\n",
    "import matplotlib.pyplot as plt\n",
    "from copy import deepcopy\n",
    "\n",
    "os.environ[\"CUDA_VISIBLE_DEVICES\"]=\"\"\n",
    "\n",
    "import sys\n",
    "sys.path.insert(0, '../')\n",
    "\n",
    "from gantools import utils\n",
    "from gantools import plot\n",
    "from gantools.gansystem import GANsystem\n",
    "from gantools.data import Dataset\n",
    "from gantools.data import transformation\n",
    "\n",
    "from cosmotools.model import CosmoWGAN\n",
    "from cosmotools.metric import evaluation\n",
    "from cosmotools.data import load\n",
    "\n",
    "# from gantools import data\n"
   ]
  },
  {
   "cell_type": "markdown",
   "metadata": {},
   "source": [
    "# Parameters"
   ]
  },
  {
   "cell_type": "code",
   "execution_count": null,
   "metadata": {},
   "outputs": [],
   "source": [
    "ns = 128 # Resolution of the image\n",
    "try_resume = True # Try to resume previous simulation\n",
    "\n",
    "def non_lin(x):\n",
    "    return tf.nn.relu(x)"
   ]
  },
  {
   "cell_type": "markdown",
   "metadata": {},
   "source": [
    "# Data handling"
   ]
  },
  {
   "cell_type": "markdown",
   "metadata": {},
   "source": [
    "Dataset corresponds to set of parameters with Omega_m = 0.254 and sigma_8 = 0.852"
   ]
  },
  {
   "cell_type": "code",
   "execution_count": null,
   "metadata": {},
   "outputs": [],
   "source": [
    "dataset = load.load_params_dataset(filename='kids_test.h5', batch=12000, shape=[ns, ns], sorted=True)"
   ]
  },
  {
   "cell_type": "code",
   "execution_count": null,
   "metadata": {},
   "outputs": [],
   "source": [
    "# Get all the data\n",
    "X, _ = dataset.get_data_for_params(np.array([0.254, 0.852]))\n",
    "vmin = np.min(X)\n",
    "vmax = np.max(X)\n",
    "print(X.shape)"
   ]
  },
  {
   "cell_type": "markdown",
   "metadata": {},
   "source": [
    "Display the histogram of the pixel densities after the forward map"
   ]
  },
  {
   "cell_type": "code",
   "execution_count": null,
   "metadata": {},
   "outputs": [],
   "source": [
    "plt.hist(X.flatten(), 100)\n",
    "print('min: {}'.format(vmin))\n",
    "print('max: {}'.format(vmax))\n",
    "plt.yscale('log')"
   ]
  },
  {
   "cell_type": "markdown",
   "metadata": {},
   "source": [
    "Rescale dataset"
   ]
  },
  {
   "cell_type": "code",
   "execution_count": null,
   "metadata": {},
   "outputs": [],
   "source": [
    "final_inter = [0, 1]\n",
    "init_inter = [vmin, vmax]\n",
    "\n",
    "def rescale(x):\n",
    "    return transformation.rescale(x, init_inter, final_inter)"
   ]
  },
  {
   "cell_type": "code",
   "execution_count": null,
   "metadata": {},
   "outputs": [],
   "source": [
    "dataset = Dataset(X, transform=rescale)\n",
    "X = dataset.get_all_data()\n",
    "vmin = np.min(X)\n",
    "vmax = np.max(X)"
   ]
  },
  {
   "cell_type": "code",
   "execution_count": null,
   "metadata": {},
   "outputs": [],
   "source": [
    "plt.hist(X.flatten(), 100)\n",
    "print('min: {}'.format(vmin))\n",
    "print('max: {}'.format(vmax))\n",
    "plt.yscale('log')"
   ]
  },
  {
   "cell_type": "markdown",
   "metadata": {},
   "source": [
    "Augment dataset"
   ]
  },
  {
   "cell_type": "code",
   "execution_count": null,
   "metadata": {},
   "outputs": [],
   "source": [
    "dataset = Dataset(X, transform=transformation.random_transpose_2d)"
   ]
  },
  {
   "cell_type": "code",
   "execution_count": null,
   "metadata": {},
   "outputs": [],
   "source": [
    "# to free some memory\n",
    "del X"
   ]
  },
  {
   "cell_type": "markdown",
   "metadata": {},
   "source": [
    "Let us plot 16 images"
   ]
  },
  {
   "cell_type": "code",
   "execution_count": null,
   "metadata": {},
   "outputs": [],
   "source": [
    "vmax = 0.25"
   ]
  },
  {
   "cell_type": "code",
   "execution_count": null,
   "metadata": {},
   "outputs": [],
   "source": [
    "fig, ax = plt.subplots(nrows=4, ncols=4, figsize=(15,15))\n",
    "idx = 0\n",
    "imgs = dataset.get_samples(N=16)\n",
    "for row in ax:\n",
    "    for col in row:\n",
    "        plot.plot_img(imgs[idx], vmin=vmin, vmax=vmax, ax=col)\n",
    "        idx = idx + 1\n",
    "fig.tight_layout()"
   ]
  },
  {
   "cell_type": "markdown",
   "metadata": {},
   "source": [
    "# Define parameters for the WGAN"
   ]
  },
  {
   "cell_type": "code",
   "execution_count": null,
   "metadata": {},
   "outputs": [],
   "source": [
    "time_str = '2D'\n",
    "global_path = '../saved_results/'\n",
    "\n",
    "name = 'Kids{}'.format(ns) + '_more_conv_' + time_str"
   ]
  },
  {
   "cell_type": "markdown",
   "metadata": {},
   "source": [
    "## Parameters"
   ]
  },
  {
   "cell_type": "code",
   "execution_count": null,
   "metadata": {},
   "outputs": [],
   "source": [
    "bn = False\n",
    "\n",
    "params_discriminator = dict()\n",
    "params_discriminator['stride'] = [1, 2, 2, 2, 2]\n",
    "params_discriminator['nfilter'] = [32, 64, 128, 256, 512]\n",
    "params_discriminator['shape'] = [[7, 7], [5, 5], [5, 5], [5,5], [3,3]]\n",
    "params_discriminator['batch_norm'] = [bn, bn, bn, bn, bn]\n",
    "params_discriminator['full'] = []\n",
    "params_discriminator['minibatch_reg'] = False\n",
    "params_discriminator['summary'] = True\n",
    "params_discriminator['data_size'] = 2\n",
    "\n",
    "params_generator = dict()\n",
    "params_generator['stride'] = [2, 2, 2, 2, 1]\n",
    "params_generator['latent_dim'] = 64\n",
    "params_generator['nfilter'] = [256, 128, 64, 32, 1]\n",
    "params_generator['shape'] = [[3, 3], [5, 5], [5, 5], [5, 5], [7,7]]\n",
    "params_generator['batch_norm'] = [bn, bn, bn, bn]\n",
    "params_generator['full'] = [8 * 8 * 512]\n",
    "params_generator['summary'] = True\n",
    "params_generator['non_lin'] = non_lin\n",
    "params_generator['data_size'] = 2\n",
    "\n",
    "params_optimization = dict()\n",
    "params_optimization['optimizer'] = 'rmsprop'\n",
    "params_optimization['batch_size'] = 32\n",
    "params_optimization['learning_rate'] = 5e-5\n",
    "params_optimization['epoch'] = 100\n",
    "\n",
    "# all parameters\n",
    "params = dict()\n",
    "params['net'] = dict() # All the parameters for the model\n",
    "params['net']['generator'] = params_generator\n",
    "params['net']['discriminator'] = params_discriminator\n",
    "params['net']['prior_distribution'] = 'gaussian'\n",
    "params['net']['shape'] = [ns, ns, 1] # Shape of the image\n",
    "params['net']['gamma_gp'] = 10 # Gradient penalty\n",
    "\n",
    "params['optimization'] = params_optimization\n",
    "params['summary_every'] = 2000 # Tensorboard summaries every ** iterations\n",
    "params['print_every'] = 1000 # Console summaries every ** iterations\n",
    "params['save_every'] = 10000 # Save the model every ** iterations\n",
    "params['summary_dir'] = os.path.join(global_path, name +'_summary/')\n",
    "params['save_dir'] = os.path.join(global_path, name + '_checkpoints/')\n",
    "params['Nstats'] = 2000"
   ]
  },
  {
   "cell_type": "code",
   "execution_count": null,
   "metadata": {},
   "outputs": [],
   "source": [
    "resume, params = utils.test_resume(try_resume, params)\n",
    "# If a model is reloaded and some parameters have to be changed, then it should be done here.\n",
    "# For example, setting the number of epoch to 5 would be:\n",
    "params['optimization']['epoch'] = 1\n",
    "params['summary_dir'] = os.path.join(global_path, name +'_summary/')\n",
    "params['save_dir'] = os.path.join(global_path, name + '_checkpoints/')"
   ]
  },
  {
   "cell_type": "markdown",
   "metadata": {},
   "source": [
    "# Build the model"
   ]
  },
  {
   "cell_type": "code",
   "execution_count": null,
   "metadata": {},
   "outputs": [],
   "source": [
    "wgan = GANsystem(CosmoWGAN, params)"
   ]
  },
  {
   "cell_type": "markdown",
   "metadata": {},
   "source": [
    "# Train the model"
   ]
  },
  {
   "cell_type": "code",
   "execution_count": null,
   "metadata": {},
   "outputs": [],
   "source": [
    "wgan.train(dataset, resume=resume)"
   ]
  },
  {
   "cell_type": "markdown",
   "metadata": {},
   "source": [
    "# Generate new samples\n",
    "To have meaningful statistics, be sure to generate enough samples\n",
    "* 2000 : 32 x 32\n",
    "* 500 : 64 x 64\n",
    "* 200 : 128 x 128\n"
   ]
  },
  {
   "cell_type": "code",
   "execution_count": null,
   "metadata": {},
   "outputs": [],
   "source": [
    "checkpoint = None"
   ]
  },
  {
   "cell_type": "code",
   "execution_count": null,
   "metadata": {},
   "outputs": [],
   "source": [
    "N = 2000 # Number of samples\n",
    "gen_sample = np.squeeze(wgan.generate(N=N, checkpoint=checkpoint))"
   ]
  },
  {
   "cell_type": "markdown",
   "metadata": {},
   "source": [
    "Display histogram of generated images"
   ]
  },
  {
   "cell_type": "code",
   "execution_count": null,
   "metadata": {},
   "outputs": [],
   "source": [
    "plt.hist(gen_sample.flatten(), 100)\n",
    "print('min: {}'.format(np.min(gen_sample)))\n",
    "print('max: {}'.format(np.max(gen_sample)))\n",
    "plt.yscale('log')"
   ]
  },
  {
   "cell_type": "markdown",
   "metadata": {},
   "source": [
    "Display a few fake samples"
   ]
  },
  {
   "cell_type": "code",
   "execution_count": null,
   "metadata": {},
   "outputs": [],
   "source": [
    "fig, ax = plt.subplots(nrows=4, ncols=4, figsize=(15,15))\n",
    "idx = 0\n",
    "for row in ax:\n",
    "    for col in row:\n",
    "        plot.plot_img(gen_sample[idx], vmin=vmin, vmax=vmax, ax=col)\n",
    "        idx = idx + 1\n",
    "fig.tight_layout()"
   ]
  },
  {
   "cell_type": "code",
   "execution_count": null,
   "metadata": {},
   "outputs": [],
   "source": [
    "# Compare real and fake\n",
    "real = dataset.get_samples(N=4)\n",
    "fig, ax = plt.subplots(nrows=2, ncols=4, figsize=(20,10))\n",
    "idx = 0\n",
    "for row in ax:\n",
    "    for col in row:\n",
    "        plot.plot_img(gen_sample[idx] if idx < 4 else real[idx%4], vmin=vmin, vmax=vmax, ax=col)\n",
    "        idx = idx + 1\n",
    "fig.tight_layout()"
   ]
  },
  {
   "cell_type": "markdown",
   "metadata": {},
   "source": [
    "# Evaluation of the sample quality"
   ]
  },
  {
   "cell_type": "code",
   "execution_count": null,
   "metadata": {},
   "outputs": [],
   "source": [
    "# Before computing the statistics, we need to invert the mapping\n",
    "raw_images = dataset.get_samples(N)\n",
    "gen_sample_raw = gen_sample[:N]"
   ]
  },
  {
   "cell_type": "code",
   "execution_count": null,
   "metadata": {},
   "outputs": [],
   "source": [
    "lenstools = True\n",
    "cut = [200, 6000]\n",
    "box_l = (5*np.pi/180)\n",
    "bin_k = 50"
   ]
  },
  {
   "cell_type": "code",
   "execution_count": null,
   "metadata": {},
   "outputs": [],
   "source": [
    "evaluation.compute_and_plot_psd(raw_images, gen_sample_raw, multiply=True, confidence='std', fractional_difference=True, cut=cut, bin_k=bin_k, box_l=box_l, lenstools=lenstools)"
   ]
  },
  {
   "cell_type": "code",
   "execution_count": null,
   "metadata": {},
   "outputs": [],
   "source": [
    "evaluation.compute_plot_psd_mode_hists(raw_images, gen_sample_raw, modes=3, cut=cut, hist_batch=4, confidence='std', bin_k=bin_k, box_l=box_l, lenstools=lenstools)"
   ]
  },
  {
   "cell_type": "code",
   "execution_count": null,
   "metadata": {},
   "outputs": [],
   "source": [
    "evaluation.compute_and_plot_peak_count(raw_images, gen_sample_raw, log=False, lim=(0, 0.8), confidence='std', fractional_difference=True)"
   ]
  },
  {
   "cell_type": "code",
   "execution_count": null,
   "metadata": {},
   "outputs": [],
   "source": [
    "evaluation.compute_and_plot_mass_hist(raw_images, gen_sample_raw, log=False, lim=(0, 0.8), confidence='std', fractional_difference=True)"
   ]
  },
  {
   "cell_type": "code",
   "execution_count": null,
   "metadata": {},
   "outputs": [],
   "source": [
    "c_r, c_f, _ = evaluation.compute_plot_correlation(raw_images, gen_sample_raw, cut=[0, 6000], tick_every=10, lenstools=lenstools, bin_k=bin_k, box_l=box_l)\n",
    "print(np.linalg.norm(c_r-c_f))"
   ]
  },
  {
   "cell_type": "code",
   "execution_count": null,
   "metadata": {},
   "outputs": [],
   "source": [
    "fig, ax = plt.subplots(nrows=1, ncols=3, figsize=(15, 5))\n",
    "evaluation.plot_stats(ax, gen_sample_raw, raw_images, log=False, lim=(0,0.8), confidence='std', multiply=True, fractional_difference=[True, True, True], cut=cut, lenstools=lenstools, bin_k=bin_k, box_l=box_l)\n",
    "fig.tight_layout()"
   ]
  },
  {
   "cell_type": "markdown",
   "metadata": {},
   "source": [
    "MS-SSIM score"
   ]
  },
  {
   "cell_type": "code",
   "execution_count": null,
   "metadata": {},
   "outputs": [],
   "source": [
    "s_fake, s_real = evaluation.compute_ssim_score([gen_sample_raw], [raw_images])"
   ]
  },
  {
   "cell_type": "code",
   "execution_count": null,
   "metadata": {},
   "outputs": [],
   "source": [
    "print(s_fake[0], s_real[0])"
   ]
  },
  {
   "cell_type": "code",
   "execution_count": null,
   "metadata": {},
   "outputs": [],
   "source": []
  }
 ],
 "metadata": {
  "kernelspec": {
   "display_name": "Python 3",
   "language": "python",
   "name": "python3"
  },
  "language_info": {
   "codemirror_mode": {
    "name": "ipython",
    "version": 3
   },
   "file_extension": ".py",
   "mimetype": "text/x-python",
   "name": "python",
   "nbconvert_exporter": "python",
   "pygments_lexer": "ipython3",
   "version": "3.7.3"
  }
 },
 "nbformat": 4,
 "nbformat_minor": 4
}
