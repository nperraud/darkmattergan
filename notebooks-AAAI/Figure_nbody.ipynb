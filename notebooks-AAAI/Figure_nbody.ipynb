{
 "cells": [
  {
   "cell_type": "code",
   "execution_count": null,
   "metadata": {},
   "outputs": [],
   "source": [
    "%matplotlib inline"
   ]
  },
  {
   "cell_type": "code",
   "execution_count": null,
   "metadata": {},
   "outputs": [],
   "source": [
    "from gantools.data import load, fmap\n",
    "from matplotlib import pyplot as plt\n",
    "from mpl_toolkits.mplot3d import Axes3D\n",
    "from mpl_toolkits.mplot3d.art3d import Poly3DCollection, Line3DCollection\n",
    "import numpy as np"
   ]
  },
  {
   "cell_type": "code",
   "execution_count": null,
   "metadata": {},
   "outputs": [],
   "source": [
    "scaling = 2\n",
    "cubes = load.load_dataset(nsamples=1,resolution=256,Mpch=70,shuffle=False,spix=256//scaling,is_3d=True,forward_map=fmap.log_forward, scaling=scaling)"
   ]
  },
  {
   "cell_type": "code",
   "execution_count": null,
   "metadata": {},
   "outputs": [],
   "source": [
    "cubes = dataset.get_all_data()[0]\n",
    "cubes.shape"
   ]
  },
  {
   "cell_type": "code",
   "execution_count": null,
   "metadata": {},
   "outputs": [],
   "source": [
    "plt.imshow(cubes[0])"
   ]
  },
  {
   "cell_type": "code",
   "execution_count": null,
   "metadata": {},
   "outputs": [],
   "source": [
    "x = np.arange(cubes.shape[0])\n",
    "y = np.arange(cubes.shape[1])\n",
    "z = np.arange(cubes.shape[2])\n",
    "xx, yy, zz = np.meshgrid(x,y,z)\n",
    "xx = xx.flatten()\n",
    "yy = yy.flatten()\n",
    "zz = zz.flatten()"
   ]
  },
  {
   "cell_type": "code",
   "execution_count": null,
   "metadata": {},
   "outputs": [],
   "source": [
    "cubes = cubes.flatten()/np.max(cubes)"
   ]
  },
  {
   "cell_type": "code",
   "execution_count": null,
   "metadata": {},
   "outputs": [],
   "source": [
    "# fig = plt.figure(figsize=(10, 10))\n",
    "# ax = fig.add_subplot(111, projection='3d')\n",
    "# for xt,yt,zt,ct in zip(xx, yy, zz, cubes):\n",
    "#     plt.plot([xt],[yt],[zt], '.b', alpha=ct/50)\n",
    "# plt.axis('off');\n",
    "# plt.savefig('particle_in_space', bbox_inches='tight')"
   ]
  },
  {
   "cell_type": "code",
   "execution_count": null,
   "metadata": {},
   "outputs": [],
   "source": [
    "thresh = 0.3"
   ]
  },
  {
   "cell_type": "code",
   "execution_count": null,
   "metadata": {},
   "outputs": [],
   "source": [
    "(cubes[cubes>thresh]).shape"
   ]
  },
  {
   "cell_type": "code",
   "execution_count": null,
   "metadata": {},
   "outputs": [],
   "source": [
    "cubes.shape"
   ]
  },
  {
   "cell_type": "code",
   "execution_count": null,
   "metadata": {},
   "outputs": [],
   "source": [
    "fig = plt.figure(figsize=(10, 10))\n",
    "ax = fig.add_subplot(111, projection='3d')\n",
    "\n",
    "m = 128\n",
    "Z = np.array([[0, 0, 0],\n",
    "                  [m, 0, 0 ],\n",
    "                  [m, m, 0],\n",
    "                  [0, m, 0],\n",
    "                  [0, 0, m],\n",
    "                  [m, 0, m ],\n",
    "                  [m, m, m],\n",
    "                  [0, m, m]])\n",
    "\n",
    "# list of sides' polygons of figure\n",
    "verts1 = [[Z[0],Z[1],Z[2],Z[3]], [Z[2],Z[3],Z[7],Z[6]], [Z[4],Z[7],Z[3],Z[0]]]\n",
    "faces1 = Poly3DCollection(verts1, linewidths=1, edgecolors='k')\n",
    "faces1.set_facecolor((0,0,0,0.0))\n",
    "ax.add_collection3d(faces1)\n",
    "\n",
    "for xt,yt,zt,ct in zip(xx[cubes>thresh], yy[cubes>thresh], zz[cubes>thresh], cubes[cubes>thresh]):\n",
    "    plt.plot([xt],[yt],[zt], '.b', alpha=ct/20)\n",
    "\n",
    "\n",
    "\n",
    "# # plot vertices\n",
    "# ax.scatter3D(Z[:, 0], Z[:, 1], Z[:, 2],edgecolors='k')\n",
    "\n",
    "# list of sides' polygons of figure\n",
    "verts2 = [[Z[4],Z[5],Z[6],Z[7]], [Z[0],Z[1],Z[5],Z[4]], [Z[1],Z[2],Z[6],Z[5]]]\n",
    "faces2 = Poly3DCollection(verts2, linewidths=1, edgecolors='k')\n",
    "faces2.set_facecolor((0,0,0,0.0))\n",
    "ax.add_collection3d(faces2)\n",
    "\n",
    "\n",
    "plt.axis('off');\n",
    "plt.savefig('particle_in_space_fast', bbox_inches='tight')"
   ]
  },
  {
   "cell_type": "code",
   "execution_count": null,
   "metadata": {},
   "outputs": [],
   "source": [
    "thresh = 0.25"
   ]
  },
  {
   "cell_type": "code",
   "execution_count": null,
   "metadata": {},
   "outputs": [],
   "source": [
    "(cubes[cubes>thresh]).shape"
   ]
  },
  {
   "cell_type": "code",
   "execution_count": null,
   "metadata": {},
   "outputs": [],
   "source": [
    "fig = plt.figure(figsize=(10, 10))\n",
    "ax = fig.add_subplot(111, projection='3d')\n",
    "\n",
    "m = 128\n",
    "Z = np.array([[0, 0, 0],\n",
    "                  [m, 0, 0 ],\n",
    "                  [m, m, 0],\n",
    "                  [0, m, 0],\n",
    "                  [0, 0, m],\n",
    "                  [m, 0, m ],\n",
    "                  [m, m, m],\n",
    "                  [0, m, m]])\n",
    "\n",
    "# list of sides' polygons of figure\n",
    "verts1 = [[Z[0],Z[1],Z[2],Z[3]], [Z[2],Z[3],Z[7],Z[6]], [Z[4],Z[7],Z[3],Z[0]]]\n",
    "faces1 = Poly3DCollection(verts1, linewidths=1, edgecolors='k')\n",
    "faces1.set_facecolor((0,0,0,0.0))\n",
    "ax.add_collection3d(faces1)\n",
    "\n",
    "for xt,yt,zt,ct in zip(xx[cubes>thresh], yy[cubes>thresh], zz[cubes>thresh], cubes[cubes>thresh]):\n",
    "    plt.plot([xt],[yt],[zt], '.b', alpha=ct/20)\n",
    "\n",
    "\n",
    "\n",
    "# # plot vertices\n",
    "# ax.scatter3D(Z[:, 0], Z[:, 1], Z[:, 2],edgecolors='k')\n",
    "\n",
    "# list of sides' polygons of figure\n",
    "verts2 = [[Z[4],Z[5],Z[6],Z[7]], [Z[0],Z[1],Z[5],Z[4]], [Z[1],Z[2],Z[6],Z[5]]]\n",
    "faces2 = Poly3DCollection(verts2, linewidths=1, edgecolors='k')\n",
    "faces2.set_facecolor((0,0,0,0.0))\n",
    "ax.add_collection3d(faces2)\n",
    "\n",
    "\n",
    "plt.axis('off');\n",
    "plt.savefig('particle_in_space_fast2', bbox_inches='tight')\n",
    "\n"
   ]
  },
  {
   "cell_type": "code",
   "execution_count": null,
   "metadata": {},
   "outputs": [],
   "source": []
  }
 ],
 "metadata": {
  "kernelspec": {
   "display_name": "Python 3",
   "language": "python",
   "name": "python3"
  },
  "language_info": {
   "codemirror_mode": {
    "name": "ipython",
    "version": 3
   },
   "file_extension": ".py",
   "mimetype": "text/x-python",
   "name": "python",
   "nbconvert_exporter": "python",
   "pygments_lexer": "ipython3",
   "version": "3.6.4"
  }
 },
 "nbformat": 4,
 "nbformat_minor": 2
}
