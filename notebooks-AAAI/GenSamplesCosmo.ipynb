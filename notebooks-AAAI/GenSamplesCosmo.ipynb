{
 "cells": [
  {
   "cell_type": "code",
   "execution_count": null,
   "metadata": {},
   "outputs": [],
   "source": [
    "%load_ext autoreload\n",
    "%autoreload 2\n",
    "%matplotlib inline"
   ]
  },
  {
   "cell_type": "code",
   "execution_count": null,
   "metadata": {},
   "outputs": [],
   "source": [
    "import sys\n",
    "sys.path.insert(0, '../gantools/')\n",
    "\n",
    "import numpy as np\n",
    "import tensorflow as tf\n",
    "import functools\n",
    "from matplotlib import pyplot as plt\n",
    "import os\n",
    "os.environ[\"CUDA_VISIBLE_DEVICES\"]=\"1\"\n",
    "\n",
    "from gantools import utils, plot, data, evaluation, blocks\n",
    "from gantools.gansystem import GANsystem, UpcaleGANsystem\n",
    "from gantools.model import WGAN, UpscalePatchWGAN, CosmoWGAN\n",
    "\n"
   ]
  },
  {
   "cell_type": "code",
   "execution_count": null,
   "metadata": {},
   "outputs": [],
   "source": [
    "np.__version__"
   ]
  },
  {
   "cell_type": "code",
   "execution_count": null,
   "metadata": {},
   "outputs": [],
   "source": [
    "# Setting the forward and backward transform\n",
    "\n",
    "forward = functools.partial(data.fmap.log_norm_forward, c=8000.0, scale=6.0)\n",
    "backward = functools.partial(data.fmap.log_norm_backward, c=8000.0, scale=6.0)\n",
    "\n",
    "backward_uniscale = functools.partial(data.fmap.stat_backward, c=20000.0, shift=3)\n",
    "forward_uniscale = functools.partial(data.fmap.stat_forward, c=20000.0, shift=3)\n",
    "\n",
    "# number of sample generated\n",
    "num_samples = 30\n",
    "\n",
    "pathmodel = '../trained_models/3DCosmo'\n",
    "pathsample = '../samples/3DCosmo'"
   ]
  },
  {
   "cell_type": "code",
   "execution_count": null,
   "metadata": {},
   "outputs": [],
   "source": [
    "def stat_forward_0(x, c=2e4):\n",
    "    if not type(x).__module__ == np.__name__:\n",
    "        x = np.array([x])\n",
    "    res = np.zeros(shape=x.shape, dtype=np.float32)\n",
    "    mask = x>c\n",
    "    maski = mask==False\n",
    "    res[maski] = np.log(x[maski]+1)\n",
    "    res[mask] = np.log(c+1) + (x[mask]/c-1)\n",
    "    res = 3*res / np.log(c+1)\n",
    "    return res\n",
    "\n",
    "def stat_backward_0(x, c=2e4):\n",
    "    if not type(x).__module__ == np.__name__:\n",
    "        x = np.array([x])\n",
    "    res = np.zeros(shape=x.shape, dtype=np.float32)\n",
    "    mc = np.log(c+1)\n",
    "    x = x*mc/3\n",
    "    mask = x>mc\n",
    "    maski = mask==False\n",
    "    res[maski] = np.exp(x[maski])-1\n",
    "    res[mask] = c*(x[mask] - np.log(c+1) + 1)\n",
    "    return np.round(res)\n",
    "\n",
    "def stat_forward(x, c=2e4, shift=3):\n",
    "    return stat_forward_0(x+shift, c=c) - stat_forward_0(shift, c=c)\n",
    "\n",
    "\n",
    "def stat_backward(x, c=2e4, shift=3):\n",
    "    clip_max = c*100\n",
    "    return stat_backward_0(x+stat_forward_0(shift, c=c), c=c) - shift\n",
    "\n",
    "backward_uniscale = stat_backward\n",
    "forward_uniscale = stat_forward"
   ]
  },
  {
   "cell_type": "code",
   "execution_count": null,
   "metadata": {},
   "outputs": [],
   "source": [
    "dataset256 = data.load.load_dataset(resolution=256,Mpch=350,shuffle=False,forward_map=None,spix=256,patch=False,is_3d=True,augmentation=False)\n",
    "cubes = dataset256.get_all_data()"
   ]
  },
  {
   "cell_type": "code",
   "execution_count": null,
   "metadata": {},
   "outputs": [],
   "source": [
    "np.sum(np.abs(backward(forward(cubes)) -cubes))"
   ]
  },
  {
   "cell_type": "code",
   "execution_count": null,
   "metadata": {},
   "outputs": [],
   "source": [
    "np.sum(np.abs(backward_uniscale(forward_uniscale(cubes)) -cubes))"
   ]
  },
  {
   "cell_type": "code",
   "execution_count": null,
   "metadata": {},
   "outputs": [],
   "source": [
    "def plot_cubes_paper(cubes, slice_num=None, nx=2, ny=2, bkd=backward, **kwargs):\n",
    "    def map_to_plot(img):\n",
    "        return data.fmap.stat_forward(bkd(img))\n",
    "    if len(cubes)<nx*ny:\n",
    "        raise ValueError(\"Not enough samples.\")\n",
    "    if slice_num is None:\n",
    "        slice_num = cubes.shape[1]//2+4\n",
    "    fig, ax = plt.subplots(nx, ny, sharey=True,figsize=(11/2*nx,10.5/2*ny))\n",
    "    sn = 0\n",
    "    for i in range(nx):\n",
    "        for j in range(ny):\n",
    "            if nx==1 and ny==1:\n",
    "                tax = ax\n",
    "            elif nx==1:\n",
    "                tax = ax[j]\n",
    "            elif ny==1:\n",
    "                tax = ax[i]\n",
    "            else:\n",
    "                tax = ax[i,j]\n",
    "            tax.imshow(map_to_plot(cubes[sn,slice_num]), interpolation='none', **kwargs)\n",
    "            tax.axis('off')\n",
    "            sn += 1\n",
    "    plt.tight_layout()\n",
    "\n",
    "    return fig"
   ]
  },
  {
   "cell_type": "markdown",
   "metadata": {},
   "source": [
    "# Generate samples - 32->64->256"
   ]
  },
  {
   "cell_type": "markdown",
   "metadata": {},
   "source": [
    "## 0->32"
   ]
  },
  {
   "cell_type": "code",
   "execution_count": null,
   "metadata": {
    "scrolled": true
   },
   "outputs": [],
   "source": [
    "name = '0_to_32'\n",
    "checkpoint = 27000\n",
    "\n",
    "pathmodel32 = os.path.join(pathmodel, name)\n",
    "params_32 = utils.load_params(pathmodel32)\n",
    "# params_32 = old2new_params(params_32, CosmoWGAN)\n",
    "# params_32['net']['shape'] = [*params_32['net']['shape'],1]\n",
    "\n",
    "# params_32['net']['cosmology']['backward_map'] = backward\n",
    "# params_32['net']['cosmology']['forward_map'] = forward\n",
    "# params_32['summary_dir'] = os.path.join(pathmodel, name +'summary/')\n",
    "\n",
    "# for ind, item in enumerate(params.items()):\n",
    "#     print(ind, \" : \", item[0], \" - \", item[1])\n",
    "# print(resume)\n"
   ]
  },
  {
   "cell_type": "code",
   "execution_count": null,
   "metadata": {
    "scrolled": false
   },
   "outputs": [],
   "source": [
    "wgan_32 = GANsystem(CosmoWGAN,params_32, name='WGAN')\n",
    "gen_samples_32 = wgan_32.generate(N=num_samples, checkpoint=checkpoint)\n",
    "gen_samples_32 = np.squeeze(gen_samples_32)"
   ]
  },
  {
   "cell_type": "code",
   "execution_count": null,
   "metadata": {
    "scrolled": true
   },
   "outputs": [],
   "source": [
    "os.makedirs(os.path.join(pathsample,'0_32/'), exist_ok=True)\n",
    "utils.save_hdf5(gen_samples_32, os.path.join(pathsample,'0_32/32_samples_ckpt_latest.h5'))"
   ]
  },
  {
   "cell_type": "markdown",
   "metadata": {},
   "source": [
    "## 32->64"
   ]
  },
  {
   "cell_type": "markdown",
   "metadata": {},
   "source": [
    "Load fake 32"
   ]
  },
  {
   "cell_type": "code",
   "execution_count": null,
   "metadata": {},
   "outputs": [],
   "source": [
    "gen_samples_32 = utils.load_hdf5(os.path.join(pathsample,'0_32/32_samples_ckpt_latest.h5'))[:num_samples]\n",
    "print(\"gen_samples_32 shape=\", gen_samples_32.shape)\n",
    "gen_samples_32 = np.expand_dims(gen_samples_32, axis=4)\n",
    "print('downsampled shape=', gen_samples_32.shape)"
   ]
  },
  {
   "cell_type": "code",
   "execution_count": null,
   "metadata": {
    "scrolled": true
   },
   "outputs": [],
   "source": [
    "name = '32_to_64'\n",
    "class CosmoUpscalePatchWGAN(UpscalePatchWGAN, CosmoWGAN):\n",
    "    pass\n",
    "\n",
    "pathmodel64 = os.path.join(pathmodel, name)\n",
    "params_64 = utils.load_params(pathmodel64)\n",
    "params_64['net']['generator']['use_old_gen'] = True"
   ]
  },
  {
   "cell_type": "code",
   "execution_count": null,
   "metadata": {
    "scrolled": true
   },
   "outputs": [],
   "source": [
    "wgan_64 = UpcaleGANsystem(CosmoUpscalePatchWGAN, params_64)\n",
    "gen_samples_64 = wgan_64.upscale_image(small=gen_samples_32, checkpoint=None)"
   ]
  },
  {
   "cell_type": "code",
   "execution_count": null,
   "metadata": {},
   "outputs": [],
   "source": [
    "os.makedirs(os.path.join(pathsample,'32_64/'), exist_ok=True)\n",
    "utils.save_hdf5(gen_samples_64, os.path.join(pathsample,'32_64/64_samples_ckpt_latest.h5'))"
   ]
  },
  {
   "cell_type": "code",
   "execution_count": null,
   "metadata": {},
   "outputs": [],
   "source": [
    "# cmin = 0\n",
    "# cmax = 1.6\n",
    "# clim = (cmin, cmax)\n",
    "# plot_cubes_paper(gen_samples_64, cmap=plt.cm.plasma, clim=clim, nx=4, ny=4);\n"
   ]
  },
  {
   "cell_type": "code",
   "execution_count": null,
   "metadata": {},
   "outputs": [],
   "source": [
    "\n",
    "# import pickle\n",
    "# path_param = os.path.join(pathmodel64, 'params.pkl')\n",
    "# with open(path_param, 'wb') as f:\n",
    "#     pickle.dump(params_64, f)"
   ]
  },
  {
   "cell_type": "markdown",
   "metadata": {},
   "source": [
    "## 64->256"
   ]
  },
  {
   "cell_type": "code",
   "execution_count": null,
   "metadata": {},
   "outputs": [],
   "source": [
    "gen_samples_64 = utils.load_hdf5(os.path.join(pathsample,'32_64/64_samples_ckpt_latest.h5'))\n",
    "\n",
    "print('gen_samples_64 shape=', gen_samples_64.shape)\n",
    "gen_samples_64 = np.expand_dims(gen_samples_64, axis=4)[:num_samples]\n",
    "print('downsampled shape=', gen_samples_64.shape)"
   ]
  },
  {
   "cell_type": "code",
   "execution_count": null,
   "metadata": {
    "scrolled": true
   },
   "outputs": [],
   "source": [
    "name = '64_to_256'\n",
    "pathmodel256 = os.path.join(pathmodel, name)\n",
    "\n",
    "params_256 = utils.load_params(pathmodel256)\n",
    "# params_256['net']['generator']['use_old_gen'] = True\n",
    "# params_256 = old2new_params(params_256_old, CosmoUpscalePatchWGAN, checky=True)\n",
    "# params_256['net']['cosmology']['backward_map'] = backward\n",
    "# params_256['net']['cosmology']['forward_map'] = forward\n",
    "# params_256['save_dir'] = pathmodel256"
   ]
  },
  {
   "cell_type": "code",
   "execution_count": null,
   "metadata": {
    "scrolled": true
   },
   "outputs": [],
   "source": [
    "wgan_256 = UpcaleGANsystem(CosmoUpscalePatchWGAN, params_256)\n",
    "gen_samples_256 = wgan_256.upscale_image(small=gen_samples_64, checkpoint=None)"
   ]
  },
  {
   "cell_type": "code",
   "execution_count": null,
   "metadata": {},
   "outputs": [],
   "source": [
    "# cmin = 0\n",
    "# cmax = 3\n",
    "# clim = (cmin, cmax)\n",
    "# plot_cubes_paper(gen_samples_256, cmap=plt.cm.plasma, clim=clim, nx=2, ny=2);"
   ]
  },
  {
   "cell_type": "code",
   "execution_count": null,
   "metadata": {},
   "outputs": [],
   "source": [
    "os.makedirs(os.path.join(pathsample,'64_256/'), exist_ok=True)\n",
    "utils.save_hdf5(gen_samples_256, os.path.join(pathsample,'64_256/256_samples_ckpt_latest.h5'))"
   ]
  },
  {
   "cell_type": "code",
   "execution_count": null,
   "metadata": {},
   "outputs": [],
   "source": [
    "# import pickle\n",
    "# path_param = os.path.join(pathmodel256, 'params.pkl')\n",
    "# with open(path_param, 'wb') as f:\n",
    "#     pickle.dump(params_256, f)"
   ]
  },
  {
   "cell_type": "markdown",
   "metadata": {},
   "source": [
    "# Uniscale model\n",
    "This is not working. There is a special branch for this model."
   ]
  },
  {
   "cell_type": "code",
   "execution_count": null,
   "metadata": {},
   "outputs": [],
   "source": [
    "name = 'uni_scale'\n",
    "pathmodel_uniscale = os.path.join(pathmodel, name)\n",
    "params_uniscale = utils.load_params(pathmodel_uniscale)\n",
    "class CosmoUpscalePatchWGAN(UpscalePatchWGAN, CosmoWGAN):\n",
    "    pass\n",
    "# params_uniscale = old2new_params(params_uniscale_old, CosmoUpscalePatchWGAN, checky=True)\n",
    "\n",
    "# params_uniscale['net']['cosmology']['backward_map'] = backward_uniscale\n",
    "# params_uniscale['net']['cosmology']['forward_map'] = forward_uniscale\n",
    "\n",
    "# params_uniscale['save_dir'] = pathmodel_uniscale\n",
    "# params_uniscale['net']['generator']['residual'] = False\n",
    "# params_uniscale['net']['generator']['use_conv_over_deconv'] = False\n"
   ]
  },
  {
   "cell_type": "code",
   "execution_count": null,
   "metadata": {},
   "outputs": [],
   "source": [
    "wgan_uniscale = UpcaleGANsystem(CosmoUpscalePatchWGAN, params_uniscale)\n",
    "gen_samples_uniscale = wgan_uniscale.upscale_image(N=num_samples, resolution=256)"
   ]
  },
  {
   "cell_type": "code",
   "execution_count": null,
   "metadata": {},
   "outputs": [],
   "source": [
    "savedat = np.load('testgen2.npz')\n",
    "res = savedat['res'][0]\n",
    "res.shape\n",
    "res_raw = savedat['res'][1]\n",
    "\n"
   ]
  },
  {
   "cell_type": "code",
   "execution_count": null,
   "metadata": {},
   "outputs": [],
   "source": [
    "res2 = wgan_uniscale.generate(z=savedat['z'], borders=savedat['borders'])\n",
    "plt.imshow(res2[0,:,:,10,0])\n",
    "plt.figure()\n",
    "plt.imshow(res[0,:,:,10,0])\n",
    "np.testing.assert_almost_equal(res,res2, decimal=5)\n",
    "\n",
    "\n",
    "# res_raw[np.abs(res_raw-backward_uniscale(res2))>0]"
   ]
  },
  {
   "cell_type": "code",
   "execution_count": null,
   "metadata": {},
   "outputs": [],
   "source": [
    "# params_uniscale['net']['cosmology']['backward_map'] = backward_uniscale\n",
    "# params_uniscale['net']['cosmology']['forward_map'] = forward_uniscale\n",
    "# import pickle\n",
    "# path_param = os.path.join(pathmodel_uniscale, 'params.pkl')\n",
    "# with open(path_param, 'wb') as f:\n",
    "#     pickle.dump(params_uniscale, f)"
   ]
  },
  {
   "cell_type": "code",
   "execution_count": null,
   "metadata": {},
   "outputs": [],
   "source": [
    "os.makedirs(os.path.join(pathsample,'uniscale/'), exist_ok=True)\n",
    "utils.save_hdf5(gen_samples_uniscale, os.path.join(pathsample,'uniscale/256_samples_ckpt_latest.h5'))"
   ]
  },
  {
   "cell_type": "code",
   "execution_count": null,
   "metadata": {},
   "outputs": [],
   "source": [
    "cmin = 0\n",
    "cmax = 3\n",
    "clim = (cmin, cmax)\n",
    "plot_cubes_paper(gen_samples_uniscale, cmap=plt.cm.plasma, clim=clim, nx=2, ny=2, bkd=backward_uniscale);"
   ]
  },
  {
   "cell_type": "code",
   "execution_count": null,
   "metadata": {},
   "outputs": [],
   "source": [
    "\n",
    "# def upscale_image(obj, small=None, num_samples=None, resolution=None, checkpoint=None, is_3d=False):\n",
    "#     \"\"\"Upscale image using the lappachsimple model, or upscale_WGAN_pixel_CNN model.\n",
    "\n",
    "#     For model upscale_WGAN_pixel_CNN, pass num_samples to generate and resolution of the final bigger histogram.\n",
    "#     for model lappachsimple         , pass small.\n",
    "\n",
    "#     3D only works for upscale_WGAN_pixel_CNN.\n",
    "\n",
    "#     This function can be accelerated if the model is created only once.\n",
    "#     \"\"\"\n",
    "#     # Number of sample to produce\n",
    "#     if small is None:\n",
    "#         if num_samples is None:\n",
    "#             raise ValueError(\"Both small and num_samples cannot be None\")\n",
    "#         else:\n",
    "#             N = num_samples\n",
    "#     else:\n",
    "#         N = small.shape[0]\n",
    "\n",
    "#     # Output dimension of the generator\n",
    "#     soutx, souty = obj.params['net']['shape'][:2]\n",
    "#     if is_3d:\n",
    "#         soutz = obj.params['net']['shape'][2]\n",
    "\n",
    "#     if small is not None:\n",
    "#         # Dimension of the low res image\n",
    "#         lx, ly = small.shape[1:3]\n",
    "#         if is_3d:\n",
    "#             lz = small.shape[3]\n",
    "\n",
    "#         # Input dimension of the generator\n",
    "#         sinx = soutx // obj.params['generator']['downsampling']\n",
    "#         siny = souty // obj.params['generator']['downsampling']\n",
    "#         if is_3d:\n",
    "#             sinz = soutz // obj.params['generator']['downsampling']\n",
    "\n",
    "#         # Number of part to be generated\n",
    "#         nx = lx // sinx\n",
    "#         ny = ly // siny\n",
    "#         if is_3d:\n",
    "#             nz = lz // sinz\n",
    "\n",
    "#     else:\n",
    "#         sinx = siny = sinz = None\n",
    "#         if resolution is None:\n",
    "#             raise ValueError(\"Both small and resolution cannot be None\")\n",
    "#         else:\n",
    "#             nx = resolution // soutx\n",
    "#             ny = resolution // souty\n",
    "#             nz = resolution // soutz\n",
    "\n",
    "\n",
    "#     # Final output image\n",
    "#     with tf.Session() as sess:\n",
    "#         obj.load(sess=sess)\n",
    "\n",
    "#         if is_3d:\n",
    "#             output_image = generate_3d_output(sess, obj, N, nx, ny, nz, soutx, souty, soutz, small, sinx, siny, sinz)\n",
    "#         else:\n",
    "#             output_image = generate_2d_output(sess, obj, N, nx, ny, soutx, souty, small, sinx, siny)\n",
    "        \n",
    "#     return np.squeeze(output_image)\n",
    "\n",
    "\n",
    "# def generate_3d_output(sess, obj, N, nx, ny, nz, soutx, souty, soutz, small, sinx, siny, sinz):\n",
    "#     output_image = np.zeros(\n",
    "#             shape=[N, soutz * nz, souty * ny, soutx * nx, 1], dtype=np.float32)\n",
    "#     output_image[:] = np.nan\n",
    "\n",
    "#     print('Total number of patches = {}*{}*{} = {}'.format(nx, ny, nz, nx*ny*nz) )\n",
    "\n",
    "#     for k in range(nz): # height\n",
    "#         for j in range(ny): # rows\n",
    "#             for i in range(nx): # columns\n",
    "\n",
    "#                 # 1) Generate the border\n",
    "#                 border = np.zeros([N, soutz, souty, soutx, 7])\n",
    "\n",
    "#                 if j: # one row above, same height\n",
    "#                     border[:, :, :, :, 0:1] = output_image[:, \n",
    "#                                                             k * soutz:(k + 1) * soutz,\n",
    "#                                                             (j - 1) * souty:j * souty, \n",
    "#                                                             i * soutx:(i + 1) * soutx, \n",
    "#                                                         :]\n",
    "#                 if i: # one column left, same height\n",
    "#                     border[:, :, :, :, 1:2] = output_image[:,\n",
    "#                                                             k * soutz:(k + 1) * soutz,\n",
    "#                                                             j * souty:(j + 1) * souty, \n",
    "#                                                             (i - 1) * soutx:i * soutx, \n",
    "#                                                         :]\n",
    "#                 if i and j: # one row above, one column left, same height\n",
    "#                     border[:, :, :, :, 2:3] = output_image[:,\n",
    "#                                                             k * soutz:(k + 1) * soutz,\n",
    "#                                                             (j - 1) * souty:j * souty, \n",
    "#                                                             (i - 1) * soutx:i * soutx, \n",
    "#                                                         :]\n",
    "#                 if k: # same row, same column, one height above\n",
    "#                     border[:, :, :, :, 3:4] = output_image[:,\n",
    "#                                                             (k - 1) * soutz:k * soutz,\n",
    "#                                                             j * souty:(j + 1) * souty, \n",
    "#                                                             i * soutx:(i + 1) * soutx, \n",
    "#                                                         :]\n",
    "#                 if k and j: # one row above, same column, one height above\n",
    "#                     border[:, :, :, :, 4:5] = output_image[:,\n",
    "#                                                             (k - 1) * soutz:k * soutz,\n",
    "#                                                             (j - 1) * souty:j * souty, \n",
    "#                                                             i * soutx:(i + 1) * soutx, \n",
    "#                                                         :]\n",
    "#                 if k and i: # same row, one column left, one height above\n",
    "#                     border[:, :, :, :, 5:6] = output_image[:,\n",
    "#                                                             (k - 1) * soutz:k * soutz,\n",
    "#                                                             j * souty:(j + 1) * souty, \n",
    "#                                                             (i - 1) * soutx:i * soutx, \n",
    "#                                                         :]\n",
    "#                 if k and i and j: # one row above, one column left, one height above\n",
    "#                     border[:, :, :, :, 6:7] = output_image[:,\n",
    "#                                                             (k - 1) * soutz:k * soutz,\n",
    "#                                                             (j - 1) * souty:j * souty, \n",
    "#                                                             (i - 1) * soutx:i * soutx, \n",
    "#                                                         :]\n",
    "\n",
    "\n",
    "#                 # 2) Prepare low resolution\n",
    "#                 if small is not None:\n",
    "#                     downsampled = small[:, k * sinx:(k + 1) * sinz, \n",
    "#                                            j * siny:(j + 1) * siny,\n",
    "#                                            i * siny:(i + 1) * sinx,\n",
    "#                                            :]\n",
    "#                 else:\n",
    "#                     downsampled = None\n",
    "\n",
    "#                 # 3) Generate the image\n",
    "#                 print('Current patch: column={}, row={}, height={}'.format(i+1, j+1, k+1))\n",
    "#                 gen_sample = obj.generate(\n",
    "#                     N=N, borders=border, X_down=downsampled, sess=sess)\n",
    "\n",
    "#                 output_image[:, \n",
    "#                                 k * soutz:(k + 1) * soutz,\n",
    "#                                 j * souty:(j + 1) * souty, \n",
    "#                                 i * soutx:(i + 1) * soutx, \n",
    "#                             :] = gen_sample\n",
    "\n",
    "#     return output_image\n"
   ]
  },
  {
   "cell_type": "code",
   "execution_count": null,
   "metadata": {},
   "outputs": [],
   "source": [
    "# gen_samples_uniscale = upscale_image(wgan_uniscale, num_samples=num_samples, resolution=256, checkpoint='38000', is_3d=True)\n"
   ]
  },
  {
   "cell_type": "markdown",
   "metadata": {},
   "source": [
    "# Make the figures for the paper"
   ]
  },
  {
   "cell_type": "code",
   "execution_count": null,
   "metadata": {},
   "outputs": [],
   "source": [
    "pathfig = 'figures/'\n",
    "os.makedirs(pathfig, exist_ok=True)"
   ]
  },
  {
   "cell_type": "markdown",
   "metadata": {},
   "source": [
    "#### Load all samples"
   ]
  },
  {
   "cell_type": "code",
   "execution_count": null,
   "metadata": {},
   "outputs": [],
   "source": [
    "gen_samples_32 = utils.load_hdf5(os.path.join(pathsample,'0_32/32_samples_ckpt_latest.h5'))\n",
    "gen_samples_64 = utils.load_hdf5(os.path.join(pathsample,'32_64/64_samples_ckpt_latest.h5'))\n",
    "gen_samples_256 = utils.load_hdf5(os.path.join(pathsample,'64_256/256_samples_ckpt_latest.h5'))\n",
    "gen_samples_uniscale = utils.load_hdf5(os.path.join(pathsample,'uniscale/256_samples_ckpt_latest.h5'))\n"
   ]
  },
  {
   "cell_type": "markdown",
   "metadata": {},
   "source": [
    "#### Backward transform"
   ]
  },
  {
   "cell_type": "code",
   "execution_count": null,
   "metadata": {},
   "outputs": [],
   "source": [
    "gen_samples_32_raw = backward(gen_samples_32)\n",
    "gen_samples_64_raw = backward(gen_samples_64)\n",
    "gen_samples_256_raw = backward(gen_samples_256)\n"
   ]
  },
  {
   "cell_type": "code",
   "execution_count": null,
   "metadata": {},
   "outputs": [],
   "source": [
    "# specialpath = '/store/nati/archive/cosmosamples/uniscale/256_samples_ckpt_latest.h5'\n",
    "# gen_samples_uniscale = utils.load_hdf5(specialpath)"
   ]
  },
  {
   "cell_type": "code",
   "execution_count": null,
   "metadata": {},
   "outputs": [],
   "source": [
    "gen_samples_uniscale_raw = backward_uniscale(gen_samples_uniscale)\n"
   ]
  },
  {
   "cell_type": "markdown",
   "metadata": {},
   "source": [
    "#### Load real data"
   ]
  },
  {
   "cell_type": "code",
   "execution_count": null,
   "metadata": {},
   "outputs": [],
   "source": [
    "dataset256 = data.load.load_dataset(resolution=256,Mpch=350,shuffle=False,forward_map=forward,spix=256,patch=False,is_3d=True,augmentation=False)\n",
    "real_samples_256 = dataset256.get_all_data()\n",
    "del dataset256\n"
   ]
  },
  {
   "cell_type": "code",
   "execution_count": null,
   "metadata": {},
   "outputs": [],
   "source": [
    "real_samples_256_raw = backward(real_samples_256)"
   ]
  },
  {
   "cell_type": "code",
   "execution_count": null,
   "metadata": {},
   "outputs": [],
   "source": [
    "dataset32 = data.load.load_dataset(resolution=256,Mpch=350,shuffle=False,forward_map=forward,spix=32,patch=False,is_3d=True,augmentation=False, scaling=8)\n",
    "real_samples_32 = dataset32.get_all_data()\n",
    "del dataset32"
   ]
  },
  {
   "cell_type": "code",
   "execution_count": null,
   "metadata": {},
   "outputs": [],
   "source": [
    "real_samples_32_raw = backward(real_samples_32)"
   ]
  },
  {
   "cell_type": "code",
   "execution_count": null,
   "metadata": {},
   "outputs": [],
   "source": [
    "dataset64 = data.load.load_dataset(resolution=256,Mpch=350,shuffle=False,forward_map=forward,spix=64,patch=False,is_3d=True,augmentation=False, scaling=4)\n",
    "real_samples_64 = dataset64.get_all_data()\n",
    "del dataset64"
   ]
  },
  {
   "cell_type": "code",
   "execution_count": null,
   "metadata": {},
   "outputs": [],
   "source": [
    "real_samples_64_raw = backward(real_samples_64)"
   ]
  },
  {
   "cell_type": "code",
   "execution_count": null,
   "metadata": {},
   "outputs": [],
   "source": [
    "# cmin = np.min(cubes)\n",
    "# cmax = np.max(cubes)/1.5\n",
    "cmin = 0\n",
    "cmax = 3\n",
    "clim = (cmin, cmax)\n",
    "fig = plot_cubes_paper(real_samples_256, cmap=plt.cm.plasma, clim=clim);\n",
    "fig.suptitle('Real $256^3$', y=1.02, fontsize=24 )\n",
    "plt.savefig(pathfig+\"real256.pdf\", bbox_inches='tight', format='pdf')\n",
    "\n",
    "fig2 = plot_cubes_paper(gen_samples_256, cmap=plt.cm.plasma, clim=clim);\n",
    "fig2.suptitle('Fake $256^3$', y=1.02, fontsize=24 )\n",
    "plt.savefig(pathfig+\"fake256.pdf\", bbox_inches='tight', format='pdf')\n",
    "\n"
   ]
  },
  {
   "cell_type": "code",
   "execution_count": null,
   "metadata": {},
   "outputs": [],
   "source": [
    "logel2, l2, logel1, l1 = evaluation.compute_and_plot_mass_hist(real_samples_256_raw, gen_samples_256_raw)\n",
    "plt.savefig(pathfig+\"256full_hist.pdf\", bbox_inches='tight', format='pdf')"
   ]
  },
  {
   "cell_type": "code",
   "execution_count": null,
   "metadata": {},
   "outputs": [],
   "source": [
    "logel2, l2, logel1, l1 = evaluation.compute_and_plot_peak_cout(real_samples_256_raw, gen_samples_256_raw)\n",
    "plt.savefig(pathfig+\"256full_peak.pdf\", bbox_inches='tight', format='pdf')"
   ]
  },
  {
   "cell_type": "code",
   "execution_count": null,
   "metadata": {},
   "outputs": [],
   "source": [
    "evaluation.compute_and_plot_psd(real_samples_256_raw, gen_samples_256_raw)\n",
    "plt.savefig(pathfig+\"256full_psd.pdf\", bbox_inches='tight', format='pdf')"
   ]
  },
  {
   "cell_type": "markdown",
   "metadata": {},
   "source": [
    "# Scale by scale analysis"
   ]
  },
  {
   "cell_type": "markdown",
   "metadata": {},
   "source": [
    "## 32 cubes"
   ]
  },
  {
   "cell_type": "code",
   "execution_count": null,
   "metadata": {
    "scrolled": false
   },
   "outputs": [],
   "source": [
    "# cmin = np.min(cubes_32)\n",
    "# # cmin = 0\n",
    "# cmax = np.max(cubes_32)\n",
    "cmin = 0.1\n",
    "cmax = 1.3\n",
    "clim = (cmin, cmax)\n",
    "fig = plot_cubes_paper(real_samples_32, cmap=plt.cm.plasma, clim=clim, nx=4, ny=4);\n",
    "fig.suptitle('Real $32^3$', y=1.03, fontsize=48 )\n",
    "plt.savefig(pathfig+\"real32.pdf\", bbox_inches='tight', format='pdf')\n",
    "\n",
    "fig2 = plot_cubes_paper(gen_samples_32, cmap=plt.cm.plasma, clim=clim, nx=4, ny=4);\n",
    "fig2.suptitle('Fake $32^3$', y=1.03, fontsize=48 )\n",
    "plt.savefig(pathfig+\"fake32.pdf\", bbox_inches='tight', format='pdf')\n",
    "\n"
   ]
  },
  {
   "cell_type": "code",
   "execution_count": null,
   "metadata": {},
   "outputs": [],
   "source": [
    "logel2, l2, logel1, l1 = evaluation.compute_and_plot_mass_hist(real_samples_32_raw, gen_samples_32_raw)\n",
    "plt.savefig(pathfig+\"32_hist.pdf\", bbox_inches='tight', format='pdf')"
   ]
  },
  {
   "cell_type": "code",
   "execution_count": null,
   "metadata": {},
   "outputs": [],
   "source": [
    "logel2, l2, logel1, l1 = evaluation.compute_and_plot_peak_cout(real_samples_32_raw, gen_samples_32_raw)\n",
    "plt.savefig(pathfig+\"32_peak.pdf\", bbox_inches='tight', format='pdf')"
   ]
  },
  {
   "cell_type": "code",
   "execution_count": null,
   "metadata": {},
   "outputs": [],
   "source": [
    "evaluation.compute_and_plot_psd(real_samples_32_raw, gen_samples_32_raw)\n",
    "plt.savefig(pathfig+\"32_psd.pdf\", bbox_inches='tight', format='pdf')"
   ]
  },
  {
   "cell_type": "markdown",
   "metadata": {},
   "source": [
    "## 64 Cubes"
   ]
  },
  {
   "cell_type": "code",
   "execution_count": null,
   "metadata": {},
   "outputs": [],
   "source": [
    "name = '32_to_64'\n",
    "class CosmoUpscalePatchWGAN(UpscalePatchWGAN, CosmoWGAN):\n",
    "    pass\n",
    "\n",
    "pathmodel64 = os.path.join(pathmodel, name)\n",
    "params_64 = utils.load_params(pathmodel64)\n",
    "wgan_64 = UpcaleGANsystem(CosmoUpscalePatchWGAN, params_64)\n",
    "gen_samples_64_single = wgan_64.upscale_image(small=np.reshape(real_samples_32, [*real_samples_32.shape,1]))"
   ]
  },
  {
   "cell_type": "code",
   "execution_count": null,
   "metadata": {},
   "outputs": [],
   "source": [
    "gen_samples_64_single_raw = backward(gen_samples_64_single)"
   ]
  },
  {
   "cell_type": "code",
   "execution_count": null,
   "metadata": {},
   "outputs": [],
   "source": [
    "# cmin = np.min(cubes_64)\n",
    "# cmax = np.max(cubes_64)\n",
    "cmin = 0\n",
    "cmax = 1.6\n",
    "clim = (cmin, cmax)\n",
    "fig = plot_cubes_paper(real_samples_64, cmap=plt.cm.plasma, clim=clim);\n",
    "fig.suptitle('Real $64^3$', y=1.04, fontsize=36 )\n",
    "plt.savefig(pathfig+\"up_real64.pdf\", bbox_inches='tight', format='pdf')\n",
    "\n",
    "fig2 = plot_cubes_paper(gen_samples_64_single, cmap=plt.cm.plasma, clim=clim);\n",
    "fig2.suptitle('Fake $64^3$', y=1.04, fontsize=36 )\n",
    "plt.savefig(pathfig+\"up_fake64.pdf\", bbox_inches='tight', format='pdf')\n",
    "\n",
    "fig = plot_cubes_paper(real_samples_32, cmap=plt.cm.plasma, clim=clim);\n",
    "fig.suptitle('Real downsampled $32^3$', y=1.04, fontsize=36 )\n",
    "plt.savefig(pathfig+\"up_down32.pdf\", bbox_inches='tight', format='pdf')"
   ]
  },
  {
   "cell_type": "code",
   "execution_count": null,
   "metadata": {},
   "outputs": [],
   "source": [
    "logel2, l2, logel1, l1 = evaluation.compute_and_plot_mass_hist(real_samples_64_raw, gen_samples_64_single_raw)\n",
    "plt.savefig(pathfig+\"up_64_hist.pdf\", bbox_inches='tight', format='pdf')"
   ]
  },
  {
   "cell_type": "code",
   "execution_count": null,
   "metadata": {},
   "outputs": [],
   "source": [
    "logel2, l2, logel1, l1 = evaluation.compute_and_plot_peak_cout(real_samples_64_raw, gen_samples_64_single_raw)\n",
    "plt.savefig(pathfig+\"up_64_peak.pdf\", bbox_inches='tight', format='pdf')"
   ]
  },
  {
   "cell_type": "code",
   "execution_count": null,
   "metadata": {},
   "outputs": [],
   "source": [
    "evaluation.compute_and_plot_psd(real_samples_64_raw, gen_samples_64_single_raw)\n",
    "plt.savefig(pathfig+\"up_64_psd.pdf\", bbox_inches='tight', format='pdf')"
   ]
  },
  {
   "cell_type": "markdown",
   "metadata": {},
   "source": [
    "## 256 Cubes"
   ]
  },
  {
   "cell_type": "code",
   "execution_count": null,
   "metadata": {},
   "outputs": [],
   "source": [
    "name = '64_to_256'\n",
    "pathmodel256 = os.path.join(pathmodel, name)\n",
    "\n",
    "params_256 = utils.load_params(pathmodel256)\n",
    "\n",
    "wgan_256 = UpcaleGANsystem(CosmoUpscalePatchWGAN, params_256)\n",
    "gen_samples_single_256 = wgan_256.upscale_image(small=np.reshape(real_samples_64, [*real_samples_64.shape, 1]))"
   ]
  },
  {
   "cell_type": "code",
   "execution_count": null,
   "metadata": {},
   "outputs": [],
   "source": [
    "# cmin = np.min(cubes_256)\n",
    "# cmax = np.max(cubes_256)/2.5\n",
    "cmin = 0\n",
    "cmax = 3\n",
    "clim = (cmin, cmax)\n",
    "fig = plot_cubes_paper(real_samples_256, cmap=plt.cm.plasma, clim=clim, ny=1);\n",
    "fig.suptitle('Real $256^3$', y=1.03, fontsize=12 )\n",
    "plt.savefig(pathfig+\"up_real256.pdf\", bbox_inches='tight', format='pdf')\n",
    "\n",
    "fig2 = plot_cubes_paper(gen_samples_single_256, cmap=plt.cm.plasma, clim=clim, ny=1);\n",
    "fig2.suptitle('Fake $256^3$', y=1.03, fontsize=12 )\n",
    "plt.savefig(pathfig+\"up_fake256.pdf\", bbox_inches='tight', format='pdf')\n",
    "\n",
    "fig = plot_cubes_paper(real_samples_64, cmap=plt.cm.plasma, clim=clim, ny=1);\n",
    "fig.suptitle('Real downsampled $64^3$', y=1.03, fontsize=12 )\n",
    "plt.savefig(pathfig+\"up_down64.pdf\", bbox_inches='tight', format='pdf')"
   ]
  },
  {
   "cell_type": "code",
   "execution_count": null,
   "metadata": {},
   "outputs": [],
   "source": [
    "gen_samples_single_256_raw = backward(gen_samples_single_256)"
   ]
  },
  {
   "cell_type": "code",
   "execution_count": null,
   "metadata": {},
   "outputs": [],
   "source": [
    "logel2, l2, logel1, l1 = evaluation.compute_and_plot_mass_hist(real_samples_256_raw, gen_samples_single_256_raw)\n",
    "plt.savefig(pathfig+\"up_256_hist.pdf\", bbox_inches='tight', format='pdf')"
   ]
  },
  {
   "cell_type": "code",
   "execution_count": null,
   "metadata": {},
   "outputs": [],
   "source": [
    "logel2, l2, logel1, l1 = evaluation.compute_and_plot_peak_cout(real_samples_256_raw, gen_samples_single_256_raw)\n",
    "plt.savefig(pathfig+\"up_256_peak.pdf\", bbox_inches='tight', format='pdf')"
   ]
  },
  {
   "cell_type": "code",
   "execution_count": null,
   "metadata": {},
   "outputs": [],
   "source": [
    "evaluation.compute_and_plot_psd(real_samples_256_raw, gen_samples_single_256_raw)\n",
    "plt.savefig(pathfig+\"up_256_psd.pdf\", bbox_inches='tight', format='pdf')"
   ]
  },
  {
   "cell_type": "markdown",
   "metadata": {},
   "source": [
    "## Uniscale"
   ]
  },
  {
   "cell_type": "code",
   "execution_count": null,
   "metadata": {},
   "outputs": [],
   "source": [
    "cmin = 0\n",
    "cmax = 3\n",
    "clim = (cmin, cmax)\n",
    "fig = plot_cubes_paper(real_samples_256, cmap=plt.cm.plasma, clim=clim);\n",
    "fig.suptitle('Real $256^3$', y=1.02, fontsize=24 )\n",
    "plt.savefig(pathfig+\"uniscalereal256.pdf\", bbox_inches='tight', format='pdf')\n",
    "\n",
    "fig2 = plot_cubes_paper(gen_samples_uniscale, cmap=plt.cm.plasma, clim=clim, bkd=backward_uniscale);\n",
    "fig2.suptitle('Fake $256^3 - uniscale$', y=1.02, fontsize=24 )\n",
    "plt.savefig(pathfig+\"uniscalefake256.pdf\", bbox_inches='tight', format='pdf')"
   ]
  },
  {
   "cell_type": "code",
   "execution_count": null,
   "metadata": {},
   "outputs": [],
   "source": [
    "logel2, l2, logel1, l1 = evaluation.compute_and_plot_mass_hist(real_samples_256_raw, gen_samples_uniscale_raw)\n",
    "plt.savefig(pathfig+\"256uniscale_hist.pdf\", bbox_inches='tight', format='pdf')"
   ]
  },
  {
   "cell_type": "code",
   "execution_count": null,
   "metadata": {},
   "outputs": [],
   "source": [
    "logel2, l2, logel1, l1 = evaluation.compute_and_plot_peak_cout(real_samples_256_raw, gen_samples_uniscale_raw)\n",
    "plt.savefig(pathfig+\"256uniscale_peak.pdf\", bbox_inches='tight', format='pdf')"
   ]
  },
  {
   "cell_type": "code",
   "execution_count": null,
   "metadata": {},
   "outputs": [],
   "source": [
    "evaluation.compute_and_plot_psd(real_samples_256_raw, gen_samples_uniscale_raw)\n",
    "plt.savefig(pathfig+\"256uniscale_psd.pdf\", bbox_inches='tight', format='pdf')"
   ]
  },
  {
   "cell_type": "markdown",
   "metadata": {},
   "source": [
    "# Gifs"
   ]
  },
  {
   "cell_type": "markdown",
   "metadata": {},
   "source": [
    "## Real 256 cubes"
   ]
  },
  {
   "cell_type": "code",
   "execution_count": null,
   "metadata": {},
   "outputs": [],
   "source": [
    "# fps=16\n",
    "# clim = (0,3)\n",
    "# plot.animate_cubes(real_samples_256, output_name=pathfig+\"real256.gif\", clim=clim, fps=fps, cmap=plt.cm.plasma)\n",
    "# animation = plot.cubes_to_animation(real_samples_256, cmap=plt.cm.plasma, clim=clim)\n",
    "# animation.ipython_display(fps=16, loop=True, autoplay=True)\n"
   ]
  },
  {
   "cell_type": "code",
   "execution_count": null,
   "metadata": {},
   "outputs": [],
   "source": [
    "# plot.save_animation(real_samples_256[0], gen_samples_256[0], figsize=(10, 6), fps=16, format='mp4', output_file_name=pathfig+'final.mp4', clim=clim)\n",
    "# plt.style.use('ggplot')"
   ]
  },
  {
   "cell_type": "code",
   "execution_count": null,
   "metadata": {},
   "outputs": [],
   "source": []
  }
 ],
 "metadata": {
  "kernelspec": {
   "display_name": "Python 3",
   "language": "python",
   "name": "python3"
  },
  "language_info": {
   "codemirror_mode": {
    "name": "ipython",
    "version": 3
   },
   "file_extension": ".py",
   "mimetype": "text/x-python",
   "name": "python",
   "nbconvert_exporter": "python",
   "pygments_lexer": "ipython3",
   "version": "3.5.2"
  }
 },
 "nbformat": 4,
 "nbformat_minor": 2
}
