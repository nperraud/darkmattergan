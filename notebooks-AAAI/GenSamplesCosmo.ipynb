{
 "cells": [
  {
   "cell_type": "code",
   "execution_count": null,
   "metadata": {},
   "outputs": [],
   "source": [
    "%load_ext autoreload\n",
    "%autoreload 2\n",
    "%matplotlib inline"
   ]
  },
  {
   "cell_type": "code",
   "execution_count": null,
   "metadata": {},
   "outputs": [],
   "source": [
    "import numpy as np\n",
    "import tensorflow as tf\n",
    "import functools\n",
    "from matplotlib import pyplot as plt\n",
    "import os\n",
    "# os.environ[\"CUDA_VISIBLE_DEVICES\"]=\"1\"\n",
    "\n",
    "from gantools import utils, plot, data, evaluation, blocks\n",
    "from gantools.gansystem import GANsystem, UpcaleGANsystem\n",
    "from gantools.model import WGAN, UpscalePatchWGAN, CosmoWGAN\n",
    "\n"
   ]
  },
  {
   "cell_type": "code",
   "execution_count": null,
   "metadata": {},
   "outputs": [],
   "source": [
    "# Setting the forward and backward transform\n",
    "\n",
    "forward = functools.partial(data.fmap.log_norm_forward, c=8000.0, scale=6.0)\n",
    "backward = functools.partial(data.fmap.log_norm_backward, c=8000.0, scale=6.0)\n",
    "\n",
    "backward_uniscale = functools.partial(data.fmap.stat_backward, c=20000.0, shift=3)\n",
    "forward_uniscale = functools.partial(data.fmap.stat_forward, c=20000.0, shift=3)\n",
    "\n",
    "# number of sample generated\n",
    "num_samples = 30\n",
    "\n",
    "pathmodel = '../saved_results/nbody'\n",
    "pathsample = '../samples/nbody'"
   ]
  },
  {
   "cell_type": "code",
   "execution_count": null,
   "metadata": {},
   "outputs": [],
   "source": [
    "def plot_cubes_paper(cubes, slice_num=None, nx=2, ny=2, bkd=backward, **kwargs):\n",
    "    def map_to_plot(img):\n",
    "        return data.fmap.stat_forward(bkd(img))\n",
    "    if len(cubes)<nx*ny:\n",
    "        raise ValueError(\"Not enough samples.\")\n",
    "    if slice_num is None:\n",
    "        slice_num = cubes.shape[1]//2+4\n",
    "    fig, ax = plt.subplots(nx, ny, sharey=True,figsize=(11/2*nx,10.5/2*ny))\n",
    "    sn = 0\n",
    "    for i in range(nx):\n",
    "        for j in range(ny):\n",
    "            if nx==1 and ny==1:\n",
    "                tax = ax\n",
    "            elif nx==1:\n",
    "                tax = ax[j]\n",
    "            elif ny==1:\n",
    "                tax = ax[i]\n",
    "            else:\n",
    "                tax = ax[i,j]\n",
    "            tax.imshow(map_to_plot(cubes[sn,slice_num]), interpolation='none', **kwargs)\n",
    "            tax.axis('off')\n",
    "            sn += 1\n",
    "    plt.tight_layout()\n",
    "\n",
    "    return fig"
   ]
  },
  {
   "cell_type": "markdown",
   "metadata": {},
   "source": [
    "# Generate samples - 32->64->256"
   ]
  },
  {
   "cell_type": "markdown",
   "metadata": {},
   "source": [
    "## 0->32"
   ]
  },
  {
   "cell_type": "code",
   "execution_count": null,
   "metadata": {},
   "outputs": [],
   "source": [
    "name = 'WGAN_0_to_32_checkpoints'\n",
    "checkpoint = 29000\n",
    "\n",
    "pathmodel32 = os.path.join(pathmodel, name)\n",
    "params_32 = utils.load_params(pathmodel32)\n",
    "# params_32 = old2new_params(params_32, CosmoWGAN)\n",
    "# params_32['net']['shape'] = [*params_32['net']['shape'],1]\n",
    "\n",
    "# params_32['net']['cosmology']['backward_map'] = backward\n",
    "# params_32['net']['cosmology']['forward_map'] = forward\n",
    "# params_32['summary_dir'] = os.path.join(pathmodel, name +'summary/')\n",
    "\n",
    "# for ind, item in enumerate(params.items()):\n",
    "#     print(ind, \" : \", item[0], \" - \", item[1])\n",
    "# print(resume)\n"
   ]
  },
  {
   "cell_type": "code",
   "execution_count": null,
   "metadata": {},
   "outputs": [],
   "source": [
    "wgan_32 = GANsystem(CosmoWGAN,params_32, name='wgan')"
   ]
  },
  {
   "cell_type": "code",
   "execution_count": null,
   "metadata": {},
   "outputs": [],
   "source": [
    "gen_samples_32 = wgan_32.generate(N=num_samples, checkpoint=checkpoint)\n",
    "gen_samples_32 = np.squeeze(gen_samples_32)"
   ]
  },
  {
   "cell_type": "code",
   "execution_count": null,
   "metadata": {},
   "outputs": [],
   "source": [
    "os.makedirs(os.path.join(pathsample,'0_32/'), exist_ok=True)\n",
    "utils.save_hdf5(gen_samples_32, os.path.join(pathsample,'0_32/32_samples_ckpt_latest.h5'))"
   ]
  },
  {
   "cell_type": "code",
   "execution_count": null,
   "metadata": {},
   "outputs": [],
   "source": [
    "cmin = 0\n",
    "cmax = 1.6\n",
    "clim = (cmin, cmax)\n",
    "plot_cubes_paper(gen_samples_32, cmap=plt.cm.plasma, clim=clim, nx=4, ny=4);"
   ]
  },
  {
   "cell_type": "markdown",
   "metadata": {},
   "source": [
    "## 32->64"
   ]
  },
  {
   "cell_type": "markdown",
   "metadata": {},
   "source": [
    "Load fake 32"
   ]
  },
  {
   "cell_type": "code",
   "execution_count": null,
   "metadata": {},
   "outputs": [],
   "source": [
    "gen_samples_32 = utils.load_hdf5(os.path.join(pathsample,'0_32/32_samples_ckpt_latest.h5'))[:num_samples]\n",
    "print(\"gen_samples_32 shape=\", gen_samples_32.shape)\n",
    "gen_samples_32 = np.expand_dims(gen_samples_32, axis=4)\n",
    "print('downsampled shape=', gen_samples_32.shape)"
   ]
  },
  {
   "cell_type": "code",
   "execution_count": null,
   "metadata": {},
   "outputs": [],
   "source": [
    "name = 'WGAN_32_to_64_checkpoints'\n",
    "checkpoint64 = None\n",
    "class CosmoUpscalePatchWGAN(UpscalePatchWGAN, CosmoWGAN):\n",
    "    pass\n",
    "\n",
    "pathmodel64 = os.path.join(pathmodel, name)\n",
    "params_64 = utils.load_params(pathmodel64)\n",
    "# params_64['net']['generator']['use_old_gen'] = True"
   ]
  },
  {
   "cell_type": "code",
   "execution_count": null,
   "metadata": {},
   "outputs": [],
   "source": [
    "wgan_64 = UpcaleGANsystem(CosmoUpscalePatchWGAN, params_64)\n",
    "gen_samples_64 = wgan_64.upscale_image(small=gen_samples_32, checkpoint=checkpoint64)"
   ]
  },
  {
   "cell_type": "code",
   "execution_count": null,
   "metadata": {},
   "outputs": [],
   "source": [
    "os.makedirs(os.path.join(pathsample,'32_64/'), exist_ok=True)\n",
    "utils.save_hdf5(gen_samples_64, os.path.join(pathsample,'32_64/64_samples_ckpt_latest.h5'))"
   ]
  },
  {
   "cell_type": "code",
   "execution_count": null,
   "metadata": {},
   "outputs": [],
   "source": [
    "cmin = 0\n",
    "cmax = 1.6\n",
    "clim = (cmin, cmax)\n",
    "plot_cubes_paper(gen_samples_64, cmap=plt.cm.plasma, clim=clim, nx=4, ny=4);\n"
   ]
  },
  {
   "cell_type": "markdown",
   "metadata": {},
   "source": [
    "## 64->256"
   ]
  },
  {
   "cell_type": "code",
   "execution_count": null,
   "metadata": {},
   "outputs": [],
   "source": [
    "gen_samples_64 = utils.load_hdf5(os.path.join(pathsample,'32_64/64_samples_ckpt_latest.h5'))\n",
    "\n",
    "print('gen_samples_64 shape=', gen_samples_64.shape)\n",
    "gen_samples_64 = np.expand_dims(gen_samples_64, axis=4)[:num_samples]\n",
    "print('downsampled shape=', gen_samples_64.shape)"
   ]
  },
  {
   "cell_type": "code",
   "execution_count": null,
   "metadata": {},
   "outputs": [],
   "source": [
    "name = 'WGAN_64_to_256_checkpoints'\n",
    "checkpoint256 = 150000 \n",
    "pathmodel256 = os.path.join(pathmodel, name)\n",
    "\n",
    "params_256 = utils.load_params(pathmodel256)\n",
    "# params_256['net']['generator']['use_old_gen'] = True\n",
    "# params_256 = old2new_params(params_256_old, CosmoUpscalePatchWGAN, checky=True)\n",
    "# params_256['net']['cosmology']['backward_map'] = backward\n",
    "# params_256['net']['cosmology']['forward_map'] = forward\n",
    "# params_256['save_dir'] = pathmodel256"
   ]
  },
  {
   "cell_type": "code",
   "execution_count": null,
   "metadata": {},
   "outputs": [],
   "source": [
    "wgan_256 = UpcaleGANsystem(CosmoUpscalePatchWGAN, params_256)\n",
    "gen_samples_256 = wgan_256.upscale_image(small=gen_samples_64, checkpoint=checkpoint256)"
   ]
  },
  {
   "cell_type": "code",
   "execution_count": null,
   "metadata": {},
   "outputs": [],
   "source": [
    "cmin = 0\n",
    "cmax = 3\n",
    "clim = (cmin, cmax)\n",
    "plot_cubes_paper(gen_samples_256, cmap=plt.cm.plasma, clim=clim, nx=2, ny=2);"
   ]
  },
  {
   "cell_type": "code",
   "execution_count": null,
   "metadata": {},
   "outputs": [],
   "source": [
    "os.makedirs(os.path.join(pathsample,'64_256/'), exist_ok=True)\n",
    "utils.save_hdf5(gen_samples_256, os.path.join(pathsample,'64_256/256_samples_ckpt_latest.h5'))"
   ]
  },
  {
   "cell_type": "markdown",
   "metadata": {},
   "source": [
    "# Uniscale model\n",
    "This is not working. There is a special branch for this model."
   ]
  },
  {
   "cell_type": "code",
   "execution_count": null,
   "metadata": {},
   "outputs": [],
   "source": [
    "name = name = 'WGAN_uniscale_checkpoints'\n",
    "checkpointuniscale = 178000\n",
    "\n",
    "pathmodel_uniscale = os.path.join(pathmodel, name)\n",
    "params_uniscale = utils.load_params(pathmodel_uniscale)\n",
    "class CosmoUpscalePatchWGAN(UpscalePatchWGAN, CosmoWGAN):\n",
    "    pass\n",
    "params_uniscale['upscaling']=None\n",
    "# params_uniscale = old2new_params(params_uniscale_old, CosmoUpscalePatchWGAN, checky=True)\n",
    "\n",
    "# params_uniscale['net']['cosmology']['backward_map'] = backward_uniscale\n",
    "# params_uniscale['net']['cosmology']['forward_map'] = forward_uniscale\n",
    "\n",
    "# params_uniscale['save_dir'] = pathmodel_uniscale\n",
    "# params_uniscale['net']['generator']['residual'] = False\n",
    "# params_uniscale['net']['generator']['use_conv_over_deconv'] = False\n"
   ]
  },
  {
   "cell_type": "code",
   "execution_count": null,
   "metadata": {},
   "outputs": [],
   "source": [
    "wgan_uniscale = UpcaleGANsystem(CosmoUpscalePatchWGAN, params_uniscale)\n",
    "gen_samples_uniscale = wgan_uniscale.upscale_image(N=num_samples, resolution=256, checkpoint=checkpointuniscale)"
   ]
  },
  {
   "cell_type": "code",
   "execution_count": null,
   "metadata": {},
   "outputs": [],
   "source": [
    "os.makedirs(os.path.join(pathsample,'uniscale/'), exist_ok=True)\n",
    "utils.save_hdf5(gen_samples_uniscale, os.path.join(pathsample,'uniscale/256_samples_ckpt_latest.h5'))"
   ]
  },
  {
   "cell_type": "code",
   "execution_count": null,
   "metadata": {},
   "outputs": [],
   "source": [
    "cmin = 0\n",
    "cmax = 3\n",
    "clim = (cmin, cmax)\n",
    "plot_cubes_paper(gen_samples_uniscale, cmap=plt.cm.plasma, clim=clim, nx=2, ny=2);"
   ]
  },
  {
   "cell_type": "markdown",
   "metadata": {},
   "source": [
    "# Make the figures for the paper"
   ]
  },
  {
   "cell_type": "code",
   "execution_count": null,
   "metadata": {},
   "outputs": [],
   "source": [
    "pathfig = 'figures/'\n",
    "os.makedirs(pathfig, exist_ok=True)"
   ]
  },
  {
   "cell_type": "markdown",
   "metadata": {},
   "source": [
    "#### Load all samples"
   ]
  },
  {
   "cell_type": "code",
   "execution_count": null,
   "metadata": {},
   "outputs": [],
   "source": [
    "gen_samples_32 = utils.load_hdf5(os.path.join(pathsample,'0_32/32_samples_ckpt_latest.h5'))\n",
    "gen_samples_64 = utils.load_hdf5(os.path.join(pathsample,'32_64/64_samples_ckpt_latest.h5'))\n",
    "gen_samples_256 = utils.load_hdf5(os.path.join(pathsample,'64_256/256_samples_ckpt_latest.h5'))\n",
    "gen_samples_uniscale = utils.load_hdf5(os.path.join(pathsample,'uniscale/256_samples_ckpt_latest.h5'))\n"
   ]
  },
  {
   "cell_type": "markdown",
   "metadata": {},
   "source": [
    "#### Backward transform"
   ]
  },
  {
   "cell_type": "code",
   "execution_count": null,
   "metadata": {},
   "outputs": [],
   "source": [
    "gen_samples_32_raw = backward(gen_samples_32)\n",
    "gen_samples_64_raw = backward(gen_samples_64)\n",
    "gen_samples_256_raw = backward(gen_samples_256)\n"
   ]
  },
  {
   "cell_type": "code",
   "execution_count": null,
   "metadata": {},
   "outputs": [],
   "source": [
    "gen_samples_uniscale_raw = backward(gen_samples_uniscale)\n"
   ]
  },
  {
   "cell_type": "markdown",
   "metadata": {},
   "source": [
    "#### Load real data"
   ]
  },
  {
   "cell_type": "code",
   "execution_count": null,
   "metadata": {},
   "outputs": [],
   "source": [
    "dataset256 = data.load.load_nbody_dataset(resolution=256,Mpch=350,shuffle=False,forward_map=forward,spix=256,patch=False,is_3d=True,augmentation=False)\n",
    "real_samples_256 = dataset256.get_all_data()\n",
    "del dataset256\n"
   ]
  },
  {
   "cell_type": "code",
   "execution_count": null,
   "metadata": {},
   "outputs": [],
   "source": [
    "real_samples_256_raw = backward(real_samples_256)"
   ]
  },
  {
   "cell_type": "code",
   "execution_count": null,
   "metadata": {},
   "outputs": [],
   "source": [
    "dataset32 = data.load.load_nbody_dataset(resolution=256,Mpch=350,shuffle=False,forward_map=forward,spix=32,patch=False,is_3d=True,augmentation=False, scaling=8)\n",
    "real_samples_32 = dataset32.get_all_data()\n",
    "del dataset32"
   ]
  },
  {
   "cell_type": "code",
   "execution_count": null,
   "metadata": {},
   "outputs": [],
   "source": [
    "real_samples_32_raw = backward(real_samples_32)"
   ]
  },
  {
   "cell_type": "code",
   "execution_count": null,
   "metadata": {},
   "outputs": [],
   "source": [
    "dataset64 = data.load.load_nbody_dataset(resolution=256,Mpch=350,shuffle=False,forward_map=forward,spix=64,patch=False,is_3d=True,augmentation=False, scaling=4)\n",
    "real_samples_64 = dataset64.get_all_data()\n",
    "del dataset64"
   ]
  },
  {
   "cell_type": "code",
   "execution_count": null,
   "metadata": {},
   "outputs": [],
   "source": [
    "real_samples_64_raw = backward(real_samples_64)"
   ]
  },
  {
   "cell_type": "code",
   "execution_count": null,
   "metadata": {},
   "outputs": [],
   "source": [
    "# cmin = np.min(cubes)\n",
    "# cmax = np.max(cubes)/1.5\n",
    "cmin = 0\n",
    "cmax = 3\n",
    "clim = (cmin, cmax)\n",
    "fig = plot_cubes_paper(real_samples_256, cmap=plt.cm.plasma, clim=clim);\n",
    "fig.suptitle('Real $256^3$', y=1.02, fontsize=24 )\n",
    "plt.savefig(pathfig+\"real256.pdf\", bbox_inches='tight', format='pdf')\n",
    "\n",
    "fig2 = plot_cubes_paper(gen_samples_256, cmap=plt.cm.plasma, clim=clim);\n",
    "fig2.suptitle('Fake $256^3$', y=1.02, fontsize=24 )\n",
    "plt.savefig(pathfig+\"fake256.pdf\", bbox_inches='tight', format='pdf')\n",
    "\n"
   ]
  },
  {
   "cell_type": "code",
   "execution_count": null,
   "metadata": {},
   "outputs": [],
   "source": [
    "logel2, l2, logel1, l1 = evaluation.compute_and_plot_mass_hist(real_samples_256_raw, gen_samples_256_raw)\n",
    "plt.savefig(pathfig+\"256full_hist.pdf\", bbox_inches='tight', format='pdf')"
   ]
  },
  {
   "cell_type": "code",
   "execution_count": null,
   "metadata": {},
   "outputs": [],
   "source": [
    "logel2, l2, logel1, l1 = evaluation.compute_and_plot_peak_cout(real_samples_256_raw, gen_samples_256_raw)\n",
    "plt.savefig(pathfig+\"256full_peak.pdf\", bbox_inches='tight', format='pdf')"
   ]
  },
  {
   "cell_type": "code",
   "execution_count": null,
   "metadata": {},
   "outputs": [],
   "source": [
    "evaluation.compute_and_plot_psd(real_samples_256_raw, gen_samples_256_raw)\n",
    "plt.savefig(pathfig+\"256full_psd.pdf\", bbox_inches='tight', format='pdf')"
   ]
  },
  {
   "cell_type": "markdown",
   "metadata": {},
   "source": [
    "# Scale by scale analysis"
   ]
  },
  {
   "cell_type": "markdown",
   "metadata": {},
   "source": [
    "## 32 cubes"
   ]
  },
  {
   "cell_type": "code",
   "execution_count": null,
   "metadata": {},
   "outputs": [],
   "source": [
    "# cmin = np.min(cubes_32)\n",
    "# # cmin = 0\n",
    "# cmax = np.max(cubes_32)\n",
    "cmin = 0.1\n",
    "cmax = 1.3\n",
    "clim = (cmin, cmax)\n",
    "fig = plot_cubes_paper(real_samples_32, cmap=plt.cm.plasma, clim=clim, nx=4, ny=4);\n",
    "fig.suptitle('Real $32^3$', y=1.03, fontsize=48 )\n",
    "plt.savefig(pathfig+\"real32.pdf\", bbox_inches='tight', format='pdf')\n",
    "\n",
    "fig2 = plot_cubes_paper(gen_samples_32, cmap=plt.cm.plasma, clim=clim, nx=4, ny=4);\n",
    "fig2.suptitle('Fake $32^3$', y=1.03, fontsize=48 )\n",
    "plt.savefig(pathfig+\"fake32.pdf\", bbox_inches='tight', format='pdf')\n",
    "\n"
   ]
  },
  {
   "cell_type": "code",
   "execution_count": null,
   "metadata": {},
   "outputs": [],
   "source": [
    "logel2, l2, logel1, l1 = evaluation.compute_and_plot_mass_hist(real_samples_32_raw, gen_samples_32_raw)\n",
    "plt.savefig(pathfig+\"32_hist.pdf\", bbox_inches='tight', format='pdf')"
   ]
  },
  {
   "cell_type": "code",
   "execution_count": null,
   "metadata": {},
   "outputs": [],
   "source": [
    "logel2, l2, logel1, l1 = evaluation.compute_and_plot_peak_cout(real_samples_32_raw, gen_samples_32_raw)\n",
    "plt.savefig(pathfig+\"32_peak.pdf\", bbox_inches='tight', format='pdf')"
   ]
  },
  {
   "cell_type": "code",
   "execution_count": null,
   "metadata": {},
   "outputs": [],
   "source": [
    "evaluation.compute_and_plot_psd(real_samples_32_raw, gen_samples_32_raw)\n",
    "plt.savefig(pathfig+\"32_psd.pdf\", bbox_inches='tight', format='pdf')"
   ]
  },
  {
   "cell_type": "markdown",
   "metadata": {},
   "source": [
    "## 64 Cubes"
   ]
  },
  {
   "cell_type": "code",
   "execution_count": null,
   "metadata": {},
   "outputs": [],
   "source": [
    "name = 'WGAN_32_to_64_checkpoints'\n",
    "checkpoint64 = 245000\n",
    "class CosmoUpscalePatchWGAN(UpscalePatchWGAN, CosmoWGAN):\n",
    "    pass\n",
    "\n",
    "pathmodel64 = os.path.join(pathmodel, name)\n",
    "params_64 = utils.load_params(pathmodel64)\n",
    "wgan_64 = UpcaleGANsystem(CosmoUpscalePatchWGAN, params_64)\n",
    "gen_samples_64_single = wgan_64.upscale_image(small=np.reshape(real_samples_32, [*real_samples_32.shape,1]), checkpoint=checkpoint64)"
   ]
  },
  {
   "cell_type": "code",
   "execution_count": null,
   "metadata": {},
   "outputs": [],
   "source": [
    "gen_samples_64_single_raw = backward(gen_samples_64_single)"
   ]
  },
  {
   "cell_type": "code",
   "execution_count": null,
   "metadata": {},
   "outputs": [],
   "source": [
    "# cmin = np.min(cubes_64)\n",
    "# cmax = np.max(cubes_64)\n",
    "cmin = 0\n",
    "cmax = 1.6\n",
    "clim = (cmin, cmax)\n",
    "fig = plot_cubes_paper(real_samples_64, cmap=plt.cm.plasma, clim=clim);\n",
    "fig.suptitle('Real $64^3$', y=1.04, fontsize=36 )\n",
    "plt.savefig(pathfig+\"up_real64.pdf\", bbox_inches='tight', format='pdf')\n",
    "\n",
    "fig2 = plot_cubes_paper(gen_samples_64_single, cmap=plt.cm.plasma, clim=clim);\n",
    "fig2.suptitle('Fake $64^3$', y=1.04, fontsize=36 )\n",
    "plt.savefig(pathfig+\"up_fake64.pdf\", bbox_inches='tight', format='pdf')\n",
    "\n",
    "fig = plot_cubes_paper(real_samples_32, cmap=plt.cm.plasma, clim=clim);\n",
    "fig.suptitle('Real downsampled $32^3$', y=1.04, fontsize=36 )\n",
    "plt.savefig(pathfig+\"up_down32.pdf\", bbox_inches='tight', format='pdf')"
   ]
  },
  {
   "cell_type": "code",
   "execution_count": null,
   "metadata": {},
   "outputs": [],
   "source": [
    "logel2, l2, logel1, l1 = evaluation.compute_and_plot_mass_hist(real_samples_64_raw, gen_samples_64_single_raw)\n",
    "plt.savefig(pathfig+\"up_64_hist.pdf\", bbox_inches='tight', format='pdf')"
   ]
  },
  {
   "cell_type": "code",
   "execution_count": null,
   "metadata": {},
   "outputs": [],
   "source": [
    "logel2, l2, logel1, l1 = evaluation.compute_and_plot_peak_cout(real_samples_64_raw, gen_samples_64_single_raw)\n",
    "plt.savefig(pathfig+\"up_64_peak.pdf\", bbox_inches='tight', format='pdf')"
   ]
  },
  {
   "cell_type": "code",
   "execution_count": null,
   "metadata": {},
   "outputs": [],
   "source": [
    "evaluation.compute_and_plot_psd(real_samples_64_raw, gen_samples_64_single_raw)\n",
    "plt.savefig(pathfig+\"up_64_psd.pdf\", bbox_inches='tight', format='pdf')"
   ]
  },
  {
   "cell_type": "markdown",
   "metadata": {},
   "source": [
    "## 256 Cubes"
   ]
  },
  {
   "cell_type": "code",
   "execution_count": null,
   "metadata": {},
   "outputs": [],
   "source": [
    "name = 'WGAN_64_to_256_checkpoints'\n",
    "checkpoint256 = 150000 \n",
    "pathmodel256 = os.path.join(pathmodel, name)\n",
    "\n",
    "params_256 = utils.load_params(pathmodel256)\n",
    "\n",
    "wgan_256 = UpcaleGANsystem(CosmoUpscalePatchWGAN, params_256)\n",
    "gen_samples_single_256 = wgan_256.upscale_image(small=np.reshape(real_samples_64, [*real_samples_64.shape, 1]), checkpoint=checkpoint256)"
   ]
  },
  {
   "cell_type": "code",
   "execution_count": null,
   "metadata": {},
   "outputs": [],
   "source": [
    "# cmin = np.min(cubes_256)\n",
    "# cmax = np.max(cubes_256)/2.5\n",
    "cmin = 0\n",
    "cmax = 3\n",
    "clim = (cmin, cmax)\n",
    "fig = plot_cubes_paper(real_samples_256, cmap=plt.cm.plasma, clim=clim, ny=1);\n",
    "fig.suptitle('Real $256^3$', y=1.03, fontsize=12 )\n",
    "plt.savefig(pathfig+\"up_real256.pdf\", bbox_inches='tight', format='pdf')\n",
    "\n",
    "fig2 = plot_cubes_paper(gen_samples_single_256, cmap=plt.cm.plasma, clim=clim, ny=1);\n",
    "fig2.suptitle('Fake $256^3$', y=1.03, fontsize=12 )\n",
    "plt.savefig(pathfig+\"up_fake256.pdf\", bbox_inches='tight', format='pdf')\n",
    "\n",
    "fig = plot_cubes_paper(real_samples_64, cmap=plt.cm.plasma, clim=clim, ny=1);\n",
    "fig.suptitle('Real downsampled $64^3$', y=1.03, fontsize=12 )\n",
    "plt.savefig(pathfig+\"up_down64.pdf\", bbox_inches='tight', format='pdf')"
   ]
  },
  {
   "cell_type": "code",
   "execution_count": null,
   "metadata": {},
   "outputs": [],
   "source": [
    "gen_samples_single_256_raw = backward(gen_samples_single_256)"
   ]
  },
  {
   "cell_type": "code",
   "execution_count": null,
   "metadata": {},
   "outputs": [],
   "source": [
    "logel2, l2, logel1, l1 = evaluation.compute_and_plot_mass_hist(real_samples_256_raw, gen_samples_single_256_raw)\n",
    "plt.savefig(pathfig+\"up_256_hist.pdf\", bbox_inches='tight', format='pdf')"
   ]
  },
  {
   "cell_type": "code",
   "execution_count": null,
   "metadata": {},
   "outputs": [],
   "source": [
    "logel2, l2, logel1, l1 = evaluation.compute_and_plot_peak_cout(real_samples_256_raw, gen_samples_single_256_raw)\n",
    "plt.savefig(pathfig+\"up_256_peak.pdf\", bbox_inches='tight', format='pdf')"
   ]
  },
  {
   "cell_type": "code",
   "execution_count": null,
   "metadata": {},
   "outputs": [],
   "source": [
    "evaluation.compute_and_plot_psd(real_samples_256_raw, gen_samples_single_256_raw)\n",
    "plt.savefig(pathfig+\"up_256_psd.pdf\", bbox_inches='tight', format='pdf')"
   ]
  },
  {
   "cell_type": "markdown",
   "metadata": {},
   "source": [
    "## Uniscale"
   ]
  },
  {
   "cell_type": "code",
   "execution_count": null,
   "metadata": {},
   "outputs": [],
   "source": [
    "cmin = 0\n",
    "cmax = 3\n",
    "clim = (cmin, cmax)\n",
    "fig = plot_cubes_paper(real_samples_256, cmap=plt.cm.plasma, clim=clim);\n",
    "fig.suptitle('Real $256^3$', y=1.02, fontsize=24 )\n",
    "plt.savefig(pathfig+\"uniscalereal256.pdf\", bbox_inches='tight', format='pdf')\n",
    "\n",
    "fig2 = plot_cubes_paper(gen_samples_uniscale, cmap=plt.cm.plasma, clim=clim);\n",
    "fig2.suptitle('Fake $256^3 - uniscale$', y=1.02, fontsize=24 )\n",
    "plt.savefig(pathfig+\"uniscalefake256.pdf\", bbox_inches='tight', format='pdf')"
   ]
  },
  {
   "cell_type": "code",
   "execution_count": null,
   "metadata": {},
   "outputs": [],
   "source": [
    "logel2, l2, logel1, l1 = evaluation.compute_and_plot_mass_hist(real_samples_256_raw, gen_samples_uniscale_raw)\n",
    "plt.savefig(pathfig+\"256uniscale_hist.pdf\", bbox_inches='tight', format='pdf')"
   ]
  },
  {
   "cell_type": "code",
   "execution_count": null,
   "metadata": {},
   "outputs": [],
   "source": [
    "logel2, l2, logel1, l1 = evaluation.compute_and_plot_peak_cout(real_samples_256_raw, gen_samples_uniscale_raw)\n",
    "plt.savefig(pathfig+\"256uniscale_peak.pdf\", bbox_inches='tight', format='pdf')"
   ]
  },
  {
   "cell_type": "code",
   "execution_count": null,
   "metadata": {},
   "outputs": [],
   "source": [
    "evaluation.compute_and_plot_psd(real_samples_256_raw, gen_samples_uniscale_raw)\n",
    "plt.savefig(pathfig+\"256uniscale_psd.pdf\", bbox_inches='tight', format='pdf')"
   ]
  },
  {
   "cell_type": "markdown",
   "metadata": {},
   "source": [
    "# Gifs"
   ]
  },
  {
   "cell_type": "markdown",
   "metadata": {},
   "source": [
    "## Real 256 cubes"
   ]
  },
  {
   "cell_type": "code",
   "execution_count": null,
   "metadata": {},
   "outputs": [],
   "source": [
    "# fps=16\n",
    "# clim = (0,3)\n",
    "# plot.animate_cubes(real_samples_256, output_name=pathfig+\"real256.gif\", clim=clim, fps=fps, cmap=plt.cm.plasma)\n",
    "# animation = plot.cubes_to_animation(real_samples_256, cmap=plt.cm.plasma, clim=clim)\n",
    "# animation.ipython_display(fps=16, loop=True, autoplay=True)\n"
   ]
  },
  {
   "cell_type": "code",
   "execution_count": null,
   "metadata": {},
   "outputs": [],
   "source": [
    "# plot.save_animation(real_samples_256[0], gen_samples_256[0], figsize=(10, 6), fps=16, format='mp4', output_file_name=pathfig+'final.mp4', clim=clim)\n",
    "# plt.style.use('ggplot')"
   ]
  },
  {
   "cell_type": "code",
   "execution_count": null,
   "metadata": {},
   "outputs": [],
   "source": [
    "params_uniscale"
   ]
  },
  {
   "cell_type": "code",
   "execution_count": null,
   "metadata": {},
   "outputs": [],
   "source": []
  }
 ],
 "metadata": {
  "kernelspec": {
   "display_name": "Python 3",
   "language": "python",
   "name": "python3"
  },
  "language_info": {
   "codemirror_mode": {
    "name": "ipython",
    "version": 3
   },
   "file_extension": ".py",
   "mimetype": "text/x-python",
   "name": "python",
   "nbconvert_exporter": "python",
   "pygments_lexer": "ipython3",
   "version": "3.6.5"
  }
 },
 "nbformat": 4,
 "nbformat_minor": 2
}
