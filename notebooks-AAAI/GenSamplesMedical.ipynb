{
 "cells": [
  {
   "cell_type": "code",
   "execution_count": null,
   "metadata": {},
   "outputs": [],
   "source": [
    "%load_ext autoreload\n",
    "%autoreload 2\n",
    "%pylab inline\n"
   ]
  },
  {
   "cell_type": "code",
   "execution_count": null,
   "metadata": {},
   "outputs": [],
   "source": [
    "# import sys\n",
    "# sys.path.insert(0, '../')\n",
    "\n",
    "import numpy as np\n",
    "import tensorflow as tf\n",
    "import os, sys, time, pickle, functools\n",
    "import utils, optimization, metrics, plot, data, evaluation, blocks\n",
    "\n",
    "import plot\n",
    "from plot import get_animation\n",
    "\n",
    "from model import WGanModel, upscale_WGAN_pixel_CNN\n",
    "from gan import CosmoGAN, UpscaleCosmoGAN\n",
    "os.environ[\"CUDA_VISIBLE_DEVICES\"]=\"1\""
   ]
  },
  {
   "cell_type": "code",
   "execution_count": null,
   "metadata": {},
   "outputs": [],
   "source": [
    "fwd = data.fmap.medical_forward\n",
    "bkd = data.fmap.medical_backward\n",
    "\n",
    "def non_lin(x):\n",
    "    return (tf.nn.tanh(x) + 1.0)/2.0\n",
    "ns = 32\n",
    "num_sampled = 8\n",
    "\n",
    "# pathmodel = '../../saved_result'\n",
    "# pathsample = '/store/nati/archive/medical_code/Samples/medical_16'\n",
    "\n",
    "\n",
    "pathmodel = '../../saved_result'\n",
    "# pathmodel = '/store/nati/archive/medical_code/CodeGAN/saved_result'\n",
    "pathsample = '/store/nati/archive/medical_code/Samples/medical'"
   ]
  },
  {
   "cell_type": "markdown",
   "metadata": {},
   "source": [
    "# Generate samples - 32->64->256"
   ]
  },
  {
   "cell_type": "code",
   "execution_count": null,
   "metadata": {
    "scrolled": true
   },
   "outputs": [],
   "source": [
    "name = 'WGAN_0_to_32_4'\n",
    "# name = 'WGAN_0_to_32'\n",
    "checkpoint = 36000\n",
    "\n",
    "\n",
    "params_32 = dict()\n",
    "params_32['save_dir'] = os.path.join(pathmodel, name + 'checkpoints/')\n",
    "\n",
    "resume, params_32 = utils.test_resume(True, params_32)\n",
    "\n",
    "params_32['cosmology']['backward_map'] = bkd\n",
    "params_32['cosmology']['forward_map'] = fwd\n",
    "params_32['summary_dir'] = os.path.join(pathmodel, name +'summary/')\n",
    "params_32['save_dir'] = os.path.join(pathmodel, name + 'checkpoints/')\n",
    "\n",
    "# for ind, item in enumerate(params.items()):\n",
    "#     print(ind, \" : \", item[0], \" - \", item[1])\n",
    "# print(resume)\n"
   ]
  },
  {
   "cell_type": "markdown",
   "metadata": {},
   "source": [
    "## 0->32"
   ]
  },
  {
   "cell_type": "code",
   "execution_count": null,
   "metadata": {},
   "outputs": [],
   "source": [
    "wgan_32 = CosmoGAN(params_32, WGanModel, is_3d=True)\n",
    "gen_samples_32, _ = wgan_32.generate(N=num_sampled, checkpoint=checkpoint)\n",
    "gen_samples_32 = np.squeeze(gen_samples_32)"
   ]
  },
  {
   "cell_type": "code",
   "execution_count": null,
   "metadata": {
    "scrolled": true
   },
   "outputs": [],
   "source": [
    "os.makedirs(os.path.join(pathsample,'0_32/'), exist_ok=True)\n",
    "# utils.save_hdf5(gen_samples_32, os.path.join(pathsample,'0_32/8_32_samples_ckpt_39000.h5'))\n",
    "utils.save_hdf5(gen_samples_32, os.path.join(pathsample,'0_32/8_32_samples_ckpt_latest.h5'))"
   ]
  },
  {
   "cell_type": "markdown",
   "metadata": {},
   "source": [
    "## 32->64"
   ]
  },
  {
   "cell_type": "code",
   "execution_count": null,
   "metadata": {},
   "outputs": [],
   "source": [
    "pathmodel = '/store/nati/archive/medical_code/CodeGAN/saved_result'\n"
   ]
  },
  {
   "cell_type": "markdown",
   "metadata": {},
   "source": [
    "## Fake 32"
   ]
  },
  {
   "cell_type": "code",
   "execution_count": null,
   "metadata": {},
   "outputs": [],
   "source": [
    "num_samples = 8\n",
    "\n",
    "# gen_samples_32 = utils.load_hdf5(os.path.join(pathsample,'0_32/8_32_samples_ckpt_39000. h5'))[:num_samples]\n",
    "gen_samples_32 = utils.load_hdf5(os.path.join(pathsample,'0_32/8_32_samples_ckpt_latest.h5'))[:num_samples]\n",
    "print(\"gen_samples_32 shape=\", gen_samples_32.shape)\n",
    "gen_samples_32 = np.expand_dims(gen_samples_32, axis=4)\n",
    "print('downsampled shape=', gen_samples_32.shape)"
   ]
  },
  {
   "cell_type": "markdown",
   "metadata": {},
   "source": [
    "## Real 64"
   ]
  },
  {
   "cell_type": "code",
   "execution_count": null,
   "metadata": {
    "scrolled": false
   },
   "outputs": [],
   "source": [
    "dataset_64 = data.load.load_medical_dataset(spix=64, scaling=4, augmentation=False, shuffle=False, forward_map=fwd, patch=False)\n",
    "real_nbody_64 = dataset_64.get_all_data()\n",
    "print(\"Nbody dataset shape: \", np.shape(real_nbody_64))\n",
    "\n",
    "downsampled_32 = blocks.downsample(real_nbody_64[:num_samples], s=2, is_3d=True)\n",
    "downsampled_32 = np.expand_dims(downsampled_32, axis=4)\n",
    "print('downsampled_32 shape=', downsampled_32.shape)"
   ]
  },
  {
   "cell_type": "code",
   "execution_count": null,
   "metadata": {},
   "outputs": [],
   "source": [
    "print(np.min(gen_samples_32), np.max(gen_samples_32))\n",
    "print(np.min(downsampled_32), np.max(downsampled_32))"
   ]
  },
  {
   "cell_type": "code",
   "execution_count": null,
   "metadata": {
    "scrolled": true
   },
   "outputs": [],
   "source": [
    "# name = 'WGAN_16_to_64'\n",
    "name = 'WGAN_32_to_64'\n",
    "\n",
    "checkpoint = None\n",
    "params_64 = dict()\n",
    "params_64['save_dir'] = os.path.join(pathmodel, name + 'checkpoints/')\n",
    "\n",
    "resume, params_64 = utils.test_resume(True, params_64)\n",
    "\n",
    "params_64['cosmology']['backward_map'] = bkd\n",
    "params_64['cosmology']['forward_map'] = fwd\n",
    "params_64['summary_dir'] = os.path.join(pathmodel, name +'summary/')\n",
    "params_64['save_dir'] = os.path.join(pathmodel, name + 'checkpoints/')"
   ]
  },
  {
   "cell_type": "code",
   "execution_count": null,
   "metadata": {
    "scrolled": true
   },
   "outputs": [],
   "source": [
    "wgan_64 = UpscaleCosmoGAN(params_64, upscale_WGAN_pixel_CNN, is_3d=True)\n",
    "gen_samples_64 = wgan_64.upscale_image(small=gen_samples_32, checkpoint=None)"
   ]
  },
  {
   "cell_type": "code",
   "execution_count": null,
   "metadata": {},
   "outputs": [],
   "source": [
    "os.makedirs(os.path.join(pathsample,'32_64/'), exist_ok=True)\n",
    "# utils.save_hdf5(gen_samples_64, os.path.join(pathsample,'32_64/8_64_samples_ckpt_39k_15k.h5'))\n",
    "utils.save_hdf5(gen_samples_64, os.path.join(pathsample,'32_64/8_64_samples_ckpt_latest.h5'))"
   ]
  },
  {
   "cell_type": "markdown",
   "metadata": {},
   "source": [
    "## 64->256"
   ]
  },
  {
   "cell_type": "markdown",
   "metadata": {},
   "source": [
    "## Fake 64"
   ]
  },
  {
   "cell_type": "code",
   "execution_count": null,
   "metadata": {},
   "outputs": [],
   "source": [
    "gen_samples_64 = utils.load_hdf5(os.path.join(pathsample,'32_64/8_64_samples_ckpt_latest.h5'))\n",
    "gen_samples_64_raw = bkd(gen_samples_64)\n",
    "\n",
    "print('gen_samples_64 shape=', gen_samples_64.shape)\n",
    "gen_samples_64 = np.expand_dims(gen_samples_64, axis=4)\n",
    "print('downsampled shape=', gen_samples_64.shape)"
   ]
  },
  {
   "cell_type": "markdown",
   "metadata": {},
   "source": [
    "## Real 256"
   ]
  },
  {
   "cell_type": "code",
   "execution_count": null,
   "metadata": {},
   "outputs": [],
   "source": [
    "# real_nbody_256 = data.load.load_medical_dataset(spix=256, scaling=1, augmentation=False, shuffle=False, forward_map=fwd, patch=False).get_all_data()\n",
    "downsampled_64 = data.load.load_medical_dataset(spix=64, scaling=4, augmentation=False, shuffle=False, forward_map=fwd, patch=False).get_all_data()\n",
    "downsampled_64_raw = bkd(downsampled_64)\n",
    "print(\"downsampled_64 shape: \", np.shape(downsampled_64))"
   ]
  },
  {
   "cell_type": "code",
   "execution_count": null,
   "metadata": {},
   "outputs": [],
   "source": [
    "print(np.min(gen_samples_64), np.max(gen_samples_64))\n",
    "print(np.min(downsampled_64), np.max(downsampled_64))"
   ]
  },
  {
   "cell_type": "code",
   "execution_count": null,
   "metadata": {
    "scrolled": true
   },
   "outputs": [],
   "source": [
    "name = 'WGAN_64_to_256'\n",
    "pathmodel = '/store/nati/archive/medical_code/CodeGAN/saved_result'\n",
    "params_256 = dict()\n",
    "params_256['save_dir'] = os.path.join(pathmodel, name + 'checkpoints/')\n",
    "\n",
    "resume, params_256 = utils.test_resume(True, params_256)\n",
    "\n",
    "params_256['cosmology']['backward_map'] = bkd\n",
    "params_256['cosmology']['forward_map'] = fwd\n",
    "params_256['summary_dir'] = os.path.join(pathmodel, name +'summary/')\n",
    "params_256['save_dir'] = os.path.join(pathmodel, name + 'checkpoints/')"
   ]
  },
  {
   "cell_type": "code",
   "execution_count": null,
   "metadata": {
    "scrolled": true
   },
   "outputs": [],
   "source": [
    "wgan_256 = UpscaleCosmoGAN(params_256, upscale_WGAN_pixel_CNN, is_3d=True)\n",
    "gen_samples = wgan_256.upscale_image(small=gen_samples_64, checkpoint=None)"
   ]
  },
  {
   "cell_type": "code",
   "execution_count": null,
   "metadata": {},
   "outputs": [],
   "source": [
    "os.makedirs(os.path.join(pathsample,'64_256/'), exist_ok=True)\n",
    "# utils.save_hdf5(gen_samples, os.path.join(pathsample,'64_256/64_256_samples_ckpt_39k_15k_18k.h5'))\n",
    "utils.save_hdf5(gen_samples, os.path.join(pathsample,'64_256/64_256_samples_ckpt_latest.h5'))"
   ]
  },
  {
   "cell_type": "code",
   "execution_count": null,
   "metadata": {},
   "outputs": [],
   "source": [
    "# print(np.min(gen_samples), np.max(gen_samples))\n",
    "# print(np.min(real_nbody_256), np.max(real_nbody_256))"
   ]
  },
  {
   "cell_type": "code",
   "execution_count": null,
   "metadata": {},
   "outputs": [],
   "source": []
  }
 ],
 "metadata": {
  "kernelspec": {
   "display_name": "Python 3",
   "language": "python",
   "name": "python3"
  },
  "language_info": {
   "codemirror_mode": {
    "name": "ipython",
    "version": 3
   },
   "file_extension": ".py",
   "mimetype": "text/x-python",
   "name": "python",
   "nbconvert_exporter": "python",
   "pygments_lexer": "ipython3",
   "version": "3.5.2"
  }
 },
 "nbformat": 4,
 "nbformat_minor": 2
}
