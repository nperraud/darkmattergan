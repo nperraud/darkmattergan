{
 "cells": [
  {
   "cell_type": "code",
   "execution_count": null,
   "metadata": {},
   "outputs": [],
   "source": [
    "%load_ext autoreload\n",
    "%autoreload 2\n",
    "%pylab inline\n",
    "from IPython.core.display import display, HTML; display(HTML(\"<style>.container { width:90% !important; }</style>\"))"
   ]
  },
  {
   "cell_type": "code",
   "execution_count": null,
   "metadata": {},
   "outputs": [],
   "source": [
    "import sys\n",
    "sys.path.insert(0, '../')\n",
    "\n",
    "import numpy as np\n",
    "import tensorflow as tf\n",
    "import os, sys, time, pickle, functools\n",
    "import utils, optimization, metrics, plot, data, evaluation\n",
    "\n",
    "import plot\n",
    "from plot import get_animation, save_animation\n",
    "\n",
    "import blocks\n",
    "from blocks import *"
   ]
  },
  {
   "cell_type": "code",
   "execution_count": null,
   "metadata": {},
   "outputs": [],
   "source": [
    "m_fwd = data.fmap.medical_forward\n",
    "m_bkd = data.fmap.medical_backward\n",
    "\n",
    "fwd = m_fwd\n",
    "bkd = m_bkd"
   ]
  },
  {
   "cell_type": "markdown",
   "metadata": {},
   "source": [
    "# 0->32->64->256"
   ]
  },
  {
   "cell_type": "code",
   "execution_count": null,
   "metadata": {},
   "outputs": [],
   "source": [
    "pathsample = '/store/nati/archive/medical_code/Samples/medical'\n",
    "\n",
    "timestr = ''"
   ]
  },
  {
   "cell_type": "markdown",
   "metadata": {},
   "source": [
    "## 0->32"
   ]
  },
  {
   "cell_type": "code",
   "execution_count": null,
   "metadata": {},
   "outputs": [],
   "source": [
    "dataset_32 = data.load.load_medical_dataset(spix=32,scaling=8, augmentation=False, shuffle=False, forward_map=fwd, patch=False)\n",
    "# dataset_32 = data.load.load_medical_dataset(spix=16,scaling=16, augmentation=F alse, shuffle=False, forward_map=fwd, patch=False)\n",
    "real_nbody_32 = dataset_32.get_all_data()\n",
    "real_nbody_32_raw = bkd(real_nbody_32)\n",
    "print(\"Nbody dataset_32 shape: \", np.shape(real_nbody_32))"
   ]
  },
  {
   "cell_type": "code",
   "execution_count": null,
   "metadata": {},
   "outputs": [],
   "source": [
    "# gen_samples_32 = utils.load_hdf5(os.path.join(pathsample,'0_32/8_32_samples_ckpt_22000.h5'))\n",
    "gen_samples_32 = utils.load_hdf5(os.path.join(pathsample,'0_32/8_32_samples_ckpt_latest.h5'))\n",
    "gen_samples_32_raw = bkd(gen_samples_32)"
   ]
  },
  {
   "cell_type": "code",
   "execution_count": null,
   "metadata": {},
   "outputs": [],
   "source": [
    "print(np.min(gen_samples_32), np.max(gen_samples_32))\n",
    "print(np.min(real_nbody_32), np.max(real_nbody_32))\n",
    "print(np.min(gen_samples_32_raw), np.max(gen_samples_32_raw))\n",
    "print(np.min(real_nbody_32_raw), np.max(real_nbody_32_raw))"
   ]
  },
  {
   "cell_type": "code",
   "execution_count": null,
   "metadata": {
    "scrolled": false
   },
   "outputs": [],
   "source": [
    "for i in range(4):\n",
    "    fake_cube_32 = fwd(gen_samples_32_raw[i, :, :, :])\n",
    "    real_cube_32 = fwd(real_nbody_32_raw[i, :, :, :])\n",
    "    save_animation(real_cube_32, fake_cube_32, figsize=(19, 10), fps=16, format='mp4', output_file_name='{}_0_32_s{}.mp4'.format(timestr,i),  fontsize=40)\n",
    "animation = get_animation(real_cube_32, fake_cube_32, figsize=(10, 6), fps=8)\n",
    "animation.ipython_display(fps=8, loop=True, autoplay=True)\n"
   ]
  },
  {
   "cell_type": "code",
   "execution_count": null,
   "metadata": {},
   "outputs": [],
   "source": [
    "logel2, l2, logel1, l1 = evaluation.compute_and_plot_psd(real_nbody_32_raw, gen_samples_32_raw, is_3d=True)"
   ]
  },
  {
   "cell_type": "code",
   "execution_count": null,
   "metadata": {},
   "outputs": [],
   "source": [
    "logel2, l2, logel1, l1 = evaluation.compute_and_plot_peak_cout(real_nbody_32_raw, gen_samples_32_raw)"
   ]
  },
  {
   "cell_type": "code",
   "execution_count": null,
   "metadata": {},
   "outputs": [],
   "source": [
    "logel2, l2, logel1, l1 = evaluation.compute_and_plot_mass_hist(real_nbody_32_raw, gen_samples_32_raw)"
   ]
  },
  {
   "cell_type": "markdown",
   "metadata": {},
   "source": [
    "## 32->64"
   ]
  },
  {
   "cell_type": "code",
   "execution_count": null,
   "metadata": {},
   "outputs": [],
   "source": [
    "dataset_64 = data.load.load_medical_dataset(spix=64, scaling=4, augmentation=False, shuffle=False, forward_map=fwd, patch=False)\n",
    "real_nbody_64 = dataset_64.get_all_data()\n",
    "real_nbody_64_raw = bkd(real_nbody_64)\n",
    "print(\"Nbody dataset_64 shape: \", np.shape(real_nbody_64_raw))\n",
    "print(fwd, bkd)"
   ]
  },
  {
   "cell_type": "code",
   "execution_count": null,
   "metadata": {},
   "outputs": [],
   "source": [
    "gen_samples_64 = utils.load_hdf5(os.path.join(pathsample,'32_64/8_64_samples_ckpt_latest.h5'))\n",
    "gen_samples_64_raw = bkd(gen_samples_64)"
   ]
  },
  {
   "cell_type": "code",
   "execution_count": null,
   "metadata": {},
   "outputs": [],
   "source": [
    "print(np.min(gen_samples_64), np.max(gen_samples_64))\n",
    "print(np.min(real_nbody_64), np.max(real_nbody_64))\n",
    "print(np.min(gen_samples_64_raw), np.max(gen_samples_64_raw))\n",
    "print(np.min(real_nbody_64_raw), np.max(real_nbody_64_raw))"
   ]
  },
  {
   "cell_type": "code",
   "execution_count": null,
   "metadata": {
    "scrolled": false
   },
   "outputs": [],
   "source": [
    "for i in range(4):\n",
    "    fake_cube_64 = fwd(gen_samples_64_raw[i, :, :, :])\n",
    "    real_cube_64 = fwd(real_nbody_64_raw[i, :, :, :])\n",
    "    save_animation(real_cube_64, fake_cube_64, figsize=(19,10), fps=16, format='mp4', output_file_name='{}_32_64_s{}.mp4'.format(timestr,i), fontsize=40)\n",
    "\n",
    "animation = get_animation(real_cube_64, fake_cube_64, figsize=(20, 12), fps=8)\n",
    "animation.ipython_display(fps=8, loop=True, autoplay=True)\n"
   ]
  },
  {
   "cell_type": "code",
   "execution_count": null,
   "metadata": {},
   "outputs": [],
   "source": [
    "logel2, l2, logel1, l1 = evaluation.compute_and_plot_psd(real_nbody_64_raw, gen_samples_64_raw, is_3d=True)"
   ]
  },
  {
   "cell_type": "code",
   "execution_count": null,
   "metadata": {},
   "outputs": [],
   "source": [
    "logel2, l2, logel1, l1 = evaluation.compute_and_plot_peak_cout(real_nbody_64_raw, gen_samples_64_raw)"
   ]
  },
  {
   "cell_type": "code",
   "execution_count": null,
   "metadata": {},
   "outputs": [],
   "source": [
    "logel2, l2, logel1, l1 = evaluation.compute_and_plot_mass_hist(real_nbody_64_raw, gen_samples_64_raw)"
   ]
  },
  {
   "cell_type": "markdown",
   "metadata": {},
   "source": [
    "## 64->256"
   ]
  },
  {
   "cell_type": "code",
   "execution_count": null,
   "metadata": {},
   "outputs": [],
   "source": [
    "dataset_256 = data.load.load_medical_dataset(spix=256, scaling=1, augmentation=False, shuffle=False, forward_map=None, patch=False)\n",
    "real_nbody_256_raw = dataset_256.get_all_data()\n",
    "\n",
    "print(\"Nbody dataset_256 shape: \", np.shape(real_nbody_256_raw))"
   ]
  },
  {
   "cell_type": "code",
   "execution_count": null,
   "metadata": {},
   "outputs": [],
   "source": [
    "gen_samples_256 = utils.load_hdf5( os.path.join(pathsample,'64_256/64_256_samples_ckpt_latest.h5'))\n",
    "gen_samples_256_raw = bkd(gen_samples_256)"
   ]
  },
  {
   "cell_type": "code",
   "execution_count": null,
   "metadata": {},
   "outputs": [],
   "source": [
    "# print(np.min(gen_samples_256), np.max(gen_samples_256))\n",
    "# print(np.min(real_nbody_256), np.max(real_nbody_256))\n",
    "print(np.min(gen_samples_256_raw), np.max(gen_samples_256_raw))\n",
    "print(np.min(real_nbody_256_raw), np.max(real_nbody_256_raw))\n"
   ]
  },
  {
   "cell_type": "code",
   "execution_count": null,
   "metadata": {},
   "outputs": [],
   "source": [
    "gen_samples_256_raw.shape"
   ]
  },
  {
   "cell_type": "code",
   "execution_count": null,
   "metadata": {
    "scrolled": false
   },
   "outputs": [],
   "source": [
    "for i in range(4):\n",
    "    fake_cube_256 = gen_samples_256_raw[i, :, :, :]\n",
    "    real_cube_256 = real_nbody_256_raw[i, :, :, :]\n",
    "\n",
    "    save_animation(real_cube_256, fake_cube_256, figsize=(19, 10), fps=16, format='mp4', output_file_name='{}_64_to_256_s{}.mp4'.format(timestr,i), fontsize=40)\n",
    "animation = get_animation(real_cube_256, fake_cube_256, figsize=(20, 12), fps=16)\n",
    "animation.ipython_display(fps=16, loop=True, autoplay=True)\n"
   ]
  },
  {
   "cell_type": "code",
   "execution_count": null,
   "metadata": {},
   "outputs": [],
   "source": [
    "logel2, l2, logel1, l1 = evaluation.compute_and_plot_psd(real_nbody_256_raw, gen_samples_256_raw, is_3d=True)"
   ]
  },
  {
   "cell_type": "code",
   "execution_count": null,
   "metadata": {},
   "outputs": [],
   "source": [
    "logel2, l2, logel1, l1 = evaluation.compute_and_plot_peak_cout(real_nbody_256_raw, gen_samples_256_raw)"
   ]
  },
  {
   "cell_type": "code",
   "execution_count": null,
   "metadata": {},
   "outputs": [],
   "source": [
    "logel2, l2, logel1, l1 = evaluation.compute_and_plot_mass_hist(real_nbody_256_raw, gen_samples_256_raw)"
   ]
  },
  {
   "cell_type": "code",
   "execution_count": null,
   "metadata": {},
   "outputs": [],
   "source": []
  }
 ],
 "metadata": {
  "kernelspec": {
   "display_name": "Python 3",
   "language": "python",
   "name": "python3"
  },
  "language_info": {
   "codemirror_mode": {
    "name": "ipython",
    "version": 3
   },
   "file_extension": ".py",
   "mimetype": "text/x-python",
   "name": "python",
   "nbconvert_exporter": "python",
   "pygments_lexer": "ipython3",
   "version": "3.5.2"
  }
 },
 "nbformat": 4,
 "nbformat_minor": 2
}
